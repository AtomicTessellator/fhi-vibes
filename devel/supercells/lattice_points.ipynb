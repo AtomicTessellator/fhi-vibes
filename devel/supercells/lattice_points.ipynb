{
 "cells": [
  {
   "cell_type": "code",
   "execution_count": 1,
   "metadata": {},
   "outputs": [],
   "source": [
    "import sys\n",
    "import importlib as il\n",
    "import numpy as np\n",
    "from ase.io import read\n",
    "from ase.geometry import wrap_positions\n",
    "from hilde.settings import Settings\n",
    "import hilde.phonopy.wrapper as ph\n",
    "from hilde.helpers.supercell import make_supercell\n",
    "\n",
    "sys.path.insert(0, \"/home/knoop/local/hilde\")\n",
    "\n",
    "lp = il.import_module('hilde.helpers.supercell.lattice_points')"
   ]
  },
  {
   "cell_type": "code",
   "execution_count": 2,
   "metadata": {},
   "outputs": [
    {
     "name": "stdout",
     "output_type": "stream",
     "text": [
      "[[2 0 0]\n",
      " [1 1 0]\n",
      " [0 0 1]]\n",
      "Warning: Point group symmetries of supercell and primitivecell are different.\n"
     ]
    }
   ],
   "source": [
    "settings = Settings()\n",
    "smatrix = np.array(settings.phonopy.supercell_matrix)\n",
    "print(smatrix)\n",
    "\n",
    "primitive = read('geometry.in', format='aims')\n",
    "\n",
    "ase_scell = make_supercell(primitive, smatrix)\n",
    "ase_scell.write('geometry.in.supercell', format='aims')\n",
    "\n",
    "_, pho_scell, _ = ph.preprocess(primitive, smatrix.T)\n",
    "pho_scell.write('geometry.in.supercell.phonopy', format='aims')"
   ]
  },
  {
   "cell_type": "code",
   "execution_count": 3,
   "metadata": {},
   "outputs": [
    {
     "data": {
      "text/plain": [
       "(array([[-1.64496200e-10,  1.84339054e+00,  4.24710027e-04],\n",
       "        [ 1.59642304e+00,  9.21695271e-01,  2.60268079e+00],\n",
       "        [-1.64496200e-10,  1.84339054e+00,  1.95979300e+00],\n",
       "        [ 1.59642304e+00,  9.21695271e-01,  4.56204908e+00]]),\n",
       " array([[1.59642304e+00, 9.21695271e-01, 2.60268079e+00],\n",
       "        [1.59642304e+00, 9.21695271e-01, 4.56204908e+00],\n",
       "        [3.19284608e+00, 1.84339054e+00, 4.24710027e-04],\n",
       "        [4.78926911e+00, 9.21695270e-01, 2.60268079e+00],\n",
       "        [3.19284608e+00, 1.84339054e+00, 1.95979300e+00],\n",
       "        [4.78926911e+00, 9.21695270e-01, 4.56204908e+00],\n",
       "        [6.38569215e+00, 1.84339054e+00, 4.24710027e-04],\n",
       "        [6.38569215e+00, 1.84339054e+00, 1.95979300e+00]]))"
      ]
     },
     "execution_count": 3,
     "metadata": {},
     "output_type": "execute_result"
    }
   ],
   "source": [
    "primitive.positions, ase_scell.positions"
   ]
  },
  {
   "cell_type": "code",
   "execution_count": 4,
   "metadata": {},
   "outputs": [
    {
     "name": "stdout",
     "output_type": "stream",
     "text": [
      "  -0.00000    1.84339    0.00042 0\n",
      "   1.59642    0.92170    2.60268 1\n",
      "  -0.00000    1.84339    1.95979 2\n",
      "   1.59642    0.92170    4.56205 3\n",
      "   1.59642    0.92170    2.60268 (1, 0)\n",
      "   1.59642    0.92170    4.56205 (3, 0)\n",
      "   3.19285    1.84339    0.00042 (0, 1)\n",
      "   4.78927    0.92170    2.60268 (1, 1)\n",
      "   3.19285    1.84339    1.95979 (2, 1)\n",
      "   4.78927    0.92170    4.56205 (3, 1)\n",
      "   6.38569    1.84339    0.00042 (0, 0)\n",
      "   6.38569    1.84339    1.95979 (2, 0)\n"
     ]
    }
   ],
   "source": [
    "il.reload(lp)\n",
    "assign_primitive_positions = lp.assign_primitive_positions\n",
    "\n",
    "indices = assign_primitive_positions(primitive, ase_scell)\n",
    "\n",
    "for ii, pos in enumerate(primitive.positions):\n",
    "    print(' '.join((f'{el:-10.5f}' for el in pos)), ii)\n",
    "\n",
    "for pos, idx in zip(ase_scell.positions, indices):\n",
    "    print(' '.join((f'{el:-10.5f}' for el in pos)), idx)"
   ]
  },
  {
   "cell_type": "code",
   "execution_count": 5,
   "metadata": {},
   "outputs": [
    {
     "name": "stdout",
     "output_type": "stream",
     "text": [
      "  -0.00000    1.84339    0.00042 0\n",
      "   1.59642    0.92170    2.60268 1\n",
      "  -0.00000    1.84339    1.95979 2\n",
      "   1.59642    0.92170    4.56205 3\n",
      "   1.59642    0.92170    2.60268 (0, 1)\n",
      "   1.59642    0.92170    4.56205 (1, 0)\n",
      "   3.19285    1.84339    0.00042 (1, 1)\n",
      "   4.78927    0.92170    2.60268 (2, 1)\n",
      "   3.19285    1.84339    1.95979 (3, 0)\n",
      "   4.78927    0.92170    4.56205 (3, 1)\n",
      "   6.38569    1.84339    0.00042 (0, 0)\n",
      "   6.38569    1.84339    1.95979 (2, 0)\n"
     ]
    }
   ],
   "source": [
    "indices = assign_primitive_positions(primitive, pho_scell)\n",
    "\n",
    "for ii, pos in enumerate(primitive.positions):\n",
    "    print(' '.join((f'{el:-10.5f}' for el in pos)), ii)\n",
    "\n",
    "for pos, idx in zip(ase_scell.positions, indices):\n",
    "    print(' '.join((f'{el:-10.5f}' for el in pos)), idx)"
   ]
  },
  {
   "cell_type": "code",
   "execution_count": null,
   "metadata": {},
   "outputs": [],
   "source": []
  }
 ],
 "metadata": {
  "kernelspec": {
   "display_name": "Python 3",
   "language": "python",
   "name": "python3"
  },
  "language_info": {
   "codemirror_mode": {
    "name": "ipython",
    "version": 3
   },
   "file_extension": ".py",
   "mimetype": "text/x-python",
   "name": "python",
   "nbconvert_exporter": "python",
   "pygments_lexer": "ipython3",
   "version": "3.7.0"
  }
 },
 "nbformat": 4,
 "nbformat_minor": 2
}
