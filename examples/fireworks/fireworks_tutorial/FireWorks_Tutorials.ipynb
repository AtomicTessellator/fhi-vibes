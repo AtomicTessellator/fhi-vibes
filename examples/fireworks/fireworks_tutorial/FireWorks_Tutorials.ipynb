{
 "cells": [
  {
   "cell_type": "code",
   "execution_count": null,
   "metadata": {},
   "outputs": [],
   "source": [
    "# Import fireworks api functions\n",
    "from fireworks import Firework, FWorker, LaunchPad, PyTask, FWAction\n",
    "from fireworks.core.rocket_launcher import rapidfire\n",
    "from fw_tutorials.dynamic_wf.fibadd_task import FibonacciAdderTask"
   ]
  },
  {
   "cell_type": "code",
   "execution_count": null,
   "metadata": {},
   "outputs": [],
   "source": [
    "# FireWorks needs to be able to find functions inside your python path, find the module name for this file\n",
    "mod_name = __name__"
   ]
  },
  {
   "cell_type": "code",
   "execution_count": null,
   "metadata": {},
   "outputs": [],
   "source": [
    "# Define a function that will be used in a PyTask\n",
    "def fibonacci_adder(num1, num2, stop_point=0):\n",
    "    if num1 + num2 < stop_point:\n",
    "        new_fw = Firework(PyTask({'func': mod_name+'.fibonacci_adder', 'args': [num2, num1 + num2, stop_point]}))\n",
    "        print(f\"The current number is {num1+num2}\")\n",
    "        # Return a FWAction that will append a new Firework at the end of the Workflow\n",
    "        return FWAction(additions=new_fw)\n",
    "    else:\n",
    "        print(f\"The limit was reached, the next number is {num1+num2}\")"
   ]
  },
  {
   "cell_type": "code",
   "execution_count": null,
   "metadata": {},
   "outputs": [],
   "source": [
    "# set up the LaunchPad and reset it (loglvl 'CRITICAL' reduces spam from the launchpad)\n",
    "loglvl = 'CRITICAL'\n",
    "launchpad = LaunchPad(strm_lvl=loglvl)\n",
    "launchpad.reset('', require_password=False)"
   ]
  },
  {
   "cell_type": "code",
   "execution_count": null,
   "metadata": {},
   "outputs": [],
   "source": [
    "# Initialize a one Firework workflow and add it to the LaunchPad\n",
    "firework = Firework(PyTask({\"func\":mod_name+'.fibonacci_adder', \"args\":[0, 1, 1000]}))\n",
    "launchpad.add_wf(firework)\n",
    "# Fireworks will keep adding new Fireworks to the Workflow until the stopping criteria is met\n",
    "# rapidfire will keep running Fireworks until there are no ready jobs in the LaunchPad\n",
    "rapidfire(launchpad, FWorker(), strm_lvl=loglvl)"
   ]
  },
  {
   "cell_type": "code",
   "execution_count": null,
   "metadata": {},
   "outputs": [],
   "source": [
    "# Fireworks for relaxation and databse storage\n",
    "\n",
    "# Import modules from ase and fireworks\n",
    "import os\n",
    "from ase.build import bulk\n",
    "from ase.calculators.emt import EMT\n",
    "from ase.db.core import connect\n",
    "\n",
    "from fireworks import Firework, FWorker, LaunchPad, PyTask, FWAction, Workflow\n",
    "from fireworks.core.rocket_launcher import launch_rocket, rapidfire\n",
    "\n",
    "# Minimal hilde inputs to make dictionary conversion easier\n",
    "from hilde.structure.structure import pAtoms, dict2patoms, patoms2dict\n",
    "from hilde.helpers.hash import hash_atoms\n",
    "\n",
    "mod_name = __name__"
   ]
  },
  {
   "cell_type": "code",
   "execution_count": null,
   "metadata": {},
   "outputs": [],
   "source": [
    "# Define a single point calculation calculate wrapper\n",
    "def calculate(atoms_dict):\n",
    "    at = dict2patoms(atoms_dict)\n",
    "    at.calc.calculate(at, properties=['forces'])\n",
    "    # update_spec modifies the spec of the current Firework's children to include new information with\n",
    "    # the new/updated spec keys set to the keys in the dict\n",
    "    return FWAction(update_spec={\"calc_atoms\": patoms2dict(at)})"
   ]
  },
  {
   "cell_type": "code",
   "execution_count": null,
   "metadata": {},
   "outputs": [],
   "source": [
    "# Define a function that will add a new structure calculated within Fireworks to an ase databse\n",
    "def calc_to_db(db_path, atoms_dict):\n",
    "    db = connect(db_path)\n",
    "    at = dict2patoms(atoms_dict)\n",
    "    at.calc.atoms = at\n",
    "    atoms_hash, calc_hash = hash_atoms(at)\n",
    "    selection = [(\"atoms_hash\", \"=\", atoms_hash), (\"calc_hash\", \"=\", calc_hash)]\n",
    "    # Try to update the database if the material is already present, if not add it to the database\n",
    "    try:\n",
    "        rows = list(db.select(selection=selection))\n",
    "        if not rows:\n",
    "            raise KeyError()\n",
    "        for row in rows:\n",
    "            db.update(row.id, at, atoms_hash=atoms_hash, calc_hash=calc_hash)\n",
    "    except KeyError:\n",
    "        db.write(at, atoms_hash=atoms_hash, calc_hash=calc_hash)\n",
    "    return FWAction()"
   ]
  },
  {
   "cell_type": "code",
   "execution_count": null,
   "metadata": {},
   "outputs": [],
   "source": [
    "# Initialize Structures\n",
    "db_path = (os.getcwd() + '/test.db')\n",
    "print(f'database: {db_path}')\n",
    "\n",
    "ni = pAtoms(bulk('Ni', cubic=True))\n",
    "ni.set_calculator(EMT())\n",
    "ni_dict = patoms2dict(ni)\n",
    "\n",
    "ni_hash, calc_hash = hash_atoms(ni)"
   ]
  },
  {
   "cell_type": "code",
   "execution_count": null,
   "metadata": {},
   "outputs": [],
   "source": [
    "# To pass things to Fireworks they need to be in json string form or an object that can be easily\n",
    "# converted to a json string (like a dict)\n",
    "ft_calc = PyTask({\"func\": mod_name+\".calculate\", \"args\": [ni_dict]})\n",
    "# Args and Inputs are broken up into two objects (Can be upto three) \n",
    "#     args: Positional arguments that are given to Fireworks from outside its current spec\n",
    "#     inputs: Postiional arguments that are given to Fireworks from inside its current spec\n",
    "#             pased as a string to the spec key\n",
    "#     kwargs: dict describing keyword arguments taken from outside current spec (none in this example)\n",
    "#     Function call fxn_name(args, inputs, kwargs)\n",
    "ft_to_db = PyTask({\"func\":mod_name+\".calc_to_db\", \"args\":[db_path], \"inputs\":[\"calc_atoms\"]})"
   ]
  },
  {
   "cell_type": "code",
   "execution_count": null,
   "metadata": {},
   "outputs": [],
   "source": [
    "# set up the LaunchPad and reset it\n",
    "launchpad = LaunchPad(strm_lvl=\"CRITICAL\")\n",
    "launchpad.reset('', require_password=False)\n",
    "# Add a firework with two tasks and launch the firework\n",
    "launchpad.add_wf(Firework([ft_calc, ft_to_db]))\n",
    "# launch_rocket computes a single Firework\n",
    "launch_rocket(launchpad, strm_lvl=\"CRITICAL\")"
   ]
  },
  {
   "cell_type": "code",
   "execution_count": null,
   "metadata": {},
   "outputs": [],
   "source": [
    "# Connect to the database and retrieve your calculated results\n",
    "# Once something is inside Fireworks it can only be accessed through it's database or a database/file\n",
    "# the user specified inside the tasks\n",
    "db = connect(db_path)\n",
    "row = list(db.select(selection=[(\"atoms_hash\", \"=\", ni_hash)], columns=[\"forces\"]))[0]\n",
    "print(f\"Atomic forces are:\\n{row.get('forces')}\")"
   ]
  },
  {
   "cell_type": "code",
   "execution_count": null,
   "metadata": {},
   "outputs": [],
   "source": [
    "# Repeat using Al\n",
    "al = pAtoms(bulk('Al', 'fcc', a=4.047266))\n",
    "al.set_calculator(EMT())\n",
    "al_dict = patoms2dict(al)\n",
    "\n",
    "al_hash, calc_hash = hash_atoms(al)"
   ]
  },
  {
   "cell_type": "code",
   "execution_count": null,
   "metadata": {},
   "outputs": [],
   "source": [
    "# Set up a Workflow where each FireTask has its own Firework\n",
    "fw_calc = Firework(PyTask({\"func\": mod_name+\".calculate\", \"args\": [al_dict]}))\n",
    "fw_to_db = Firework(PyTask({\"func\":mod_name+\".calc_to_db\", \"args\":[db_path], \"inputs\":[\"calc_atoms\"]}))\n",
    "# Workflows defined by list of Fireworks, and a dict describing the links between each Firework\n",
    "wf = Workflow([fw_calc, fw_to_db], {fw_calc:[fw_to_db]})\n",
    "launchpad.add_wf(wf)\n",
    "# Launch 2 rockets to complete the workflow\n",
    "rapidfire(launchpad, nlaunches=2, strm_lvl=\"CRITICAL\")"
   ]
  },
  {
   "cell_type": "code",
   "execution_count": null,
   "metadata": {},
   "outputs": [],
   "source": [
    "# See the results with the database access\n",
    "db = connect(db_path)\n",
    "at = db.get_atoms(calc_hash=calc_hash, atoms_hash=al_hash, attach_calculator=True)\n",
    "print(f\"Atomic forces are, {at.get_forces()}\")"
   ]
  },
  {
   "cell_type": "code",
   "execution_count": null,
   "metadata": {},
   "outputs": [],
   "source": [
    "# Demonstration of phonon calculations using FireWorks\n",
    "import numpy as np\n",
    "from phonopy import Phonopy\n",
    "from phonopy.structure.atoms import PhonopyAtoms\n",
    "from hilde.phonon_db.row import phonon_to_dict, PhononRow\n",
    "from hilde.phonon_db.phonon_db import connect as connect_ph\n",
    "# Utility function to convert from ASE atoms to Phonopy Atoms\n",
    "def to_phonopy_atoms(atoms):\n",
    "    phonopy_atoms = PhonopyAtoms(\n",
    "        symbols=atoms.get_chemical_symbols(),\n",
    "        cell=atoms.get_cell(),\n",
    "        masses=atoms.get_masses(),\n",
    "        positions=atoms.get_positions(wrap=True),\n",
    "    )\n",
    "    return phonopy_atoms\n",
    "# Redefine calculate with a mod_spec instead of update_spec\n",
    "def calculate(atoms_dict):\n",
    "    at = dict2patoms(atoms_dict)\n",
    "    at.calc.calculate(at, properties=['forces'])\n",
    "    # mod_spec allows the user to add elements at the end of a list stored inside the spec\n",
    "    # with key defined by the input dict (\"calc_forces\" in this key)\n",
    "    return FWAction(mod_spec=[{'_push': {\"calc_forces\": patoms2dict(at)}}])\n",
    "\n",
    "# Function to setup multiple calculate Fireworks\n",
    "def calculate_multiple(atom_dicts):\n",
    "    firework_detours = []\n",
    "    for i, cell in enumerate(atom_dicts):\n",
    "        task = PyTask({\"func\": mod_name+\".calculate\",\n",
    "                       \"args\": [cell]})\n",
    "        firework_detours.append(Firework(task, name=f\"calc_{i}\"))\n",
    "    # detours appends the new Fireworks as the children of the current one and moves the\n",
    "    # previous children of the Firework to be the children of the new Fireworks\n",
    "    return FWAction(detours=firework_detours)\n",
    "\n",
    "# Function to calculate the force constants from the Fireworks spec\n",
    "def get_fcs(phonon_dict, atoms_ideal, calc_atoms):\n",
    "    atoms = dict2patoms(atoms_ideal)\n",
    "    disp_cells = [dict2patoms(ca) for ca in calc_atoms]\n",
    "    # Sort the database list as there is no gaurentee that the calculations will finish in order\n",
    "    disp_cells = sorted(disp_cells, key=lambda x: x.info['disp_num'])\n",
    "    phonon = PhononRow(phonon_dict).to_phonon()\n",
    "    phonon.generate_displacements(distance=0.01)\n",
    "    phonon.set_forces([cell.get_forces() for cell in disp_cells])\n",
    "    phonon.produce_force_constants()\n",
    "    return FWAction(update_spec={\"phonon_dict\": phonon_to_dict(phonon)})\n",
    "\n",
    "# Redefine the databse addition function to work with phonopy objects\n",
    "def calc_to_db(db_path, sc_dict, phonon_dict):\n",
    "    db = connect_ph(db_path)\n",
    "    at = dict2patoms(sc_dict)\n",
    "    at.calc.atoms = at\n",
    "    atoms_hash, calc_hash = hash_atoms(at)\n",
    "    selection = [(\"atoms_hash\", \"=\", atoms_hash), \n",
    "                 (\"calc_hash\", \"=\", calc_hash), \n",
    "                 (\"supercell_matrix\", \"=\", phonon_dict[\"supercell_matrix\"])]\n",
    "    try:\n",
    "        rows = list(db.select(selection=selection))\n",
    "        if not rows:\n",
    "            raise KeyError()\n",
    "        for row in rows:\n",
    "            db.update(row.id, phonon_dict, atoms_hash=atoms_hash, calc_hash=calc_hash)\n",
    "    except KeyError:\n",
    "        db.write(phonon_dict, atoms_hash=atoms_hash, calc_hash=calc_hash)\n",
    "    return FWAction()"
   ]
  },
  {
   "cell_type": "code",
   "execution_count": null,
   "metadata": {},
   "outputs": [],
   "source": [
    "#Initialize structures\n",
    "smatrix = np.array([3, 0, 0, 0, 3, 0, 0, 0, 3]).reshape(3,3)\n",
    "db_path = os.getcwd() + \"test_ph.db\"\n",
    "\n",
    "ph_atoms = to_phonopy_atoms(ni)\n",
    "\n",
    "phonon = Phonopy(ph_atoms, supercell_matrix=smatrix, symprec=1e-5, is_symmetry=True, factor=15.633302)\n",
    "phonon_dict = phonon_to_dict(phonon)\n",
    "pc_dict = patoms2dict(ni)\n",
    "phonon.generate_displacements(distance=0.01)\n",
    "scs = phonon.get_supercells_with_displacements()\n",
    "sc_dicts = []\n",
    "for i, sc in enumerate(scs):\n",
    "    scs[i] = pAtoms(phonopy_atoms=sc)\n",
    "    scs[i].info['disp_num'] = i\n",
    "    scs[i].calc = ni.calc\n",
    "    sc_dicts.append(patoms2dict(scs[i]))"
   ]
  },
  {
   "cell_type": "code",
   "execution_count": null,
   "metadata": {},
   "outputs": [],
   "source": [
    "# Create Firetasks for each part of the calculation\n",
    "ft_initialize = PyTask({\"func\": mod_name + \".calculate_multiple\", \"args\":[sc_dicts]})\n",
    "ft_get_fc = PyTask({\"func\": mod_name + \".get_fcs\", \"args\":[phonon_dict, pc_dict], \"inputs\":[\"calc_forces\"]})\n",
    "ft_calc_to_db = PyTask({\"func\": mod_name + \".calc_to_db\", \"args\":[db_path, pc_dict], \"inputs\":[\"phonon_dict\"]})"
   ]
  },
  {
   "cell_type": "code",
   "execution_count": null,
   "metadata": {},
   "outputs": [],
   "source": [
    "# Initialize the Fireworks\n",
    "fw_initialize = Firework(ft_initialize)\n",
    "fw_get_fc = Firework(ft_get_fc)\n",
    "fw_calc_to_db = Firework(ft_calc_to_db)\n",
    "# Note there is no need to define links for the Force evaluation calculations\n",
    "wf = Workflow([fw_initialize, fw_get_fc, fw_calc_to_db], {fw_initialize:[fw_get_fc], fw_get_fc: [fw_calc_to_db]})\n",
    "launchpad.add_wf(wf)\n",
    "# nlaunches=0 means keep running Fireworks until none are needed\n",
    "rapidfire(launchpad, nlaunches=0, strm_lvl=\"CRITICAL\")"
   ]
  },
  {
   "cell_type": "code",
   "execution_count": null,
   "metadata": {},
   "outputs": [],
   "source": [
    "#Access the database to check the results\n",
    "db = connect_ph(db_path)\n",
    "row = list(db.select(selection=[(\"atoms_hash\", \"=\", ni_hash), \n",
    "                                (\"supercell_matrix\", \"=\", list(smatrix.flatten()))], \n",
    "                     columns=[\"force_constants\"]))[0]\n",
    "print(f\"The force constants are:\\n{row.get('force_constants')}\")"
   ]
  },
  {
   "cell_type": "code",
   "execution_count": null,
   "metadata": {},
   "outputs": [],
   "source": []
  }
 ],
 "metadata": {
  "kernelspec": {
   "display_name": "Python 3",
   "language": "python",
   "name": "python3"
  },
  "language_info": {
   "codemirror_mode": {
    "name": "ipython",
    "version": 3
   },
   "file_extension": ".py",
   "mimetype": "text/x-python",
   "name": "python",
   "nbconvert_exporter": "python",
   "pygments_lexer": "ipython3",
   "version": "3.6.5"
  }
 },
 "nbformat": 4,
 "nbformat_minor": 2
}
