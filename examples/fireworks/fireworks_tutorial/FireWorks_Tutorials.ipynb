{
 "cells": [
  {
   "cell_type": "code",
   "execution_count": 1,
   "metadata": {},
   "outputs": [],
   "source": [
    "from fireworks import Firework, FWorker, LaunchPad, PyTask, FWAction\n",
    "from fireworks.core.rocket_launcher import rapidfire\n",
    "from fw_tutorials.dynamic_wf.fibadd_task import FibonacciAdderTask"
   ]
  },
  {
   "cell_type": "code",
   "execution_count": 2,
   "metadata": {},
   "outputs": [],
   "source": [
    "mod_name = __name__\n",
    "def fibonacci_adder(num1, num2, stop_point=0):\n",
    "    if num1 + num2 < stop_point:\n",
    "        new_fw = Firework(\n",
    "            PyTask({\n",
    "                'func': mod_name + '.fibonacci_adder', \n",
    "                'args': [num2, num1 + num2, stop_point]\n",
    "            }))\n",
    "        print(f\"The current number is {num1+num2}\")\n",
    "        return FWAction(additions=new_fw)\n",
    "    else:\n",
    "        print(f\"The limit was reached, the next number is {num1+num2}\")"
   ]
  },
  {
   "cell_type": "code",
   "execution_count": 3,
   "metadata": {},
   "outputs": [],
   "source": [
    "# set up the LaunchPad and reset it\n",
    "loglvl = 'CRITICAL'\n",
    "launchpad = LaunchPad(strm_lvl=loglvl)\n",
    "launchpad.reset('', require_password=False)"
   ]
  },
  {
   "cell_type": "code",
   "execution_count": 4,
   "metadata": {},
   "outputs": [
    {
     "name": "stdout",
     "output_type": "stream",
     "text": [
      "2018-11-13 10:35:23,610 INFO RUNNING fw_id: 1 in directory: /home/knoop/local/hilde/examples/fireworks/fireworks_tutorial/launcher_2018-11-13-09-35-23-604200\n",
      "2018-11-13 10:35:23,614 INFO Task started: PyTask.\n",
      "The limit was reached, the next number is 1\n",
      "2018-11-13 10:35:23,615 INFO Task completed: PyTask \n",
      "2018-11-13 10:35:23,621 INFO Rocket finished\n"
     ]
    }
   ],
   "source": [
    "# No appending FWs\n",
    "firework = Firework(\n",
    "    PyTask({\n",
    "        \"func\": mod_name + '.fibonacci_adder', \n",
    "        \"args\":[0, 1, 0]\n",
    "    }))\n",
    "launchpad.add_wf(firework)\n",
    "rapidfire(launchpad, FWorker(), strm_lvl=loglvl)"
   ]
  },
  {
   "cell_type": "code",
   "execution_count": 5,
   "metadata": {},
   "outputs": [
    {
     "name": "stdout",
     "output_type": "stream",
     "text": [
      "2018-11-13 10:35:23,795 INFO Created new dir /home/knoop/local/hilde/examples/fireworks/fireworks_tutorial/launcher_2018-11-13-09-35-23-794929\n",
      "2018-11-13 10:35:23,796 INFO Launching Rocket\n",
      "2018-11-13 10:35:23,816 INFO RUNNING fw_id: 2 in directory: /home/knoop/local/hilde/examples/fireworks/fireworks_tutorial/launcher_2018-11-13-09-35-23-794929\n",
      "2018-11-13 10:35:23,824 INFO Task started: PyTask.\n",
      "The current number is 1\n",
      "2018-11-13 10:35:23,825 INFO Task completed: PyTask \n",
      "2018-11-13 10:35:23,837 INFO Rocket finished\n",
      "2018-11-13 10:35:23,840 INFO Created new dir /home/knoop/local/hilde/examples/fireworks/fireworks_tutorial/launcher_2018-11-13-09-35-23-840354\n",
      "2018-11-13 10:35:23,840 INFO Launching Rocket\n",
      "2018-11-13 10:35:23,850 INFO RUNNING fw_id: 3 in directory: /home/knoop/local/hilde/examples/fireworks/fireworks_tutorial/launcher_2018-11-13-09-35-23-840354\n",
      "2018-11-13 10:35:23,854 INFO Task started: PyTask.\n",
      "The current number is 2\n",
      "2018-11-13 10:35:23,854 INFO Task completed: PyTask \n",
      "2018-11-13 10:35:23,864 INFO Rocket finished\n",
      "2018-11-13 10:35:23,866 INFO Created new dir /home/knoop/local/hilde/examples/fireworks/fireworks_tutorial/launcher_2018-11-13-09-35-23-866738\n",
      "2018-11-13 10:35:23,867 INFO Launching Rocket\n",
      "2018-11-13 10:35:23,874 INFO RUNNING fw_id: 4 in directory: /home/knoop/local/hilde/examples/fireworks/fireworks_tutorial/launcher_2018-11-13-09-35-23-866738\n",
      "2018-11-13 10:35:23,877 INFO Task started: PyTask.\n",
      "The current number is 3\n",
      "2018-11-13 10:35:23,878 INFO Task completed: PyTask \n",
      "2018-11-13 10:35:23,887 INFO Rocket finished\n",
      "2018-11-13 10:35:23,889 INFO Created new dir /home/knoop/local/hilde/examples/fireworks/fireworks_tutorial/launcher_2018-11-13-09-35-23-889789\n",
      "2018-11-13 10:35:23,890 INFO Launching Rocket\n",
      "2018-11-13 10:35:23,900 INFO RUNNING fw_id: 5 in directory: /home/knoop/local/hilde/examples/fireworks/fireworks_tutorial/launcher_2018-11-13-09-35-23-889789\n",
      "2018-11-13 10:35:23,903 INFO Task started: PyTask.\n",
      "The current number is 5\n",
      "2018-11-13 10:35:23,904 INFO Task completed: PyTask \n",
      "2018-11-13 10:35:23,915 INFO Rocket finished\n",
      "2018-11-13 10:35:23,918 INFO Created new dir /home/knoop/local/hilde/examples/fireworks/fireworks_tutorial/launcher_2018-11-13-09-35-23-918630\n",
      "2018-11-13 10:35:23,919 INFO Launching Rocket\n",
      "2018-11-13 10:35:23,926 INFO RUNNING fw_id: 6 in directory: /home/knoop/local/hilde/examples/fireworks/fireworks_tutorial/launcher_2018-11-13-09-35-23-918630\n",
      "2018-11-13 10:35:23,931 INFO Task started: PyTask.\n",
      "The current number is 8\n",
      "2018-11-13 10:35:23,932 INFO Task completed: PyTask \n",
      "2018-11-13 10:35:23,940 INFO Rocket finished\n",
      "2018-11-13 10:35:23,942 INFO Created new dir /home/knoop/local/hilde/examples/fireworks/fireworks_tutorial/launcher_2018-11-13-09-35-23-942579\n",
      "2018-11-13 10:35:23,943 INFO Launching Rocket\n",
      "2018-11-13 10:35:23,955 INFO RUNNING fw_id: 7 in directory: /home/knoop/local/hilde/examples/fireworks/fireworks_tutorial/launcher_2018-11-13-09-35-23-942579\n",
      "2018-11-13 10:35:23,958 INFO Task started: PyTask.\n",
      "The current number is 13\n",
      "2018-11-13 10:35:23,959 INFO Task completed: PyTask \n",
      "2018-11-13 10:35:23,970 INFO Rocket finished\n",
      "2018-11-13 10:35:23,972 INFO Created new dir /home/knoop/local/hilde/examples/fireworks/fireworks_tutorial/launcher_2018-11-13-09-35-23-972861\n",
      "2018-11-13 10:35:23,973 INFO Launching Rocket\n",
      "2018-11-13 10:35:23,981 INFO RUNNING fw_id: 8 in directory: /home/knoop/local/hilde/examples/fireworks/fireworks_tutorial/launcher_2018-11-13-09-35-23-972861\n",
      "2018-11-13 10:35:23,986 INFO Task started: PyTask.\n",
      "The current number is 21\n",
      "2018-11-13 10:35:23,987 INFO Task completed: PyTask \n",
      "2018-11-13 10:35:23,994 INFO Rocket finished\n",
      "2018-11-13 10:35:23,998 INFO Created new dir /home/knoop/local/hilde/examples/fireworks/fireworks_tutorial/launcher_2018-11-13-09-35-23-998298\n",
      "2018-11-13 10:35:23,999 INFO Launching Rocket\n",
      "2018-11-13 10:35:24,010 INFO RUNNING fw_id: 9 in directory: /home/knoop/local/hilde/examples/fireworks/fireworks_tutorial/launcher_2018-11-13-09-35-23-998298\n",
      "2018-11-13 10:35:24,014 INFO Task started: PyTask.\n",
      "The current number is 34\n",
      "2018-11-13 10:35:24,014 INFO Task completed: PyTask \n",
      "2018-11-13 10:35:24,027 INFO Rocket finished\n",
      "2018-11-13 10:35:24,029 INFO Created new dir /home/knoop/local/hilde/examples/fireworks/fireworks_tutorial/launcher_2018-11-13-09-35-24-029589\n",
      "2018-11-13 10:35:24,030 INFO Launching Rocket\n",
      "2018-11-13 10:35:24,040 INFO RUNNING fw_id: 10 in directory: /home/knoop/local/hilde/examples/fireworks/fireworks_tutorial/launcher_2018-11-13-09-35-24-029589\n",
      "2018-11-13 10:35:24,043 INFO Task started: PyTask.\n",
      "The current number is 55\n",
      "2018-11-13 10:35:24,044 INFO Task completed: PyTask \n",
      "2018-11-13 10:35:24,055 INFO Rocket finished\n",
      "2018-11-13 10:35:24,058 INFO Created new dir /home/knoop/local/hilde/examples/fireworks/fireworks_tutorial/launcher_2018-11-13-09-35-24-058072\n",
      "2018-11-13 10:35:24,058 INFO Launching Rocket\n",
      "2018-11-13 10:35:24,067 INFO RUNNING fw_id: 11 in directory: /home/knoop/local/hilde/examples/fireworks/fireworks_tutorial/launcher_2018-11-13-09-35-24-058072\n",
      "2018-11-13 10:35:24,071 INFO Task started: PyTask.\n",
      "The current number is 89\n",
      "2018-11-13 10:35:24,072 INFO Task completed: PyTask \n",
      "2018-11-13 10:35:24,082 INFO Rocket finished\n",
      "2018-11-13 10:35:24,084 INFO Created new dir /home/knoop/local/hilde/examples/fireworks/fireworks_tutorial/launcher_2018-11-13-09-35-24-084799\n",
      "2018-11-13 10:35:24,085 INFO Launching Rocket\n",
      "2018-11-13 10:35:24,094 INFO RUNNING fw_id: 12 in directory: /home/knoop/local/hilde/examples/fireworks/fireworks_tutorial/launcher_2018-11-13-09-35-24-084799\n",
      "2018-11-13 10:35:24,097 INFO Task started: PyTask.\n",
      "The current number is 144\n",
      "2018-11-13 10:35:24,098 INFO Task completed: PyTask \n",
      "2018-11-13 10:35:24,110 INFO Rocket finished\n",
      "2018-11-13 10:35:24,112 INFO Created new dir /home/knoop/local/hilde/examples/fireworks/fireworks_tutorial/launcher_2018-11-13-09-35-24-112399\n",
      "2018-11-13 10:35:24,112 INFO Launching Rocket\n",
      "2018-11-13 10:35:24,120 INFO RUNNING fw_id: 13 in directory: /home/knoop/local/hilde/examples/fireworks/fireworks_tutorial/launcher_2018-11-13-09-35-24-112399\n",
      "2018-11-13 10:35:24,124 INFO Task started: PyTask.\n",
      "The current number is 233\n",
      "2018-11-13 10:35:24,125 INFO Task completed: PyTask \n",
      "2018-11-13 10:35:24,138 INFO Rocket finished\n",
      "2018-11-13 10:35:24,142 INFO Created new dir /home/knoop/local/hilde/examples/fireworks/fireworks_tutorial/launcher_2018-11-13-09-35-24-142126\n",
      "2018-11-13 10:35:24,143 INFO Launching Rocket\n",
      "2018-11-13 10:35:24,156 INFO RUNNING fw_id: 14 in directory: /home/knoop/local/hilde/examples/fireworks/fireworks_tutorial/launcher_2018-11-13-09-35-24-142126\n",
      "2018-11-13 10:35:24,160 INFO Task started: PyTask.\n",
      "The current number is 377\n",
      "2018-11-13 10:35:24,161 INFO Task completed: PyTask \n",
      "2018-11-13 10:35:24,171 INFO Rocket finished\n",
      "2018-11-13 10:35:24,173 INFO Created new dir /home/knoop/local/hilde/examples/fireworks/fireworks_tutorial/launcher_2018-11-13-09-35-24-173724\n",
      "2018-11-13 10:35:24,174 INFO Launching Rocket\n",
      "2018-11-13 10:35:24,183 INFO RUNNING fw_id: 15 in directory: /home/knoop/local/hilde/examples/fireworks/fireworks_tutorial/launcher_2018-11-13-09-35-24-173724\n",
      "2018-11-13 10:35:24,186 INFO Task started: PyTask.\n",
      "The current number is 610\n",
      "2018-11-13 10:35:24,186 INFO Task completed: PyTask \n",
      "2018-11-13 10:35:24,196 INFO Rocket finished\n",
      "2018-11-13 10:35:24,198 INFO Created new dir /home/knoop/local/hilde/examples/fireworks/fireworks_tutorial/launcher_2018-11-13-09-35-24-198736\n",
      "2018-11-13 10:35:24,199 INFO Launching Rocket\n",
      "2018-11-13 10:35:24,206 INFO RUNNING fw_id: 16 in directory: /home/knoop/local/hilde/examples/fireworks/fireworks_tutorial/launcher_2018-11-13-09-35-24-198736\n",
      "2018-11-13 10:35:24,210 INFO Task started: PyTask.\n",
      "The current number is 987\n",
      "2018-11-13 10:35:24,212 INFO Task completed: PyTask \n",
      "2018-11-13 10:35:24,221 INFO Rocket finished\n",
      "2018-11-13 10:35:24,223 INFO Created new dir /home/knoop/local/hilde/examples/fireworks/fireworks_tutorial/launcher_2018-11-13-09-35-24-223257\n",
      "2018-11-13 10:35:24,223 INFO Launching Rocket\n",
      "2018-11-13 10:35:24,234 INFO RUNNING fw_id: 17 in directory: /home/knoop/local/hilde/examples/fireworks/fireworks_tutorial/launcher_2018-11-13-09-35-24-223257\n",
      "2018-11-13 10:35:24,237 INFO Task started: PyTask.\n"
     ]
    },
    {
     "name": "stdout",
     "output_type": "stream",
     "text": [
      "The limit was reached, the next number is 1597\n",
      "2018-11-13 10:35:24,237 INFO Task completed: PyTask \n",
      "2018-11-13 10:35:24,245 INFO Rocket finished\n"
     ]
    }
   ],
   "source": [
    "# No appending FWs\n",
    "firework = Firework(\n",
    "    PyTask({\n",
    "        \"func\": mod_name + '.fibonacci_adder', \n",
    "        \"args\":[0, 1, 1000]\n",
    "    }))\n",
    "launchpad.add_wf(firework)\n",
    "rapidfire(launchpad, FWorker(), strm_lvl=loglvl)"
   ]
  },
  {
   "cell_type": "code",
   "execution_count": 6,
   "metadata": {},
   "outputs": [],
   "source": [
    "# Import modules for ase calculator inputs\n",
    "import os\n",
    "from ase.build import bulk\n",
    "from ase.calculators.emt import EMT\n",
    "from ase.db.core import connect\n",
    "\n",
    "from fireworks import Firework, FWorker, LaunchPad, PyTask, FWAction, Workflow\n",
    "from fireworks.core.rocket_launcher import launch_rocket, rapidfire\n",
    "\n",
    "# Minimal hilde inputs\n",
    "from hilde.structure.structure import pAtoms\n",
    "from hilde.helpers.converters import dict2patoms, patoms2dict\n",
    "from hilde.helpers.hash import hash_atoms\n",
    "\n",
    "mod_name = __name__"
   ]
  },
  {
   "cell_type": "code",
   "execution_count": 7,
   "metadata": {},
   "outputs": [],
   "source": [
    "def calculate(atoms_dict):\n",
    "    at = dict2patoms(atoms_dict)\n",
    "    at.calc.calculate(at, properties=['forces'])\n",
    "    return FWAction(update_spec={\"calc_atoms\": patoms2dict(at)})"
   ]
  },
  {
   "cell_type": "code",
   "execution_count": 8,
   "metadata": {},
   "outputs": [],
   "source": [
    "def calc_to_db(db_path, atoms_dict):\n",
    "    db = connect(db_path)\n",
    "    at = dict2patoms(atoms_dict)\n",
    "    at.calc.atoms = at\n",
    "    atoms_hash, calc_hash = hash_atoms(at)\n",
    "    selection = [(\"atoms_hash\", \"=\", atoms_hash), (\"calc_hash\", \"=\", calc_hash)]\n",
    "    try:\n",
    "        rows = list(db.select(selection=selection))\n",
    "        if not rows:\n",
    "            raise KeyError()\n",
    "        for row in rows:\n",
    "            db.update(row.id, at, atoms_hash=atoms_hash, calc_hash=calc_hash)\n",
    "    except KeyError:\n",
    "        db.write(at, atoms_hash=atoms_hash, calc_hash=calc_hash)\n",
    "    return FWAction()"
   ]
  },
  {
   "cell_type": "code",
   "execution_count": 9,
   "metadata": {},
   "outputs": [
    {
     "name": "stdout",
     "output_type": "stream",
     "text": [
      "database: /home/knoop/local/hilde/examples/fireworks/fireworks_tutorial/test.db\n"
     ]
    }
   ],
   "source": [
    "# Initialize Structure\n",
    "db_path = (os.getcwd() + '/test.db')\n",
    "print(f'database: {db_path}')\n",
    "\n",
    "ni = pAtoms(bulk('Ni', cubic=True))\n",
    "ni.set_calculator(EMT())\n",
    "ni_dict = patoms2dict(ni)\n",
    "\n",
    "ni_hash, calc_hash = hash_atoms(ni)"
   ]
  },
  {
   "cell_type": "code",
   "execution_count": 10,
   "metadata": {},
   "outputs": [],
   "source": [
    "ft_calc = PyTask({\"func\": mod_name+\".calculate\", \"args\": [ni_dict]})\n",
    "ft_to_db = PyTask({\"func\":mod_name+\".calc_to_db\", \"args\":[db_path], \"inputs\":[\"calc_atoms\"]})"
   ]
  },
  {
   "cell_type": "code",
   "execution_count": 11,
   "metadata": {},
   "outputs": [
    {
     "name": "stdout",
     "output_type": "stream",
     "text": [
      "2018-11-13 10:35:24,580 INFO Launching Rocket\n",
      "2018-11-13 10:35:24,589 INFO RUNNING fw_id: 1 in directory: /home/knoop/local/hilde/examples/fireworks/fireworks_tutorial\n",
      "2018-11-13 10:35:24,593 INFO Task started: PyTask.\n",
      "2018-11-13 10:35:24,623 INFO Task completed: PyTask \n",
      "2018-11-13 10:35:24,626 INFO Task started: PyTask.\n",
      "2018-11-13 10:35:24,677 INFO Task completed: PyTask \n",
      "2018-11-13 10:35:24,693 INFO Rocket finished\n"
     ]
    },
    {
     "data": {
      "text/plain": [
       "True"
      ]
     },
     "execution_count": 11,
     "metadata": {},
     "output_type": "execute_result"
    }
   ],
   "source": [
    "# set up the LaunchPad and reset it\n",
    "launchpad = LaunchPad(strm_lvl=\"CRITICAL\")\n",
    "launchpad.reset('', require_password=False)\n",
    "\n",
    "launchpad.add_wf(Firework([ft_calc, ft_to_db]))\n",
    "launch_rocket(launchpad, strm_lvl=\"CRITICAL\")"
   ]
  },
  {
   "cell_type": "code",
   "execution_count": 12,
   "metadata": {},
   "outputs": [
    {
     "name": "stdout",
     "output_type": "stream",
     "text": [
      "Atomic forces are:\n",
      "[[ 2.75670600e-15 -1.06217932e-16 -5.86336535e-16]\n",
      " [ 2.08575155e-14 -2.32452946e-15 -1.40512602e-15]\n",
      " [-2.75474088e-15  2.34534614e-15  1.25940924e-15]\n",
      " [-9.96193416e-15 -2.80117861e-15  2.01227923e-16]]\n"
     ]
    }
   ],
   "source": [
    "db = connect(db_path)\n",
    "row = list(db.select(selection=[(\"atoms_hash\", \"=\", ni_hash)], columns=[\"forces\"]))[0]\n",
    "print(f\"Atomic forces are:\\n{row.get('forces')}\")"
   ]
  },
  {
   "cell_type": "code",
   "execution_count": 13,
   "metadata": {},
   "outputs": [],
   "source": [
    "# Initialize Structure Al\n",
    "al = pAtoms(bulk('Al', 'fcc', a=4.047266))\n",
    "al.set_calculator(EMT())\n",
    "al_dict = patoms2dict(al)\n",
    "\n",
    "al_hash, calc_hash = hash_atoms(al)"
   ]
  },
  {
   "cell_type": "code",
   "execution_count": 14,
   "metadata": {},
   "outputs": [
    {
     "name": "stdout",
     "output_type": "stream",
     "text": [
      "2018-11-13 10:35:24,752 INFO Created new dir /home/knoop/local/hilde/examples/fireworks/fireworks_tutorial/launcher_2018-11-13-09-35-24-752037\n",
      "2018-11-13 10:35:24,753 INFO Launching Rocket\n",
      "2018-11-13 10:35:24,773 INFO RUNNING fw_id: 3 in directory: /home/knoop/local/hilde/examples/fireworks/fireworks_tutorial/launcher_2018-11-13-09-35-24-752037\n",
      "2018-11-13 10:35:24,778 INFO Task started: PyTask.\n",
      "2018-11-13 10:35:24,805 INFO Task completed: PyTask \n",
      "2018-11-13 10:35:24,816 INFO Rocket finished\n",
      "2018-11-13 10:35:24,819 INFO Created new dir /home/knoop/local/hilde/examples/fireworks/fireworks_tutorial/launcher_2018-11-13-09-35-24-819367\n",
      "2018-11-13 10:35:24,820 INFO Launching Rocket\n",
      "2018-11-13 10:35:24,828 INFO RUNNING fw_id: 2 in directory: /home/knoop/local/hilde/examples/fireworks/fireworks_tutorial/launcher_2018-11-13-09-35-24-819367\n",
      "2018-11-13 10:35:24,832 INFO Task started: PyTask.\n",
      "2018-11-13 10:35:24,862 INFO Task completed: PyTask \n",
      "2018-11-13 10:35:24,869 INFO Rocket finished\n"
     ]
    }
   ],
   "source": [
    "fw_calc = Firework(PyTask({\"func\": mod_name+\".calculate\", \"args\": [al_dict]}))\n",
    "fw_to_db = Firework(PyTask({\"func\":mod_name+\".calc_to_db\", \"args\":[db_path], \"inputs\":[\"calc_atoms\"]}))\n",
    "wf = Workflow([fw_calc, fw_to_db], {fw_calc:[fw_to_db]})\n",
    "launchpad.add_wf(wf)\n",
    "rapidfire(launchpad, nlaunches=2, strm_lvl=\"CRITICAL\")"
   ]
  },
  {
   "cell_type": "code",
   "execution_count": 15,
   "metadata": {},
   "outputs": [
    {
     "name": "stdout",
     "output_type": "stream",
     "text": [
      "Atomic forces are, [[0. 0. 0.]]\n"
     ]
    }
   ],
   "source": [
    "db = connect(db_path)\n",
    "at = db.get_atoms(calc_hash=calc_hash, atoms_hash=al_hash, attach_calculator=True)\n",
    "print(f\"Atomic forces are, {at.get_forces()}\")"
   ]
  },
  {
   "cell_type": "code",
   "execution_count": 16,
   "metadata": {},
   "outputs": [],
   "source": [
    "import numpy as np\n",
    "from phonopy import Phonopy\n",
    "from phonopy.structure.atoms import PhonopyAtoms\n",
    "from hilde.phonon_db.row import phonon2dict, PhononRow\n",
    "from hilde.phonon_db.phonon_db import connect as connect_ph\n",
    "\n",
    "def to_phonopy_atoms(atoms):\n",
    "    phonopy_atoms = PhonopyAtoms(\n",
    "        symbols=atoms.get_chemical_symbols(),\n",
    "        cell=atoms.get_cell(),\n",
    "        masses=atoms.get_masses(),\n",
    "        positions=atoms.get_positions(wrap=True),\n",
    "    )\n",
    "    return phonopy_atoms\n",
    "\n",
    "def calculate(atoms_dict):\n",
    "    at = dict2patoms(atoms_dict)\n",
    "    at.calc.calculate(at, properties=['forces'])\n",
    "    return FWAction(mod_spec=[{'_push': {\"calc_forces\": patoms2dict(at)}}])\n",
    "\n",
    "def calculate_multiple(atom_dicts):\n",
    "    firework_detours = []\n",
    "    for i, cell in enumerate(atom_dicts):\n",
    "        task = PyTask({\"func\": mod_name+\".calculate\",\n",
    "                       \"args\": [cell]})\n",
    "        firework_detours.append(Firework(task, name=f\"calc_{i}\"))\n",
    "    return FWAction(detours=firework_detours)\n",
    "\n",
    "def get_fcs(phonon_dict, atoms_ideal, calc_atoms):\n",
    "    atoms = dict2patoms(atoms_ideal)\n",
    "    disp_cells = [dict2patoms(ca) for ca in calc_atoms]\n",
    "    disp_cells = sorted(disp_cells, key=lambda x: x.info['disp_num'])\n",
    "    phonon = PhononRow(phonon_dict).to_phonon()\n",
    "    phonon.generate_displacements(distance=0.01)\n",
    "    phonon.set_forces([cell.get_forces() for cell in disp_cells])\n",
    "    phonon.produce_force_constants()\n",
    "    return FWAction(update_spec={\"phonon_dict\": phonon2dict(phonon)})\n",
    "\n",
    "def calc_to_db(db_path, sc_dict, phonon_dict):\n",
    "    db = connect_ph(db_path)\n",
    "    at = dict2patoms(sc_dict)\n",
    "    at.calc.atoms = at\n",
    "    atoms_hash, calc_hash = hash_atoms(at)\n",
    "    selection = [(\"atoms_hash\", \"=\", atoms_hash), \n",
    "                 (\"calc_hash\", \"=\", calc_hash), \n",
    "                 (\"supercell_matrix\", \"=\", phonon_dict[\"supercell_matrix\"])]\n",
    "    try:\n",
    "        rows = list(db.select(selection=selection))\n",
    "        if not rows:\n",
    "            raise KeyError()\n",
    "        for row in rows:\n",
    "            db.update(row.id, phonon_dict, atoms_hash=atoms_hash, calc_hash=calc_hash)\n",
    "    except KeyError:\n",
    "        db.write(phonon_dict, atoms_hash=atoms_hash, calc_hash=calc_hash)\n",
    "    return FWAction()"
   ]
  },
  {
   "cell_type": "code",
   "execution_count": 17,
   "metadata": {},
   "outputs": [],
   "source": [
    "smatrix = np.array([3, 0, 0, 0, 3, 0, 0, 0, 3]).reshape(3,3)\n",
    "db_path = os.getcwd() + \"test_ph.db\"\n",
    "\n",
    "ph_atoms = to_phonopy_atoms(ni)\n",
    "\n",
    "phonon = Phonopy(ph_atoms, supercell_matrix=smatrix, symprec=1e-5, is_symmetry=True, factor=15.633302)\n",
    "phonon_dict = phonon2dict(phonon)\n",
    "pc_dict = patoms2dict(ni)\n",
    "phonon.generate_displacements(distance=0.01)\n",
    "scs = phonon.get_supercells_with_displacements()\n",
    "sc_dicts = []\n",
    "for i, sc in enumerate(scs):\n",
    "    scs[i] = pAtoms(phonopy_atoms=sc)\n",
    "    scs[i].info['disp_num'] = i\n",
    "    scs[i].calc = ni.calc\n",
    "    sc_dicts.append(patoms2dict(scs[i]))"
   ]
  },
  {
   "cell_type": "code",
   "execution_count": 18,
   "metadata": {},
   "outputs": [],
   "source": [
    "ft_initialize = PyTask({\"func\": mod_name + \".calculate_multiple\", \"args\":[sc_dicts]})\n",
    "ft_get_fc = PyTask({\"func\": mod_name + \".get_fcs\", \"args\":[phonon_dict, pc_dict], \"inputs\":[\"calc_forces\"]})\n",
    "ft_calc_to_db = PyTask({\"func\": mod_name + \".calc_to_db\", \"args\":[db_path, pc_dict], \"inputs\":[\"phonon_dict\"]})"
   ]
  },
  {
   "cell_type": "code",
   "execution_count": 19,
   "metadata": {},
   "outputs": [
    {
     "name": "stdout",
     "output_type": "stream",
     "text": [
      "2018-11-13 10:35:25,324 INFO Created new dir /home/knoop/local/hilde/examples/fireworks/fireworks_tutorial/launcher_2018-11-13-09-35-25-324373\n",
      "2018-11-13 10:35:25,325 INFO Launching Rocket\n",
      "2018-11-13 10:35:25,335 INFO RUNNING fw_id: 6 in directory: /home/knoop/local/hilde/examples/fireworks/fireworks_tutorial/launcher_2018-11-13-09-35-25-324373\n",
      "2018-11-13 10:35:25,340 INFO Task started: PyTask.\n",
      "2018-11-13 10:35:25,341 INFO Task completed: PyTask \n",
      "2018-11-13 10:35:25,360 INFO Rocket finished\n",
      "2018-11-13 10:35:25,364 INFO Created new dir /home/knoop/local/hilde/examples/fireworks/fireworks_tutorial/launcher_2018-11-13-09-35-25-364235\n",
      "2018-11-13 10:35:25,364 INFO Launching Rocket\n",
      "2018-11-13 10:35:25,374 INFO RUNNING fw_id: 7 in directory: /home/knoop/local/hilde/examples/fireworks/fireworks_tutorial/launcher_2018-11-13-09-35-25-364235\n",
      "2018-11-13 10:35:25,380 INFO Task started: PyTask.\n",
      "2018-11-13 10:35:25,544 INFO Task completed: PyTask \n",
      "2018-11-13 10:35:25,569 INFO Rocket finished\n",
      "2018-11-13 10:35:25,572 INFO Created new dir /home/knoop/local/hilde/examples/fireworks/fireworks_tutorial/launcher_2018-11-13-09-35-25-572728\n",
      "2018-11-13 10:35:25,573 INFO Launching Rocket\n",
      "2018-11-13 10:35:25,588 INFO RUNNING fw_id: 5 in directory: /home/knoop/local/hilde/examples/fireworks/fireworks_tutorial/launcher_2018-11-13-09-35-25-572728\n",
      "2018-11-13 10:35:25,597 INFO Task started: PyTask.\n",
      "2018-11-13 10:35:26,689 INFO Task completed: PyTask \n",
      "2018-11-13 10:35:28,042 INFO Rocket finished\n",
      "2018-11-13 10:35:28,206 INFO Created new dir /home/knoop/local/hilde/examples/fireworks/fireworks_tutorial/launcher_2018-11-13-09-35-28-205948\n",
      "2018-11-13 10:35:28,206 INFO Launching Rocket\n",
      "2018-11-13 10:35:28,846 INFO RUNNING fw_id: 4 in directory: /home/knoop/local/hilde/examples/fireworks/fireworks_tutorial/launcher_2018-11-13-09-35-28-205948\n",
      "2018-11-13 10:35:29,140 INFO Task started: PyTask.\n",
      "2018-11-13 10:35:29,190 INFO Task completed: PyTask \n",
      "2018-11-13 10:35:29,531 INFO Rocket finished\n"
     ]
    }
   ],
   "source": [
    "fw_initialize = Firework(ft_initialize)\n",
    "fw_get_fc = Firework(ft_get_fc)\n",
    "fw_calc_to_db = Firework(ft_calc_to_db)\n",
    "\n",
    "wf = Workflow([fw_initialize, fw_get_fc, fw_calc_to_db], {fw_initialize:[fw_get_fc], fw_get_fc: [fw_calc_to_db]})\n",
    "launchpad.add_wf(wf)\n",
    "rapidfire(launchpad, nlaunches=0, strm_lvl=\"CRITICAL\")"
   ]
  },
  {
   "cell_type": "code",
   "execution_count": 20,
   "metadata": {},
   "outputs": [
    {
     "name": "stdout",
     "output_type": "stream",
     "text": [
      "The force constants are:\n",
      "[[[[ 1.14463612e+01 -0.00000000e+00 -0.00000000e+00]\n",
      "   [-0.00000000e+00  1.14463612e+01 -0.00000000e+00]\n",
      "   [-0.00000000e+00 -0.00000000e+00  1.14463612e+01]]\n",
      "\n",
      "  [[ 2.37234745e-01 -1.26217745e-29  2.52435490e-29]\n",
      "   [-0.00000000e+00 -2.88493428e-02 -0.00000000e+00]\n",
      "   [-0.00000000e+00  2.52435490e-29 -2.88493428e-02]]\n",
      "\n",
      "  [[ 2.37234745e-01 -0.00000000e+00  2.52435490e-29]\n",
      "   [-0.00000000e+00 -2.88493428e-02 -0.00000000e+00]\n",
      "   [-0.00000000e+00 -6.31088724e-30 -2.88493428e-02]]\n",
      "\n",
      "  ...\n",
      "\n",
      "  [[ 4.47709709e-03 -5.98183255e-03 -1.50460276e-02]\n",
      "   [-5.98183255e-03  4.47709709e-03  1.50460276e-02]\n",
      "   [-1.50472523e-02  1.50472523e-02  2.56372784e-02]]\n",
      "\n",
      "  [[-5.51410327e-05 -0.00000000e+00 -0.00000000e+00]\n",
      "   [-0.00000000e+00  9.90223749e-08 -1.47542017e-05]\n",
      "   [-0.00000000e+00 -1.47530139e-05 -2.43796562e-05]]\n",
      "\n",
      "  [[ 4.47709709e-03  5.98183255e-03  1.50460276e-02]\n",
      "   [ 5.98183255e-03  4.47709709e-03  1.50460276e-02]\n",
      "   [ 1.50472523e-02  1.50472523e-02  2.56372784e-02]]]\n",
      "\n",
      "\n",
      " [[[ 2.37234745e-01  0.00000000e+00  2.52435490e-29]\n",
      "   [ 0.00000000e+00 -2.88493428e-02  0.00000000e+00]\n",
      "   [ 0.00000000e+00  6.31088724e-30 -2.88493428e-02]]\n",
      "\n",
      "  [[ 1.14463612e+01  0.00000000e+00  0.00000000e+00]\n",
      "   [ 0.00000000e+00  1.14463612e+01  0.00000000e+00]\n",
      "   [ 0.00000000e+00  0.00000000e+00  1.14463612e+01]]\n",
      "\n",
      "  [[ 2.37234745e-01  1.26217745e-29  2.52435490e-29]\n",
      "   [ 0.00000000e+00 -2.88493428e-02  0.00000000e+00]\n",
      "   [ 0.00000000e+00 -2.52435490e-29 -2.88493428e-02]]\n",
      "\n",
      "  ...\n",
      "\n",
      "  [[ 4.47709709e-03  5.98183255e-03  1.50460276e-02]\n",
      "   [ 5.98183255e-03  4.47709709e-03  1.50460276e-02]\n",
      "   [ 1.50472523e-02  1.50472523e-02  2.56372784e-02]]\n",
      "\n",
      "  [[ 4.47709709e-03 -5.98183255e-03 -1.50460276e-02]\n",
      "   [-5.98183255e-03  4.47709709e-03  1.50460276e-02]\n",
      "   [-1.50472523e-02  1.50472523e-02  2.56372784e-02]]\n",
      "\n",
      "  [[-5.51410327e-05  0.00000000e+00  0.00000000e+00]\n",
      "   [ 0.00000000e+00  9.90223749e-08 -1.47542017e-05]\n",
      "   [-6.31088724e-30 -1.47530139e-05 -2.43796562e-05]]]\n",
      "\n",
      "\n",
      " [[[ 2.37234745e-01  0.00000000e+00  2.52435490e-29]\n",
      "   [ 0.00000000e+00 -2.88493428e-02  0.00000000e+00]\n",
      "   [ 0.00000000e+00 -6.31088724e-30 -2.88493428e-02]]\n",
      "\n",
      "  [[ 2.37234745e-01 -1.26217745e-29  2.52435490e-29]\n",
      "   [ 0.00000000e+00 -2.88493428e-02  0.00000000e+00]\n",
      "   [ 0.00000000e+00  2.52435490e-29 -2.88493428e-02]]\n",
      "\n",
      "  [[ 1.14463612e+01  0.00000000e+00  0.00000000e+00]\n",
      "   [ 0.00000000e+00  1.14463612e+01  0.00000000e+00]\n",
      "   [ 0.00000000e+00  0.00000000e+00  1.14463612e+01]]\n",
      "\n",
      "  ...\n",
      "\n",
      "  [[-5.51410327e-05  0.00000000e+00  0.00000000e+00]\n",
      "   [ 0.00000000e+00  9.90223749e-08 -1.47542017e-05]\n",
      "   [ 0.00000000e+00 -1.47530139e-05 -2.43796562e-05]]\n",
      "\n",
      "  [[ 4.47709709e-03  5.98183255e-03  1.50460276e-02]\n",
      "   [ 5.98183255e-03  4.47709709e-03  1.50460276e-02]\n",
      "   [ 1.50472523e-02  1.50472523e-02  2.56372784e-02]]\n",
      "\n",
      "  [[ 4.47709709e-03 -5.98183255e-03 -1.50460276e-02]\n",
      "   [-5.98183255e-03  4.47709709e-03  1.50460276e-02]\n",
      "   [-1.50472523e-02  1.50472523e-02  2.56372784e-02]]]\n",
      "\n",
      "\n",
      " ...\n",
      "\n",
      "\n",
      " [[[ 4.47709709e-03 -5.98183255e-03 -1.50460276e-02]\n",
      "   [-5.98183255e-03  4.47709709e-03  1.50460276e-02]\n",
      "   [-1.50472523e-02  1.50472523e-02  2.56372784e-02]]\n",
      "\n",
      "  [[ 4.47709709e-03  5.98183255e-03  1.50460276e-02]\n",
      "   [ 5.98183255e-03  4.47709709e-03  1.50460276e-02]\n",
      "   [ 1.50472523e-02  1.50472523e-02  2.56372784e-02]]\n",
      "\n",
      "  [[-5.51410327e-05  8.27180613e-25  0.00000000e+00]\n",
      "   [-2.52435490e-29  9.90223749e-08 -1.47542017e-05]\n",
      "   [ 0.00000000e+00 -1.47530139e-05 -2.43796562e-05]]\n",
      "\n",
      "  ...\n",
      "\n",
      "  [[ 1.14463612e+01  0.00000000e+00  0.00000000e+00]\n",
      "   [ 0.00000000e+00  1.14463612e+01  0.00000000e+00]\n",
      "   [ 0.00000000e+00  0.00000000e+00  1.14463612e+01]]\n",
      "\n",
      "  [[ 2.37234745e-01  1.26217745e-29  0.00000000e+00]\n",
      "   [ 0.00000000e+00 -2.88493428e-02  0.00000000e+00]\n",
      "   [ 0.00000000e+00  0.00000000e+00 -2.88493428e-02]]\n",
      "\n",
      "  [[ 2.37234745e-01  0.00000000e+00  0.00000000e+00]\n",
      "   [ 0.00000000e+00 -2.88493428e-02 -6.31088724e-30]\n",
      "   [ 0.00000000e+00  0.00000000e+00 -2.88493428e-02]]]\n",
      "\n",
      "\n",
      " [[[-5.51410327e-05  0.00000000e+00  0.00000000e+00]\n",
      "   [ 6.31088724e-30  9.90223749e-08 -1.47542017e-05]\n",
      "   [ 0.00000000e+00 -1.47530139e-05 -2.43796562e-05]]\n",
      "\n",
      "  [[ 4.47709709e-03 -5.98183255e-03 -1.50460276e-02]\n",
      "   [-5.98183255e-03  4.47709709e-03  1.50460276e-02]\n",
      "   [-1.50472523e-02  1.50472523e-02  2.56372784e-02]]\n",
      "\n",
      "  [[ 4.47709709e-03  5.98183255e-03  1.50460276e-02]\n",
      "   [ 5.98183255e-03  4.47709709e-03  1.50460276e-02]\n",
      "   [ 1.50472523e-02  1.50472523e-02  2.56372784e-02]]\n",
      "\n",
      "  ...\n",
      "\n",
      "  [[ 2.37234745e-01  0.00000000e+00  0.00000000e+00]\n",
      "   [ 0.00000000e+00 -2.88493428e-02  1.57772181e-29]\n",
      "   [ 0.00000000e+00 -3.15544362e-30 -2.88493428e-02]]\n",
      "\n",
      "  [[ 1.14463612e+01  0.00000000e+00  0.00000000e+00]\n",
      "   [ 0.00000000e+00  1.14463612e+01  0.00000000e+00]\n",
      "   [ 0.00000000e+00  0.00000000e+00  1.14463612e+01]]\n",
      "\n",
      "  [[ 2.37234745e-01  0.00000000e+00  0.00000000e+00]\n",
      "   [ 0.00000000e+00 -2.88493428e-02  0.00000000e+00]\n",
      "   [ 0.00000000e+00  0.00000000e+00 -2.88493428e-02]]]\n",
      "\n",
      "\n",
      " [[[ 4.47709709e-03  5.98183255e-03  1.50460276e-02]\n",
      "   [ 5.98183255e-03  4.47709709e-03  1.50460276e-02]\n",
      "   [ 1.50472523e-02  1.50472523e-02  2.56372784e-02]]\n",
      "\n",
      "  [[-5.51410327e-05 -8.27180613e-25  0.00000000e+00]\n",
      "   [ 2.52435490e-29  9.90223749e-08 -1.47542017e-05]\n",
      "   [ 0.00000000e+00 -1.47530139e-05 -2.43796562e-05]]\n",
      "\n",
      "  [[ 4.47709709e-03 -5.98183255e-03 -1.50460276e-02]\n",
      "   [-5.98183255e-03  4.47709709e-03  1.50460276e-02]\n",
      "   [-1.50472523e-02  1.50472523e-02  2.56372784e-02]]\n",
      "\n",
      "  ...\n",
      "\n",
      "  [[ 2.37234745e-01  0.00000000e+00  0.00000000e+00]\n",
      "   [ 0.00000000e+00 -2.88493428e-02 -6.31088724e-30]\n",
      "   [ 0.00000000e+00  0.00000000e+00 -2.88493428e-02]]\n",
      "\n",
      "  [[ 2.37234745e-01 -1.26217745e-29  0.00000000e+00]\n",
      "   [ 0.00000000e+00 -2.88493428e-02  0.00000000e+00]\n",
      "   [ 0.00000000e+00  0.00000000e+00 -2.88493428e-02]]\n",
      "\n",
      "  [[ 1.14463612e+01  0.00000000e+00  0.00000000e+00]\n",
      "   [ 0.00000000e+00  1.14463612e+01  0.00000000e+00]\n",
      "   [ 0.00000000e+00  0.00000000e+00  1.14463612e+01]]]]\n"
     ]
    }
   ],
   "source": [
    "db = connect_ph(db_path)\n",
    "row = list(db.select(selection=[(\"atoms_hash\", \"=\", ni_hash), \n",
    "                                (\"supercell_matrix\", \"=\", list(smatrix.flatten()))], \n",
    "                     columns=[\"force_constants\"]))[0]\n",
    "print(f\"The force constants are:\\n{row.get('force_constants')}\")"
   ]
  },
  {
   "cell_type": "code",
   "execution_count": null,
   "metadata": {},
   "outputs": [],
   "source": []
  }
 ],
 "metadata": {
  "kernelspec": {
   "display_name": "Python 3",
   "language": "python",
   "name": "python3"
  },
  "language_info": {
   "codemirror_mode": {
    "name": "ipython",
    "version": 3
   },
   "file_extension": ".py",
   "mimetype": "text/x-python",
   "name": "python",
   "nbconvert_exporter": "python",
   "pygments_lexer": "ipython3",
   "version": "3.7.0"
  }
 },
 "nbformat": 4,
 "nbformat_minor": 2
}
