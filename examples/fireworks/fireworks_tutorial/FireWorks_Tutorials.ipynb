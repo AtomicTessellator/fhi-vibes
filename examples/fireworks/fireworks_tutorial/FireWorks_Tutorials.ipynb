{
 "cells": [
  {
   "cell_type": "code",
   "execution_count": null,
   "metadata": {},
   "outputs": [],
   "source": [
    "'''Python Introductions provided by FireWorks'''"
   ]
  },
  {
   "cell_type": "code",
   "execution_count": null,
   "metadata": {},
   "outputs": [],
   "source": [
    "'''How FireWorks performs calculations'''\n",
    "from fireworks import Firework, FWorker, LaunchPad\n",
    "from fireworks.core.rocket_launcher import launch_rocket\n",
    "from fw_tutorials.firetask.addition_task import AdditionTask\n",
    "\n",
    "loglvl = \"CRITICAL\"\n",
    "# set up the LaunchPad and reset it\n",
    "launchpad = LaunchPad(strm_lvl=loglvl)\n",
    "# launchpad.reset('', require_password=False)\n",
    "\n",
    "# create the Firework consisting of a custom \"Addition\" task\n",
    "firework = Firework(AdditionTask(), \n",
    "                    spec={\"input_array\": [1, 2]})\n",
    "\n",
    "# store workflow and launch it locally\n",
    "launchpad.add_wf(firework)\n",
    "launch_rocket(launchpad, FWorker(), strm_lvl=loglvl)"
   ]
  },
  {
   "cell_type": "code",
   "execution_count": null,
   "metadata": {},
   "outputs": [],
   "source": [
    "'''How to define a FireWork's Workflow with PyTask'''\n",
    "from fireworks import Firework, Workflow, FWorker, LaunchPad, PyTask\n",
    "from fireworks.core.rocket_launcher import rapidfire\n",
    "launchpad = LaunchPad(strm_lvl=loglvl)\n",
    "\n",
    "# FireWorks needs to be able to find functions inside your python path, find the module name for this file\n",
    "mod_name = __name__\n",
    "\n",
    "def print_message(to_print):\n",
    "    print(to_print)\n",
    "\n",
    "# define four individual FireWorks used in the Workflow\n",
    "task1 = PyTask({\"func\": mod_name+\".print_message\", \"args\": [\"Ingrid is the CEO.\"]})\n",
    "task2 = PyTask({\"func\": mod_name+\".print_message\", \"args\": [\"Jill is a manager.\"]})\n",
    "task3 = PyTask({\"func\": mod_name+\".print_message\", \"args\": [\"Jack is a manager.\"]})\n",
    "task4 = PyTask({\"func\": mod_name+\".print_message\", \"args\": [\"Kip is an intern.\"]})\n",
    "\n",
    "fw1 = Firework(task1, name=\"PyTask1\")\n",
    "fw2 = Firework(task2, name=\"PyTask2\" )\n",
    "fw3 = Firework(task3, name=\"PyTask3\" )\n",
    "fw4 = Firework(task4, name=\"PyTask4\" )\n",
    "\n",
    "# assemble Workflow from FireWorks and their connections by id\n",
    "workflow = Workflow([fw1, fw2, fw3, fw4], \n",
    "                    {fw1: [fw2, fw3], fw2: [fw4], fw3: [fw4]},\n",
    "                    name=\"PyTaskExample\"\n",
    "                   )\n",
    "\n",
    "# store workflow and launch it locally\n",
    "launchpad.add_wf(workflow)\n",
    "rapidfire(launchpad, FWorker(), strm_lvl=loglvl)\n",
    "\n",
    "# store workflow and launch it locally\n",
    "launchpad.add_wf(workflow)\n",
    "launch_rocket(launchpad, FWorker(), strm_lvl=loglvl)\n",
    "launch_rocket(launchpad, FWorker(), strm_lvl=loglvl)\n",
    "launch_rocket(launchpad, FWorker(), strm_lvl=loglvl)\n",
    "launch_rocket(launchpad, FWorker(), strm_lvl=loglvl)"
   ]
  },
  {
   "cell_type": "code",
   "execution_count": null,
   "metadata": {},
   "outputs": [],
   "source": [
    "'''Defining a dynamic Workflow with PyTasks'''\n",
    "from fireworks import Firework, FWorker, LaunchPad, PyTask, FWAction\n",
    "from fireworks.core.rocket_launcher import rapidfire\n",
    "from fw_tutorials.dynamic_wf.fibadd_task import FibonacciAdderTask\n",
    "\n",
    "# FireWorks needs to be able to find functions inside your python path, find the module name for this file\n",
    "mod_name = __name__\n",
    "\n",
    "# Define a new python function that will be used in a PyTask\n",
    "def fibonacci_adder(num1, num2, stop_point=0):\n",
    "    if num1 + num2 < stop_point:\n",
    "        new_fw = Firework(PyTask({'func': mod_name+'.fibonacci_adder', 'args': [num2, num1 + num2, stop_point]}))\n",
    "        print(f\"The current number is {num1+num2}\")\n",
    "        # Return a FWAction that will append a new Firework at the end of the Workflow\n",
    "        return FWAction(additions=new_fw)\n",
    "    else:\n",
    "        print(f\"The limit was reached, the next number is {num1+num2}\")\n",
    "\n",
    "launchpad = LaunchPad(strm_lvl=loglvl, port=27018)\n",
    "firework = Firework(PyTask({\"func\":mod_name+'.fibonacci_adder', \"args\":[0, 1, 1000]}))\n",
    "launchpad.add_wf(firework)\n",
    "# rapidfire will keep running Fireworks until there are no ready jobs in the LaunchPad\n",
    "rapidfire(launchpad, FWorker(), strm_lvl=loglvl)"
   ]
  },
  {
   "cell_type": "code",
   "execution_count": null,
   "metadata": {},
   "outputs": [],
   "source": [
    "'''How can we use Fireworks for electronic structure calculaions?'''"
   ]
  },
  {
   "cell_type": "code",
   "execution_count": null,
   "metadata": {},
   "outputs": [],
   "source": [
    "# Import modules from ase and fireworks\n",
    "import os\n",
    "import numpy as np\n",
    "\n",
    "from ase.build import bulk\n",
    "from ase.calculators.emt import EMT\n",
    "from ase.db.core import connect\n",
    "\n",
    "from fireworks import Firework, FWorker, LaunchPad, PyTask, FWAction, Workflow\n",
    "from fireworks.core.rocket_launcher import launch_rocket, rapidfire\n",
    "\n",
    "# Minimal hilde inputs to make dictionary conversion easier\n",
    "from hilde.structure.structure import pAtoms, dict2patoms, patoms2dict\n",
    "from hilde.helpers.hash import hash_atoms\n",
    "\n",
    "mod_name = __name__"
   ]
  },
  {
   "cell_type": "code",
   "execution_count": null,
   "metadata": {},
   "outputs": [],
   "source": [
    "# Define a single point calculation calculate wrapper\n",
    "def calculate(atoms_dict):\n",
    "    at = dict2patoms(atoms_dict)\n",
    "    at.calc.calculate(at, properties=['forces'])\n",
    "    # update_spec modifies the spec of the current Firework's children to include new information with\n",
    "    # the new/updated spec keys set to the keys in the dict\n",
    "    return FWAction(update_spec={\"calc_atoms\": patoms2dict(at)})"
   ]
  },
  {
   "cell_type": "code",
   "execution_count": null,
   "metadata": {},
   "outputs": [],
   "source": [
    "# Intialize Structures\n",
    "ni = pAtoms(bulk('Ni', cubic=True))\n",
    "ni.set_calculator(EMT())\n",
    "ni_dict = patoms2dict(ni)\n",
    "\n",
    "ni_hash, calc_hash = hash_atoms(ni)"
   ]
  },
  {
   "cell_type": "code",
   "execution_count": null,
   "metadata": {},
   "outputs": [],
   "source": [
    "# To pass things to Fireworks they need to be in json string form or an object that can be easily\n",
    "# converted to a json string (like a dict)\n",
    "# Function are passed by their module_name.file_name\n",
    "ft_calc = PyTask({\"func\": mod_name+\".calculate\", \"args\": [ni_dict]})"
   ]
  },
  {
   "cell_type": "code",
   "execution_count": null,
   "metadata": {},
   "outputs": [],
   "source": [
    "# Add a firework with the task to define a job\n",
    "wf = Workflow([Firework([ft_calc])])\n",
    "launchpad = LaunchPad()\n",
    "launchpad.add_wf(wf)\n",
    "# launch_rocket computes a single Firework\n",
    "launch_rocket(launchpad, strm_lvl=loglvl)"
   ]
  },
  {
   "cell_type": "code",
   "execution_count": null,
   "metadata": {},
   "outputs": [],
   "source": [
    "# Once something is inside Fireworks it can only be accessed through it's database or a database/file\n",
    "# the user specified inside the tasks\n",
    "# Getting the results from FireWorks\n",
    "fw_spec = launchpad.get_fw_dict_by_id(wf.root_fw_ids[0])\n",
    "forces = fw_spec['launches'][0]['action']['update_spec']['calc_atoms']['forces']\n",
    "print(f\"Atomic forces are:\\n{np.array(forces)}\")"
   ]
  },
  {
   "cell_type": "code",
   "execution_count": null,
   "metadata": {},
   "outputs": [],
   "source": [
    "# Define a function that will add a new structure calculated within Fireworks to an ase databse\n",
    "def calc_to_db(db_path, atoms_dict):\n",
    "    db = connect(db_path)\n",
    "    at = dict2patoms(atoms_dict)\n",
    "    at.calc.atoms = at\n",
    "    atoms_hash, calc_hash = hash_atoms(at)\n",
    "    selection = [(\"atoms_hash\", \"=\", atoms_hash), (\"calc_hash\", \"=\", calc_hash)]\n",
    "    # Try to update the database if the material is already present, if not add it to the database\n",
    "    try:\n",
    "        rows = list(db.select(selection=selection))\n",
    "        if not rows:\n",
    "            raise KeyError()\n",
    "        for row in rows:\n",
    "            db.update(row.id, at, atoms_hash=atoms_hash, calc_hash=calc_hash)\n",
    "    except KeyError:\n",
    "        db.write(at, atoms_hash=atoms_hash, calc_hash=calc_hash)\n",
    "    return FWAction()"
   ]
  },
  {
   "cell_type": "code",
   "execution_count": null,
   "metadata": {},
   "outputs": [
    {
     "name": "stdout",
     "output_type": "stream",
     "text": [
      "2018-11-13 10:35:24,752 INFO Created new dir /home/knoop/local/hilde/examples/fireworks/fireworks_tutorial/launcher_2018-11-13-09-35-24-752037\n",
      "2018-11-13 10:35:24,753 INFO Launching Rocket\n",
      "2018-11-13 10:35:24,773 INFO RUNNING fw_id: 3 in directory: /home/knoop/local/hilde/examples/fireworks/fireworks_tutorial/launcher_2018-11-13-09-35-24-752037\n",
      "2018-11-13 10:35:24,778 INFO Task started: PyTask.\n",
      "2018-11-13 10:35:24,805 INFO Task completed: PyTask \n",
      "2018-11-13 10:35:24,816 INFO Rocket finished\n",
      "2018-11-13 10:35:24,819 INFO Created new dir /home/knoop/local/hilde/examples/fireworks/fireworks_tutorial/launcher_2018-11-13-09-35-24-819367\n",
      "2018-11-13 10:35:24,820 INFO Launching Rocket\n",
      "2018-11-13 10:35:24,828 INFO RUNNING fw_id: 2 in directory: /home/knoop/local/hilde/examples/fireworks/fireworks_tutorial/launcher_2018-11-13-09-35-24-819367\n",
      "2018-11-13 10:35:24,832 INFO Task started: PyTask.\n",
      "2018-11-13 10:35:24,862 INFO Task completed: PyTask \n",
      "2018-11-13 10:35:24,869 INFO Rocket finished\n"
     ]
    }
   ],
   "source": [
    "# Set up database\n",
    "db_path = (os.getcwd() + '/test.db')\n",
    "print(f'database: {db_path}')\n",
    "# Set up a Workflow where each FireTask has its own Firework\n",
    "fw_calc = Firework(PyTask({\"func\": mod_name+\".calculate\", \"args\": [ni_dict]}))\n",
    "# Args and Inputs are broken up into two objects (Can be up to three) \n",
    "#     args: Positional arguments that are given to Fireworks from outside its current spec\n",
    "#     inputs: Postiional arguments that are given to Fireworks from inside its current spec\n",
    "#             pased as a string to the spec key\n",
    "#     kwargs: dict describing keyword arguments taken from outside current spec (none in this example)\n",
    "#     Function call fxn_name(args, inputs, kwargs)\n",
    "fw_to_db = Firework(PyTask({\"func\":mod_name+\".calc_to_db\", \"args\":[db_path], \"inputs\":[\"calc_atoms\"]}))\n",
    "# Workflows defined by list of Fireworks, and a dict describing the links between each Firework\n",
    "wf = Workflow([fw_calc, fw_to_db], {fw_calc:[fw_to_db]})\n",
    "launchpad.add_wf(wf)\n",
    "# Launch 2 rockets to complete the workflow\n",
    "rapidfire(launchpad, nlaunches=2, strm_lvl=loglvl)"
   ]
  },
  {
   "cell_type": "code",
   "execution_count": null,
   "metadata": {},
   "outputs": [],
   "source": [
    "# See the results with the database access\n",
    "db = connect(db_path)\n",
    "at = db.get_atoms(calc_hash=calc_hash, atoms_hash=ni_hash, attach_calculator=True)\n",
    "row = list(db.select(selection=[(\"atoms_hash\", \"=\", ni_hash)], columns=[\"forces\"]))[0]\n",
    "print(f\"Atomic forces from the new atoms are: \\n{at.get_forces()}\")\n",
    "print(f\"Atomic forces from the row is: \\n{row.forces}\")"
   ]
  },
  {
   "cell_type": "code",
   "execution_count": null,
   "metadata": {},
   "outputs": [],
   "source": [
    "'''Building up a Workflow for phonon calculations'''"
   ]
  },
  {
   "cell_type": "code",
   "execution_count": null,
   "metadata": {},
   "outputs": [],
   "source": [
    "# Import modules from ase and fireworks\n",
    "import os\n",
    "import numpy as np\n",
    "\n",
    "from ase.build import bulk\n",
    "from ase.calculators.emt import EMT\n",
    "\n",
    "from fireworks import Firework, FWorker, LaunchPad, PyTask, FWAction, Workflow\n",
    "from fireworks.core.rocket_launcher import launch_rocket, rapidfire\n",
    "\n",
    "# Minimal hilde inputs to make dictionary conversion easier\n",
    "from hilde.structure.structure import pAtoms, dict2patoms, patoms2dict\n",
    "from hilde.helpers.hash import hash_atoms\n",
    "\n",
    "# Modified ASE database for phonon calculations\n",
    "from hilde.phonon_db.row import phonon_to_dict, PhononRow\n",
    "from hilde.phonon_db.phonon_db import connect as connect_ph\n",
    "\n",
    "from phonopy import Phonopy\n",
    "from phonopy.structure.atoms import PhonopyAtoms\n",
    "\n",
    "mod_name = __name__"
   ]
  },
  {
   "cell_type": "code",
   "execution_count": null,
   "metadata": {},
   "outputs": [],
   "source": [
    "# Utility function to convert from ASE atoms to Phonopy Atoms\n",
    "def to_phonopy_atoms(atoms):\n",
    "    phonopy_atoms = PhonopyAtoms(\n",
    "        symbols=atoms.get_chemical_symbols(),\n",
    "        cell=atoms.get_cell(),\n",
    "        masses=atoms.get_masses(),\n",
    "        positions=atoms.get_positions(wrap=True),\n",
    "    )\n",
    "    return phonopy_atoms"
   ]
  },
  {
   "cell_type": "code",
   "execution_count": null,
   "metadata": {},
   "outputs": [],
   "source": [
    "# Define calculate with a mod_spec instead of update_spec\n",
    "# mod_spec allows for appending items to the end of lists\n",
    "def calculate(atoms_dict):\n",
    "    print(\"Single point calculation\")\n",
    "    at = dict2patoms(atoms_dict)\n",
    "    at.calc.calculate(at, properties=['forces'])\n",
    "    # mod_spec allows the user to add elements at the end of a list stored inside the spec\n",
    "    # with key defined by the input dict (\"calc_forces\" in this key)\n",
    "    return FWAction(mod_spec=[{'_push': {\"calc_forces\": patoms2dict(at)}}])"
   ]
  },
  {
   "cell_type": "code",
   "execution_count": null,
   "metadata": {},
   "outputs": [],
   "source": [
    "# Function to setup multiple calculate Fireworks\n",
    "def calculate_multiple(atom_dicts):\n",
    "    print(\"Appending calculations to the workflow\")\n",
    "    firework_detours = []\n",
    "    for i, cell in enumerate(atom_dicts):\n",
    "        task = PyTask({\"func\": mod_name+\".calculate\",\n",
    "                       \"args\": [cell]})\n",
    "        firework_detours.append(Firework(task, name=f\"calc_{i}\"))\n",
    "    # detours appends the new Fireworks as the children of the current one and moves the\n",
    "    # previous children of the Firework to be the children of the new Fireworks\n",
    "    return FWAction(detours=firework_detours)"
   ]
  },
  {
   "cell_type": "code",
   "execution_count": null,
   "metadata": {},
   "outputs": [],
   "source": [
    "# Function to calculate the force constants from the Fireworks spec\n",
    "def get_fcs(phonon_dict, atoms_ideal, calc_atoms):\n",
    "    print(\"Getting the force constants\")\n",
    "    atoms = dict2patoms(atoms_ideal)\n",
    "    disp_cells = [dict2patoms(ca) for ca in calc_atoms]\n",
    "    # Sort the database list as there is no gaurentee that the calculations will finish in order\n",
    "    disp_cells = sorted(disp_cells, key=lambda x: x.info['disp_num'])\n",
    "    phonon = PhononRow(phonon_dict).to_phonon()\n",
    "    phonon.generate_displacements(distance=0.01)\n",
    "    phonon.set_forces([cell.get_forces() for cell in disp_cells])\n",
    "    phonon.produce_force_constants()\n",
    "    return FWAction(update_spec={\"phonon_dict\": phonon_to_dict(phonon)})\n"
   ]
  },
  {
   "cell_type": "code",
   "execution_count": null,
   "metadata": {},
   "outputs": [],
   "source": [
    "# Redefine the databse addition function to work with phonopy objects\n",
    "def calc_to_db(db_path, sc_dict, phonon_dict):\n",
    "    print(\"Adding results to the database\")\n",
    "    db = connect_ph(db_path)\n",
    "    at = dict2patoms(sc_dict)\n",
    "    at.calc.atoms = at\n",
    "    atoms_hash, calc_hash = hash_atoms(at)\n",
    "    selection = [(\"atoms_hash\", \"=\", atoms_hash), \n",
    "                 (\"calc_hash\", \"=\", calc_hash), \n",
    "                 (\"sc_matrix_2\", \"=\", phonon_dict[\"sc_matrix_2\"])]\n",
    "    try:\n",
    "        rows = list(db.select(selection=selection))\n",
    "        if not rows:\n",
    "            raise KeyError()\n",
    "        for row in rows:\n",
    "            db.update(row.id, phonon_dict, atoms_hash=atoms_hash, calc_hash=calc_hash)\n",
    "    except KeyError:\n",
    "        db.write(phonon_dict, atoms_hash=atoms_hash, calc_hash=calc_hash)\n",
    "    return FWAction()"
   ]
  },
  {
   "cell_type": "code",
   "execution_count": null,
   "metadata": {},
   "outputs": [],
   "source": [
    "#Initialize structures\n",
    "smatrix = np.array([3, 0, 0, 0, 3, 0, 0, 0, 3]).reshape(3,3)\n",
    "db_path = os.getcwd() + \"test_ph.db\"\n",
    "\n",
    "# Intialize Structures\n",
    "al = pAtoms(bulk('Al', 'fcc'))\n",
    "al.set_calculator(EMT())\n",
    "al_dict = patoms2dict(al)\n",
    "al_hash, calc_hash = hash_atoms(al)\n",
    "\n",
    "ph_atoms = to_phonopy_atoms(al)\n",
    "\n",
    "phonon = Phonopy(ph_atoms, supercell_matrix=smatrix, symprec=1e-5, is_symmetry=True, factor=15.633302)\n",
    "phonon_dict = phonon_to_dict(phonon)\n",
    "pc_dict = patoms2dict(al)\n",
    "phonon.generate_displacements(distance=0.01)\n",
    "scs = phonon.get_supercells_with_displacements()\n",
    "sc_dicts = []\n",
    "for i, sc in enumerate(scs):\n",
    "    scs[i] = pAtoms(phonopy_atoms=sc)\n",
    "    scs[i].info['disp_num'] = i\n",
    "    scs[i].calc = al.calc\n",
    "    sc_dicts.append(patoms2dict(scs[i]))"
   ]
  },
  {
   "cell_type": "code",
   "execution_count": null,
   "metadata": {},
   "outputs": [],
   "source": [
    "# Create Firetasks for each part of the calculation\n",
    "ft_initialize = PyTask({\"func\": mod_name + \".calculate_multiple\", \"args\":[sc_dicts]})\n",
    "ft_get_fc = PyTask({\"func\": mod_name + \".get_fcs\", \"args\":[phonon_dict, pc_dict], \"inputs\":[\"calc_forces\"]})\n",
    "ft_calc_to_db = PyTask({\"func\": mod_name + \".calc_to_db\", \"args\":[db_path, pc_dict], \"inputs\":[\"phonon_dict\"]})"
   ]
  },
  {
   "cell_type": "code",
   "execution_count": null,
   "metadata": {},
   "outputs": [
    {
     "name": "stdout",
     "output_type": "stream",
     "text": [
      "2018-11-13 10:35:25,324 INFO Created new dir /home/knoop/local/hilde/examples/fireworks/fireworks_tutorial/launcher_2018-11-13-09-35-25-324373\n",
      "2018-11-13 10:35:25,325 INFO Launching Rocket\n",
      "2018-11-13 10:35:25,335 INFO RUNNING fw_id: 6 in directory: /home/knoop/local/hilde/examples/fireworks/fireworks_tutorial/launcher_2018-11-13-09-35-25-324373\n",
      "2018-11-13 10:35:25,340 INFO Task started: PyTask.\n",
      "2018-11-13 10:35:25,341 INFO Task completed: PyTask \n",
      "2018-11-13 10:35:25,360 INFO Rocket finished\n",
      "2018-11-13 10:35:25,364 INFO Created new dir /home/knoop/local/hilde/examples/fireworks/fireworks_tutorial/launcher_2018-11-13-09-35-25-364235\n",
      "2018-11-13 10:35:25,364 INFO Launching Rocket\n",
      "2018-11-13 10:35:25,374 INFO RUNNING fw_id: 7 in directory: /home/knoop/local/hilde/examples/fireworks/fireworks_tutorial/launcher_2018-11-13-09-35-25-364235\n",
      "2018-11-13 10:35:25,380 INFO Task started: PyTask.\n",
      "2018-11-13 10:35:25,544 INFO Task completed: PyTask \n",
      "2018-11-13 10:35:25,569 INFO Rocket finished\n",
      "2018-11-13 10:35:25,572 INFO Created new dir /home/knoop/local/hilde/examples/fireworks/fireworks_tutorial/launcher_2018-11-13-09-35-25-572728\n",
      "2018-11-13 10:35:25,573 INFO Launching Rocket\n",
      "2018-11-13 10:35:25,588 INFO RUNNING fw_id: 5 in directory: /home/knoop/local/hilde/examples/fireworks/fireworks_tutorial/launcher_2018-11-13-09-35-25-572728\n",
      "2018-11-13 10:35:25,597 INFO Task started: PyTask.\n",
      "2018-11-13 10:35:26,689 INFO Task completed: PyTask \n",
      "2018-11-13 10:35:28,042 INFO Rocket finished\n",
      "2018-11-13 10:35:28,206 INFO Created new dir /home/knoop/local/hilde/examples/fireworks/fireworks_tutorial/launcher_2018-11-13-09-35-28-205948\n",
      "2018-11-13 10:35:28,206 INFO Launching Rocket\n",
      "2018-11-13 10:35:28,846 INFO RUNNING fw_id: 4 in directory: /home/knoop/local/hilde/examples/fireworks/fireworks_tutorial/launcher_2018-11-13-09-35-28-205948\n",
      "2018-11-13 10:35:29,140 INFO Task started: PyTask.\n",
      "2018-11-13 10:35:29,190 INFO Task completed: PyTask \n",
      "2018-11-13 10:35:29,531 INFO Rocket finished\n"
     ]
    }
   ],
   "source": [
    "# Initialize the Fireworks\n",
    "fw_initialize = Firework(ft_initialize)\n",
    "fw_get_fc = Firework(ft_get_fc)\n",
    "fw_calc_to_db = Firework(ft_calc_to_db)\n",
    "# Note there is no need to define links for the Force evaluation calculations\n",
    "wf = Workflow([fw_initialize, fw_get_fc, fw_calc_to_db], {fw_initialize:[fw_get_fc], fw_get_fc: [fw_calc_to_db]})"
   ]
  },
  {
   "cell_type": "code",
   "execution_count": null,
   "metadata": {},
   "outputs": [],
   "source": [
    "launchpad = LaunchPad()\n",
    "launchpad.reset('', require_password=False)\n",
    "launchpad.add_wf(wf)\n",
    "# nlaunches=0 means keep running Fireworks until none are needed\n",
    "rapidfire(launchpad, nlaunches=0, strm_lvl=\"CRITICAL\")"
   ]
  },
  {
   "cell_type": "code",
   "execution_count": null,
   "metadata": {},
   "outputs": [],
   "source": [
    "#Access the database to check the results\n",
    "db = connect_ph(db_path)\n",
    "row = list(db.select(selection=[(\"atoms_hash\", \"=\", al_hash), \n",
    "                                (\"sc_matrix_2\", \"=\", list(smatrix.flatten()))], \n",
    "                     columns=[\"fc_2\"]))[0]\n",
    "print(f\"The force constants are:\\n{row.get('fc_2')}\")"
   ]
  },
  {
   "cell_type": "code",
   "execution_count": null,
   "metadata": {},
   "outputs": [],
   "source": []
  }
 ],
 "metadata": {
  "kernelspec": {
   "display_name": "Python 3",
   "language": "python",
   "name": "python3"
  },
  "language_info": {
   "codemirror_mode": {
    "name": "ipython",
    "version": 3
   },
   "file_extension": ".py",
   "mimetype": "text/x-python",
   "name": "python",
   "nbconvert_exporter": "python",
   "pygments_lexer": "ipython3",
   "version": "3.7.0"
  }
 },
 "nbformat": 4,
 "nbformat_minor": 2
}
