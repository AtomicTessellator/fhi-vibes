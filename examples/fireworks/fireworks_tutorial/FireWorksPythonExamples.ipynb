{
 "cells": [
  {
   "cell_type": "code",
   "execution_count": null,
   "metadata": {},
   "outputs": [],
   "source": [
    "'''Python Introductions provided by FireWorks'''"
   ]
  },
  {
   "cell_type": "code",
   "execution_count": null,
   "metadata": {},
   "outputs": [],
   "source": [
    "'''How FireWorks performs calculations'''\n",
    "from fireworks import Firework, FWorker, LaunchPad\n",
    "from fireworks.core.rocket_launcher import launch_rocket\n",
    "from fw_tutorials.firetask.addition_task import AdditionTask\n",
    "\n",
    "# set up the LaunchPad and reset it\n",
    "launchpad = LaunchPad()\n",
    "# launchpad.reset('', require_password=False)\n",
    "\n",
    "# create the Firework consisting of a custom \"Addition\" task\n",
    "firework = Firework(AdditionTask(), spec={\"input_array\": [1, 2]})\n",
    "\n",
    "# store workflow and launch it locally\n",
    "launchpad.add_wf(firework)\n",
    "launch_rocket(launchpad, FWorker())"
   ]
  },
  {
   "cell_type": "code",
   "execution_count": null,
   "metadata": {},
   "outputs": [],
   "source": [
    "'''How to define a FireWork's Workflow'''\n",
    "from fireworks import Firework, Workflow, FWorker, LaunchPad, ScriptTask\n",
    "from fireworks.core.rocket_launcher import rapidfire\n",
    "launchpad = LaunchPad()\n",
    "# launchpad.reset('', require_password=False)\n",
    "\n",
    "# define four individual FireWorks used in the Workflow\n",
    "task1 = ScriptTask.from_str('echo \"Ingrid is the CEO.\"')\n",
    "task2 = ScriptTask.from_str('echo \"Jill is a manager.\"')\n",
    "task3 = ScriptTask.from_str('echo \"Jack is a manager.\"')\n",
    "task4 = ScriptTask.from_str('echo \"Kip is an intern.\"')\n",
    "\n",
    "fw1 = Firework(task1)\n",
    "fw2 = Firework(task2)\n",
    "fw3 = Firework(task3)\n",
    "fw4 = Firework(task4)\n",
    "\n",
    "# assemble Workflow from FireWorks and their connections by id\n",
    "workflow = Workflow([fw1, fw2, fw3, fw4], {fw1: [fw2, fw3], fw2: [fw4], fw3: [fw4]})\n",
    "\n",
    "# store workflow and launch it locally\n",
    "launchpad.add_wf(workflow)\n",
    "rapidfire(launchpad, FWorker())"
   ]
  },
  {
   "cell_type": "code",
   "execution_count": null,
   "metadata": {},
   "outputs": [],
   "source": [
    "'''Defining a dynamic Workflow with PyTasks'''\n",
    "from fireworks import Firework, FWorker, LaunchPad, PyTask, FWAction\n",
    "from fireworks.core.rocket_launcher import rapidfire\n",
    "from fw_tutorials.dynamic_wf.fibadd_task import FibonacciAdderTask\n",
    "\n",
    "# FireWorks needs to be able to find functions inside your python path, find the module name for this file\n",
    "mod_name = __name__\n",
    "\n",
    "# Define a new python function that will be used in a PyTask\n",
    "def fibonacci_adder(num1, num2, stop_point=0):\n",
    "    if num1 + num2 < stop_point:\n",
    "        new_fw = Firework(PyTask({'func': mod_name+'.fibonacci_adder', 'args': [num2, num1 + num2, stop_point]}))\n",
    "        print(f\"The current number is {num1+num2}\")\n",
    "        # Return a FWAction that will append a new Firework at the end of the Workflow\n",
    "        return FWAction(additions=new_fw)\n",
    "    else:\n",
    "        print(f\"The limit was reached, the next number is {num1+num2}\")\n",
    "\n",
    "launchpad = LaunchPad(strm_lvl=loglvl, port=27018)\n",
    "firework = Firework(PyTask({\"func\":mod_name+'.fibonacci_adder', \"args\":[0, 1, 1000]}))\n",
    "launchpad.add_wf(firework)\n",
    "# rapidfire will keep running Fireworks until there are no ready jobs in the LaunchPad\n",
    "rapidfire(launchpad, FWorker(), strm_lvl=loglvl)"
   ]
  }
 ],
 "metadata": {
  "kernelspec": {
   "display_name": "Python 3",
   "language": "python",
   "name": "python3"
  },
  "language_info": {
   "codemirror_mode": {
    "name": "ipython",
    "version": 3
   },
   "file_extension": ".py",
   "mimetype": "text/x-python",
   "name": "python",
   "nbconvert_exporter": "python",
   "pygments_lexer": "ipython3",
   "version": "3.6.5"
  }
 },
 "nbformat": 4,
 "nbformat_minor": 2
}
