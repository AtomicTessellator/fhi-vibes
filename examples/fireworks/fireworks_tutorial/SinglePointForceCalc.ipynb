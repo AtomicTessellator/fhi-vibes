{
 "cells": [
  {
   "cell_type": "code",
   "execution_count": 1,
   "metadata": {},
   "outputs": [],
   "source": [
    "# Import modules from ase and fireworks\n",
    "import os\n",
    "import numpy as np\n",
    "\n",
    "from ase.build import bulk\n",
    "from ase.calculators.emt import EMT\n",
    "from ase.db.core import connect\n",
    "\n",
    "from fireworks import Firework, FWorker, LaunchPad, PyTask, FWAction, Workflow\n",
    "from fireworks.core.rocket_launcher import launch_rocket, rapidfire\n",
    "\n",
    "# Minimal hilde inputs to make dictionary conversion easier\n",
    "from hilde.structure.structure import pAtoms, dict2patoms, patoms2dict\n",
    "from hilde.helpers.hash import hash_atoms\n",
    "\n",
    "mod_name = __name__"
   ]
  },
  {
   "cell_type": "code",
   "execution_count": 2,
   "metadata": {},
   "outputs": [],
   "source": [
    "# Define a single point calculation calculate wrapper\n",
    "def calculate(atoms_dict):\n",
    "    at = dict2patoms(atoms_dict)\n",
    "    at.calc.calculate(at, properties=['forces'])\n",
    "    # update_spec modifies the spec of the current Firework's children to include new information with\n",
    "    # the new/updated spec keys set to the keys in the dict\n",
    "    return FWAction(update_spec={\"calc_atoms\": patoms2dict(at)})"
   ]
  },
  {
   "cell_type": "code",
   "execution_count": 3,
   "metadata": {},
   "outputs": [
    {
     "name": "stdout",
     "output_type": "stream",
     "text": [
      "database: /home/purcell/git/hilde/examples/fireworks/fireworks_tutorial/test.db\n"
     ]
    }
   ],
   "source": [
    "# Initialize Structures\n",
    "db_path = (os.getcwd() + '/test.db')\n",
    "print(f'database: {db_path}')\n",
    "\n",
    "ni = pAtoms(bulk('Ni', cubic=True))\n",
    "ni.set_calculator(EMT())\n",
    "ni_dict = patoms2dict(ni)\n",
    "\n",
    "ni_hash, calc_hash = hash_atoms(ni)"
   ]
  },
  {
   "cell_type": "code",
   "execution_count": 4,
   "metadata": {},
   "outputs": [],
   "source": [
    "# To pass things to Fireworks they need to be in json string form or an object that can be easily\n",
    "# converted to a json string (like a dict)\n",
    "ft_calc = PyTask({\"func\": mod_name+\".calculate\", \"args\": [ni_dict]})"
   ]
  },
  {
   "cell_type": "code",
   "execution_count": 5,
   "metadata": {},
   "outputs": [
    {
     "name": "stdout",
     "output_type": "stream",
     "text": [
      "2018-11-14 22:41:36,890 INFO Added a workflow. id_map: {-1: 184}\n"
     ]
    },
    {
     "data": {
      "text/plain": [
       "True"
      ]
     },
     "execution_count": 5,
     "metadata": {},
     "output_type": "execute_result"
    }
   ],
   "source": [
    "# Add a firework with two tasks and launch the firework\n",
    "wf = Workflow([Firework([ft_calc])])\n",
    "launchpad = LaunchPad(port=27018)\n",
    "launchpad.add_wf(wf)\n",
    "# launch_rocket computes a single Firework\n",
    "launch_rocket(launchpad, strm_lvl=\"CRITICAL\")"
   ]
  },
  {
   "cell_type": "code",
   "execution_count": 6,
   "metadata": {},
   "outputs": [
    {
     "name": "stdout",
     "output_type": "stream",
     "text": [
      "Atomic forces are:\n",
      "[[ 2.75670600e-15 -1.06217932e-16 -5.86336535e-16]\n",
      " [ 2.08575155e-14 -2.32452946e-15 -1.40512602e-15]\n",
      " [-2.75474088e-15  2.34534614e-15  1.25940924e-15]\n",
      " [-9.96193416e-15 -2.80117861e-15  2.01227923e-16]]\n"
     ]
    }
   ],
   "source": [
    "# Connect to the database and retrieve your calculated results\n",
    "# Once something is inside Fireworks it can only be accessed through it's database or a database/file\n",
    "# the user specified inside the tasks\n",
    "fw_spec = launchpad.get_fw_dict_by_id(wf.root_fw_ids[0])\n",
    "forces = fw_spec['launches'][0]['action']['update_spec']['calc_atoms']['forces']\n",
    "print(f\"Atomic forces are:\\n{np.array(forces)}\")"
   ]
  },
  {
   "cell_type": "code",
   "execution_count": 7,
   "metadata": {},
   "outputs": [],
   "source": [
    "# Define a function that will add a new structure calculated within Fireworks to an ase databse\n",
    "def calc_to_db(db_path, atoms_dict):\n",
    "    db = connect(db_path)\n",
    "    at = dict2patoms(atoms_dict)\n",
    "    at.calc.atoms = at\n",
    "    atoms_hash, calc_hash = hash_atoms(at)\n",
    "    selection = [(\"atoms_hash\", \"=\", atoms_hash), (\"calc_hash\", \"=\", calc_hash)]\n",
    "    # Try to update the database if the material is already present, if not add it to the database\n",
    "    try:\n",
    "        rows = list(db.select(selection=selection))\n",
    "        if not rows:\n",
    "            raise KeyError()\n",
    "        for row in rows:\n",
    "            db.update(row.id, at, atoms_hash=atoms_hash, calc_hash=calc_hash)\n",
    "    except KeyError:\n",
    "        db.write(at, atoms_hash=atoms_hash, calc_hash=calc_hash)\n",
    "    return FWAction()"
   ]
  },
  {
   "cell_type": "code",
   "execution_count": 8,
   "metadata": {},
   "outputs": [
    {
     "name": "stdout",
     "output_type": "stream",
     "text": [
      "2018-11-14 22:41:48,355 INFO Added a workflow. id_map: {-3: 185, -2: 186}\n"
     ]
    }
   ],
   "source": [
    "# Set up a Workflow where each FireTask has its own Firework\n",
    "fw_calc = Firework(PyTask({\"func\": mod_name+\".calculate\", \"args\": [ni_dict]}))\n",
    "# Args and Inputs are broken up into two objects (Can be up to three) \n",
    "#     args: Positional arguments that are given to Fireworks from outside its current spec\n",
    "#     inputs: Postiional arguments that are given to Fireworks from inside its current spec\n",
    "#             pased as a string to the spec key\n",
    "#     kwargs: dict describing keyword arguments taken from outside current spec (none in this example)\n",
    "#     Function call fxn_name(args, inputs, kwargs)\n",
    "fw_to_db = Firework(PyTask({\"func\":mod_name+\".calc_to_db\", \"args\":[db_path], \"inputs\":[\"calc_atoms\"]}))\n",
    "# Workflows defined by list of Fireworks, and a dict describing the links between each Firework\n",
    "wf = Workflow([fw_calc, fw_to_db], {fw_calc:[fw_to_db]})\n",
    "launchpad.add_wf(wf)\n",
    "# Launch 2 rockets to complete the workflow\n",
    "rapidfire(launchpad, nlaunches=2, strm_lvl=\"CRITICAL\")"
   ]
  },
  {
   "cell_type": "code",
   "execution_count": 9,
   "metadata": {},
   "outputs": [
    {
     "name": "stdout",
     "output_type": "stream",
     "text": [
      "Atomic forces from the new atoms are: \n",
      "[[ 2.75670600e-15 -1.06217932e-16 -5.86336535e-16]\n",
      " [ 2.08575155e-14 -2.32452946e-15 -1.40512602e-15]\n",
      " [-2.75474088e-15  2.34534614e-15  1.25940924e-15]\n",
      " [-9.96193416e-15 -2.80117861e-15  2.01227923e-16]]\n",
      "Atomic forces from the row is: \n",
      "[[ 2.75670600e-15 -1.06217932e-16 -5.86336535e-16]\n",
      " [ 2.08575155e-14 -2.32452946e-15 -1.40512602e-15]\n",
      " [-2.75474088e-15  2.34534614e-15  1.25940924e-15]\n",
      " [-9.96193416e-15 -2.80117861e-15  2.01227923e-16]]\n"
     ]
    }
   ],
   "source": [
    "# See the results with the database access\n",
    "db = connect(db_path)\n",
    "at = db.get_atoms(calc_hash=calc_hash, atoms_hash=ni_hash, attach_calculator=True)\n",
    "row = list(db.select(selection=[(\"atoms_hash\", \"=\", ni_hash)], columns=[\"forces\"]))[0]\n",
    "print(f\"Atomic forces from the new atoms are: \\n{at.get_forces()}\")\n",
    "print(f\"Atomic forces from the row is: \\n{row.forces}\")"
   ]
  },
  {
   "cell_type": "code",
   "execution_count": 10,
   "metadata": {},
   "outputs": [
    {
     "name": "stderr",
     "output_type": "stream",
     "text": [
      "/home/purcell/bin/python/anaconda3.6/lib/python3.6/site-packages/h5py/__init__.py:36: FutureWarning: Conversion of the second argument of issubdtype from `float` to `np.floating` is deprecated. In future, it will be treated as `np.float64 == np.dtype(float).type`.\n",
      "  from ._conv import register_converters as _register_converters\n"
     ]
    }
   ],
   "source": [
    "# Combined local/remote queue launching\n",
    "from hilde.fireworks_api_adapter.combined_launcher import rapidfire as lq_rapidfire\n",
    "from hilde.fireworks_api_adapter.launchpad import LaunchPadHilde as LaunchPad\n",
    "# Import the hilde calculate function so both the local and remote machines have the same function in their path\n",
    "from hilde.tasks.fireworks import calculate as hilde_calc"
   ]
  },
  {
   "cell_type": "code",
   "execution_count": 11,
   "metadata": {},
   "outputs": [],
   "source": [
    "launchpad = LaunchPad(port=27018, strm_lvl=\"CRITICAL\")"
   ]
  },
  {
   "cell_type": "code",
   "execution_count": 21,
   "metadata": {},
   "outputs": [],
   "source": [
    "# Redefine calc_to_db to match the hilde calc\n",
    "def calc_to_db(db_path, atoms_dict):\n",
    "    db = connect(db_path)\n",
    "    at = dict2patoms(atoms_dict[0])\n",
    "    at.calc.atoms = at\n",
    "    atoms_hash, calc_hash = hash_atoms(at)\n",
    "    selection = [(\"atoms_hash\", \"=\", atoms_hash), (\"calc_hash\", \"=\", calc_hash)]\n",
    "    # Try to update the database if the material is already present, if not add it to the database\n",
    "    try:\n",
    "        rows = list(db.select(selection=selection))\n",
    "        if not rows:\n",
    "            raise KeyError()\n",
    "        for row in rows:\n",
    "            db.update(row.id, at, atoms_hash=atoms_hash, calc_hash=calc_hash)\n",
    "    except KeyError:\n",
    "        db.write(at, atoms_hash=atoms_hash, calc_hash=calc_hash)\n",
    "    return FWAction()"
   ]
  },
  {
   "cell_type": "code",
   "execution_count": 22,
   "metadata": {},
   "outputs": [],
   "source": [
    "q_spec = {\n",
    "    # Submission script changes are controled by the _queueadapter dictionary\n",
    "    \"_queueadapter\":{\n",
    "        # Keys are the same that you define in \"my_qadapter.yaml\"\n",
    "        \"walltime\": \"00:01:00\",\n",
    "        \"nodes\": 1\n",
    "    }\n",
    "}"
   ]
  },
  {
   "cell_type": "code",
   "execution_count": 23,
   "metadata": {},
   "outputs": [],
   "source": [
    "# Remote Settings (Change these to match what you need)\n",
    "remote_settings={\n",
    "    # Has to be a full path to the host, draco.mpcdf.mpg.de will time out. Needs to be a list\n",
    "    \"remote_host\": [\"draco01.mpcdf.mpg.de\"],\n",
    "    # Not necessary if remote host is username@host\n",
    "    \"remote_user\": \"tpurcell\",\n",
    "    # Try to avoid using this\n",
    "    \"remote_password\": None,\n",
    "    \"remote_config_dir\": [\"/u/tpurcell/.fireworks\"],\n",
    "    # If you are using Kerberos this needs to be True\n",
    "    \"gss_auth\": True\n",
    "}"
   ]
  },
  {
   "cell_type": "code",
   "execution_count": 24,
   "metadata": {},
   "outputs": [],
   "source": [
    "# Set up a Workflow where each FireTask has its own Firework\n",
    "wd = \"/u/tpurcell/.fireworks/Ni/\"\n",
    "fw_calc = Firework(PyTask({\"func\": hilde_calc.name, \"args\": [wd, \"calc_atoms\", ni_dict]}), spec=q_spec)\n",
    "fw_to_db = Firework(PyTask({\"func\":mod_name+\".calc_to_db\", \"args\":[db_path], \"inputs\":[\"calc_atoms\"]}))\n",
    "# Workflows defined by list of Fireworks, and a dict describing the links between each Firework\n",
    "wf = Workflow([fw_calc, fw_to_db], {fw_calc:[fw_to_db]})"
   ]
  },
  {
   "cell_type": "code",
   "execution_count": 25,
   "metadata": {},
   "outputs": [
    {
     "name": "stdout",
     "output_type": "stream",
     "text": [
      "2018-11-14 22:50:57,370 INFO Added a workflow. id_map: {-11: 193, -10: 194}\n",
      "[194]\n",
      "qlaunch_hilde --reserve rapidfire --maxjobs_queue 250 --maxjobs_block 500 --nlaunches 1 --sleep 60 --firework_ids 194\n"
     ]
    },
    {
     "name": "stderr",
     "output_type": "stream",
     "text": [
      "mkl(3):ERROR:105: Unable to locate a modulefile for 'mkl/2018'\n"
     ]
    },
    {
     "name": "stdout",
     "output_type": "stream",
     "text": [
      "WARNING: Setting nlaunches to the length of fw_ids.\n",
      "2018-11-14 22:51:24,943 INFO The number of jobs currently in the queue is: 0\n",
      "2018-11-14 22:51:25,094 INFO Job submission was successful and job_id is 6572140\n",
      "[194]\n"
     ]
    }
   ],
   "source": [
    "launchpad.add_wf(wf)\n",
    "lq_rapidfire(launchpad, \n",
    "             launch_dir='.', \n",
    "             nlaunches=0, \n",
    "             njobs_queue=250, \n",
    "             wflow=wf, \n",
    "             njobs_block=500,\n",
    "             sleep_time=60, \n",
    "             reserve=True, \n",
    "             remote_host=remote_settings['remote_host'],\n",
    "             remote_user=remote_settings['remote_user'], \n",
    "             remote_password=remote_settings['remote_password'],\n",
    "             remote_config_dir=remote_settings[\"remote_config_dir\"],\n",
    "             # List of tasks that should be done on the queue\n",
    "             tasks2queue=[hilde_calc.name],\n",
    "             gss_auth=remote_settings[\"gss_auth\"])"
   ]
  },
  {
   "cell_type": "code",
   "execution_count": 26,
   "metadata": {},
   "outputs": [
    {
     "name": "stdout",
     "output_type": "stream",
     "text": [
      "Atomic forces from the new atoms are: \n",
      "[[ 2.75670600e-15 -1.06217932e-16 -5.86336535e-16]\n",
      " [ 2.08575155e-14 -2.32452946e-15 -1.40512602e-15]\n",
      " [-2.75474088e-15  2.34534614e-15  1.25940924e-15]\n",
      " [-9.96193416e-15 -2.80117861e-15  2.01227923e-16]]\n",
      "Atomic forces from the row is: \n",
      "[[ 2.75670600e-15 -1.06217932e-16 -5.86336535e-16]\n",
      " [ 2.08575155e-14 -2.32452946e-15 -1.40512602e-15]\n",
      " [-2.75474088e-15  2.34534614e-15  1.25940924e-15]\n",
      " [-9.96193416e-15 -2.80117861e-15  2.01227923e-16]]\n"
     ]
    }
   ],
   "source": [
    "# See the results with the database access\n",
    "db = connect(db_path)\n",
    "at = db.get_atoms(calc_hash=calc_hash, atoms_hash=ni_hash, attach_calculator=True)\n",
    "row = list(db.select(selection=[(\"atoms_hash\", \"=\", ni_hash)], columns=[\"forces\"]))[0]\n",
    "print(f\"Atomic forces from the new atoms are: \\n{at.get_forces()}\")\n",
    "print(f\"Atomic forces from the row is: \\n{row.forces}\")"
   ]
  },
  {
   "cell_type": "code",
   "execution_count": null,
   "metadata": {},
   "outputs": [],
   "source": []
  }
 ],
 "metadata": {
  "kernelspec": {
   "display_name": "Python 3",
   "language": "python",
   "name": "python3"
  },
  "language_info": {
   "codemirror_mode": {
    "name": "ipython",
    "version": 3
   },
   "file_extension": ".py",
   "mimetype": "text/x-python",
   "name": "python",
   "nbconvert_exporter": "python",
   "pygments_lexer": "ipython3",
   "version": "3.6.5"
  }
 },
 "nbformat": 4,
 "nbformat_minor": 2
}
