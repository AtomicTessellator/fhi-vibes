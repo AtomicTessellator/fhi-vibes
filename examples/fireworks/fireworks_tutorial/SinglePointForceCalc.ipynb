{
 "cells": [
  {
   "cell_type": "code",
   "execution_count": 1,
   "metadata": {},
   "outputs": [
    {
     "name": "stderr",
     "output_type": "stream",
     "text": [
      "/home/purcell/bin/python/anaconda3.6/lib/python3.6/site-packages/h5py/__init__.py:36: FutureWarning: Conversion of the second argument of issubdtype from `float` to `np.floating` is deprecated. In future, it will be treated as `np.float64 == np.dtype(float).type`.\n",
      "  from ._conv import register_converters as _register_converters\n"
     ]
    }
   ],
   "source": [
    "#!/usr/bin/env python\n",
    "\n",
    "# Import modules from ase and fireworks\n",
    "import os\n",
    "import numpy as np\n",
    "\n",
    "from ase.build import bulk\n",
    "from ase.calculators.emt import EMT\n",
    "from ase.db.core import connect\n",
    "\n",
    "from fireworks import Firework, FWorker, PyTask, FWAction, Workflow\n",
    "\n",
    "# Minimal hilde inputs to make dictionary conversion easier\n",
    "from hilde.helpers.input_exchange import dict2patoms, patoms2dict\n",
    "from hilde.helpers.hash import hash_atoms\n",
    "\n",
    "# Get defaults from hilde.cfg\n",
    "from hilde.settings import Settings\n",
    "\n",
    "# Combined local/remote queue launching\n",
    "from hilde.fireworks_api_adapter.combined_launcher import rapidfire as lq_rapidfire\n",
    "from hilde.fireworks_api_adapter.launchpad import LaunchPadHilde as LaunchPad\n",
    "\n",
    "# Import the hilde calculate function so both the local and remote machines have the same function in their path\n",
    "from hilde.tasks.fireworks import calculate as hilde_calc"
   ]
  },
  {
   "cell_type": "code",
   "execution_count": 2,
   "metadata": {},
   "outputs": [],
   "source": [
    "mod_name = __name__"
   ]
  },
  {
   "cell_type": "code",
   "execution_count": 3,
   "metadata": {},
   "outputs": [],
   "source": [
    "# Intialize Structures and database\n",
    "ni = bulk(\"Ni\", cubic=True)\n",
    "ni.set_calculator(EMT())\n",
    "ni_dict = patoms2dict(ni)\n",
    "\n",
    "ni_hash, calc_hash = hash_atoms(ni)\n",
    "\n",
    "db_path = os.getcwd() + \"/test.db\"\n",
    "\n",
    "# Port changes are for my setup\n",
    "launchpad = LaunchPad(port=27018, strm_lvl=\"INFO\")"
   ]
  },
  {
   "cell_type": "code",
   "execution_count": 4,
   "metadata": {},
   "outputs": [],
   "source": [
    "def calc_to_db(db_path, atoms_dict):\n",
    "    db = connect(db_path)\n",
    "    at = dict2patoms(atoms_dict[0])\n",
    "    at.calc.atoms = at\n",
    "    atoms_hash, calc_hash = hash_atoms(at)\n",
    "    selection = [(\"atoms_hash\", \"=\", atoms_hash), \n",
    "                 (\"calc_hash\", \"=\", calc_hash)]\n",
    "    # Try to update the database if the material is already present, if not add it to the database\n",
    "    try:\n",
    "        rows = list(db.select(selection=selection))\n",
    "        if not rows:\n",
    "            raise KeyError()\n",
    "        for row in rows:\n",
    "            db.update(row.id, at, atoms_hash=atoms_hash, calc_hash=calc_hash)\n",
    "    except KeyError:\n",
    "        db.write(at, atoms_hash=atoms_hash, calc_hash=calc_hash)\n",
    "    return FWAction()"
   ]
  },
  {
   "cell_type": "code",
   "execution_count": 5,
   "metadata": {},
   "outputs": [],
   "source": [
    "q_spec = {\n",
    "    # Submission script changes are controled by the _queueadapter dictionary\n",
    "    \"_queueadapter\": {\n",
    "        # Keys are the same that you define in \"my_qadapter.yaml\"\n",
    "        \"walltime\": \"00:01:00\",\n",
    "        \"nodes\": 1,\n",
    "    }\n",
    "}"
   ]
  },
  {
   "cell_type": "code",
   "execution_count": 22,
   "metadata": {},
   "outputs": [],
   "source": [
    "# Remote Settings (Change these to match what you need)\n",
    "remote_settings={\n",
    "    # Has to be a full path to the host, draco.mpcdf.mpg.de will time out. Needs to be a list\n",
    "    \"remote_host\": [\"draco01.mpcdf.mpg.de\"],\n",
    "    # Not necessary if remote host is username@host\n",
    "    \"remote_user\": \"tpurcell\",\n",
    "    # Try to avoid using this\n",
    "    \"remote_password\": None,\n",
    "    \"remote_config_dir\": [\"/u/tpurcell/.fireworks\"],\n",
    "    # If you are using Kerberos this needs to be True\n",
    "    \"gss_auth\": True\n",
    "}"
   ]
  },
  {
   "cell_type": "code",
   "execution_count": 37,
   "metadata": {},
   "outputs": [],
   "source": [
    "# Remote Settings (Change these to match what you need)\n",
    "settings = Settings(\"/home/purcell/git/hilde/hilde.cfg\")\n",
    "fireworks_kwargs = settings.fireworks_settings"
   ]
  },
  {
   "cell_type": "code",
   "execution_count": 38,
   "metadata": {},
   "outputs": [],
   "source": [
    "# Set up a Workflow where each FireTask has its own Firework\n",
    "wd = \"/u/tpurcell/.fireworks/Ni/\"\n",
    "\n",
    "fw_calc = Firework(\n",
    "    PyTask({\"func\": hilde_calc.name, \"args\": [wd, \"calc_atoms\", ni_dict]}), spec=q_spec\n",
    ")\n",
    "\n",
    "fw_to_db = Firework(\n",
    "    PyTask(\n",
    "        {\"func\": mod_name + \".calc_to_db\", \"args\": [db_path], \"inputs\": [\"calc_atoms\"]}\n",
    "    )\n",
    ")\n",
    "# Workflows defined by list of Fireworks, and a dict describing the links between each Firework\n",
    "wf = Workflow([fw_calc, fw_to_db], {fw_calc: [fw_to_db]}, name=\"Example\")"
   ]
  },
  {
   "cell_type": "code",
   "execution_count": 39,
   "metadata": {},
   "outputs": [
    {
     "name": "stdout",
     "output_type": "stream",
     "text": [
      "<class 'str'>\n"
     ]
    }
   ],
   "source": [
    "print(type(fireworks_kwargs[\"remote_host\"]))"
   ]
  },
  {
   "cell_type": "code",
   "execution_count": 31,
   "metadata": {},
   "outputs": [
    {
     "name": "stdout",
     "output_type": "stream",
     "text": [
      "2018-11-16 15:27:29,053 INFO Added a workflow. id_map: {75: 77, 76: 78}\n",
      "78 [78, 77]\n",
      "qlaunch_hilde --reserve rapidfire --maxjobs_queue 250 --maxjobs_block 500 --nlaunches 1 --sleep 15 --firework_ids 78\n",
      "2018-11-16 15:27:29,319 ERROR ----|vvv|----\n",
      "2018-11-16 15:27:29,320 ERROR Error with queue launcher rapid fire!\n",
      "2018-11-16 15:27:29,323 ERROR Traceback (most recent call last):\n",
      "  File \"/home/purcell/bin/python/anaconda3.6/lib/python3.6/site-packages/HiLDe-0.1-py3.6-linux-x86_64.egg/hilde/fireworks_api_adapter/combined_launcher.py\", line 237, in rapidfire\n",
      "    return_code = rlaunch(*args, **kwargs)\n",
      "  File \"/home/purcell/bin/python/anaconda3.6/lib/python3.6/site-packages/HiLDe-0.1-py3.6-linux-x86_64.egg/hilde/fireworks_api_adapter/qlaunch_remote.py\", line 143, in qlaunch_remote\n",
      "    \"qlaunch_hilde {} {} {}\".format(pre_non_default, command, non_default)\n",
      "  File \"<decorator-gen-3>\", line 2, in run\n",
      "  File \"/home/purcell/bin/python/anaconda3.6/lib/python3.6/site-packages/fabric/connection.py\", line 29, in opens\n",
      "    self.open()\n",
      "  File \"/home/purcell/bin/python/anaconda3.6/lib/python3.6/site-packages/fabric/connection.py\", line 615, in open\n",
      "    self.client.connect(**kwargs)\n",
      "  File \"/home/purcell/bin/python/anaconda3.6/lib/python3.6/site-packages/paramiko/client.py\", line 334, in connect\n",
      "    to_try = list(self._families_and_addresses(hostname, port))\n",
      "  File \"/home/purcell/bin/python/anaconda3.6/lib/python3.6/site-packages/paramiko/client.py\", line 204, in _families_and_addresses\n",
      "    hostname, port, socket.AF_UNSPEC, socket.SOCK_STREAM\n",
      "  File \"/home/purcell/bin/python/anaconda3.6/lib/python3.6/socket.py\", line 745, in getaddrinfo\n",
      "    for res in _socket.getaddrinfo(host, port, family, type, proto, flags):\n",
      "socket.gaierror: [Errno -2] Name or service not known\n",
      "\n",
      "2018-11-16 15:27:29,330 ERROR ----|^^^|----\n"
     ]
    }
   ],
   "source": [
    "launchpad.add_wf(wf)\n",
    "lq_rapidfire(\n",
    "    launchpad,\n",
    "    wflow=wf,\n",
    "    launch_dir=\".\",\n",
    "    nlaunches=0,\n",
    "    njobs_queue=250,\n",
    "    njobs_block=500,\n",
    "    sleep_time=15,\n",
    "    reserve=True,\n",
    "    remote_host=fireworks_kwargs[\"remote_host\"],\n",
    "    remote_user=fireworks_kwargs[\"remote_user\"],\n",
    "    remote_password=fireworks_kwargs[\"remote_password\"],\n",
    "    remote_config_dir=fireworks_kwargs[\"remote_config_dir\"],\n",
    "    # List of tasks that should be done on the queue\n",
    "    tasks2queue=[hilde_calc.name],\n",
    "    gss_auth=fireworks_kwargs[\"gss_auth\"],\n",
    ")"
   ]
  },
  {
   "cell_type": "code",
   "execution_count": 9,
   "metadata": {},
   "outputs": [
    {
     "name": "stdout",
     "output_type": "stream",
     "text": [
      "Atomic forces from the new atoms are: \n",
      "[[ 2.75670600e-15 -1.06217932e-16 -5.86336535e-16]\n",
      " [ 2.08575155e-14 -2.32452946e-15 -1.40512602e-15]\n",
      " [-2.75474088e-15  2.34534614e-15  1.25940924e-15]\n",
      " [-9.96193416e-15 -2.80117861e-15  2.01227923e-16]]\n",
      "Atomic forces from the row is: \n",
      "[[ 2.75670600e-15 -1.06217932e-16 -5.86336535e-16]\n",
      " [ 2.08575155e-14 -2.32452946e-15 -1.40512602e-15]\n",
      " [-2.75474088e-15  2.34534614e-15  1.25940924e-15]\n",
      " [-9.96193416e-15 -2.80117861e-15  2.01227923e-16]]\n"
     ]
    }
   ],
   "source": [
    "# See the results with the database access\n",
    "db = connect(db_path)\n",
    "at = db.get_atoms(calc_hash=calc_hash, atoms_hash=ni_hash, attach_calculator=True)\n",
    "row = list(db.select(selection=[(\"atoms_hash\", \"=\", ni_hash)], columns=[\"forces\"]))[0]\n",
    "print(f\"Atomic forces from the new atoms are: \\n{at.get_forces()}\")\n",
    "print(f\"Atomic forces from the row is: \\n{row.forces}\")"
   ]
  },
  {
   "cell_type": "code",
   "execution_count": null,
   "metadata": {},
   "outputs": [],
   "source": []
  }
 ],
 "metadata": {
  "kernelspec": {
   "display_name": "Python 3",
   "language": "python",
   "name": "python3"
  },
  "language_info": {
   "codemirror_mode": {
    "name": "ipython",
    "version": 3
   },
   "file_extension": ".py",
   "mimetype": "text/x-python",
   "name": "python",
   "nbconvert_exporter": "python",
   "pygments_lexer": "ipython3",
   "version": "3.6.5"
  }
 },
 "nbformat": 4,
 "nbformat_minor": 2
}
