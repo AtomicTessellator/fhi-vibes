{
 "cells": [
  {
   "cell_type": "code",
   "execution_count": null,
   "metadata": {},
   "outputs": [],
   "source": [
    "#!/usr/bin/env python\n",
    "\n",
    "# Import modules from ase and fireworks\n",
    "from pathlib import Path\n",
    "import os\n",
    "import numpy as np\n",
    "\n",
    "from ase.build import bulk\n",
    "from ase.calculators.emt import EMT\n",
    "from ase.db.core import connect\n",
    "\n",
    "from fireworks import Firework, FWorker, PyTask, FWAction, Workflow\n",
    "\n",
    "# Minimal hilde inputs to make dictionary conversion easier\n",
    "from hilde.helpers.input_exchange import dict2patoms, patoms2dict\n",
    "from hilde.helpers.hash import hash_atoms_and_calc\n",
    "\n",
    "# Get defaults from hilde.cfg\n",
    "from hilde.settings import Settings\n",
    "\n",
    "# Combined local/remote queue launching\n",
    "from hilde.fireworks.combined_launcher import rapidfire as lq_rapidfire\n",
    "from hilde.fireworks.launchpad import LaunchPadHilde as LaunchPad\n",
    "\n",
    "# Import the hilde calculate function so both the local and remote machines have the same function in their path\n",
    "from hilde.tasks.calculate import calculate as hilde_calc\n",
    "from hilde.tasks.fireworks.general_py_task import generate_firework\n",
    "from hilde.tasks.fireworks.fw_action_outs import mod_spec_add\n"
   ]
  },
  {
   "cell_type": "code",
   "execution_count": null,
   "metadata": {},
   "outputs": [],
   "source": [
    "mod_name = __name__"
   ]
  },
  {
   "cell_type": "code",
   "execution_count": null,
   "metadata": {},
   "outputs": [],
   "source": [
    "# Intialize Structures and database\n",
    "ni = bulk(\"Ni\", cubic=True)\n",
    "ni.set_calculator(EMT())\n",
    "ni_dict = patoms2dict(ni)\n",
    "\n",
    "ni_hash, calc_hash = hash_atoms_and_calc(ni)\n",
    "\n",
    "db_path = os.getcwd() + \"/test.db\"\n",
    "\n",
    "# Port changes are for my setup\n",
    "launchpad = LaunchPad.from_file(str(Path.home()/\".fireworks/my_launchpad.yaml\"))"
   ]
  },
  {
   "cell_type": "code",
   "execution_count": null,
   "metadata": {},
   "outputs": [],
   "source": [
    "def calc_to_db(db_path, atoms_dict):\n",
    "    db = connect(db_path)\n",
    "    at = dict2patoms(atoms_dict[0])\n",
    "    at.calc.atoms = at\n",
    "    atoms_hash, calc_hash = hash_atoms_and_calc(at)\n",
    "    selection = [(\"atoms_hash\", \"=\", atoms_hash), \n",
    "                 (\"calc_hash\", \"=\", calc_hash)]\n",
    "    # Try to update the database if the material is already present, if not add it to the database\n",
    "    try:\n",
    "        rows = list(db.select(selection=selection))\n",
    "        if not rows:\n",
    "            raise KeyError()\n",
    "        for row in rows:\n",
    "            db.update(row.id, at, atoms_hash=atoms_hash, calc_hash=calc_hash)\n",
    "    except KeyError:\n",
    "        db.write(at, atoms_hash=atoms_hash, calc_hash=calc_hash)\n",
    "    return FWAction()"
   ]
  },
  {
   "cell_type": "code",
   "execution_count": null,
   "metadata": {},
   "outputs": [],
   "source": [
    "q_spec = {\n",
    "    # Submission script changes are controled by the _queueadapter dictionary\n",
    "    \"_queueadapter\": {\n",
    "        # Keys are the same that you define in \"my_qadapter.yaml\"\n",
    "        \"walltime\": \"00:01:00\",\n",
    "        \"nodes\": 1,\n",
    "    }\n",
    "}\n",
    "fw_settings = {\n",
    "    \"serial\": True,\n",
    "    \"fw_name\": \"Ni_forces\",\n",
    "    \"fw_spec\": None,\n",
    "    \"mod_spec_add\": \"calc_atoms\",\n",
    "    \"spec\": q_spec\n",
    "}"
   ]
  },
  {
   "cell_type": "code",
   "execution_count": null,
   "metadata": {},
   "outputs": [],
   "source": [
    "# Remote Settings (Change these to match what you need)\n",
    "settings = Settings()\n",
    "fireworks_kwargs = settings.fireworks"
   ]
  },
  {
   "cell_type": "code",
   "execution_count": null,
   "metadata": {},
   "outputs": [],
   "source": [
    "# Set up a Workflow where each FireTask has its own Firework\n",
    "wd = \"/u/tpurcell/.fireworks/Ni/\"\n",
    "\n",
    "fw_calc = generate_firework(\n",
    "    hilde_calc,\n",
    "    mod_spec_add,\n",
    "    {\"workdir\": wd},\n",
    "    ni,\n",
    "    ni.calc,\n",
    "    atoms_calc_from_spec=False,\n",
    "    fw_settings=fw_settings,\n",
    ")\n",
    "\n",
    "fw_to_db = Firework(\n",
    "    PyTask(\n",
    "        {\"func\": mod_name + \".calc_to_db\", \"args\": [db_path], \"inputs\": [\"calc_atoms\"]}\n",
    "    )\n",
    ")\n",
    "# Workflows defined by list of Fireworks, and a dict describing the links between each Firework\n",
    "wf = Workflow([fw_calc, fw_to_db], {fw_calc: [fw_to_db]}, name=\"Example\")"
   ]
  },
  {
   "cell_type": "code",
   "execution_count": null,
   "metadata": {},
   "outputs": [],
   "source": [
    "launchpad.add_wf(wf)"
   ]
  },
  {
   "cell_type": "code",
   "execution_count": null,
   "metadata": {},
   "outputs": [],
   "source": [
    "lq_rapidfire(\n",
    "    launchpad,\n",
    "    FWorker(),\n",
    "    wflow=wf,\n",
    "    reserve=True,\n",
    "    gss_auth=True\n",
    ")"
   ]
  },
  {
   "cell_type": "code",
   "execution_count": null,
   "metadata": {},
   "outputs": [],
   "source": [
    "# See the results with the database access\n",
    "db = connect(db_path)\n",
    "at = db.get_atoms(calc_hash=calc_hash, atoms_hash=ni_hash, attach_calculator=True)\n",
    "row = list(db.select(selection=[(\"atoms_hash\", \"=\", ni_hash)], columns=[\"forces\"]))[0]\n",
    "print(f\"Atomic forces from the new atoms are: \\n{at.get_forces()}\")\n",
    "print(f\"Atomic forces from the row is: \\n{row.forces}\")"
   ]
  },
  {
   "cell_type": "code",
   "execution_count": null,
   "metadata": {},
   "outputs": [],
   "source": []
  }
 ],
 "metadata": {
  "kernelspec": {
   "display_name": "Python 3",
   "language": "python",
   "name": "python3"
  },
  "language_info": {
   "codemirror_mode": {
    "name": "ipython",
    "version": 3
   },
   "file_extension": ".py",
   "mimetype": "text/x-python",
   "name": "python",
   "nbconvert_exporter": "python",
   "pygments_lexer": "ipython3",
   "version": "3.6.5"
  }
 },
 "nbformat": 4,
 "nbformat_minor": 2
}
