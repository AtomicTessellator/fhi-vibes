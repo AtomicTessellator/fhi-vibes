{
 "cells": [
  {
   "cell_type": "code",
   "execution_count": null,
   "metadata": {},
   "outputs": [],
   "source": [
    "# Demonstration of phonon calculations using FireWorks\n",
    "\n",
    "# Import modules from ase and fireworks\n",
    "import os\n",
    "import numpy as np\n",
    "\n",
    "from ase.build import bulk\n",
    "from ase.calculators.emt import EMT\n",
    "\n",
    "from fireworks import Firework, FWorker, LaunchPad, PyTask, FWAction, Workflow\n",
    "from fireworks.core.rocket_launcher import launch_rocket, rapidfire\n",
    "\n",
    "# Minimal hilde inputs to make dictionary conversion easier\n",
    "from hilde.structure.structure import pAtoms, dict2patoms, patoms2dict\n",
    "from hilde.helpers.hash import hash_atoms\n",
    "\n",
    "# Modified ASE database for phonon calculations\n",
    "from hilde.phonon_db.row import phonon_to_dict, PhononRow\n",
    "from hilde.phonon_db.phonon_db import connect as connect_ph\n",
    "\n",
    "from phonopy import Phonopy\n",
    "from phonopy.structure.atoms import PhonopyAtoms\n",
    "\n",
    "mod_name = __name__"
   ]
  },
  {
   "cell_type": "code",
   "execution_count": null,
   "metadata": {},
   "outputs": [],
   "source": [
    "# Utility function to convert from ASE atoms to Phonopy Atoms\n",
    "def to_phonopy_atoms(atoms):\n",
    "    phonopy_atoms = PhonopyAtoms(\n",
    "        symbols=atoms.get_chemical_symbols(),\n",
    "        cell=atoms.get_cell(),\n",
    "        masses=atoms.get_masses(),\n",
    "        positions=atoms.get_positions(wrap=True),\n",
    "    )\n",
    "    return phonopy_atoms"
   ]
  },
  {
   "cell_type": "code",
   "execution_count": null,
   "metadata": {},
   "outputs": [],
   "source": [
    "# Define calculate with a mod_spec instead of update_spec\n",
    "# mod_spec allows for appending items to the end of lists\n",
    "def calculate(atoms_dict):\n",
    "    print(\"Single point calculation\")\n",
    "    at = dict2patoms(atoms_dict)\n",
    "    at.calc.calculate(at, properties=['forces'])\n",
    "    # mod_spec allows the user to add elements at the end of a list stored inside the spec\n",
    "    # with key defined by the input dict (\"calc_forces\" in this key)\n",
    "    return FWAction(mod_spec=[{'_push': {\"calc_forces\": patoms2dict(at)}}])"
   ]
  },
  {
   "cell_type": "code",
   "execution_count": null,
   "metadata": {},
   "outputs": [],
   "source": [
    "# Function to setup multiple calculate Fireworks\n",
    "def calculate_multiple(atom_dicts):\n",
    "    print(\"Appending calculations to the workflow\")\n",
    "    firework_detours = []\n",
    "    for i, cell in enumerate(atom_dicts):\n",
    "        task = PyTask({\"func\": mod_name+\".calculate\",\n",
    "                       \"args\": [cell]})\n",
    "        firework_detours.append(Firework(task, name=f\"calc_{i}\"))\n",
    "    # detours appends the new Fireworks as the children of the current one and moves the\n",
    "    # previous children of the Firework to be the children of the new Fireworks\n",
    "    return FWAction(detours=firework_detours)"
   ]
  },
  {
   "cell_type": "code",
   "execution_count": null,
   "metadata": {},
   "outputs": [],
   "source": [
    "# Function to calculate the force constants from the Fireworks spec\n",
    "def get_fcs(phonon_dict, atoms_ideal, calc_atoms):\n",
    "    print(\"Getting the force constants\")\n",
    "    atoms = dict2patoms(atoms_ideal)\n",
    "    disp_cells = [dict2patoms(ca) for ca in calc_atoms]\n",
    "    # Sort the database list as there is no gaurentee that the calculations will finish in order\n",
    "    disp_cells = sorted(disp_cells, key=lambda x: x.info['disp_num'])\n",
    "    phonon = PhononRow(phonon_dict).to_phonon()\n",
    "    phonon.generate_displacements(distance=0.01)\n",
    "    phonon.set_forces([cell.get_forces() for cell in disp_cells])\n",
    "    phonon.produce_force_constants()\n",
    "    return FWAction(update_spec={\"phonon_dict\": phonon_to_dict(phonon)})\n"
   ]
  },
  {
   "cell_type": "code",
   "execution_count": null,
   "metadata": {},
   "outputs": [],
   "source": [
    "# Redefine the databse addition function to work with phonopy objects\n",
    "def calc_to_db(db_path, sc_dict, phonon_dict):\n",
    "    print(\"Adding results to the database\")\n",
    "    db = connect_ph(db_path)\n",
    "    at = dict2patoms(sc_dict)\n",
    "    at.calc.atoms = at\n",
    "    atoms_hash, calc_hash = hash_atoms(at)\n",
    "    selection = [(\"atoms_hash\", \"=\", atoms_hash), \n",
    "                 (\"calc_hash\", \"=\", calc_hash), \n",
    "                 (\"sc_matrix_2\", \"=\", phonon_dict[\"sc_matrix_2\"])]\n",
    "    try:\n",
    "        rows = list(db.select(selection=selection))\n",
    "        if not rows:\n",
    "            raise KeyError()\n",
    "        for row in rows:\n",
    "            db.update(row.id, phonon_dict, atoms_hash=atoms_hash, calc_hash=calc_hash)\n",
    "    except KeyError:\n",
    "        db.write(phonon_dict, atoms_hash=atoms_hash, calc_hash=calc_hash)\n",
    "    return FWAction()"
   ]
  },
  {
   "cell_type": "code",
   "execution_count": null,
   "metadata": {},
   "outputs": [],
   "source": [
    "#Initialize structures\n",
    "smatrix = np.array([3, 0, 0, 0, 3, 0, 0, 0, 3]).reshape(3,3)\n",
    "db_path = os.getcwd() + \"test_ph.db\"\n",
    "\n",
    "# Intialize Structures\n",
    "al = pAtoms(bulk('Al', 'fcc'))\n",
    "al.set_calculator(EMT())\n",
    "al_dict = patoms2dict(al)\n",
    "al_hash, calc_hash = hash_atoms(al)\n",
    "\n",
    "ph_atoms = to_phonopy_atoms(al)\n",
    "\n",
    "phonon = Phonopy(ph_atoms, supercell_matrix=smatrix, symprec=1e-5, is_symmetry=True, factor=15.633302)\n",
    "phonon_dict = phonon_to_dict(phonon)\n",
    "pc_dict = patoms2dict(al)\n",
    "phonon.generate_displacements(distance=0.01)\n",
    "scs = phonon.get_supercells_with_displacements()\n",
    "sc_dicts = []\n",
    "for i, sc in enumerate(scs):\n",
    "    scs[i] = pAtoms(phonopy_atoms=sc)\n",
    "    scs[i].info['disp_num'] = i\n",
    "    scs[i].calc = al.calc\n",
    "    sc_dicts.append(patoms2dict(scs[i]))"
   ]
  },
  {
   "cell_type": "code",
   "execution_count": null,
   "metadata": {},
   "outputs": [],
   "source": [
    "# Create Firetasks for each part of the calculation\n",
    "ft_initialize = PyTask({\"func\": mod_name + \".calculate_multiple\", \"args\":[sc_dicts]})\n",
    "ft_get_fc = PyTask({\"func\": mod_name + \".get_fcs\", \"args\":[phonon_dict, pc_dict], \"inputs\":[\"calc_forces\"]})\n",
    "ft_calc_to_db = PyTask({\"func\": mod_name + \".calc_to_db\", \"args\":[db_path, pc_dict], \"inputs\":[\"phonon_dict\"]})"
   ]
  },
  {
   "cell_type": "code",
   "execution_count": null,
   "metadata": {},
   "outputs": [],
   "source": [
    "# Initialize the Fireworks\n",
    "fw_initialize = Firework(ft_initialize)\n",
    "fw_get_fc = Firework(ft_get_fc)\n",
    "fw_calc_to_db = Firework(ft_calc_to_db)\n",
    "# Note there is no need to define links for the Force evaluation calculations\n",
    "wf = Workflow([fw_initialize, fw_get_fc, fw_calc_to_db], {fw_initialize:[fw_get_fc], fw_get_fc: [fw_calc_to_db]})"
   ]
  },
  {
   "cell_type": "code",
   "execution_count": null,
   "metadata": {},
   "outputs": [],
   "source": [
    "launchpad = LaunchPad()\n",
    "launchpad.reset('', require_password=False)\n",
    "launchpad.add_wf(wf)\n",
    "# nlaunches=0 means keep running Fireworks until none are needed\n",
    "rapidfire(launchpad, nlaunches=0, strm_lvl=\"CRITICAL\")"
   ]
  },
  {
   "cell_type": "code",
   "execution_count": null,
   "metadata": {},
   "outputs": [],
   "source": [
    "#Access the database to check the results\n",
    "db = connect_ph(db_path)\n",
    "row = list(db.select(selection=[(\"atoms_hash\", \"=\", al_hash), \n",
    "                                (\"sc_matrix_2\", \"=\", list(smatrix.flatten()))], \n",
    "                     columns=[\"fc_2\"]))[0]\n",
    "print(f\"The force constants are:\\n{row.get('fc_2')}\")"
   ]
  },
  {
   "cell_type": "code",
   "execution_count": null,
   "metadata": {},
   "outputs": [],
   "source": [
    "# Combined local/remote queue launching with phonon calculations\n",
    "from hilde.fireworks_api_adapter.combined_launcher import rapidfire as lq_rapidfire\n",
    "from hilde.fireworks_api_adapter.launchpad import LaunchPadHilde as LaunchPad\n",
    "# Import the hilde calculate function so both the local and remote machines have the same function in their path\n",
    "from hilde.tasks.fireworks import calculate as hilde_calc\n",
    "# Use ASE aims calculator\n",
    "from ase.calculators.aims import Aims"
   ]
  },
  {
   "cell_type": "code",
   "execution_count": null,
   "metadata": {},
   "outputs": [],
   "source": [
    "launchpad = LaunchPad(port=27018)"
   ]
  },
  {
   "cell_type": "code",
   "execution_count": null,
   "metadata": {},
   "outputs": [],
   "source": [
    "# Redefine calculate_multiple so the calculate Fireworks have a modified _queueadapter spec\n",
    "def calculate_multiple(workdir, atom_dicts, queue_spec):\n",
    "    firework_detours = []\n",
    "    for i, cell in enumerate(atom_dicts):\n",
    "        task = PyTask({\"func\": hilde_calc.name,\n",
    "                       \"args\": [workdir, \"calc_forces\", cell]})\n",
    "        # Changes to queue submission properties occur at Fireworks level via spec\n",
    "        firework_detours.append(Firework(task, name=f\"calc_{i}\", spec=queue_spec))\n",
    "    return FWAction(detours=firework_detours)"
   ]
  },
  {
   "cell_type": "code",
   "execution_count": null,
   "metadata": {},
   "outputs": [],
   "source": [
    "# Remote Settings (Change these to match what you need)\n",
    "remote_settings={\n",
    "    # Has to be a full path to the host, draco.mpcdf.mpg.de will time out. Needs to be a list\n",
    "    \"remote_host\": [\"draco01.mpcdf.mpg.de\"],\n",
    "    # Not necessary if remote host is username@host\n",
    "    \"remote_user\": \"tpurcell\",\n",
    "    # Try to avoid using this\n",
    "    \"remote_password\": None,\n",
    "    \"remote_config_dir\": [\"/u/tpurcell/.fireworks\"],\n",
    "    # If you are using Kerberos this needs to be True\n",
    "    \"gss_auth\": True,\n",
    "    \"aims_command\": \"srun /u/tpurcell/git/fhiaims_dev/bin/aims.180824.scalapack.mpi.x\",\n",
    "    \"aims_species_dir\": \"/u/tpurcell/git/fhiaims_dev/species_defaults/\",\n",
    "}"
   ]
  },
  {
   "cell_type": "code",
   "execution_count": null,
   "metadata": {},
   "outputs": [],
   "source": [
    "# Aims calculator settings\n",
    "aims_settings = {\n",
    "    \"xc\": \"pw-lda\",\n",
    "    \"relativistic\": \"atomic_zora scalar\",\n",
    "    \"sc_accuracy_rho\": 1E-6,\n",
    "    \"sc_accuracy_forces\": 1E-3,\n",
    "    \"sc_iter_limit\": 50,\n",
    "    \"mixer\": \"pulay\",\n",
    "    \"n_max_pulay\": 10,\n",
    "    \"charge_mix_param\": 0.3,\n",
    "    \"k_grid\": [4, 4, 4],\n",
    "    \"output_level\": \"MD_light\",\n",
    "    # This information must be set to the remote commands\n",
    "    \"species_dir\": remote_settings[\"aims_species_dir\"] + \"/light\",\n",
    "    \"aims_command\": remote_settings[\"aims_command\"]\n",
    "}"
   ]
  },
  {
   "cell_type": "code",
   "execution_count": null,
   "metadata": {},
   "outputs": [],
   "source": [
    "# Use diamond silicon as a test material\n",
    "si = pAtoms(bulk('Si', 'diamond'))\n",
    "si.calc = Aims(**aims_settings)\n",
    "si_hash, calc_hash = hash_atoms(si)\n",
    "\n",
    "# Initialize phononpy \n",
    "smatrix = np.array([-2, 2, 2, 2, -2, 2, 2, 2, -2]).reshape(3,3)\n",
    "db_path = os.getcwd() + \"test_ph.db\"\n",
    "\n",
    "ph_atoms = to_phonopy_atoms(si)\n",
    "\n",
    "phonon = Phonopy(ph_atoms, supercell_matrix=smatrix, symprec=1e-5, is_symmetry=True, factor=15.633302)\n",
    "phonon_dict = phonon_to_dict(phonon)\n",
    "pc_dict = patoms2dict(si)\n",
    "phonon.generate_displacements(distance=0.01)\n",
    "scs = phonon.get_supercells_with_displacements()\n",
    "sc_dicts = []\n",
    "for i, sc in enumerate(scs):\n",
    "    scs[i] = pAtoms(phonopy_atoms=sc)\n",
    "    scs[i].info['disp_num'] = i\n",
    "    scs[i].calc = si.calc\n",
    "    sc_dicts.append(patoms2dict(scs[i]))"
   ]
  },
  {
   "cell_type": "code",
   "execution_count": null,
   "metadata": {},
   "outputs": [],
   "source": [
    "q_spec = {\n",
    "    # Submission script changes are controled by the _queueadapter dictionary\n",
    "    \"_queueadapter\":{\n",
    "        # Keys are the same that you define in \"my_qadapter.yaml\"\n",
    "        \"walltime\": \"00:05:00\",\n",
    "        \"nodes\": 2\n",
    "    }\n",
    "}\n",
    "# Create Firetasks for each part of the calculation\n",
    "workdir = \"/u/tpurcell/.fireworks/SiTutorialExample/\"\n",
    "ft_initialize = PyTask({\"func\": mod_name + \".calculate_multiple\", \"args\":[workdir, sc_dicts, q_spec]})\n",
    "ft_get_fc = PyTask({\"func\": mod_name + \".get_fcs\", \"args\":[phonon_dict, pc_dict], \"inputs\":[\"calc_forces\"]})\n",
    "ft_calc_to_db = PyTask({\"func\": mod_name + \".calc_to_db\", \"args\":[db_path, pc_dict], \"inputs\":[\"phonon_dict\"]})\n",
    "\n",
    "# Initialize the Fireworks\n",
    "fw_initialize = Firework(ft_initialize)\n",
    "fw_get_fc = Firework(ft_get_fc)\n",
    "fw_calc_to_db = Firework(ft_calc_to_db)\n",
    "\n",
    "wf = Workflow([fw_initialize, fw_get_fc, fw_calc_to_db], {fw_initialize:[fw_get_fc], fw_get_fc: [fw_calc_to_db]})"
   ]
  },
  {
   "cell_type": "code",
   "execution_count": null,
   "metadata": {},
   "outputs": [],
   "source": [
    "launchpad.add_wf(wf)\n",
    "lq_rapidfire(launchpad, \n",
    "             launch_dir='.', \n",
    "             nlaunches=0, \n",
    "             njobs_queue=250, \n",
    "             wflow=wf, \n",
    "             njobs_block=500,\n",
    "             sleep_time=60, \n",
    "             reserve=True, \n",
    "             remote_host=remote_settings['remote_host'],\n",
    "             remote_user=remote_settings['remote_user'], \n",
    "             remote_password=remote_settings['remote_password'],\n",
    "             remote_config_dir=remote_settings[\"remote_config_dir\"],\n",
    "             # List of tasks that should be done on the queue\n",
    "             tasks2queue=[hilde_calc.name],\n",
    "             gss_auth=remote_settings[\"gss_auth\"])"
   ]
  },
  {
   "cell_type": "code",
   "execution_count": null,
   "metadata": {},
   "outputs": [],
   "source": [
    "#Access the database to check the results\n",
    "db = connect_ph(db_path)\n",
    "row = list(db.select(selection=[(\"atoms_hash\", \"=\", si_hash),\n",
    "                                (\"sc_matrix_2\", \"=\", list(smatrix.flatten()))],\n",
    "                     columns=[\"fc_2\"]))[0]\n",
    "print(f\"The force constants are:\\n{row.get('fc_2')}\")"
   ]
  }
 ],
 "metadata": {
  "kernelspec": {
   "display_name": "Python 3",
   "language": "python",
   "name": "python3"
  },
  "language_info": {
   "codemirror_mode": {
    "name": "ipython",
    "version": 3
   },
   "file_extension": ".py",
   "mimetype": "text/x-python",
   "name": "python",
   "nbconvert_exporter": "python",
   "pygments_lexer": "ipython3",
   "version": "3.6.5"
  }
 },
 "nbformat": 4,
 "nbformat_minor": 2
}
