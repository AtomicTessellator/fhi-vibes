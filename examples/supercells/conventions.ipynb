{
 "cells": [
  {
   "cell_type": "markdown",
   "metadata": {},
   "source": [
    "# Supercell Conventions\n",
    "To generate the supercell lattice from a given primitive lattice $L_\\text{P}$ and a supercell matrix $S$, we typically perform\n",
    "$$ L_\\text{S} = S \\cdot L_\\text{P}~. $$\n",
    "Here we show which conventions have to be used to build the correct supercells from given supercell matrices."
   ]
  },
  {
   "cell_type": "code",
   "execution_count": 1,
   "metadata": {},
   "outputs": [],
   "source": [
    "import numpy as np\n",
    "from hilde.parsers import read_aims\n",
    "from hilde.helpers.supercell import find_cubic_cell\n",
    "from hilde.helpers.geometry import get_cubicness\n",
    "from hilde.helpers.maths import clean_matrix\n",
    "from ase.build.supercells import make_supercell\n",
    "from hilde.phonopy import phono as ph"
   ]
  },
  {
   "cell_type": "code",
   "execution_count": 2,
   "metadata": {},
   "outputs": [],
   "source": [
    "atoms = read_aims('gan.in')"
   ]
  },
  {
   "cell_type": "code",
   "execution_count": 3,
   "metadata": {},
   "outputs": [],
   "source": [
    "n_target = 10\n",
    "target_size = n_target / len(atoms)"
   ]
  },
  {
   "cell_type": "code",
   "execution_count": 4,
   "metadata": {},
   "outputs": [
    {
     "name": "stdout",
     "output_type": "stream",
     "text": [
      "[[ 1 -1  0]\n",
      " [ 1  2  0]\n",
      " [ 0  0  1]]\n",
      "[[ 3.19141392 -3.19141392  0.        ]\n",
      " [ 1.16813857  7.12339802  0.        ]\n",
      " [ 0.          0.          5.20200469]]\n",
      "0.709968439548574\n",
      "[[ 4.78712088 -2.76384553  0.        ]\n",
      " [ 0.          5.52769106  0.        ]\n",
      " [ 0.          0.          5.20200469]]\n",
      "0.9271388123614653\n"
     ]
    }
   ],
   "source": [
    "smatrix = find_cubic_cell(cell=atoms.cell, target_size=target_size)\n",
    "print(smatrix)\n",
    "print(atoms.cell @ smatrix)\n",
    "print(get_cubicness(atoms.cell @ smatrix))\n",
    "print(clean_matrix(smatrix @ atoms.cell, eps=1e-8))\n",
    "print(get_cubicness(smatrix @ atoms.cell))"
   ]
  },
  {
   "cell_type": "markdown",
   "metadata": {},
   "source": [
    "### ASE\n",
    "To implement $$S \\cdot L$$ when building the supercell with **ase.build**, we give $$S$$\n",
    "to `make_supercell(atoms, smatrix)`"
   ]
  },
  {
   "cell_type": "code",
   "execution_count": 5,
   "metadata": {},
   "outputs": [
    {
     "data": {
      "text/plain": [
       "array([[ 4.78712088, -2.76384553,  0.        ],\n",
       "       [ 0.        ,  5.52769106,  0.        ],\n",
       "       [ 0.        ,  0.        ,  5.20200469]])"
      ]
     },
     "execution_count": 5,
     "metadata": {},
     "output_type": "execute_result"
    }
   ],
   "source": [
    "clean_matrix(make_supercell(atoms, smatrix).cell, eps=1e-8)"
   ]
  },
  {
   "cell_type": "markdown",
   "metadata": {},
   "source": [
    "### Phonopy\n",
    "To implement $$S \\cdot L$$ when building the supercell with **phonopy**, we need to provide $$S^{\\mathrm t}~,$$\n",
    "i.e., `smatrix.T`"
   ]
  },
  {
   "cell_type": "code",
   "execution_count": 6,
   "metadata": {},
   "outputs": [
    {
     "data": {
      "text/plain": [
       "array([[ 4.78712088, -2.76384553,  0.        ],\n",
       "       [ 0.        ,  5.52769106,  0.        ],\n",
       "       [ 0.        ,  0.        ,  5.20200469]])"
      ]
     },
     "execution_count": 6,
     "metadata": {},
     "output_type": "execute_result"
    }
   ],
   "source": [
    "phonon, sc, scs = ph.preprocess(atoms, smatrix.T)\n",
    "clean_matrix(sc.cell, eps=1e-8)"
   ]
  },
  {
   "cell_type": "code",
   "execution_count": null,
   "metadata": {},
   "outputs": [],
   "source": []
  }
 ],
 "metadata": {
  "kernelspec": {
   "display_name": "Python 3",
   "language": "python",
   "name": "python3"
  },
  "language_info": {
   "codemirror_mode": {
    "name": "ipython",
    "version": 3
   },
   "file_extension": ".py",
   "mimetype": "text/x-python",
   "name": "python",
   "nbconvert_exporter": "python",
   "pygments_lexer": "ipython3",
   "version": "3.6.6"
  }
 },
 "nbformat": 4,
 "nbformat_minor": 2
}
