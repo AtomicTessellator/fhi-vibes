{
 "cells": [
  {
   "cell_type": "code",
   "execution_count": 1,
   "metadata": {},
   "outputs": [],
   "source": [
    "from time import time\n",
    "import numpy as np\n",
    "\n",
    "from ase.io import read\n",
    "from ase.md.verlet import VelocityVerlet\n",
    "from ase.md.velocitydistribution import MaxwellBoltzmannDistribution\n",
    "from ase import units\n",
    "\n",
    "from hilde.templates.aims import setup_aims\n",
    "from hilde.molecular_dynamics import run_md, metadata2file, Watchdog"
   ]
  },
  {
   "cell_type": "code",
   "execution_count": 2,
   "metadata": {},
   "outputs": [],
   "source": [
    "atoms = read('../si.in', format='aims')"
   ]
  },
  {
   "cell_type": "code",
   "execution_count": 3,
   "metadata": {},
   "outputs": [],
   "source": [
    "aims = setup_aims(config_file=\"../../../hilde.cfg\", \n",
    "                  custom_settings={\n",
    "                      'compute_forces': True,\n",
    "                      'k_grid': [2, 2, 2],\n",
    "                      'sc_accuracy_rho': 1e-5,\n",
    "                  }, \n",
    "                  port=12345)"
   ]
  },
  {
   "cell_type": "code",
   "execution_count": 4,
   "metadata": {},
   "outputs": [],
   "source": [
    "calc = aims"
   ]
  },
  {
   "cell_type": "code",
   "execution_count": 5,
   "metadata": {},
   "outputs": [],
   "source": [
    "T = 100 * units.kB\n",
    "\n",
    "MaxwellBoltzmannDistribution(atoms, temp=T)\n",
    "\n",
    "md = VelocityVerlet(atoms, timestep=4*units.fs, logfile='md.log')"
   ]
  },
  {
   "cell_type": "code",
   "execution_count": 6,
   "metadata": {},
   "outputs": [],
   "source": [
    "metadata2file(atoms, calc, md)"
   ]
  },
  {
   "cell_type": "code",
   "execution_count": 7,
   "metadata": {},
   "outputs": [],
   "source": [
    "watchdog = Watchdog(30, buffer=2)"
   ]
  },
  {
   "cell_type": "code",
   "execution_count": 8,
   "metadata": {},
   "outputs": [
    {
     "name": "stdout",
     "output_type": "stream",
     "text": [
      "* restart not yet supported\n",
      "Finished in 23.88s\n"
     ]
    }
   ],
   "source": [
    "stime = time()\n",
    "run_md(atoms, calc, md, watchdog=watchdog, workdir='aims', socketio_port=12345)\n",
    "print(f'Finished in {time()-stime:.2f}s')"
   ]
  },
  {
   "cell_type": "code",
   "execution_count": null,
   "metadata": {},
   "outputs": [],
   "source": []
  }
 ],
 "metadata": {
  "kernelspec": {
   "display_name": "Python 3",
   "language": "python",
   "name": "python3"
  },
  "language_info": {
   "codemirror_mode": {
    "name": "ipython",
    "version": 3
   },
   "file_extension": ".py",
   "mimetype": "text/x-python",
   "name": "python",
   "nbconvert_exporter": "python",
   "pygments_lexer": "ipython3",
   "version": "3.7.0"
  }
 },
 "nbformat": 4,
 "nbformat_minor": 2
}
