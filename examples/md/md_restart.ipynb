{
 "cells": [
  {
   "cell_type": "code",
   "execution_count": 1,
   "metadata": {},
   "outputs": [],
   "source": [
    "from warnings import warn\n",
    "import numpy as np\n",
    "from ase.md.verlet import VelocityVerlet\n",
    "from ase.md.langevin import Langevin\n",
    "from ase.calculators.emt import EMT\n",
    "from ase import units\n",
    "from ase.md.velocitydistribution import PhononHarmonics, MaxwellBoltzmannDistribution\n",
    "from ase.io import read, Trajectory"
   ]
  },
  {
   "cell_type": "code",
   "execution_count": 2,
   "metadata": {},
   "outputs": [],
   "source": [
    "atoms = read('Al.in.supercell', 0, 'aims')\n",
    "fc = np.loadtxt('force_constants_Al.dat')"
   ]
  },
  {
   "cell_type": "code",
   "execution_count": 3,
   "metadata": {},
   "outputs": [
    {
     "name": "stderr",
     "output_type": "stream",
     "text": [
      "/home/knoop/local/anaconda3/lib/python3.7/site-packages/ipykernel_launcher.py:1: UserWarning: This will only work after MR 995 is merged to ASE\n",
      "  \"\"\"Entry point for launching an IPython kernel.\n"
     ]
    }
   ],
   "source": [
    "warn('This will only work after MR 995 is merged to ASE')"
   ]
  },
  {
   "cell_type": "markdown",
   "metadata": {},
   "source": [
    "## Set Up MD"
   ]
  },
  {
   "cell_type": "code",
   "execution_count": 4,
   "metadata": {
    "scrolled": true
   },
   "outputs": [
    {
     "data": {
      "text/plain": [
       "614.6308346779284"
      ]
     },
     "execution_count": 4,
     "metadata": {},
     "output_type": "execute_result"
    }
   ],
   "source": [
    "T = 600 * units.kB\n",
    "\n",
    "atoms_disp = atoms.copy()\n",
    "atoms_disp.calc = EMT()\n",
    "\n",
    "PhononHarmonics(atoms_disp, fc, T, quantum=False, rng=np.random.RandomState(1))\n",
    "\n",
    "atoms_disp.get_temperature()"
   ]
  },
  {
   "cell_type": "code",
   "execution_count": 5,
   "metadata": {},
   "outputs": [],
   "source": [
    "log_settings = {\n",
    "    'trajectory': 'md.traj',\n",
    "    'logfile': 'md.log'\n",
    "}"
   ]
  },
  {
   "cell_type": "code",
   "execution_count": 6,
   "metadata": {},
   "outputs": [],
   "source": [
    "md = Langevin(atoms_disp, timestep=4*units.fs, **log_settings, friction=0.02, temperature=T)"
   ]
  },
  {
   "cell_type": "markdown",
   "metadata": {},
   "source": [
    "## Run MD for some while"
   ]
  },
  {
   "cell_type": "code",
   "execution_count": 7,
   "metadata": {},
   "outputs": [],
   "source": [
    "for _ in md.irun(steps=5):\n",
    "    atoms_disp.info.update({'md_dt': md.dt, 'md_nstep': md.nsteps})"
   ]
  },
  {
   "cell_type": "code",
   "execution_count": 8,
   "metadata": {},
   "outputs": [
    {
     "data": {
      "text/plain": [
       "5"
      ]
     },
     "execution_count": 8,
     "metadata": {},
     "output_type": "execute_result"
    }
   ],
   "source": [
    "md.nsteps"
   ]
  },
  {
   "cell_type": "code",
   "execution_count": 9,
   "metadata": {},
   "outputs": [
    {
     "name": "stdout",
     "output_type": "stream",
     "text": [
      "{'md_dt': 0.39290779153856253, 'md_nstep': 0}\n",
      "{'md_dt': 0.39290779153856253, 'md_nstep': 1}\n",
      "{'md_dt': 0.39290779153856253, 'md_nstep': 2}\n",
      "{'md_dt': 0.39290779153856253, 'md_nstep': 3}\n",
      "{'md_dt': 0.39290779153856253, 'md_nstep': 4}\n",
      "{'md_dt': 0.39290779153856253, 'md_nstep': 5}\n"
     ]
    }
   ],
   "source": [
    "with Trajectory(log_settings['trajectory'], 'r') as traj:\n",
    "    trajectory = [at for at in traj]\n",
    "\n",
    "for at in trajectory:\n",
    "    print(at.info)"
   ]
  },
  {
   "cell_type": "code",
   "execution_count": 10,
   "metadata": {},
   "outputs": [],
   "source": [
    "# starting point for next MD section\n",
    "    \n",
    "nstep_start = trajectory[-1].info['md_nstep']"
   ]
  },
  {
   "cell_type": "markdown",
   "metadata": {},
   "source": [
    "## Run a new MD and attach to old trajectory"
   ]
  },
  {
   "cell_type": "code",
   "execution_count": 11,
   "metadata": {
    "scrolled": false
   },
   "outputs": [],
   "source": [
    "atoms_disp = trajectory[-1].copy()\n",
    "atoms_disp.calc = EMT()"
   ]
  },
  {
   "cell_type": "code",
   "execution_count": 12,
   "metadata": {
    "scrolled": true
   },
   "outputs": [],
   "source": [
    "md = VelocityVerlet(atoms_disp, timestep=4*units.fs, **log_settings, append_trajectory=True)\n",
    "md.nsteps = nstep_start\n",
    "        \n",
    "for _ in md.irun(steps=5):\n",
    "    atoms_disp.info.update({'md_dt': md.dt, 'md_nstep': md.nsteps})"
   ]
  },
  {
   "cell_type": "code",
   "execution_count": 13,
   "metadata": {},
   "outputs": [],
   "source": [
    "with Trajectory(log_settings['trajectory'], 'r') as traj:\n",
    "    trajectory = [at for at in traj]"
   ]
  },
  {
   "cell_type": "code",
   "execution_count": 14,
   "metadata": {},
   "outputs": [
    {
     "name": "stdout",
     "output_type": "stream",
     "text": [
      "{'md_dt': 0.39290779153856253, 'md_nstep': 0}\n",
      "{'md_dt': 0.39290779153856253, 'md_nstep': 1}\n",
      "{'md_dt': 0.39290779153856253, 'md_nstep': 2}\n",
      "{'md_dt': 0.39290779153856253, 'md_nstep': 3}\n",
      "{'md_dt': 0.39290779153856253, 'md_nstep': 4}\n",
      "{'md_dt': 0.39290779153856253, 'md_nstep': 5}\n",
      "{'md_dt': 0.39290779153856253, 'md_nstep': 6}\n",
      "{'md_dt': 0.39290779153856253, 'md_nstep': 7}\n",
      "{'md_dt': 0.39290779153856253, 'md_nstep': 8}\n",
      "{'md_dt': 0.39290779153856253, 'md_nstep': 9}\n",
      "{'md_dt': 0.39290779153856253, 'md_nstep': 10}\n"
     ]
    }
   ],
   "source": [
    "for at in trajectory:\n",
    "    print(at.info)"
   ]
  },
  {
   "cell_type": "code",
   "execution_count": null,
   "metadata": {},
   "outputs": [],
   "source": []
  }
 ],
 "metadata": {
  "kernelspec": {
   "display_name": "Python 3",
   "language": "python",
   "name": "python3"
  },
  "language_info": {
   "codemirror_mode": {
    "name": "ipython",
    "version": 3
   },
   "file_extension": ".py",
   "mimetype": "text/x-python",
   "name": "python",
   "nbconvert_exporter": "python",
   "pygments_lexer": "ipython3",
   "version": "3.7.0"
  }
 },
 "nbformat": 4,
 "nbformat_minor": 2
}
