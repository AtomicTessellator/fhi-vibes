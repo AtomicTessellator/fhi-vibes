{
 "cells": [
  {
   "cell_type": "code",
   "execution_count": 1,
   "metadata": {},
   "outputs": [],
   "source": [
    "from hilde.watchdogs import WallTimeWatchdog\n",
    "from time import sleep\n",
    "from ase.md.verlet import VelocityVerlet\n",
    "from ase.io import read\n",
    "from hilde.templates.aims import setup_aims\n",
    "from ase.md.velocitydistribution import MaxwellBoltzmannDistribution\n",
    "from ase import units\n",
    "from ase.calculators.socketio import SocketIOCalculator"
   ]
  },
  {
   "cell_type": "code",
   "execution_count": 2,
   "metadata": {},
   "outputs": [],
   "source": [
    "atoms = read('../si.in', format='aims')"
   ]
  },
  {
   "cell_type": "code",
   "execution_count": 3,
   "metadata": {},
   "outputs": [],
   "source": [
    "aims = setup_aims(config_file=\"../../../hilde.cfg\", custom_settings={'compute_forces': True, 'use_socketio': True})"
   ]
  },
  {
   "cell_type": "code",
   "execution_count": 4,
   "metadata": {},
   "outputs": [],
   "source": [
    "T =  100 * units.kB\n",
    "\n",
    "MaxwellBoltzmannDistribution(atoms, temp=T)\n",
    "\n",
    "md = VelocityVerlet(atoms, timestep=4*units.fs, logfile='watchdog.log')"
   ]
  },
  {
   "cell_type": "code",
   "execution_count": 5,
   "metadata": {},
   "outputs": [
    {
     "name": "stdout",
     "output_type": "stream",
     "text": [
      "0.00, 0.00, 30.00 0.00\n",
      "0.00, 0.00, 16.36 13.64\n",
      "6.82, 13.64, 11.95 18.05\n"
     ]
    }
   ],
   "source": [
    "watchdog = WallTimeWatchdog(walltime=30, buffer=2)\n",
    "\n",
    "with SocketIOCalculator(aims, port=12345) as calc:\n",
    "    atoms.calc = calc\n",
    "    for _ in range(1000):\n",
    "        print(f'{watchdog.increment_per_step:.2f}, {watchdog.buffer_time:.2f}, ' +\n",
    "              f'{watchdog.time_left:.2f} {watchdog.elapsed:.2f}')\n",
    "        if watchdog():\n",
    "            break\n",
    "        md.run(1)"
   ]
  },
  {
   "cell_type": "code",
   "execution_count": null,
   "metadata": {},
   "outputs": [],
   "source": []
  }
 ],
 "metadata": {
  "kernelspec": {
   "display_name": "Python 3",
   "language": "python",
   "name": "python3"
  },
  "language_info": {
   "codemirror_mode": {
    "name": "ipython",
    "version": 3
   },
   "file_extension": ".py",
   "mimetype": "text/x-python",
   "name": "python",
   "nbconvert_exporter": "python",
   "pygments_lexer": "ipython3",
   "version": "3.7.0"
  }
 },
 "nbformat": 4,
 "nbformat_minor": 2
}
