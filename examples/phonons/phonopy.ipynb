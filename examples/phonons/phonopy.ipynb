{
 "cells": [
  {
   "cell_type": "code",
   "execution_count": 1,
   "metadata": {},
   "outputs": [],
   "source": [
    "from pathlib import Path\n",
    "import numpy as np\n",
    "from hilde.parsers import read_aims, read_aims_output\n",
    "from hilde.phonopy import phono as ph\n",
    "from hilde.structure.convert import phonopy_to_ASE_atoms\n",
    "from ase.dft.kpoints import get_cellinfo, special_paths, bandpath\n",
    "import matplotlib.pyplot as plt\n",
    "%matplotlib inline"
   ]
  },
  {
   "cell_type": "code",
   "execution_count": 2,
   "metadata": {},
   "outputs": [],
   "source": [
    "atoms = read_aims('geometry.in')\n",
    "vol = atoms.get_volume()"
   ]
  },
  {
   "cell_type": "code",
   "execution_count": 3,
   "metadata": {},
   "outputs": [],
   "source": [
    "smatrix = 1*np.array([[-1,  1,  1],\n",
    "                      [ 1, -1,  1],\n",
    "                      [ 1,  1, -1]])"
   ]
  },
  {
   "cell_type": "code",
   "execution_count": 4,
   "metadata": {},
   "outputs": [
    {
     "name": "stdout",
     "output_type": "stream",
     "text": [
      "Help on function preprocess in module hilde.phonopy.phono:\n",
      "\n",
      "preprocess(atoms, supercell_matrix, disp=0.01, symprec=1e-05, trigonal=False)\n",
      "    Creates a phonopy object from given input\n",
      "    Args:\n",
      "        atoms: atoms object that represents the (primitive) unit cell\n",
      "        smatrix: supercell matrix\n",
      "        disp: displacement for the finite displacemt\n",
      "    \n",
      "    Returns:\n",
      "        namedtuple with the phonon object, the supercell\n",
      "        and the supercells_with_displacements as ase.atoms\n",
      "\n"
     ]
    }
   ],
   "source": [
    "help(ph.preprocess)"
   ]
  },
  {
   "cell_type": "code",
   "execution_count": 5,
   "metadata": {},
   "outputs": [
    {
     "data": {
      "text/plain": [
       "(<phonopy.api_phonopy.Phonopy at 0x147e5da13208>,\n",
       " Atoms(symbols='Si8', pbc=True, cell=[[5.42606752582, -2.5738908917179643e-18, 0.0], [-2.5738908917179643e-18, 5.42606752582, 0.0], [2.5738908917179643e-18, 2.5738908917179643e-18, 5.42606752582]], masses=...),\n",
       " [Atoms(symbols='Si8', pbc=True, cell=[[5.42606752582, -2.5738908917179643e-18, 0.0], [-2.5738908917179643e-18, 5.42606752582, 0.0], [2.5738908917179643e-18, 2.5738908917179643e-18, 5.42606752582]], masses=...)])"
      ]
     },
     "execution_count": 5,
     "metadata": {},
     "output_type": "execute_result"
    }
   ],
   "source": [
    "phonon, sc, scs = ph.preprocess(atoms, smatrix)\n",
    "phonon, sc, scs"
   ]
  },
  {
   "cell_type": "code",
   "execution_count": 6,
   "metadata": {},
   "outputs": [],
   "source": [
    "# Define working directory and create it\n",
    "workdir = Path('./Si_{}{}{}_{}{}{}_{}{}{}_{:.3f}'.format(*smatrix.flatten(), vol))\n",
    "workdir.mkdir(exist_ok=True)"
   ]
  },
  {
   "cell_type": "code",
   "execution_count": 7,
   "metadata": {},
   "outputs": [
    {
     "name": "stdout",
     "output_type": "stream",
     "text": [
      ".. 1 force(s) have been read from aims output files.\n"
     ]
    }
   ],
   "source": [
    "# Collect the forces\n",
    "force_sets = []\n",
    "workdirs = sorted(workdir.glob('disp-???'))\n",
    "for wd in workdirs:\n",
    "    try:\n",
    "        forces = read_aims_output(str(wd / 'aims.out'))[0].get_forces()\n",
    "    except FileNotFoundError:\n",
    "        exit(f'Please calculate the forces in {wd} in order to proceed.')\n",
    "    force_sets.append(forces)\n",
    "print(f'.. {len(force_sets)} force(s) have been read from aims output files.')"
   ]
  },
  {
   "cell_type": "code",
   "execution_count": 8,
   "metadata": {},
   "outputs": [
    {
     "data": {
      "text/plain": [
       "False"
      ]
     },
     "execution_count": 8,
     "metadata": {},
     "output_type": "execute_result"
    }
   ],
   "source": [
    "phonon.produce_force_constants()"
   ]
  },
  {
   "cell_type": "code",
   "execution_count": 9,
   "metadata": {},
   "outputs": [
    {
     "name": "stdout",
     "output_type": "stream",
     "text": [
      "**Force constants not yet created, please specify force_sets.\n"
     ]
    }
   ],
   "source": [
    "ph.get_force_constants(phonon)"
   ]
  },
  {
   "cell_type": "code",
   "execution_count": 10,
   "metadata": {},
   "outputs": [
    {
     "data": {
      "text/plain": [
       "True"
      ]
     },
     "execution_count": 10,
     "metadata": {},
     "output_type": "execute_result"
    }
   ],
   "source": [
    "phonon.set_forces(force_sets)\n",
    "phonon.produce_force_constants()"
   ]
  },
  {
   "cell_type": "code",
   "execution_count": 11,
   "metadata": {},
   "outputs": [
    {
     "data": {
      "text/plain": [
       "True"
      ]
     },
     "execution_count": 11,
     "metadata": {},
     "output_type": "execute_result"
    }
   ],
   "source": [
    "phonon.get_force_constants() is not None"
   ]
  },
  {
   "cell_type": "code",
   "execution_count": 12,
   "metadata": {},
   "outputs": [],
   "source": [
    "fcs = ph.get_force_constants(phonon, force_sets)"
   ]
  },
  {
   "cell_type": "code",
   "execution_count": 13,
   "metadata": {},
   "outputs": [
    {
     "data": {
      "text/plain": [
       "True"
      ]
     },
     "execution_count": 13,
     "metadata": {},
     "output_type": "execute_result"
    }
   ],
   "source": [
    "phonon.produce_force_constants()"
   ]
  },
  {
   "cell_type": "code",
   "execution_count": 14,
   "metadata": {},
   "outputs": [],
   "source": [
    "dos = ph.get_dos(phonon=phonon)"
   ]
  },
  {
   "cell_type": "code",
   "execution_count": 15,
   "metadata": {},
   "outputs": [
    {
     "data": {
      "text/plain": [
       "[<matplotlib.lines.Line2D at 0x147e5d8e80b8>]"
      ]
     },
     "execution_count": 15,
     "metadata": {},
     "output_type": "execute_result"
    },
    {
     "data": {
      "image/png": "[encoded data removed]",
      "text/plain": [
       "<Figure size 432x288 with 1 Axes>"
      ]
     },
     "metadata": {
      "needs_background": "light"
     },
     "output_type": "display_data"
    }
   ],
   "source": [
    "plt.plot(dos[0], dos[1])"
   ]
  },
  {
   "cell_type": "code",
   "execution_count": 16,
   "metadata": {},
   "outputs": [],
   "source": [
    "cellinfo = get_cellinfo(atoms.cell)"
   ]
  },
  {
   "cell_type": "code",
   "execution_count": 17,
   "metadata": {},
   "outputs": [
    {
     "data": {
      "text/plain": [
       "{'G': array([0, 0, 0]),\n",
       " 'K': array([0.375, 0.375, 0.75 ]),\n",
       " 'L': array([0.5, 0.5, 0.5]),\n",
       " 'U': array([0.625, 0.25 , 0.625]),\n",
       " 'W': array([0.5 , 0.25, 0.75]),\n",
       " 'X': array([0.5, 0. , 0.5])}"
      ]
     },
     "execution_count": 17,
     "metadata": {},
     "output_type": "execute_result"
    }
   ],
   "source": [
    "cellinfo.special_points"
   ]
  },
  {
   "cell_type": "code",
   "execution_count": 18,
   "metadata": {},
   "outputs": [
    {
     "data": {
      "text/plain": [
       "'fcc'"
      ]
     },
     "execution_count": 18,
     "metadata": {},
     "output_type": "execute_result"
    }
   ],
   "source": [
    "cellinfo.lattice"
   ]
  },
  {
   "cell_type": "code",
   "execution_count": 19,
   "metadata": {},
   "outputs": [
    {
     "data": {
      "text/plain": [
       "'GXWKGLUWLK,UX'"
      ]
     },
     "execution_count": 19,
     "metadata": {},
     "output_type": "execute_result"
    }
   ],
   "source": [
    "paths = special_paths[cellinfo.lattice]\n",
    "paths"
   ]
  },
  {
   "cell_type": "code",
   "execution_count": 20,
   "metadata": {},
   "outputs": [],
   "source": [
    "path = bandpath(paths, atoms.cell)"
   ]
  },
  {
   "cell_type": "code",
   "execution_count": 21,
   "metadata": {},
   "outputs": [
    {
     "name": "stdout",
     "output_type": "stream",
     "text": [
      "Help on function get_bandstructure in module hilde.phonopy.phono:\n",
      "\n",
      "get_bandstructure(phonon, path, force_sets=None)\n",
      "    Compute bandstructure for given path\n",
      "    \n",
      "    Args:\n",
      "        phonon: Phonopy object\n",
      "        path: path in the Brillouin zone\n",
      "        force_sets: (optional)\n",
      "    \n",
      "    Returns:\n",
      "        (qpoints, distances, frequencies, eigenvectors)\n",
      "\n"
     ]
    }
   ],
   "source": [
    "help(ph.get_bandstructure)"
   ]
  },
  {
   "cell_type": "code",
   "execution_count": 22,
   "metadata": {},
   "outputs": [],
   "source": [
    "qp, dd, fr, ev = ph.get_bandstructure(phonon, path)"
   ]
  },
  {
   "cell_type": "code",
   "execution_count": 23,
   "metadata": {},
   "outputs": [
    {
     "data": {
      "text/plain": [
       "[<matplotlib.lines.Line2D at 0x147e5d7c97f0>,\n",
       " <matplotlib.lines.Line2D at 0x147e5d7c99b0>,\n",
       " <matplotlib.lines.Line2D at 0x147e5d7c9b00>,\n",
       " <matplotlib.lines.Line2D at 0x147e5d7c9c50>,\n",
       " <matplotlib.lines.Line2D at 0x147e5d7c9da0>,\n",
       " <matplotlib.lines.Line2D at 0x147e5d7c9ef0>]"
      ]
     },
     "execution_count": 23,
     "metadata": {},
     "output_type": "execute_result"
    },
    {
     "data": {
      "image/png": "[encoded data removed]",
      "text/plain": [
       "<Figure size 432x288 with 1 Axes>"
      ]
     },
     "metadata": {
      "needs_background": "light"
     },
     "output_type": "display_data"
    }
   ],
   "source": [
    "plt.plot(dd[0], fr[0])"
   ]
  },
  {
   "cell_type": "code",
   "execution_count": null,
   "metadata": {},
   "outputs": [],
   "source": []
  }
 ],
 "metadata": {
  "kernelspec": {
   "display_name": "Python 3",
   "language": "python",
   "name": "python3"
  },
  "language_info": {
   "codemirror_mode": {
    "name": "ipython",
    "version": 3
   },
   "file_extension": ".py",
   "mimetype": "text/x-python",
   "name": "python",
   "nbconvert_exporter": "python",
   "pygments_lexer": "ipython3",
   "version": "3.6.6"
  }
 },
 "nbformat": 4,
 "nbformat_minor": 2
}
