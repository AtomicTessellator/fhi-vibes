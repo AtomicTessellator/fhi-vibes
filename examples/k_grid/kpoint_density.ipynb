{
 "cells": [
  {
   "cell_type": "code",
   "execution_count": 1,
   "metadata": {},
   "outputs": [],
   "source": [
    "from ase.io import read\n",
    "from ase.calculators.calculator import kptdensity2monkhorstpack\n",
    "from hilde.helpers.supercell import find_cubic_cell\n",
    "from ase.build import make_supercell"
   ]
  },
  {
   "cell_type": "code",
   "execution_count": 2,
   "metadata": {},
   "outputs": [],
   "source": [
    "gan = read('gan.in', 0, 'aims')\n"
   ]
  },
  {
   "cell_type": "code",
   "execution_count": 3,
   "metadata": {
    "scrolled": true
   },
   "outputs": [
    {
     "name": "stdout",
     "output_type": "stream",
     "text": [
      "Help on function kptdensity2monkhorstpack in module ase.calculators.calculator:\n",
      "\n",
      "kptdensity2monkhorstpack(atoms, kptdensity=3.5, even=True)\n",
      "    Convert k-point density to Monkhorst-Pack grid size.\n",
      "    \n",
      "    atoms: Atoms object\n",
      "        Contains unit cell and information about boundary conditions.\n",
      "    kptdensity: float\n",
      "        Required k-point density.  Default value is 3.5 point per Ang^-1.\n",
      "    even: bool\n",
      "        Round up to even numbers.\n",
      "\n"
     ]
    }
   ],
   "source": [
    "help(kptdensity2monkhorstpack)"
   ]
  },
  {
   "cell_type": "markdown",
   "metadata": {},
   "source": [
    "**Task:** Find supercells with growing size and determine their k_grid by using the function `kptdensity2monkhorstpack` with a fixed k-point density."
   ]
  },
  {
   "cell_type": "code",
   "execution_count": 4,
   "metadata": {},
   "outputs": [
    {
     "name": "stdout",
     "output_type": "stream",
     "text": [
      "   N (target)  k_grid\n",
      " -------------------------\n",
      "  12 ( 10) --> [6 6 6]\n",
      "  24 ( 20) --> [4 4 6]\n",
      "  36 ( 30) --> [4 4 6]\n",
      "  48 ( 40) --> [4 4 4]\n",
      "  56 ( 50) --> [4 4 4]\n",
      "  72 ( 60) --> [4 4 4]\n",
      "  72 ( 70) --> [4 4 4]\n",
      "  96 ( 80) --> [4 2 4]\n",
      "  96 ( 90) --> [4 2 4]\n",
      " 112 (100) --> [2 4 4]\n",
      " 128 (110) --> [2 2 4]\n",
      " 128 (120) --> [2 2 4]\n",
      " 144 (130) --> [2 2 4]\n",
      " 160 (140) --> [2 2 4]\n",
      " 160 (150) --> [2 2 4]\n",
      " 160 (160) --> [2 2 4]\n",
      " 192 (170) --> [2 2 2]\n",
      " 192 (180) --> [2 2 2]\n",
      " 192 (190) --> [2 2 2]\n",
      " 240 (200) --> [2 2 2]\n"
     ]
    }
   ],
   "source": [
    "print('   N (target)  k_grid\\n', 25*'-')\n",
    "for nn in range(10, 210, 10):\n",
    "    sm = find_cubic_cell(gan.cell, nn / len(gan))\n",
    "    sc = make_supercell(gan, sm)\n",
    "    print(f'{len(sc):4d} ({nn:3d}) --> {kptdensity2monkhorstpack(sc, 3.5, even=True)}')"
   ]
  },
  {
   "cell_type": "code",
   "execution_count": null,
   "metadata": {},
   "outputs": [],
   "source": []
  }
 ],
 "metadata": {
  "kernelspec": {
   "display_name": "Python 3",
   "language": "python",
   "name": "python3"
  },
  "language_info": {
   "codemirror_mode": {
    "name": "ipython",
    "version": 3
   },
   "file_extension": ".py",
   "mimetype": "text/x-python",
   "name": "python",
   "nbconvert_exporter": "python",
   "pygments_lexer": "ipython3",
   "version": "3.6.6"
  }
 },
 "nbformat": 4,
 "nbformat_minor": 2
}
