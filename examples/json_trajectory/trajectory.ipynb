{
 "cells": [
  {
   "cell_type": "code",
   "execution_count": 1,
   "metadata": {},
   "outputs": [],
   "source": [
    "import json\n",
    "from pathlib import Path\n",
    "import numpy as np\n",
    "from collections import OrderedDict\n",
    "from ase.build.molecule import molecule\n",
    "from hilde.helpers.input_exchange import atoms2dict\n",
    "from hilde.json_trajectory import append_to_json_array, array_from_json\n",
    "from ase.calculators.emt import EMT\n",
    "from ase.md.verlet import VelocityVerlet\n",
    "from ase import units as u\n",
    "from pprint import pprint"
   ]
  },
  {
   "cell_type": "code",
   "execution_count": 2,
   "metadata": {},
   "outputs": [
    {
     "data": {
      "text/plain": [
       "array([[ 0.05    ,  0.      ,  0.119262],\n",
       "       [ 0.      ,  0.763239, -0.477047],\n",
       "       [ 0.      , -0.763239, -0.477047]])"
      ]
     },
     "execution_count": 2,
     "metadata": {},
     "output_type": "execute_result"
    }
   ],
   "source": [
    "h2o = molecule('H2O')\n",
    "h2o.positions[0, 0] += .05\n",
    "h2o.positions"
   ]
  },
  {
   "cell_type": "code",
   "execution_count": 3,
   "metadata": {},
   "outputs": [],
   "source": [
    "def md2dict(obj):\n",
    "    dct = OrderedDict()\n",
    "    dct['nsteps'] = obj.nsteps\n",
    "    dct['dt'] = obj.dt\n",
    "    dct['masses'] = obj.masses.T.tolist()[0]\n",
    "    \n",
    "    return dct"
   ]
  },
  {
   "cell_type": "code",
   "execution_count": 4,
   "metadata": {},
   "outputs": [],
   "source": [
    "def step2dict(atoms, md):\n",
    "    md_dict = md2dict(md)\n",
    "    atoms_dict = atoms2dict(atoms)\n",
    "    \n",
    "    return OrderedDict(**md_dict, **atoms_dict)"
   ]
  },
  {
   "cell_type": "code",
   "execution_count": 5,
   "metadata": {},
   "outputs": [],
   "source": [
    "h2o.calc = EMT()\n",
    "md = VelocityVerlet(h2o, timestep=u.fs)\n",
    "for _ in range(5):\n",
    "    md.run(1)\n",
    "    append_to_json_array(step2dict(h2o, md), 'trajectory.json')"
   ]
  },
  {
   "cell_type": "code",
   "execution_count": 6,
   "metadata": {},
   "outputs": [],
   "source": [
    "traj = array_from_json('trajectory.json')"
   ]
  },
  {
   "cell_type": "code",
   "execution_count": 7,
   "metadata": {},
   "outputs": [
    {
     "name": "stdout",
     "output_type": "stream",
     "text": [
      "1\n",
      "2\n",
      "3\n",
      "4\n",
      "5\n"
     ]
    }
   ],
   "source": [
    "for st in traj:\n",
    "    print(st['nsteps'])"
   ]
  },
  {
   "cell_type": "code",
   "execution_count": null,
   "metadata": {},
   "outputs": [],
   "source": []
  }
 ],
 "metadata": {
  "kernelspec": {
   "display_name": "Python 3",
   "language": "python",
   "name": "python3"
  },
  "language_info": {
   "codemirror_mode": {
    "name": "ipython",
    "version": 3
   },
   "file_extension": ".py",
   "mimetype": "text/x-python",
   "name": "python",
   "nbconvert_exporter": "python",
   "pygments_lexer": "ipython3",
   "version": "3.7.0"
  }
 },
 "nbformat": 4,
 "nbformat_minor": 2
}
