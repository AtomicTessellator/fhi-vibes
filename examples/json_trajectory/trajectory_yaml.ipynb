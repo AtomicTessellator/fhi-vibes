{
 "cells": [
  {
   "cell_type": "code",
   "execution_count": 1,
   "metadata": {},
   "outputs": [],
   "source": [
    "import yaml\n",
    "from pathlib import Path\n",
    "import numpy as np\n",
    "from ase.build.molecule import molecule\n",
    "from ase.calculators.emt import EMT\n",
    "from ase.md.verlet import VelocityVerlet\n",
    "from ase import units as u"
   ]
  },
  {
   "cell_type": "code",
   "execution_count": 2,
   "metadata": {},
   "outputs": [
    {
     "data": {
      "text/plain": [
       "array([[ 0.05    ,  0.      ,  0.119262],\n",
       "       [ 0.      ,  0.763239, -0.477047],\n",
       "       [ 0.      , -0.763239, -0.477047]])"
      ]
     },
     "execution_count": 2,
     "metadata": {},
     "output_type": "execute_result"
    }
   ],
   "source": [
    "h2o = molecule('H2O')\n",
    "h2o.positions[0, 0] += .05\n",
    "h2o.positions"
   ]
  },
  {
   "cell_type": "code",
   "execution_count": 3,
   "metadata": {},
   "outputs": [],
   "source": [
    "def md2dict(obj):\n",
    "    dct = {\n",
    "        'nsteps': obj.nsteps,\n",
    "        'dt': obj.dt,\n",
    "        'masses': obj.masses.T.tolist()[0]\n",
    "    }\n",
    "    return dct"
   ]
  },
  {
   "cell_type": "code",
   "execution_count": 4,
   "metadata": {},
   "outputs": [],
   "source": [
    "def atoms2dict(atoms):\n",
    "    atoms_dict = {\n",
    "        'positions': atoms.positions.tolist()\n",
    "    }\n",
    "    \n",
    "    if any(atoms.pbc):\n",
    "        atoms_dict['cell'] = atoms.cell.tolist()\n",
    "    \n",
    "    return atoms_dict"
   ]
  },
  {
   "cell_type": "code",
   "execution_count": 5,
   "metadata": {},
   "outputs": [],
   "source": [
    "def calc2dict(calc):    \n",
    "    calc_dict = {}\n",
    "    \n",
    "    # convert numpy arrays into ordinary lists\n",
    "    for key, val in calc.results.items():\n",
    "        if isinstance(val, np.ndarray):\n",
    "            calc_dict[key] = val.tolist()\n",
    "        else:\n",
    "            calc_dict[key] = val\n",
    "    \n",
    "    return calc_dict"
   ]
  },
  {
   "cell_type": "code",
   "execution_count": 6,
   "metadata": {},
   "outputs": [],
   "source": [
    "def step2dict(atoms, md):\n",
    "    md_dict = md2dict(md)\n",
    "    \n",
    "    atoms_dict = atoms2dict(atoms)\n",
    "    calc_dict = calc2dict(atoms.calc)\n",
    "    \n",
    "    return {'MD': md_dict, 'atoms': atoms_dict, 'calculator': calc_dict}"
   ]
  },
  {
   "cell_type": "code",
   "execution_count": 7,
   "metadata": {},
   "outputs": [],
   "source": [
    "def metadata2dict(atoms, calc, md):\n",
    "    md_dict = md.todict()\n",
    "    md_dict['fs'] = u.fs\n",
    "    \n",
    "    atoms_dict = atoms2dict(atoms)\n",
    "    atoms_dict['numbers'] = atoms.numbers.tolist()\n",
    "    atoms_dict['symbols'] = [f'{sym}' for sym in atoms.symbols]\n",
    "    \n",
    "    calc_dict = {\n",
    "        'name': calc.__class__.__name__,\n",
    "        'params': calc.todict()\n",
    "    }\n",
    "    \n",
    "    meta_dict = {\n",
    "        'atoms': atoms_dict,\n",
    "        'md': md_dict,\n",
    "        'calculator': calc_dict,\n",
    "    }\n",
    "    \n",
    "    return meta_dict"
   ]
  },
  {
   "cell_type": "code",
   "execution_count": 8,
   "metadata": {},
   "outputs": [],
   "source": [
    "def to_yaml(obj, file, mode='a'):\n",
    "    with open(file, mode) as f:\n",
    "        yaml.dump(obj, f)"
   ]
  },
  {
   "cell_type": "markdown",
   "metadata": {},
   "source": [
    "### Initialize MD and calculator"
   ]
  },
  {
   "cell_type": "code",
   "execution_count": 9,
   "metadata": {},
   "outputs": [],
   "source": [
    "h2o.calc = EMT()\n",
    "md = VelocityVerlet(h2o, timestep=u.fs)"
   ]
  },
  {
   "cell_type": "markdown",
   "metadata": {},
   "source": [
    "### Save metadata and initialize trajectory"
   ]
  },
  {
   "cell_type": "code",
   "execution_count": 10,
   "metadata": {},
   "outputs": [
    {
     "data": {
      "text/plain": [
       "{'atoms': {'positions': [[0.05, 0.0, 0.119262],\n",
       "   [0.0, 0.763239, -0.477047],\n",
       "   [0.0, -0.763239, -0.477047]],\n",
       "  'numbers': [8, 1, 1],\n",
       "  'symbols': ['O', 'H', 'H']},\n",
       " 'md': {'type': 'molecular-dynamics',\n",
       "  'md-type': 'VelocityVerlet',\n",
       "  'timestep': 0.09822694788464063,\n",
       "  'fs': 0.09822694788464063},\n",
       " 'calculator': {'name': 'EMT', 'params': {}}}"
      ]
     },
     "execution_count": 10,
     "metadata": {},
     "output_type": "execute_result"
    }
   ],
   "source": [
    "metadata = metadata2dict(h2o, h2o.calc, md)\n",
    "metadata"
   ]
  },
  {
   "cell_type": "code",
   "execution_count": 11,
   "metadata": {},
   "outputs": [],
   "source": [
    "to_yaml(metadata, 'md_metadata.yaml', mode='w')\n",
    "\n",
    "trajectory = Path('trajectory.yaml')\n",
    "if trajectory.exists():\n",
    "    trajectory.unlink()    "
   ]
  },
  {
   "cell_type": "markdown",
   "metadata": {},
   "source": [
    "### Run MD"
   ]
  },
  {
   "cell_type": "code",
   "execution_count": 12,
   "metadata": {},
   "outputs": [],
   "source": [
    "for _ in range(2):\n",
    "    md.run(1)\n",
    "    to_yaml([step2dict(h2o, md)], trajectory)"
   ]
  },
  {
   "cell_type": "code",
   "execution_count": 13,
   "metadata": {},
   "outputs": [],
   "source": [
    "with open(trajectory) as f:\n",
    "    traj = yaml.load(f)"
   ]
  },
  {
   "cell_type": "code",
   "execution_count": 14,
   "metadata": {},
   "outputs": [
    {
     "data": {
      "text/plain": [
       "[{'MD': {'dt': 0.09822694788464063,\n",
       "   'masses': [15.999, 1.008, 1.008],\n",
       "   'nsteps': 1},\n",
       "  'atoms': {'positions': [[0.05019278480688103, 0.0, 0.12156118630812841],\n",
       "    [-0.0015299425224650789, 0.7875231843281152, -0.49529336991257256],\n",
       "    [-0.0015299425224650789, -0.7875231843281152, -0.49529336991257256]]},\n",
       "  'calculator': {'energy': 2.264562056808295,\n",
       "   'forces': [[0.4409496308260477, 0.0, 5.258844668164993],\n",
       "    [-0.22047481541302386, 3.473854359352102, -2.6294223340824967],\n",
       "    [-0.22047481541302386, -3.473854359352102, -2.6294223340824967]],\n",
       "   'free_energy': 2.264562056808295}},\n",
       " {'MD': {'dt': 0.09822694788464063,\n",
       "   'masses': [15.999, 1.008, 1.008],\n",
       "   'nsteps': 2},\n",
       "  'atoms': {'positions': [[0.050651493558543675, 0.0, 0.12703182944803243],\n",
       "    [-0.005170260636478305, 0.8450589553956777, -0.5387084589975548],\n",
       "    [-0.005170260636478305, -0.8450589553956777, -0.5387084589975548]]},\n",
       "  'calculator': {'energy': 1.8950135355994473,\n",
       "   'forces': [[0.07896134196623283, 0.0, 0.9417071773308474],\n",
       "    [-0.03948067098311642, 0.6111301239757999, -0.4708535886654237],\n",
       "    [-0.03948067098311642, -0.6111301239757999, -0.4708535886654237]],\n",
       "   'free_energy': 1.8950135355994473}}]"
      ]
     },
     "execution_count": 14,
     "metadata": {},
     "output_type": "execute_result"
    }
   ],
   "source": [
    "traj"
   ]
  },
  {
   "cell_type": "code",
   "execution_count": null,
   "metadata": {},
   "outputs": [],
   "source": []
  }
 ],
 "metadata": {
  "kernelspec": {
   "display_name": "Python 3",
   "language": "python",
   "name": "python3"
  },
  "language_info": {
   "codemirror_mode": {
    "name": "ipython",
    "version": 3
   },
   "file_extension": ".py",
   "mimetype": "text/x-python",
   "name": "python",
   "nbconvert_exporter": "python",
   "pygments_lexer": "ipython3",
   "version": "3.7.0"
  }
 },
 "nbformat": 4,
 "nbformat_minor": 2
}
