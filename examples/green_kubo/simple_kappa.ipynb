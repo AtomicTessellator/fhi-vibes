{
 "cells": [
  {
   "cell_type": "code",
   "execution_count": 1,
   "metadata": {},
   "outputs": [],
   "source": [
    "import xarray as xr\n",
    "from hilde.trajectory import reader\n",
    "from hilde.green_kubo.heat_flux import get_cumulative_kappa, get_heat_flux_aurocorrelation\n",
    "\n",
    "%matplotlib inline"
   ]
  },
  {
   "cell_type": "code",
   "execution_count": 2,
   "metadata": {},
   "outputs": [],
   "source": [
    "import seaborn as sns\n",
    "sns.set_context('paper', font_scale=1.8)"
   ]
  },
  {
   "cell_type": "markdown",
   "metadata": {
    "scrolled": true
   },
   "source": [
    "## Create `heat_flux.nc`\n",
    "Run\n",
    "```bash\n",
    "➤ hilde output md CsPbBr_300K.son -hf -d 200\n",
    "```"
   ]
  },
  {
   "cell_type": "code",
   "execution_count": 3,
   "metadata": {},
   "outputs": [
    {
     "data": {
      "text/plain": [
       "<xarray.Dataset>\n",
       "Dimensions:        (atom: 160, i: 3, time: 571)\n",
       "Coordinates:\n",
       "  * time           (time) float64 0.0 25.0 50.0 ... 1.42e+04 1.422e+04 1.425e+04\n",
       "Dimensions without coordinates: atom, i\n",
       "Data variables:\n",
       "    heat_flux      (time, atom, i) float64 -0.0006909 0.000252 ... 5.667e-05\n",
       "    avg_heat_flux  (time, atom, i) float64 1.241e-05 0.0004071 ... 0.0002368\n",
       "    positions      (time, atom, i) float64 -0.0967 5.897 0.02605 ... 20.57 12.5\n",
       "    velocities     (time, atom, i) float64 -0.0001933 -0.003208 ... 0.004441\n",
       "    forces         (time, atom, i) float64 -0.07848 -0.08067 ... 0.2985 -0.2166\n",
       "    pressure       (time) float64 0.00353 0.003692 0.00388 ... 0.004159 0.00394\n",
       "    temperature    (time) float64 323.0 320.1 314.1 312.0 ... 299.9 295.1 302.0\n",
       "Attributes:\n",
       "    System Name:                    Br3CsPb\n",
       "    natoms:                         160\n",
       "    time unit:                      fs\n",
       "    timestep:                       25.0\n",
       "    nsteps:                         570\n",
       "    volume:                         6528.916195244443\n",
       "    symbols:                        ['Pb', 'Pb', 'Pb', 'Pb', 'Pb', 'Pb', 'Pb'...\n",
       "    masses:                         [207.2        207.2        207.2        2...\n",
       "    flattened reference positions:  [ 0.          5.89428374  0.          8.4...\n",
       "    flattened lattice:              [16.85303852  0.          0.          0. ...\n",
       "    flattened primitive positions:  [ 0.          5.89428374  0.          4.2...\n",
       "    flattened primitive lattice:    [ 8.42651926  0.          0.          0. ..."
      ]
     },
     "execution_count": 3,
     "metadata": {},
     "output_type": "execute_result"
    }
   ],
   "source": [
    "# read the heat flux dataset\n",
    "DS = xr.load_dataset('heat_flux.nc')\n",
    "DS"
   ]
  },
  {
   "cell_type": "code",
   "execution_count": 4,
   "metadata": {},
   "outputs": [
    {
     "name": "stdout",
     "output_type": "stream",
     "text": [
      "[GreenKubo]    Get heat flux autocorrelation from heat flux\n",
      "[GreenKubo]    Compute Prefactor:\n",
      "[GreenKubo]    .. Volume:          6528.92  AA^3\n",
      "[GreenKubo]    .. Temperature:      309.55  K\n",
      "[GreenKubo]    -> Prefactor:    1266673.39  W/mK / (eV/AA^/ps)\n",
      "[GreenKubo]    .. time elapsed: 0.657s\n"
     ]
    }
   ],
   "source": [
    "# Compute heat flux autoccorrelation function\n",
    "jcorr = get_heat_flux_aurocorrelation(DS)\n",
    "\n",
    "j = jcorr.sum(axis=(1, 2)).to_series()"
   ]
  },
  {
   "cell_type": "code",
   "execution_count": 5,
   "metadata": {},
   "outputs": [
    {
     "name": "stdout",
     "output_type": "stream",
     "text": [
      "[GreenKubo]    Get heat flux autocorrelation from heat flux\n",
      "[GreenKubo]    Compute Prefactor:\n",
      "[GreenKubo]    .. Volume:          6528.92  AA^3\n",
      "[GreenKubo]    .. Temperature:      309.55  K\n",
      "[GreenKubo]    -> Prefactor:    1266673.39  W/mK / (eV/AA^/ps)\n",
      "[GreenKubo]    .. time elapsed: 0.564s\n",
      "[GreenKubo]    Integrate heat flux autocorrelation function cumulatively\n",
      "[GreenKubo]    .. Integrator:   `scipy.integrate.cumtrapz`\n",
      "[GreenKubo]    .. analytic:      False\n"
     ]
    }
   ],
   "source": [
    "# compute cumulative kappa\n",
    "kappa = get_cumulative_kappa(DS)\n",
    "\n",
    "k = kappa.sum(axis=(1, 2)).to_series() / 3"
   ]
  },
  {
   "cell_type": "code",
   "execution_count": 6,
   "metadata": {},
   "outputs": [
    {
     "data": {
      "text/plain": [
       "time\n",
       "0.0        0.000000\n",
       "25.0       0.224638\n",
       "50.0       0.402217\n",
       "75.0       0.514006\n",
       "100.0      0.570515\n",
       "             ...   \n",
       "14150.0    0.518429\n",
       "14175.0    0.518483\n",
       "14200.0    0.518525\n",
       "14225.0    0.518555\n",
       "14250.0    0.518572\n",
       "Name: kappa, Length: 571, dtype: float64"
      ]
     },
     "execution_count": 6,
     "metadata": {},
     "output_type": "execute_result"
    }
   ],
   "source": [
    "k"
   ]
  },
  {
   "cell_type": "code",
   "execution_count": 7,
   "metadata": {
    "scrolled": true
   },
   "outputs": [
    {
     "data": {
      "text/plain": [
       "(0, 1000)"
      ]
     },
     "execution_count": 7,
     "metadata": {},
     "output_type": "execute_result"
    },
    {
     "data": {
      "image/png": "[encoded data removed]",
      "text/plain": [
       "<Figure size 432x288 with 2 Axes>"
      ]
     },
     "metadata": {
      "needs_background": "light"
     },
     "output_type": "display_data"
    }
   ],
   "source": [
    "#plot\n",
    "\n",
    "ax1 = j.plot()\n",
    "ax1.set_ylabel('HFAC')\n",
    "\n",
    "ax2 = ax1.twinx()\n",
    "k.plot(ax=ax2, style='x')\n",
    "ax2.set_ylabel(r'$\\kappa$', rotation=0)\n",
    "\n",
    "\n",
    "ax1.set_xlim([0, 1000])"
   ]
  },
  {
   "cell_type": "code",
   "execution_count": null,
   "metadata": {},
   "outputs": [],
   "source": []
  }
 ],
 "metadata": {
  "kernelspec": {
   "display_name": "Python 3",
   "language": "python",
   "name": "python3"
  },
  "language_info": {
   "codemirror_mode": {
    "name": "ipython",
    "version": 3
   },
   "file_extension": ".py",
   "mimetype": "text/x-python",
   "name": "python",
   "nbconvert_exporter": "python",
   "pygments_lexer": "ipython3",
   "version": "3.7.3"
  }
 },
 "nbformat": 4,
 "nbformat_minor": 2
}
