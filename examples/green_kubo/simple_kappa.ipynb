{
 "cells": [
  {
   "cell_type": "code",
   "execution_count": 1,
   "metadata": {},
   "outputs": [],
   "source": [
    "import numpy as np\n",
    "import pandas as pd\n",
    "import xarray as xr\n",
    "from hilde.trajectory import reader\n",
    "from hilde.green_kubo.heat_flux import get_kappa, get_heat_flux_aurocorrelation\n",
    "\n",
    "%matplotlib inline"
   ]
  },
  {
   "cell_type": "code",
   "execution_count": 2,
   "metadata": {},
   "outputs": [],
   "source": [
    "import seaborn as sns\n",
    "sns.set_context('paper', font_scale=1.8)"
   ]
  },
  {
   "cell_type": "markdown",
   "metadata": {
    "scrolled": true
   },
   "source": [
    "## Create `heat_flux.nc`\n",
    "Run\n",
    "```bash\n",
    "➤ hilde output md CsPbBr_300K.son -hf -d 200\n",
    "```"
   ]
  },
  {
   "cell_type": "code",
   "execution_count": 3,
   "metadata": {},
   "outputs": [
    {
     "data": {
      "text/plain": [
       "<xarray.Dataset>\n",
       "Dimensions:      (I: 160, a: 3, time: 471)\n",
       "Coordinates:\n",
       "  * time         (time) float64 0.0 25.0 50.0 ... 1.17e+04 1.172e+04 1.175e+04\n",
       "Dimensions without coordinates: I, a\n",
       "Data variables:\n",
       "    heat_flux    (time, I, a) float64 0.0001144 0.0002858 ... 5.227e-05\n",
       "    pressure     (time) float64 0.003409 0.003419 0.003479 ... 0.004159 0.00394\n",
       "    temperature  (time) float64 289.7 305.3 315.1 323.9 ... 299.9 295.1 302.0\n",
       "Attributes:\n",
       "    System Name:                    Br3CsPb\n",
       "    natoms:                         160\n",
       "    time unit:                      fs\n",
       "    timestep:                       25.0\n",
       "    nsteps:                         470\n",
       "    volume:                         6528.916195244441\n",
       "    symbols:                        ['Pb', 'Pb', 'Pb', 'Pb', 'Pb', 'Pb', 'Pb'...\n",
       "    masses:                         [207.2        207.2        207.2        2...\n",
       "    flattened reference positions:  [ 0.          5.89428374  0.          8.4...\n",
       "    flattened lattice:              [16.85303852  0.          0.          0. ...\n",
       "    flattened primitive positions:  [ 0.          5.89428374  0.          4.2...\n",
       "    flattened primitive lattice:    [ 8.42651926  0.          0.          0. ..."
      ]
     },
     "execution_count": 3,
     "metadata": {},
     "output_type": "execute_result"
    }
   ],
   "source": [
    "# read the heat flux data.set\n",
    "DS = xr.load_dataset('heat_flux.nc')\n",
    "DS"
   ]
  },
  {
   "cell_type": "code",
   "execution_count": 9,
   "metadata": {},
   "outputs": [
    {
     "name": "stdout",
     "output_type": "stream",
     "text": [
      "[GreenKubo]    Compute Prefactor:\n",
      "[GreenKubo]    .. Volume:          6528.92  AA^3\n",
      "[GreenKubo]    .. Temperature:      309.62  K\n",
      "[GreenKubo]    -> Prefactor:       1266.15  W/mK / (eV/AA^/ps)\n",
      "[GreenKubo]    Get heat flux autocorrelation from heat flux\n",
      "[GreenKubo]    Compute Prefactor:\n",
      "[GreenKubo]    .. Volume:          6528.92  AA^3\n",
      "[GreenKubo]    .. Temperature:      309.62  K\n",
      "[GreenKubo]    -> Prefactor:       1266.15  W/mK / (eV/AA^/ps)\n",
      "[GreenKubo]    .. time elapsed: 2.250s\n",
      "[GreenKubo]    Integrate heat flux autocorrelation function cumulatively\n",
      "[GreenKubo]    .. Integrator:   `scipy.integrate.cumtrapz`\n",
      "[GreenKubo]    Pre-est. correlation time (drop below 1/e):      75.00 fs\n",
      "[GreenKubo]    .. use 4 data points to fit exponential\n",
      "[GreenKubo]    .. estimated correlation time:                   66.10 fs\n",
      "[GreenKubo]    -> choose delta of size:                    3 data points\n",
      "[GreenKubo]    -> avalanche time with max. F of  1:            100.00 fs\n",
      "[GreenKubo]    Integrate heat flux autocorrelation function cumulatively\n",
      "[GreenKubo]    .. Integrator:   `scipy.integrate.cumtrapz`\n",
      "[GreenKubo]    Pre-est. correlation time (drop below 1/e):      75.00 fs\n",
      "[GreenKubo]    .. use 4 data points to fit exponential\n",
      "[GreenKubo]    .. estimated correlation time:                   81.03 fs\n",
      "[GreenKubo]    -> choose delta of size:                    4 data points\n",
      "[GreenKubo]    -> avalanche time with max. F of  1:            150.00 fs\n"
     ]
    },
    {
     "data": {
      "text/plain": [
       "<xarray.Dataset>\n",
       "Dimensions:   (I: 160, a: 3, b: 3, time: 471)\n",
       "Coordinates:\n",
       "  * time      (time) float64 0.0 25.0 50.0 75.0 ... 1.17e+04 1.172e+04 1.175e+04\n",
       "Dimensions without coordinates: I, a, b\n",
       "Data variables:\n",
       "    Jcorr     (time, a, b) float64 0.01056 0.0003882 0.0006293 ... 0.0 0.0 0.0\n",
       "    Jcorr_II  (time, I, a, b) float64 5.76e-05 4.823e-06 5.431e-06 ... -0.0 -0.0\n",
       "    kappa     (time, a, b) float64 0.0 0.0 0.0 0.0 ... -0.02001 0.302 0.07294\n",
       "    kappa_II  (time, a, b) float64 0.0 0.0 0.0 0.0 ... 0.07509 -0.02931 0.5023\n",
       "Attributes:\n",
       "    gk_prefactor:  1266.1450577294136\n",
       "    t_avalanche:   100.0"
      ]
     },
     "execution_count": 9,
     "metadata": {},
     "output_type": "execute_result"
    }
   ],
   "source": [
    "ds = get_kappa(DS, delta='auto')"
   ]
  },
  {
   "cell_type": "code",
   "execution_count": 11,
   "metadata": {},
   "outputs": [
    {
     "data": {
      "text/plain": [
       "<xarray.DataArray 'kappa_II' (time: 471, a: 3, b: 3)>\n",
       "array([[[ 0.000000e+00,  0.000000e+00,  0.000000e+00],\n",
       "        [ 0.000000e+00,  0.000000e+00,  0.000000e+00],\n",
       "        [ 0.000000e+00,  0.000000e+00,  0.000000e+00]],\n",
       "\n",
       "       [[ 2.182225e-01,  6.740635e-04,  4.955814e-03],\n",
       "        [ 3.771517e-04,  2.169519e-01,  3.845973e-03],\n",
       "        [ 4.888556e-03,  3.333841e-03,  2.204891e-01]],\n",
       "\n",
       "       ...,\n",
       "\n",
       "       [[ 4.721470e-01, -1.110354e-01,  1.380967e-01],\n",
       "        [ 2.250210e-02,  5.739598e-01,  2.026197e-02],\n",
       "        [ 7.509313e-02, -2.931364e-02,  5.022694e-01]],\n",
       "\n",
       "       [[ 4.721470e-01, -1.110352e-01,  1.380967e-01],\n",
       "        [ 2.250212e-02,  5.739599e-01,  2.026190e-02],\n",
       "        [ 7.509301e-02, -2.931380e-02,  5.022696e-01]]])\n",
       "Coordinates:\n",
       "  * time     (time) float64 0.0 25.0 50.0 75.0 ... 1.17e+04 1.172e+04 1.175e+04\n",
       "Dimensions without coordinates: a, b\n",
       "Attributes:\n",
       "    t_avalanche:  150.0"
      ]
     },
     "execution_count": 11,
     "metadata": {},
     "output_type": "execute_result"
    }
   ],
   "source": [
    "ds.kappa_II"
   ]
  },
  {
   "cell_type": "code",
   "execution_count": 5,
   "metadata": {},
   "outputs": [],
   "source": [
    "j = pd.DataFrame({\n",
    "    'j1': ds.Jcorr[:, 0, 0], \n",
    "    'j2': ds.Jcorr[:, 1, 1],\n",
    "    'j3': ds.Jcorr[:, 2, 2]}, index=ds.time)\n",
    "\n",
    "k = np.trace(ds.kappa, axis1=1, axis2=2) / 3\n",
    "k = pd.Series(k, index=ds.time)"
   ]
  },
  {
   "cell_type": "code",
   "execution_count": 6,
   "metadata": {},
   "outputs": [],
   "source": [
    "Jcorr_II = ds.Jcorr_II.sum(axis=1)\n",
    "\n",
    "ji = pd.DataFrame({\n",
    "    'j1': Jcorr_II[:, 0, 0], \n",
    "    'j2': Jcorr_II[:, 1, 1],\n",
    "    'j3': Jcorr_II[:, 2, 2]}, index=ds.time)\n",
    "\n",
    "ki = np.trace(ds.kappa_II, axis1=1, axis2=2) / 3\n",
    "ki = pd.Series(ki, index=ds.time)"
   ]
  },
  {
   "cell_type": "code",
   "execution_count": 7,
   "metadata": {},
   "outputs": [],
   "source": [
    "df = pd.DataFrame({\n",
    "    'j': j.sum(axis=1),\n",
    "    'ji': ji.sum(axis=1),\n",
    "    'j - ji': (j - ji).sum(axis=1),\n",
    "    'k': k,\n",
    "    'ki': ki\n",
    "})\n",
    "\n",
    "j_df = df[['j', 'ji', 'j - ji']]\n",
    "k_df = df[['k', 'ki']]"
   ]
  },
  {
   "cell_type": "code",
   "execution_count": 8,
   "metadata": {
    "scrolled": true
   },
   "outputs": [
    {
     "data": {
      "text/plain": [
       "0.3401563148255578"
      ]
     },
     "execution_count": 8,
     "metadata": {},
     "output_type": "execute_result"
    },
    {
     "data": {
      "image/png": "[encoded data removed]",
      "text/plain": [
       "<Figure size 432x288 with 2 Axes>"
      ]
     },
     "metadata": {
      "needs_background": "light"
     },
     "output_type": "display_data"
    }
   ],
   "source": [
    "#plot\n",
    "\n",
    "ax1 = j_df.plot()\n",
    "ax1.set_ylabel('HFAC')\n",
    "\n",
    "ax2 = ax1.twinx()\n",
    "k_df.plot(ax=ax2, style='x')\n",
    "ax2.set_ylabel(r'$\\kappa$', rotation=0)\n",
    "\n",
    "# x = np.asarray(j.index)\n",
    "# ax1.plot(x, 0.03 * np.exp(- x / 62))\n",
    "\n",
    "ax1.set_xlim([0, 1000])\n",
    "\n",
    "k.iloc[10]"
   ]
  },
  {
   "cell_type": "raw",
   "metadata": {},
   "source": [
    "# Compute the full heat flux autoccorrelation function\n",
    "jcorr = get_heat_flux_aurocorrelation(DS)\n",
    "\n",
    "j = jcorr.sum(axis=(1, 2, 3, 4)).to_series()"
   ]
  },
  {
   "cell_type": "raw",
   "metadata": {},
   "source": [
    "jcorr"
   ]
  },
  {
   "cell_type": "raw",
   "metadata": {},
   "source": [
    "# compute cumulative kappa\n",
    "kappa = get_cumulative_kappa(DS)\n",
    "\n",
    "k = kappa.sum(axis=(1, 2, 3, 4)).to_series() / 3"
   ]
  },
  {
   "cell_type": "raw",
   "metadata": {},
   "source": [
    "k.iloc[-1]\n",
    "j.iloc[0]"
   ]
  },
  {
   "cell_type": "raw",
   "metadata": {
    "scrolled": true
   },
   "source": [
    "#plot\n",
    "\n",
    "ax1 = j.plot()\n",
    "ax1.set_ylabel('HFAC')\n",
    "\n",
    "ax2 = ax1.twinx()\n",
    "k.plot(ax=ax2, style='x')\n",
    "ax2.set_ylabel(r'$\\kappa$', rotation=0)\n",
    "\n",
    "\n",
    "ax1.set_xlim([0, 1000])"
   ]
  },
  {
   "cell_type": "code",
   "execution_count": null,
   "metadata": {},
   "outputs": [],
   "source": []
  }
 ],
 "metadata": {
  "kernelspec": {
   "display_name": "Python 3",
   "language": "python",
   "name": "python3"
  },
  "language_info": {
   "codemirror_mode": {
    "name": "ipython",
    "version": 3
   },
   "file_extension": ".py",
   "mimetype": "text/x-python",
   "name": "python",
   "nbconvert_exporter": "python",
   "pygments_lexer": "ipython3",
   "version": "3.7.3"
  }
 },
 "nbformat": 4,
 "nbformat_minor": 2
}
