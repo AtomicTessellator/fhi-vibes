{
 "cells": [
  {
   "cell_type": "code",
   "execution_count": 1,
   "metadata": {},
   "outputs": [],
   "source": [
    "import xarray as xr\n",
    "from hilde.trajectory import reader\n",
    "from hilde.green_kubo.heat_flux import get_cumulative_kappa, get_heat_flux_aurocorrelation\n",
    "\n",
    "%matplotlib inline"
   ]
  },
  {
   "cell_type": "code",
   "execution_count": 2,
   "metadata": {},
   "outputs": [],
   "source": [
    "import seaborn as sns\n",
    "sns.set_context('paper', font_scale=1.8)"
   ]
  },
  {
   "cell_type": "code",
   "execution_count": 3,
   "metadata": {
    "scrolled": true
   },
   "outputs": [
    {
     "name": "stdout",
     "output_type": "stream",
     "text": [
      "[GreenKubo]    Parse trajectory\n",
      "[son] read file:  CsPbBr_300K.son\n",
      "[GreenKubo]    .. done in 4.328s|||||||||||||||||||||||  4354/4354\n",
      "[hilde]        .. return only atoms with `stresses` computed\n",
      "[trajectory]   Discard first 200 atoms\n",
      "[trajectory]   Discard last  0 atoms\n",
      "[trajectory]   .. length before: 871\n",
      "[trajectory]   .. length after:  671\n",
      "[GreenKubo]    Get positions from trajectory\n",
      "[GreenKubo]    .. time elapsed: 0.015s\n",
      "[GreenKubo]    Get velocities from trajectory\n",
      "[GreenKubo]    .. time elapsed: 0.008s\n",
      "[GreenKubo]    Get pressure from trajectory\n",
      "[GreenKubo]    .. time elapsed: 0.094s\n",
      "[GreenKubo]    Compute heat flux:\n",
      "[GreenKubo]    .. time elapsed: 0.136s|||||||||  671/671\n"
     ]
    }
   ],
   "source": [
    "trajectory = reader('CsPbBr_300K.son', with_stresses=True)\n",
    "\n",
    "# discard first 200 time steps\n",
    "traj = trajectory.discard(200)\n",
    "\n",
    "# get heat flux dataset\n",
    "ds = traj.heat_flux_dataset\n",
    "\n",
    "# write to file\n",
    "ds.to_netcdf('flux.nc')"
   ]
  },
  {
   "cell_type": "code",
   "execution_count": 4,
   "metadata": {},
   "outputs": [
    {
     "data": {
      "text/plain": [
       "<xarray.Dataset>\n",
       "Dimensions:        (atom: 160, i: 3, time: 671)\n",
       "Coordinates:\n",
       "  * time           (time) float64 0.0 25.0 50.0 ... 1.67e+04 1.672e+04 1.675e+04\n",
       "Dimensions without coordinates: atom, i\n",
       "Data variables:\n",
       "    heat_flux      (time, atom, i) float64 -0.0008325 0.0002521 ... 5.174e-05\n",
       "    avg_heat_flux  (time, atom, i) float64 0.002833 -0.002054 ... 0.0002417\n",
       "    positions      (time, atom, i) float64 -0.04855 6.07 -0.01494 ... 20.57 12.5\n",
       "    velocities     (time, atom, i) float64 -0.02132 0.01544 ... 0.004441\n",
       "    forces         (time, atom, i) float64 -0.1002 0.3558 ... 0.2985 -0.2166\n",
       "    pressure       (time) float64 0.003464 0.00339 0.003296 ... 0.004159 0.00394\n",
       "    temperature    (time) float64 301.6 313.3 320.3 308.2 ... 299.9 295.1 302.0\n",
       "Attributes:\n",
       "    time unit:                     fs\n",
       "    timestep:                      25.0\n",
       "    volume:                        6528.916195244442\n",
       "    symbols:                       ['Pb', 'Pb', 'Pb', 'Pb', 'Pb', 'Pb', 'Pb',...\n",
       "    flattend reference positions:  [ 0.          5.89428374  0.          8.42..."
      ]
     },
     "execution_count": 4,
     "metadata": {},
     "output_type": "execute_result"
    }
   ],
   "source": [
    "# read the heat flux dataset\n",
    "DS = xr.load_dataset('flux.nc')\n",
    "DS"
   ]
  },
  {
   "cell_type": "code",
   "execution_count": 5,
   "metadata": {},
   "outputs": [
    {
     "name": "stdout",
     "output_type": "stream",
     "text": [
      "[GreenKubo]    Get heat flux autocorrelation from heat flux\n",
      "[GreenKubo]    Compute Prefactor:\n",
      "[GreenKubo]    .. Volume:          6528.92  AA^3\n",
      "[GreenKubo]    .. Temperature:      308.89  K\n",
      "[GreenKubo]    -> Prefactor:     424024.62  W/mK / (eV/AA^/ps)\n",
      "[GreenKubo]    .. time elapsed: 0.614s\n"
     ]
    }
   ],
   "source": [
    "# Compute heat flux autoccorrelation function\n",
    "jcorr = get_heat_flux_aurocorrelation(DS)\n",
    "\n",
    "j = jcorr.sum(axis=(1, 2)).to_series()"
   ]
  },
  {
   "cell_type": "code",
   "execution_count": 6,
   "metadata": {},
   "outputs": [
    {
     "name": "stdout",
     "output_type": "stream",
     "text": [
      "[GreenKubo]    Get heat flux autocorrelation from heat flux\n",
      "[GreenKubo]    Compute Prefactor:\n",
      "[GreenKubo]    .. Volume:          6528.92  AA^3\n",
      "[GreenKubo]    .. Temperature:      308.89  K\n",
      "[GreenKubo]    -> Prefactor:     424024.62  W/mK / (eV/AA^/ps)\n",
      "[GreenKubo]    .. time elapsed: 0.523s\n",
      "[GreenKubo]    Integrate heat flux autocorrelation function cumulatively\n",
      "[GreenKubo]    .. Integrator:   `scipy.integrate.cumtrapz`\n",
      "[GreenKubo]    .. analytic:      False\n"
     ]
    }
   ],
   "source": [
    "# compute cumulative kappa\n",
    "kappa = get_cumulative_kappa(DS)\n",
    "\n",
    "k = kappa.sum(axis=(1, 2)).to_series()"
   ]
  },
  {
   "cell_type": "code",
   "execution_count": 7,
   "metadata": {
    "scrolled": true
   },
   "outputs": [
    {
     "data": {
      "text/plain": [
       "(0, 1000)"
      ]
     },
     "execution_count": 7,
     "metadata": {},
     "output_type": "execute_result"
    },
    {
     "data": {
      "image/png": "[encoded data removed]",
      "text/plain": [
       "<Figure size 432x288 with 2 Axes>"
      ]
     },
     "metadata": {
      "needs_background": "light"
     },
     "output_type": "display_data"
    }
   ],
   "source": [
    "#plot\n",
    "\n",
    "ax1 = j.plot()\n",
    "ax1.set_ylabel('HFAC')\n",
    "\n",
    "ax2 = ax1.twinx()\n",
    "ax2.plot(k.index, k, 'x')\n",
    "ax2.set_ylabel(r'$\\kappa$', rotation=0)\n",
    "\n",
    "\n",
    "ax1.set_xlim([0, 1000])"
   ]
  },
  {
   "cell_type": "code",
   "execution_count": null,
   "metadata": {},
   "outputs": [],
   "source": []
  }
 ],
 "metadata": {
  "kernelspec": {
   "display_name": "Python 3",
   "language": "python",
   "name": "python3"
  },
  "language_info": {
   "codemirror_mode": {
    "name": "ipython",
    "version": 3
   },
   "file_extension": ".py",
   "mimetype": "text/x-python",
   "name": "python",
   "nbconvert_exporter": "python",
   "pygments_lexer": "ipython3",
   "version": "3.7.3"
  }
 },
 "nbformat": 4,
 "nbformat_minor": 2
}
