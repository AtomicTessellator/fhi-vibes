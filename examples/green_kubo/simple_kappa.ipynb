{
 "cells": [
  {
   "cell_type": "code",
   "execution_count": 1,
   "metadata": {},
   "outputs": [],
   "source": [
    "import xarray as xr\n",
    "from hilde.trajectory import reader\n",
    "from hilde.green_kubo.heat_flux import get_cumulative_kappa, get_heat_flux_aurocorrelation\n",
    "\n",
    "%matplotlib inline"
   ]
  },
  {
   "cell_type": "code",
   "execution_count": 2,
   "metadata": {},
   "outputs": [],
   "source": [
    "import seaborn as sns\n",
    "sns.set_context('paper', font_scale=1.8)"
   ]
  },
  {
   "cell_type": "markdown",
   "metadata": {
    "scrolled": true
   },
   "source": [
    "## Create `heat_flux.nc`\n",
    "Run\n",
    "```bash\n",
    "➤ hilde output md CsPbBr_300K.son -hf -d 200\n",
    "```"
   ]
  },
  {
   "cell_type": "code",
   "execution_count": 3,
   "metadata": {},
   "outputs": [],
   "source": [
    "# read the heat flux dataset\n",
    "DS = xr.load_dataset('heat_flux.nc')"
   ]
  },
  {
   "cell_type": "code",
   "execution_count": 4,
   "metadata": {},
   "outputs": [
    {
     "name": "stdout",
     "output_type": "stream",
     "text": [
      "[GreenKubo]    Get heat flux autocorrelation from heat flux\n",
      "[GreenKubo]    Compute Prefactor:\n",
      "[GreenKubo]    .. Volume:          6528.92  AA^3\n",
      "[GreenKubo]    .. Temperature:      309.62  K\n",
      "[GreenKubo]    -> Prefactor:    1266145.06  W/mK / (eV/AA^/ps)\n",
      "[GreenKubo]    .. time elapsed: 0.498s\n"
     ]
    }
   ],
   "source": [
    "# Compute heat flux autoccorrelation function\n",
    "jcorr = get_heat_flux_aurocorrelation(DS)\n",
    "\n",
    "j = jcorr.sum(axis=(1, 2)).to_series()"
   ]
  },
  {
   "cell_type": "code",
   "execution_count": 5,
   "metadata": {},
   "outputs": [
    {
     "name": "stdout",
     "output_type": "stream",
     "text": [
      "[GreenKubo]    Get heat flux autocorrelation from heat flux\n",
      "[GreenKubo]    Compute Prefactor:\n",
      "[GreenKubo]    .. Volume:          6528.92  AA^3\n",
      "[GreenKubo]    .. Temperature:      309.62  K\n",
      "[GreenKubo]    -> Prefactor:    1266145.06  W/mK / (eV/AA^/ps)\n",
      "[GreenKubo]    .. time elapsed: 0.559s\n",
      "[GreenKubo]    Integrate heat flux autocorrelation function cumulatively\n",
      "[GreenKubo]    .. Integrator:   `scipy.integrate.cumtrapz`\n",
      "[GreenKubo]    .. analytic:      False\n"
     ]
    }
   ],
   "source": [
    "# compute cumulative kappa\n",
    "kappa = get_cumulative_kappa(DS)\n",
    "\n",
    "k = kappa.sum(axis=(1, 2)).to_series() / 3"
   ]
  },
  {
   "cell_type": "code",
   "execution_count": 6,
   "metadata": {},
   "outputs": [
    {
     "data": {
      "text/plain": [
       "27.89026177401778"
      ]
     },
     "execution_count": 6,
     "metadata": {},
     "output_type": "execute_result"
    }
   ],
   "source": [
    "k.iloc[-1]\n",
    "j.iloc[0]"
   ]
  },
  {
   "cell_type": "code",
   "execution_count": 7,
   "metadata": {
    "scrolled": true
   },
   "outputs": [
    {
     "data": {
      "text/plain": [
       "(0, 1000)"
      ]
     },
     "execution_count": 7,
     "metadata": {},
     "output_type": "execute_result"
    },
    {
     "data": {
      "image/png": "[encoded data removed]",
      "text/plain": [
       "<Figure size 432x288 with 2 Axes>"
      ]
     },
     "metadata": {
      "needs_background": "light"
     },
     "output_type": "display_data"
    }
   ],
   "source": [
    "#plot\n",
    "\n",
    "ax1 = j.plot()\n",
    "ax1.set_ylabel('HFAC')\n",
    "\n",
    "ax2 = ax1.twinx()\n",
    "k.plot(ax=ax2, style='x')\n",
    "ax2.set_ylabel(r'$\\kappa$', rotation=0)\n",
    "\n",
    "\n",
    "ax1.set_xlim([0, 1000])"
   ]
  },
  {
   "cell_type": "code",
   "execution_count": null,
   "metadata": {},
   "outputs": [],
   "source": []
  }
 ],
 "metadata": {
  "kernelspec": {
   "display_name": "Python 3",
   "language": "python",
   "name": "python3"
  },
  "language_info": {
   "codemirror_mode": {
    "name": "ipython",
    "version": 3
   },
   "file_extension": ".py",
   "mimetype": "text/x-python",
   "name": "python",
   "nbconvert_exporter": "python",
   "pygments_lexer": "ipython3",
   "version": "3.7.3"
  }
 },
 "nbformat": 4,
 "nbformat_minor": 2
}
