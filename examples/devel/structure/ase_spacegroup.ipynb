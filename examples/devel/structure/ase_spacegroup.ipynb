{
 "cells": [
  {
   "cell_type": "code",
   "execution_count": 1,
   "metadata": {},
   "outputs": [],
   "source": [
    "from hilde.parsers import read_structure\n",
    "from hilde.structure import get_spacegroup\n",
    "from ase.spacegroup import get_spacegroup as get_ase_spacegroup"
   ]
  },
  {
   "cell_type": "code",
   "execution_count": 2,
   "metadata": {},
   "outputs": [],
   "source": [
    "si = read_structure('si.conv.in')\n",
    "gan = read_structure('gan.in')"
   ]
  },
  {
   "cell_type": "code",
   "execution_count": 3,
   "metadata": {},
   "outputs": [],
   "source": [
    "si_asg = get_ase_spacegroup(si)\n",
    "gan_asg = get_ase_spacegroup(gan)"
   ]
  },
  {
   "cell_type": "code",
   "execution_count": 4,
   "metadata": {},
   "outputs": [
    {
     "data": {
      "text/plain": [
       "Spacegroup(227, setting=1)"
      ]
     },
     "execution_count": 4,
     "metadata": {},
     "output_type": "execute_result"
    }
   ],
   "source": [
    "si_asg"
   ]
  },
  {
   "cell_type": "code",
   "execution_count": 5,
   "metadata": {},
   "outputs": [
    {
     "data": {
      "text/plain": [
       "Spacegroup(186, setting=1)"
      ]
     },
     "execution_count": 5,
     "metadata": {},
     "output_type": "execute_result"
    }
   ],
   "source": [
    "gan_asg"
   ]
  },
  {
   "cell_type": "code",
   "execution_count": 6,
   "metadata": {},
   "outputs": [
    {
     "name": "stdout",
     "output_type": "stream",
     "text": [
      "\n",
      "Geometry info for:\n",
      "  input geometry:    Si8_227_8b\n",
      "  Symmetry prec.:    1e-05\n",
      "  Number of atoms:   8\n",
      "  Species:           Si\n",
      "  Periodicity:       [ True  True  True]\n",
      "\n",
      "  Spacegroup:          Fd-3m (227)\n",
      "  Wyckoff positions:   8*b\n",
      "  Equivalent atoms:    8*0\n",
      "  Standard lattice:  \n",
      "    [5.42606753 0.         0.        ]\n",
      "    [0.         5.42606753 0.        ]\n",
      "    [0.         0.         5.42606753]\n",
      "\n",
      "Cell lengths and angles [Å, °]:\n",
      "  a, b, c:      5.4261      5.4261      5.4261\n",
      "  α, β, γ:     90.0000     90.0000     90.0000\n",
      "  Volume:     159.7554 Å**3\n"
     ]
    }
   ],
   "source": [
    "si_sg = get_spacegroup(si)\n",
    "si_sg.inform()"
   ]
  },
  {
   "cell_type": "code",
   "execution_count": null,
   "metadata": {},
   "outputs": [],
   "source": []
  }
 ],
 "metadata": {
  "kernelspec": {
   "display_name": "Python 3",
   "language": "python",
   "name": "python3"
  },
  "language_info": {
   "codemirror_mode": {
    "name": "ipython",
    "version": 3
   },
   "file_extension": ".py",
   "mimetype": "text/x-python",
   "name": "python",
   "nbconvert_exporter": "python",
   "pygments_lexer": "ipython3",
   "version": "3.6.6"
  }
 },
 "nbformat": 4,
 "nbformat_minor": 2
}
