{
 "cells": [
  {
   "cell_type": "code",
   "execution_count": 1,
   "metadata": {},
   "outputs": [],
   "source": [
    "import numpy as np\n",
    "\n",
    "from ase.io import read\n",
    "\n",
    "from hilde.helpers.lattice_points import map_I_to_iL"
   ]
  },
  {
   "cell_type": "code",
   "execution_count": 2,
   "metadata": {},
   "outputs": [],
   "source": [
    "primitive = read('geometry.in', format='aims')\n",
    "supercell = read('geometry.in.supercell', format='aims')\n",
    "\n",
    "tdep_sc = read('outfile.ssposcar', format='vasp')"
   ]
  },
  {
   "cell_type": "code",
   "execution_count": 3,
   "metadata": {},
   "outputs": [
    {
     "name": "stdout",
     "output_type": "stream",
     "text": [
      ".. found 24 (28) lattice points in 0.001s\n",
      ".. matched 120 positions in supercell and primitive cell in 0.161s\n"
     ]
    }
   ],
   "source": [
    "I2iL, iL2I = map_I_to_iL(primitive, supercell, return_inverse=True)"
   ]
  },
  {
   "cell_type": "code",
   "execution_count": 4,
   "metadata": {},
   "outputs": [
    {
     "name": "stdout",
     "output_type": "stream",
     "text": [
      ".. found 24 (28) lattice points in 0.001s\n",
      ".. matched 120 positions in supercell and primitive cell in 0.179s\n"
     ]
    }
   ],
   "source": [
    "tdep_I2iL, tdep_iL2I = map_I_to_iL(primitive, tdep_sc, return_inverse=True)"
   ]
  },
  {
   "cell_type": "code",
   "execution_count": 5,
   "metadata": {},
   "outputs": [],
   "source": [
    "# create a list that converts from supercell to tdep supercell:\n",
    "index2tdep = [iL2I[iL] for iL in tdep_I2iL]"
   ]
  },
  {
   "cell_type": "code",
   "execution_count": 6,
   "metadata": {},
   "outputs": [],
   "source": [
    "new_supercell = supercell.copy()\n",
    "\n",
    "# delete all the atoms\n",
    "del new_supercell[:]"
   ]
  },
  {
   "cell_type": "code",
   "execution_count": 7,
   "metadata": {},
   "outputs": [],
   "source": [
    "for II in index2tdep:\n",
    "    new_supercell.append(supercell[II])"
   ]
  },
  {
   "cell_type": "code",
   "execution_count": 8,
   "metadata": {},
   "outputs": [],
   "source": [
    "new_supercell.write('test.poscar', direct=True, vasp5=True)"
   ]
  },
  {
   "cell_type": "code",
   "execution_count": 9,
   "metadata": {},
   "outputs": [
    {
     "name": "stdout",
     "output_type": "stream",
     "text": [
      "Atom('Cs', [8.769916050860207, 13.15487407629031, 3.1006335550000617], index=0)\n",
      "Atom('Cs', [8.769916050860207, 13.154874076290309, 3.100633555], index=0)\n",
      "\n",
      "Atom('Cs', [8.769916050860207, 13.15487407629031, 9.301900665], index=1)\n",
      "Atom('Cs', [8.769916050860207, 13.154874076290309, 9.301900665], index=1)\n",
      "\n",
      "Atom('Cs', [8.769916050860207, 13.15487407629031, 15.50316777499994], index=2)\n",
      "Atom('Cs', [8.769916050860207, 13.154874076290309, 15.503167775], index=2)\n",
      "\n",
      "Atom('Cs', [13.15487407629031, 0.0, 3.1006335550000617], index=3)\n",
      "Atom('Cs', [13.154874076290309, 0.0, 3.100633555], index=3)\n",
      "\n",
      "Atom('Cs', [13.15487407629031, 0.0, 9.301900665], index=4)\n",
      "Atom('Cs', [13.154874076290309, 0.0, 9.301900665], index=4)\n",
      "\n",
      "...\n"
     ]
    }
   ],
   "source": [
    "for ii in range(5):\n",
    "    print(tdep_sc[ii])\n",
    "    print(new_supercell[ii])\n",
    "    print()\n",
    "print('...')"
   ]
  },
  {
   "cell_type": "code",
   "execution_count": null,
   "metadata": {},
   "outputs": [],
   "source": []
  }
 ],
 "metadata": {
  "kernelspec": {
   "display_name": "Python 3",
   "language": "python",
   "name": "python3"
  },
  "language_info": {
   "codemirror_mode": {
    "name": "ipython",
    "version": 3
   },
   "file_extension": ".py",
   "mimetype": "text/x-python",
   "name": "python",
   "nbconvert_exporter": "python",
   "pygments_lexer": "ipython3",
   "version": "3.7.0"
  }
 },
 "nbformat": 4,
 "nbformat_minor": 2
}
