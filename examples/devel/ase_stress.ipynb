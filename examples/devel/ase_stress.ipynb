{
 "cells": [
  {
   "cell_type": "code",
   "execution_count": 1,
   "metadata": {},
   "outputs": [],
   "source": [
    "import numpy as np\n",
    "\n",
    "from ase.io import read\n",
    "from ase import units\n",
    "from ase.calculators.aims import Aims\n",
    "from ase.calculators.socketio import SocketIOCalculator"
   ]
  },
  {
   "cell_type": "code",
   "execution_count": 2,
   "metadata": {},
   "outputs": [],
   "source": [
    "alias tail tail"
   ]
  },
  {
   "cell_type": "code",
   "execution_count": 3,
   "metadata": {},
   "outputs": [],
   "source": [
    "atoms = read('si.in', format='aims')"
   ]
  },
  {
   "cell_type": "code",
   "execution_count": 4,
   "metadata": {},
   "outputs": [],
   "source": [
    "command = 'orterun -n 4 /home/knoop/FHIaims/source/build_190115/aims.190101.mpi.x'\n",
    "species_dir = '/home/knoop/FHIaims/aimsfiles/species_defaults/light'\n",
    "\n",
    "aims_settings = {\n",
    "    'command': command,\n",
    "    'species_dir': species_dir,\n",
    "    'output_level': 'MD_light',\n",
    "    'relativistic': 'atomic_zora scalar',\n",
    "    'xc': 'pw-lda',\n",
    "    'k_grid': 3 * [2],\n",
    "    'compute_heat_flux': True,\n",
    "}"
   ]
  },
  {
   "cell_type": "code",
   "execution_count": 5,
   "metadata": {},
   "outputs": [],
   "source": [
    "port = 12345\n",
    "aims = Aims(**{'use_pimd_wrapper': f'localhost {port}', **aims_settings})\n",
    "\n",
    "calc = SocketIOCalculator(aims, port = port)"
   ]
  },
  {
   "cell_type": "code",
   "execution_count": 6,
   "metadata": {},
   "outputs": [],
   "source": [
    "atoms.calc = calc\n",
    "atoms.calc.calculate(atoms)"
   ]
  },
  {
   "cell_type": "code",
   "execution_count": 7,
   "metadata": {},
   "outputs": [
    {
     "name": "stdout",
     "output_type": "stream",
     "text": [
      "  lattice_vector         0.00000000        2.72000000        2.72000000\r\n",
      "  lattice_vector         2.72000000        0.00000000        2.72000000\r\n",
      "  lattice_vector         2.72000000        2.72000000        0.00000000\r\n",
      "\r\n",
      "            atom         0.00000000        0.00000000        0.00000000  Si\r\n",
      "            atom         1.36000000        1.36000000        1.36000000  Si\r\n",
      " ------------------------------------------------------------------------\r\n",
      "  @ DRIVER MODE: Message from server: STATUS      \r\n",
      "  @ DRIVER MODE: Message from server: GETFORCE    \r\n",
      "  @ DRIVER MODE: Returning v,forces,stress \r\n"
     ]
    }
   ],
   "source": [
    "tail aims.out"
   ]
  },
  {
   "cell_type": "code",
   "execution_count": 8,
   "metadata": {},
   "outputs": [],
   "source": [
    "def get_stresses(atoms):\n",
    "    atoms.calc.server.protocol.sendmsg('GETSTRESSES')\n",
    "    msg = atoms.calc.server.protocol.recvmsg()\n",
    "    assert msg == 'STRESSREADY'\n",
    "    natoms = atoms.calc.server.protocol.recv(1, np.int32)\n",
    "    stresses = atoms.calc.server.protocol.recv((int(natoms), 3, 3), np.float64)\n",
    "    stresses *= units.Ha\n",
    "    return stresses"
   ]
  },
  {
   "cell_type": "code",
   "execution_count": 9,
   "metadata": {},
   "outputs": [],
   "source": [
    "def socket_stress_off(atoms):\n",
    "    calc.server.protocol.sendmsg('STRESSES_OFF')\n",
    "    \n",
    "def socket_stress_on(atoms):\n",
    "    calc.server.protocol.sendmsg('STRESSES_ON')"
   ]
  },
  {
   "cell_type": "code",
   "execution_count": 10,
   "metadata": {},
   "outputs": [
    {
     "data": {
      "text/plain": [
       "array([[[-8.18506461e-01,  8.11746092e-11, -3.83705232e-12],\n",
       "        [ 8.11746092e-11, -8.18507265e-01,  3.98732356e-11],\n",
       "        [-3.83705232e-12,  3.98732356e-11, -8.18507266e-01]],\n",
       "\n",
       "       [[-8.18506461e-01, -4.18198127e-11, -5.45953548e-11],\n",
       "        [-4.18198127e-11, -8.18507265e-01,  1.66355809e-11],\n",
       "        [-5.45953548e-11,  1.66355809e-11, -8.18507266e-01]]])"
      ]
     },
     "execution_count": 10,
     "metadata": {},
     "output_type": "execute_result"
    }
   ],
   "source": [
    "get_stresses(atoms)"
   ]
  },
  {
   "cell_type": "code",
   "execution_count": 11,
   "metadata": {},
   "outputs": [
    {
     "name": "stdout",
     "output_type": "stream",
     "text": [
      "  lattice_vector         2.72000000        2.72000000        0.00000000\r\n",
      "\r\n",
      "            atom         0.00000000        0.00000000        0.00000000  Si\r\n",
      "            atom         1.36000000        1.36000000        1.36000000  Si\r\n",
      " ------------------------------------------------------------------------\r\n",
      "  @ DRIVER MODE: Message from server: STATUS      \r\n",
      "  @ DRIVER MODE: Message from server: GETFORCE    \r\n",
      "  @ DRIVER MODE: Returning v,forces,stress \r\n",
      "  @ DRIVER MODE: Message from server: GETSTRESSES \r\n",
      "  @ DRIVER MODE: fkdev returning stress per atom \r\n"
     ]
    }
   ],
   "source": [
    "tail aims.out"
   ]
  },
  {
   "cell_type": "code",
   "execution_count": 12,
   "metadata": {},
   "outputs": [],
   "source": [
    "socket_stress_off(atoms)"
   ]
  },
  {
   "cell_type": "code",
   "execution_count": 13,
   "metadata": {},
   "outputs": [
    {
     "name": "stdout",
     "output_type": "stream",
     "text": [
      "            atom         0.00000000        0.00000000        0.00000000  Si\r\n",
      "            atom         1.36000000        1.36000000        1.36000000  Si\r\n",
      " ------------------------------------------------------------------------\r\n",
      "  @ DRIVER MODE: Message from server: STATUS      \r\n",
      "  @ DRIVER MODE: Message from server: GETFORCE    \r\n",
      "  @ DRIVER MODE: Returning v,forces,stress \r\n",
      "  @ DRIVER MODE: Message from server: GETSTRESSES \r\n",
      "  @ DRIVER MODE: fkdev returning stress per atom \r\n",
      "  @ DRIVER MODE: Message from server: STRESSES_OFF\r\n",
      "  @ DRIVER MODE: fkdev switch stress and heat flux off \r\n"
     ]
    }
   ],
   "source": [
    "tail aims.out"
   ]
  },
  {
   "cell_type": "code",
   "execution_count": 14,
   "metadata": {},
   "outputs": [],
   "source": [
    "atoms.calc.calculate(atoms, system_changes=['positions'])"
   ]
  },
  {
   "cell_type": "code",
   "execution_count": 15,
   "metadata": {},
   "outputs": [
    {
     "name": "stdout",
     "output_type": "stream",
     "text": [
      "  lattice_vector         0.00000000        2.72000000        2.72000000\r\n",
      "  lattice_vector         2.72000000        0.00000000        2.72000000\r\n",
      "  lattice_vector         2.72000000        2.72000000        0.00000000\r\n",
      "\r\n",
      "            atom         0.00000000        0.00000000        0.00000000  Si\r\n",
      "            atom         1.36000000        1.36000000        1.36000000  Si\r\n",
      " ------------------------------------------------------------------------\r\n",
      "  @ DRIVER MODE: Message from server: STATUS      \r\n",
      "  @ DRIVER MODE: Message from server: GETFORCE    \r\n",
      "  @ DRIVER MODE: Returning v,forces,stress \r\n"
     ]
    }
   ],
   "source": [
    "tail aims.out"
   ]
  },
  {
   "cell_type": "code",
   "execution_count": 16,
   "metadata": {},
   "outputs": [
    {
     "data": {
      "text/plain": [
       "array([[[0., 0., 0.],\n",
       "        [0., 0., 0.],\n",
       "        [0., 0., 0.]],\n",
       "\n",
       "       [[0., 0., 0.],\n",
       "        [0., 0., 0.],\n",
       "        [0., 0., 0.]]])"
      ]
     },
     "execution_count": 16,
     "metadata": {},
     "output_type": "execute_result"
    }
   ],
   "source": [
    "get_stresses(atoms)"
   ]
  },
  {
   "cell_type": "code",
   "execution_count": 17,
   "metadata": {},
   "outputs": [],
   "source": [
    "atoms.calc.close()"
   ]
  },
  {
   "cell_type": "code",
   "execution_count": 18,
   "metadata": {},
   "outputs": [
    {
     "name": "stdout",
     "output_type": "stream",
     "text": [
      "          |   Average:        8.104 MB\r\n",
      "          | Largest tracked array allocation (hamiltonian_shell):\r\n",
      "          |   Minimum:        1.708 MB (on task 3)\r\n",
      "          |   Maximum:        1.760 MB (on task 1)\r\n",
      "          |   Average:        1.747 MB\r\n",
      "          Note:  These values currently only include a subset of arrays which are explicitly tracked.\r\n",
      "          The \"true\" memory usage will be greater.\r\n",
      "\r\n",
      "          Have a nice day.\r\n",
      "------------------------------------------------------------\r\n"
     ]
    }
   ],
   "source": [
    "tail aims.out"
   ]
  },
  {
   "cell_type": "code",
   "execution_count": null,
   "metadata": {},
   "outputs": [],
   "source": []
  }
 ],
 "metadata": {
  "kernelspec": {
   "display_name": "Python 3",
   "language": "python",
   "name": "python3"
  },
  "language_info": {
   "codemirror_mode": {
    "name": "ipython",
    "version": 3
   },
   "file_extension": ".py",
   "mimetype": "text/x-python",
   "name": "python",
   "nbconvert_exporter": "python",
   "pygments_lexer": "ipython3",
   "version": "3.7.0"
  }
 },
 "nbformat": 4,
 "nbformat_minor": 2
}
