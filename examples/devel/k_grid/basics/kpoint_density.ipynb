{
 "cells": [
  {
   "cell_type": "code",
   "execution_count": 1,
   "metadata": {},
   "outputs": [],
   "source": [
    "import numpy as np\n",
    "import pandas as pd\n",
    "from vibes.parsers import read_structure\n",
    "from vibes.helpers.k_grid import d2k, k2d\n",
    "from vibes.helpers.supercell import find_cubic_cell, make_cubic_supercell, get_cubicness"
   ]
  },
  {
   "cell_type": "code",
   "execution_count": 2,
   "metadata": {},
   "outputs": [],
   "source": [
    "gan = read_structure('../gan.in')\n",
    "aln = read_structure('../aln.in')\n",
    "gao = read_structure('../gao.in')\n",
    "si = read_structure('../si.in')"
   ]
  },
  {
   "cell_type": "code",
   "execution_count": 3,
   "metadata": {
    "scrolled": true
   },
   "outputs": [
    {
     "name": "stdout",
     "output_type": "stream",
     "text": [
      "Help on function d2k in module vibes.helpers.k_grid:\n",
      "\n",
      "d2k(atoms, kptdensity=3.5, even=True)\n",
      "    [ase.calculators.calculator.kptdensity2monkhorstpack]\n",
      "    Convert k-point density to Monkhorst-Pack grid size.\n",
      "    \n",
      "    atoms: Atoms object\n",
      "        Contains unit cell and information about boundary conditions.\n",
      "    kptdensity: float\n",
      "        Required k-point density.  Default value is 3.5 point per Ang^-1.\n",
      "    even: bool\n",
      "        Round up to even numbers.\n",
      "\n"
     ]
    }
   ],
   "source": [
    "help(d2k)"
   ]
  },
  {
   "cell_type": "code",
   "execution_count": 4,
   "metadata": {},
   "outputs": [
    {
     "data": {
      "text/plain": [
       "(7.956721295269019, 8)"
      ]
     },
     "execution_count": 4,
     "metadata": {},
     "output_type": "execute_result"
    }
   ],
   "source": [
    "# compute k from density\n",
    "i = 0\n",
    "kptdensity = 3.5\n",
    "k = 2 * np.pi * np.sqrt((gan.get_reciprocal_cell()[i]**2).sum()) * kptdensity\n",
    "k_round = 2 * int(np.ceil(k / 2))\n",
    "k, k_round"
   ]
  },
  {
   "cell_type": "code",
   "execution_count": 5,
   "metadata": {},
   "outputs": [
    {
     "data": {
      "text/plain": [
       "(array([3.51903742, 3.51903742, 4.96754856]), 4.001874469136553)"
      ]
     },
     "execution_count": 5,
     "metadata": {},
     "output_type": "execute_result"
    }
   ],
   "source": [
    "# compute density from k\n",
    "i = 0\n",
    "k = [8, 8, 6]\n",
    "kptdensity = k / (2 * np.pi * np.sqrt((gan.get_reciprocal_cell()**2).sum(axis=1)))\n",
    "kptdensity, kptdensity.mean()"
   ]
  },
  {
   "cell_type": "code",
   "execution_count": 6,
   "metadata": {},
   "outputs": [
    {
     "data": {
      "text/plain": [
       "array([3.51903742, 3.51903742, 4.96754856])"
      ]
     },
     "execution_count": 6,
     "metadata": {},
     "output_type": "execute_result"
    }
   ],
   "source": [
    "# use k2d\n",
    "k2d(gan, k_grid=[8, 8, 6])"
   ]
  },
  {
   "cell_type": "code",
   "execution_count": 7,
   "metadata": {},
   "outputs": [],
   "source": [
    "sc, sm = make_cubic_supercell(gan, 100)"
   ]
  },
  {
   "cell_type": "code",
   "execution_count": 8,
   "metadata": {},
   "outputs": [
    {
     "name": "stdout",
     "output_type": "stream",
     "text": [
      "[]\n"
     ]
    }
   ],
   "source": [
    "print(sc.tags)"
   ]
  },
  {
   "cell_type": "markdown",
   "metadata": {},
   "source": [
    "**Task:** Find supercells with growing size and determine their k_grid by using the function `kptdensity2monkhorstpack` with a fixed k-point density."
   ]
  },
  {
   "cell_type": "markdown",
   "metadata": {},
   "source": [
    "# Compute k_grids for Si, GaN, AlN, GaO"
   ]
  },
  {
   "cell_type": "code",
   "execution_count": 9,
   "metadata": {},
   "outputs": [],
   "source": [
    "def compute_k_grids(atoms, density, n_range=range(10, 200, 20)):\n",
    "    data = []\n",
    "    for nn in n_range:\n",
    "        sc, sm = make_cubic_supercell(atoms, nn)\n",
    "        k_grid = d2k(sc, density, even=False)\n",
    "        rho_k = k2d(sc, k_grid)\n",
    "        data.append({\n",
    "            'n_target': nn,\n",
    "            'n_is': len(sc),\n",
    "            'cub_nes': np.around(get_cubicness(sc.cell), decimals=3),\n",
    "            'k_grid': k_grid,\n",
    "            'rho_k': density,\n",
    "            'rho_k_is': np.around(rho_k.mean(), decimals=2),\n",
    "            'rho_ks_is': np.around(rho_k, decimals=1)\n",
    "    })\n",
    "\n",
    "    df = pd.DataFrame(data)\n",
    "    return df"
   ]
  },
  {
   "cell_type": "code",
   "execution_count": 10,
   "metadata": {},
   "outputs": [
    {
     "name": "stdout",
     "output_type": "stream",
     "text": [
      "**Warning: Cubicness of supercell is 0.624 (0.243)\n",
      "**-> Sytems: Ga4O6_12_10i, target size 10\n",
      "**Warning: Cubicness of supercell is 0.696 (0.337)\n",
      "**-> Sytems: Ga4O6_12_10i, target size 60\n",
      "**Warning: Cubicness of supercell is 0.783 (0.479)\n",
      "**-> Sytems: Ga4O6_12_10i, target size 310\n",
      "**Warning: Cubicness of supercell is 0.783 (0.479)\n",
      "**-> Sytems: Ga4O6_12_10i, target size 360\n"
     ]
    }
   ],
   "source": [
    "rho = 3.5\n",
    "n_range = range(10, 500, 50)\n",
    "\n",
    "materials = [si, gan, aln, gao]\n",
    "\n",
    "dfs = []\n",
    "for atoms in materials:\n",
    "    df = compute_k_grids(atoms, rho, n_range)\n",
    "    dfs.append(df)"
   ]
  },
  {
   "cell_type": "code",
   "execution_count": 11,
   "metadata": {},
   "outputs": [
    {
     "name": "stdout",
     "output_type": "stream",
     "text": [
      "Density = 3.5\n",
      "n_range = range(10, 500, 50)\n",
      "\n",
      "Si2_227_2b\n",
      "   cub_nes     k_grid  n_is  n_target  rho_k  rho_k_is        rho_ks_is\n",
      "0    0.829  [3, 5, 5]    12        10    3.5      4.11  [3.9, 4.3, 4.1]\n",
      "1    1.000  [3, 3, 3]    64        60    3.5      5.19  [5.2, 5.2, 5.2]\n",
      "2    0.987  [2, 2, 2]   130       110    3.5      4.36  [4.4, 4.3, 4.3]\n",
      "3    0.886  [2, 2, 2]   180       160    3.5      4.87  [4.3, 5.2, 5.1]\n",
      "4    1.000  [2, 2, 2]   216       210    3.5      5.19  [5.2, 5.2, 5.2]\n",
      "5    0.896  [2, 2, 2]   300       260    3.5      5.81  [6.1, 6.1, 5.2]\n",
      "6    0.993  [2, 2, 2]   350       310    3.5      6.08  [6.1, 6.1, 6.1]\n",
      "7    0.960  [2, 2, 2]   400       360    3.5      6.39  [6.1, 6.9, 6.1]\n",
      "8    0.915  [2, 2, 2]   448       410    3.5      6.61  [6.9, 6.1, 6.9]\n",
      "9    1.000  [2, 2, 2]   512       460    3.5      6.93  [6.9, 6.9, 6.9]\n",
      "\n",
      "Ga2N2_186_4b\n",
      "   cub_nes     k_grid  n_is  n_target  rho_k  rho_k_is        rho_ks_is\n",
      "0    0.927  [5, 5, 5]    12        10    3.5      3.92  [3.8, 3.8, 4.1]\n",
      "1    0.884  [3, 3, 3]    72        60    3.5      4.47  [4.5, 4.0, 5.0]\n",
      "2    0.915  [2, 2, 3]   128       110    3.5      4.18  [4.1, 3.5, 5.0]\n",
      "3    0.850  [2, 2, 3]   160       160    3.5      4.47  [4.0, 4.4, 5.0]\n",
      "4    0.905  [2, 2, 2]   240       210    3.5      4.47  [4.0, 4.4, 5.0]\n",
      "5    0.915  [2, 2, 2]   300       260    3.5      4.80  [5.0, 4.4, 5.0]\n",
      "6    0.973  [2, 2, 2]   360       310    3.5      5.11  [5.1, 5.3, 5.0]\n",
      "7    0.973  [2, 2, 2]   360       360    3.5      5.11  [5.1, 5.3, 5.0]\n",
      "8    0.915  [2, 2, 2]   432       410    3.5      5.45  [6.1, 5.3, 5.0]\n",
      "9    0.870  [2, 2, 2]   504       460    3.5      5.73  [6.1, 6.2, 5.0]\n",
      "\n",
      "Al2N2_186_4b\n",
      "   cub_nes     k_grid  n_is  n_target  rho_k  rho_k_is        rho_ks_is\n",
      "0    0.932  [5, 5, 5]    12        10    3.5      3.78  [3.7, 3.7, 4.0]\n",
      "1    0.889  [3, 3, 3]    72        60    3.5      4.32  [4.4, 3.8, 4.7]\n",
      "2    0.905  [2, 3, 3]   128       110    3.5      4.61  [3.9, 5.1, 4.7]\n",
      "3    0.854  [2, 3, 2]   192       160    3.5      4.61  [3.9, 5.1, 4.7]\n",
      "4    0.910  [2, 2, 2]   240       210    3.5      4.31  [3.9, 4.3, 4.7]\n",
      "5    0.920  [2, 2, 2]   300       260    3.5      4.64  [4.9, 4.3, 4.7]\n",
      "6    0.962  [2, 2, 2]   360       310    3.5      4.94  [4.9, 5.1, 4.7]\n",
      "7    0.962  [2, 2, 2]   360       360    3.5      4.94  [4.9, 5.1, 4.7]\n",
      "8    0.905  [2, 2, 2]   432       410    3.5      5.26  [5.9, 5.1, 4.7]\n",
      "9    0.909  [2, 2, 2]   480       460    3.5      5.46  [4.9, 5.1, 6.3]\n",
      "\n",
      "Ga4O6_12_10i\n",
      "   cub_nes     k_grid  n_is  n_target  rho_k  rho_k_is        rho_ks_is\n",
      "0    0.624  [4, 8, 4]    10        10    3.5      3.76  [3.9, 3.8, 3.6]\n",
      "1    0.696  [4, 3, 2]    60        60    3.5      3.92  [3.9, 4.3, 3.6]\n",
      "2    0.844  [2, 3, 2]   120       110    3.5      3.97  [3.9, 4.4, 3.6]\n",
      "3    0.947  [2, 2, 2]   160       160    3.5      3.80  [3.9, 3.9, 3.6]\n",
      "4    0.890  [2, 2, 2]   240       210    3.5      4.43  [3.9, 3.9, 5.5]\n",
      "5    0.832  [2, 2, 2]   300       260    3.5      4.76  [3.9, 4.9, 5.5]\n",
      "6    0.783  [2, 2, 2]   360       310    3.5      5.08  [3.9, 5.9, 5.5]\n",
      "7    0.783  [2, 2, 2]   360       360    3.5      5.08  [3.9, 5.9, 5.5]\n",
      "8    0.900  [2, 2, 2]   450       410    3.5      5.41  [5.9, 4.9, 5.5]\n",
      "9    0.947  [2, 2, 2]   540       460    3.5      5.73  [5.9, 5.8, 5.5]\n"
     ]
    }
   ],
   "source": [
    "print(f'Density = {rho}')\n",
    "print(f'n_range = {n_range}')\n",
    "for atoms, df in zip(materials, dfs):\n",
    "    print()\n",
    "    print(atoms.sysname)\n",
    "    print(df)"
   ]
  },
  {
   "cell_type": "code",
   "execution_count": null,
   "metadata": {},
   "outputs": [],
   "source": []
  }
 ],
 "metadata": {
  "kernelspec": {
   "display_name": "Python 3",
   "language": "python",
   "name": "python3"
  },
  "language_info": {
   "codemirror_mode": {
    "name": "ipython",
    "version": 3
   },
   "file_extension": ".py",
   "mimetype": "text/x-python",
   "name": "python",
   "nbconvert_exporter": "python",
   "pygments_lexer": "ipython3",
   "version": "3.6.5"
  }
 },
 "nbformat": 4,
 "nbformat_minor": 2
}
