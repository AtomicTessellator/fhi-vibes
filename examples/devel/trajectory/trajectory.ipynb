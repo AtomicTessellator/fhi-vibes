{
 "cells": [
  {
   "cell_type": "code",
   "execution_count": 1,
   "metadata": {},
   "outputs": [],
   "source": [
    "from pathlib import Path\n",
    "import numpy as np\n",
    "\n",
    "from ase import units as u\n",
    "from ase.build.molecule import molecule\n",
    "from ase.calculators.emt import EMT\n",
    "from ase.md.verlet import VelocityVerlet\n",
    "\n",
    "from hilde.trajectory import metadata2file, step2file, son\n",
    "from hilde.molecular_dynamics import metadata2dict, results2dict"
   ]
  },
  {
   "cell_type": "code",
   "execution_count": 2,
   "metadata": {},
   "outputs": [
    {
     "data": {
      "text/plain": [
       "array([[ 0.05    ,  0.      ,  0.119262],\n",
       "       [ 0.      ,  0.763239, -0.477047],\n",
       "       [ 0.      , -0.763239, -0.477047]])"
      ]
     },
     "execution_count": 2,
     "metadata": {},
     "output_type": "execute_result"
    }
   ],
   "source": [
    "h2o = molecule('H2O')\n",
    "h2o.positions[0, 0] += .05\n",
    "h2o.positions"
   ]
  },
  {
   "cell_type": "markdown",
   "metadata": {},
   "source": [
    "### Initialize MD and calculator"
   ]
  },
  {
   "cell_type": "code",
   "execution_count": 3,
   "metadata": {},
   "outputs": [],
   "source": [
    "h2o.calc = EMT()\n",
    "md = VelocityVerlet(h2o, timestep=u.fs)"
   ]
  },
  {
   "cell_type": "markdown",
   "metadata": {},
   "source": [
    "### Initialize trajectory and save metadata"
   ]
  },
  {
   "cell_type": "code",
   "execution_count": 4,
   "metadata": {},
   "outputs": [],
   "source": [
    "trajectory = Path('trajectory.son')\n",
    "if trajectory.exists():\n",
    "    trajectory.unlink()"
   ]
  },
  {
   "cell_type": "code",
   "execution_count": 5,
   "metadata": {},
   "outputs": [],
   "source": [
    "metadata = metadata2dict(h2o, h2o.calc, md)\n",
    "metadata2file(metadata, file=trajectory)"
   ]
  },
  {
   "cell_type": "markdown",
   "metadata": {},
   "source": [
    "### Run MD"
   ]
  },
  {
   "cell_type": "code",
   "execution_count": 6,
   "metadata": {},
   "outputs": [],
   "source": [
    "for _ in range(2):\n",
    "    step2file(h2o, file=trajectory)\n",
    "    md.run(1)"
   ]
  },
  {
   "cell_type": "code",
   "execution_count": 7,
   "metadata": {},
   "outputs": [
    {
     "data": {
      "text/plain": [
       "({'MD': {'type': 'molecular-dynamics',\n",
       "   'md-type': 'VelocityVerlet',\n",
       "   'timestep': 0.0982269478846406,\n",
       "   'fs': 0.0982269478846406,\n",
       "   'kB': 8.61733033721721e-05,\n",
       "   'dt': 0.0982269478846406,\n",
       "   'kg': 6.02214085854916e+26},\n",
       "  'calculator': {'calculator': 'EMT', 'calculator_parameters': {}},\n",
       "  'atoms': {'symbols': ['O', 'H', 'H'],\n",
       "   'masses': [15.999, 1.008, 1.008],\n",
       "   'positions': [[0.05, 0.0, 0.119262],\n",
       "    [0.0, 0.763239, -0.477047],\n",
       "    [0.0, -0.763239, -0.477047]],\n",
       "   'velocities': [[0.0, 0.0, 0.0], [0.0, 0.0, 0.0], [0.0, 0.0, 0.0]]},\n",
       "  'hilde': {'version': '0.1.3.1'}},\n",
       " [{'atoms': {'positions': [[0.05, 0.0, 0.119262],\n",
       "     [0.0, 0.763239, -0.477047],\n",
       "     [0.0, -0.763239, -0.477047]],\n",
       "    'velocities': [[0.0, 0.0, 0.0], [0.0, 0.0, 0.0], [0.0, 0.0, 0.0]]},\n",
       "   'calculator': {}},\n",
       "  {'atoms': {'positions': [[0.050192784806881, 0.0, 0.12156118630812801],\n",
       "     [-0.00152994252246508, 0.7875231843281151, -0.495293369912573],\n",
       "     [-0.00152994252246508, -0.7875231843281151, -0.495293369912573]],\n",
       "    'velocities': [[0.00331626693373798, 0.0, 0.0395503963798072],\n",
       "     [-0.026317933865512903, 0.416484259959743, -0.313872416508202],\n",
       "     [-0.026317933865512903, -0.416484259959743, -0.313872416508202]]},\n",
       "   'calculator': {'energy': 2.2645620568083,\n",
       "    'free_energy': 2.2645620568083,\n",
       "    'forces': [[0.44094963082604804, 0.0, 5.25884466816499],\n",
       "     [-0.22047481541302402, 3.4738543593521, -2.6294223340825003],\n",
       "     [-0.22047481541302402, -3.4738543593521, -2.6294223340825003]]}}])"
      ]
     },
     "execution_count": 7,
     "metadata": {},
     "output_type": "execute_result"
    }
   ],
   "source": [
    "metadata, traj = son.load(trajectory)\n",
    "metadata, traj"
   ]
  },
  {
   "cell_type": "code",
   "execution_count": null,
   "metadata": {},
   "outputs": [],
   "source": []
  }
 ],
 "metadata": {
  "kernelspec": {
   "display_name": "Python 3",
   "language": "python",
   "name": "python3"
  },
  "language_info": {
   "codemirror_mode": {
    "name": "ipython",
    "version": 3
   },
   "file_extension": ".py",
   "mimetype": "text/x-python",
   "name": "python",
   "nbconvert_exporter": "python",
   "pygments_lexer": "ipython3",
   "version": "3.7.2"
  }
 },
 "nbformat": 4,
 "nbformat_minor": 2
}
