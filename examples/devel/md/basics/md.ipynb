{
 "cells": [
  {
   "cell_type": "code",
   "execution_count": 1,
   "metadata": {},
   "outputs": [],
   "source": [
    "import numpy as np\n",
    "from pathlib import Path\n",
    "from IPython.display import Markdown\n",
    "\n",
    "from ase.io import read, Trajectory\n",
    "from ase.md.verlet import VelocityVerlet\n",
    "from ase.md.velocitydistribution import PhononHarmonics\n",
    "from ase import units\n",
    "from ase.calculators.emt import EMT\n",
    "\n",
    "import matplotlib.pyplot as plt\n",
    "%matplotlib inline"
   ]
  },
  {
   "cell_type": "code",
   "execution_count": 2,
   "metadata": {},
   "outputs": [],
   "source": [
    "# Read input files\n",
    "atoms = read(\"Al.in.supercell\", \"0\", \"aims\")\n",
    "force_constants = np.loadtxt(\"force_constants_Al.dat\")"
   ]
  },
  {
   "cell_type": "code",
   "execution_count": 3,
   "metadata": {},
   "outputs": [],
   "source": [
    "# Create tmp folder and settings\n",
    "tmp_dir = Path('tmp_md')\n",
    "tmp_dir.mkdir(exist_ok=True)\n",
    "log_settings = {\"trajectory\": str(tmp_dir / \"md.traj\"), \"logfile\": str(tmp_dir / \"md.log\")}\n",
    "\n",
    "temp = 300 * units.kB\n",
    "timestep = 5 #fs\n",
    "n_steps = 100"
   ]
  },
  {
   "cell_type": "code",
   "execution_count": 4,
   "metadata": {},
   "outputs": [],
   "source": [
    "# initialize positions + velocities\n",
    "PhononHarmonics(atoms, force_constants, temp=temp, quantum=False, \n",
    "                rng=np.random.RandomState(1))"
   ]
  },
  {
   "cell_type": "code",
   "execution_count": 5,
   "metadata": {},
   "outputs": [],
   "source": [
    "md = VelocityVerlet(atoms, timestep=timestep*units.fs, **log_settings)"
   ]
  },
  {
   "cell_type": "code",
   "execution_count": 6,
   "metadata": {},
   "outputs": [],
   "source": [
    "atoms.calc = EMT()\n",
    "md.run(n_steps)"
   ]
  },
  {
   "cell_type": "code",
   "execution_count": 7,
   "metadata": {},
   "outputs": [],
   "source": [
    "# Read the output\n",
    "traj = Trajectory(log_settings['trajectory'])\n",
    "\n",
    "temperatures = [at.get_temperature() for at in traj]\n",
    "e_pot = [at.get_potential_energy() for at in traj]\n",
    "e_kin = [at.get_kinetic_energy() for at in traj]\n",
    "\n",
    "times = np.arange(0, n_steps * timestep, timestep)"
   ]
  },
  {
   "cell_type": "code",
   "execution_count": 8,
   "metadata": {},
   "outputs": [
    {
     "data": {
      "text/plain": [
       "Text(0.5,0,'Time in fs')"
      ]
     },
     "execution_count": 8,
     "metadata": {},
     "output_type": "execute_result"
    },
    {
     "data": {
      "image/png": "[encoded data removed]",
      "text/plain": [
       "<Figure size 432x288 with 3 Axes>"
      ]
     },
     "metadata": {
      "needs_background": "light"
     },
     "output_type": "display_data"
    }
   ],
   "source": [
    "fig, axs = plt.subplots(nrows=3, sharex=True)\n",
    "axs[0].plot(times, temperatures, '*')\n",
    "axs[1].plot(times, e_pot, '*')\n",
    "axs[2].plot(times, e_kin, '*')\n",
    "axs[2].set_xlabel('Time in fs')"
   ]
  },
  {
   "cell_type": "code",
   "execution_count": 9,
   "metadata": {},
   "outputs": [
    {
     "data": {
      "text/markdown": [
       "## Average temperature: $\\langle T \\rangle$ = 272.84 K"
      ],
      "text/plain": [
       "<IPython.core.display.Markdown object>"
      ]
     },
     "execution_count": 9,
     "metadata": {},
     "output_type": "execute_result"
    }
   ],
   "source": [
    "avg_temp = np.asarray(temperatures).mean()\n",
    "\n",
    "Markdown(rf\"## Average temperature: $\\langle T \\rangle$ = {avg_temp:.2f} K\")"
   ]
  },
  {
   "cell_type": "code",
   "execution_count": 10,
   "metadata": {},
   "outputs": [],
   "source": [
    "assert 200 < avg_temp < 400"
   ]
  },
  {
   "cell_type": "code",
   "execution_count": null,
   "metadata": {},
   "outputs": [],
   "source": []
  }
 ],
 "metadata": {
  "kernelspec": {
   "display_name": "Python 3",
   "language": "python",
   "name": "python3"
  },
  "language_info": {
   "codemirror_mode": {
    "name": "ipython",
    "version": 3
   },
   "file_extension": ".py",
   "mimetype": "text/x-python",
   "name": "python",
   "nbconvert_exporter": "python",
   "pygments_lexer": "ipython3",
   "version": "3.7.0"
  }
 },
 "nbformat": 4,
 "nbformat_minor": 2
}
