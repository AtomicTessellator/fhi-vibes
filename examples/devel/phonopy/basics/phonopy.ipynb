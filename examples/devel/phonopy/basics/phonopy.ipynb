{
 "cells": [
  {
   "cell_type": "code",
   "execution_count": 1,
   "metadata": {},
   "outputs": [],
   "source": [
    "from pathlib import Path\n",
    "import numpy as np\n",
    "from ase.calculators.emt import EMT\n",
    "from vibes.parsers import read_structure, read_output\n",
    "from vibes.phonopy import wrapper as ph\n",
    "from vibes.helpers.brillouinzone import get_paths, get_bands_and_labels, get_cellinfo, bandpath\n",
    "import matplotlib.pyplot as plt\n",
    "%matplotlib inline"
   ]
  },
  {
   "cell_type": "code",
   "execution_count": 2,
   "metadata": {},
   "outputs": [],
   "source": [
    "atoms = read_structure('../Al.in')\n",
    "vol = atoms.get_volume()"
   ]
  },
  {
   "cell_type": "code",
   "execution_count": 3,
   "metadata": {},
   "outputs": [],
   "source": [
    "smatrix = 2*np.array([[-1,  1,  1],\n",
    "                      [ 1, -1,  1],\n",
    "                      [ 1,  1, -1]])"
   ]
  },
  {
   "cell_type": "code",
   "execution_count": 4,
   "metadata": {},
   "outputs": [
    {
     "name": "stdout",
     "output_type": "stream",
     "text": [
      "Help on function preprocess in module vibes.phonopy.phono:\n",
      "\n",
      "preprocess(atoms, supercell_matrix, disp=0.01, symprec=1e-05, trigonal=False)\n",
      "    Creates a phonopy object from given input\n",
      "    Args:\n",
      "        atoms: atoms object that represents the (primitive) unit cell\n",
      "        supercell_matrix: supercell matrix\n",
      "        disp: displacement for the finite displacemt\n",
      "    \n",
      "    Returns:\n",
      "        namedtuple with the phonon object, the supercell\n",
      "        and the supercells_with_displacements as ase.atoms\n",
      "\n"
     ]
    }
   ],
   "source": [
    "help(ph.preprocess)"
   ]
  },
  {
   "cell_type": "code",
   "execution_count": 5,
   "metadata": {},
   "outputs": [
    {
     "data": {
      "text/plain": [
       "(<phonopy.api_phonopy.Phonopy at 0x14e48c30f198>,\n",
       " pAtoms(symbols='Al32', pbc=True, cell=[8.094531999999997, 8.094531999999997, 8.094531999999997]),\n",
       " [pAtoms(symbols='Al32', pbc=True, cell=[8.094531999999997, 8.094531999999997, 8.094531999999997])])"
      ]
     },
     "execution_count": 5,
     "metadata": {},
     "output_type": "execute_result"
    }
   ],
   "source": [
    "phonon, sc, scs = ph.preprocess(atoms, smatrix)\n",
    "phonon, sc, scs"
   ]
  },
  {
   "cell_type": "code",
   "execution_count": 6,
   "metadata": {},
   "outputs": [],
   "source": [
    "# Define working directory and create it\n",
    "workdir = Path('./Si_{}{}{}_{}{}{}_{}{}{}_{:.3f}'.format(*smatrix.flatten(), vol))\n",
    "workdir.mkdir(exist_ok=True)"
   ]
  },
  {
   "cell_type": "code",
   "execution_count": 7,
   "metadata": {},
   "outputs": [],
   "source": [
    "# Compute and collect the forces\n",
    "force_sets = []\n",
    "calc = EMT()\n",
    "for scell in scs:\n",
    "    scell.calc = calc\n",
    "    forces = scell.get_forces()\n",
    "    force_sets.append(forces)"
   ]
  },
  {
   "cell_type": "code",
   "execution_count": 8,
   "metadata": {},
   "outputs": [
    {
     "data": {
      "text/plain": [
       "True"
      ]
     },
     "execution_count": 8,
     "metadata": {},
     "output_type": "execute_result"
    }
   ],
   "source": [
    "phonon.produce_force_constants(force_sets)"
   ]
  },
  {
   "cell_type": "code",
   "execution_count": 9,
   "metadata": {},
   "outputs": [],
   "source": [
    "dos = ph.get_dos(phonon=phonon)"
   ]
  },
  {
   "cell_type": "code",
   "execution_count": 10,
   "metadata": {},
   "outputs": [
    {
     "data": {
      "text/plain": [
       "[<matplotlib.lines.Line2D at 0x14e48bff3668>]"
      ]
     },
     "execution_count": 10,
     "metadata": {},
     "output_type": "execute_result"
    },
    {
     "data": {
      "image/png": "[encoded data removed]",
      "text/plain": [
       "<Figure size 432x288 with 1 Axes>"
      ]
     },
     "metadata": {
      "needs_background": "light"
     },
     "output_type": "display_data"
    }
   ],
   "source": [
    "plt.plot(dos[0], dos[1])"
   ]
  },
  {
   "cell_type": "code",
   "execution_count": 11,
   "metadata": {},
   "outputs": [
    {
     "data": {
      "text/plain": [
       "{'G': array([0, 0, 0]),\n",
       " 'K': array([0.375, 0.375, 0.75 ]),\n",
       " 'L': array([0.5, 0.5, 0.5]),\n",
       " 'U': array([0.625, 0.25 , 0.625]),\n",
       " 'W': array([0.5 , 0.25, 0.75]),\n",
       " 'X': array([0.5, 0. , 0.5])}"
      ]
     },
     "execution_count": 11,
     "metadata": {},
     "output_type": "execute_result"
    }
   ],
   "source": [
    "cellinfo = get_cellinfo(atoms.cell)\n",
    "cellinfo.special_points"
   ]
  },
  {
   "cell_type": "code",
   "execution_count": 12,
   "metadata": {},
   "outputs": [
    {
     "data": {
      "text/plain": [
       "['GXWKGLUWLK', 'UX']"
      ]
     },
     "execution_count": 12,
     "metadata": {},
     "output_type": "execute_result"
    }
   ],
   "source": [
    "get_paths(atoms)"
   ]
  },
  {
   "cell_type": "code",
   "execution_count": 13,
   "metadata": {},
   "outputs": [
    {
     "data": {
      "text/plain": [
       "['G', 'X', 'W', 'G', 'L']"
      ]
     },
     "execution_count": 13,
     "metadata": {},
     "output_type": "execute_result"
    }
   ],
   "source": [
    "bands, labels = get_bands_and_labels(atoms, paths=['GXWGL'], latex=False)\n",
    "labels"
   ]
  },
  {
   "cell_type": "code",
   "execution_count": 14,
   "metadata": {
    "scrolled": false
   },
   "outputs": [
    {
     "data": {
      "image/png": "[encoded data removed]",
      "text/plain": [
       "<Figure size 432x288 with 1 Axes>"
      ]
     },
     "metadata": {
      "needs_background": "light"
     },
     "output_type": "display_data"
    }
   ],
   "source": [
    "phonon.set_band_structure(bands)\n",
    "if 0:\n",
    "    phonon.plot_band_structure(labels=labels)\n",
    "else:\n",
    "    # for testing, don't use latex\n",
    "    phonon.plot_band_structure()"
   ]
  },
  {
   "cell_type": "code",
   "execution_count": 15,
   "metadata": {},
   "outputs": [],
   "source": [
    "qp, dd, fr, ev, ls = ph.get_bandstructure(phonon)"
   ]
  },
  {
   "cell_type": "code",
   "execution_count": 16,
   "metadata": {},
   "outputs": [],
   "source": [
    "assert 7 < np.max(fr) < 10"
   ]
  },
  {
   "cell_type": "code",
   "execution_count": null,
   "metadata": {},
   "outputs": [],
   "source": []
  }
 ],
 "metadata": {
  "kernelspec": {
   "display_name": "Python 3",
   "language": "python",
   "name": "python3"
  },
  "language_info": {
   "codemirror_mode": {
    "name": "ipython",
    "version": 3
   },
   "file_extension": ".py",
   "mimetype": "text/x-python",
   "name": "python",
   "nbconvert_exporter": "python",
   "pygments_lexer": "ipython3",
   "version": "3.7.0"
  }
 },
 "nbformat": 4,
 "nbformat_minor": 2
}
