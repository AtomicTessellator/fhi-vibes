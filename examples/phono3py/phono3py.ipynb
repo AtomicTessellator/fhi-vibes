{
 "cells": [
  {
   "cell_type": "code",
   "execution_count": 1,
   "metadata": {},
   "outputs": [],
   "source": [
    "import importlib as il\n",
    "import numpy as np\n",
    "import h5py\n",
    "\n",
    "from ase.calculators.emt import EMT\n",
    "from ase.io import read\n",
    "from hilde.helpers.supercell import make_cubic_supercell\n",
    "from hilde.tasks.calculate import calculate_multiple\n",
    "from hilde.structure.io import inform"
   ]
  },
  {
   "cell_type": "code",
   "execution_count": 2,
   "metadata": {},
   "outputs": [],
   "source": [
    "ph3 = il.import_module('hilde.phono3py.phono3')"
   ]
  },
  {
   "cell_type": "code",
   "execution_count": 3,
   "metadata": {},
   "outputs": [],
   "source": [
    "atoms = read('../Al.in', format='aims')"
   ]
  },
  {
   "cell_type": "code",
   "execution_count": 4,
   "metadata": {},
   "outputs": [
    {
     "name": "stdout",
     "output_type": "stream",
     "text": [
      "\n",
      "Geometry info for:\n",
      "  input geometry:    Al32\n",
      "  Number of atoms:   32\n",
      "  Species:           Al\n",
      "  Periodicity:       [ True  True  True]\n",
      "  Lattice:  \n",
      "    [8.094532 0.       0.      ]\n",
      "    [0.       8.094532 0.      ]\n",
      "    [0.       0.       8.094532]\n",
      "\n",
      "  supercell_matrix: [-2, 2, 2, 2, -2, 2, 2, 2, -2]\n",
      "\n",
      "Cell lengths and angles [Å, °]:\n",
      "  a, b, c:      8.0945      8.0945      8.0945\n",
      "  α, β, γ:     90.0000     90.0000     90.0000\n",
      "  Volume:     530.3655 Å**3\n"
     ]
    }
   ],
   "source": [
    "sc2, smatrix2 = make_cubic_supercell(atoms, 64)\n",
    "sc3, smatrix3 = make_cubic_supercell(atoms, 30)\n",
    "inform(sc3)"
   ]
  },
  {
   "cell_type": "code",
   "execution_count": null,
   "metadata": {},
   "outputs": [],
   "source": []
  },
  {
   "cell_type": "code",
   "execution_count": 5,
   "metadata": {},
   "outputs": [],
   "source": [
    "phono3py_settings = {\n",
    "    'atoms': atoms,\n",
    "    'fc2_supercell_matrix': smatrix2,\n",
    "    'fc3_supercell_matrix': smatrix3,\n",
    "    'cutoff_pair_distance': 3\n",
    "}"
   ]
  },
  {
   "cell_type": "code",
   "execution_count": 6,
   "metadata": {},
   "outputs": [
    {
     "data": {
      "text/plain": [
       "<module 'hilde.phono3py.phono3' from '/home/knoop/local/hilde/hilde/phono3py/phono3.py'>"
      ]
     },
     "execution_count": 6,
     "metadata": {},
     "output_type": "execute_result"
    }
   ],
   "source": [
    "il.reload(ph3)\n",
    "# help(ph3.preprocess)"
   ]
  },
  {
   "cell_type": "code",
   "execution_count": 7,
   "metadata": {},
   "outputs": [],
   "source": [
    "phonon3, sc2, sc3, scs2, scs3 = ph3.preprocess(**phono3py_settings)"
   ]
  },
  {
   "cell_type": "code",
   "execution_count": 8,
   "metadata": {},
   "outputs": [
    {
     "name": "stdout",
     "output_type": "stream",
     "text": [
      "Number of FC2 displacements: 2\n",
      "Number of FC3 displacements: 37\n",
      "Number of FC3 displacements that were created: 15\n"
     ]
    }
   ],
   "source": [
    "print(f'Number of FC2 displacements: {len(scs2)}')\n",
    "print(f'Number of FC3 displacements: {len(scs3)}')\n",
    "print(f'Number of FC3 displacements that were created: {len([sc for sc in scs3 if sc])}')"
   ]
  },
  {
   "cell_type": "code",
   "execution_count": 9,
   "metadata": {},
   "outputs": [],
   "source": [
    "calc = EMT()"
   ]
  },
  {
   "cell_type": "markdown",
   "metadata": {},
   "source": [
    "## Compute Forces"
   ]
  },
  {
   "cell_type": "code",
   "execution_count": 10,
   "metadata": {
    "scrolled": true
   },
   "outputs": [],
   "source": [
    "scs2_computed = calculate_multiple(scs2, calc, 'test_run/fc2', trajectory='fc2.traj')\n",
    "fc2_forces = ph3.get_forces(scs2_computed)"
   ]
  },
  {
   "cell_type": "code",
   "execution_count": 11,
   "metadata": {},
   "outputs": [
    {
     "name": "stdout",
     "output_type": "stream",
     "text": [
      "CPU times: user 520 ms, sys: 159 µs, total: 520 ms\n",
      "Wall time: 518 ms\n"
     ]
    },
    {
     "data": {
      "text/plain": [
       "(37, 37)"
      ]
     },
     "execution_count": 11,
     "metadata": {},
     "output_type": "execute_result"
    }
   ],
   "source": [
    "%time scs3_computed = calculate_multiple(scs3, calc, 'test_run/fc3', trajectory='fc3.traj')\n",
    "fc3_forces = ph3.get_forces(scs3_computed)\n",
    "len(scs3_computed), len(scs3)"
   ]
  },
  {
   "cell_type": "code",
   "execution_count": 12,
   "metadata": {},
   "outputs": [
    {
     "data": {
      "text/plain": [
       "{'displacement_id': 28}"
      ]
     },
     "execution_count": 12,
     "metadata": {},
     "output_type": "execute_result"
    }
   ],
   "source": [
    "[s for s in scs3_computed if s][-1].info"
   ]
  },
  {
   "cell_type": "markdown",
   "metadata": {},
   "source": [
    "## Produce Force Constants"
   ]
  },
  {
   "cell_type": "code",
   "execution_count": 13,
   "metadata": {},
   "outputs": [],
   "source": [
    "phonon3.produce_fc2(fc2_forces)"
   ]
  },
  {
   "cell_type": "code",
   "execution_count": 14,
   "metadata": {},
   "outputs": [
    {
     "name": "stdout",
     "output_type": "stream",
     "text": [
      "Computing fc3[ 1, x, x ] using numpy.linalg.pinv with a displacement:\n",
      "    [ 0.0300  0.0000  0.0000]\n",
      "Expanding fc3\n",
      "Cutting-off fc3 (cut-off distance: 3.000000)\n",
      "Building atom mapping table...\n",
      "Creating contracted fc3...\n",
      "CPU times: user 2.78 s, sys: 535 ms, total: 3.32 s\n",
      "Wall time: 2.67 s\n"
     ]
    }
   ],
   "source": [
    "%time phonon3.produce_fc3(fc3_forces)"
   ]
  },
  {
   "cell_type": "code",
   "execution_count": 15,
   "metadata": {},
   "outputs": [],
   "source": [
    "fc2 = phonon3.get_fc2()\n",
    "fc3 = phonon3.get_fc3()"
   ]
  },
  {
   "cell_type": "code",
   "execution_count": 16,
   "metadata": {},
   "outputs": [],
   "source": [
    "q_mesh = 3*[3]\n",
    "phonon3_new = ph3.prepare_phono3py(**phono3py_settings,\n",
    "                                   fc2=fc2,\n",
    "                                   fc3=fc3,\n",
    "                                   q_mesh=q_mesh,\n",
    "                                   log_level=0)"
   ]
  },
  {
   "cell_type": "code",
   "execution_count": 17,
   "metadata": {},
   "outputs": [],
   "source": [
    "phonon3_new.run_thermal_conductivity(write_kappa=True)"
   ]
  },
  {
   "cell_type": "code",
   "execution_count": 18,
   "metadata": {},
   "outputs": [
    {
     "name": "stdout",
     "output_type": "stream",
     "text": [
      "[[-1.10904910e-06  1.94533367e-07  1.35757994e-06]\n",
      " [-1.06954566e+00  2.85642562e+00  5.36872093e+00]\n",
      " [-5.52775954e-01  4.59473925e+00  6.60728814e+00]\n",
      " [-7.76155124e-01  5.41591746e+00  6.86746735e+00]]\n",
      "[[ 3.17337731e+01  3.17337731e+01  3.17337731e+01 -2.06432817e-16\n",
      "  -2.42726872e-17 -7.28371948e-17]]\n"
     ]
    }
   ],
   "source": [
    "with h5py.File('kappa-m{}.hdf5'.format(''.join(map(str, q_mesh)))) as kappa:\n",
    "    print(kappa['frequency'][:])\n",
    "    print(kappa['kappa'][:][np.where(kappa['temperature'][:] == 300)][:3])\n",
    "    assert 5 < kappa['frequency'][:].max() < 10\n",
    "    # assert 25 < kappa['kappa'][:][30][:3].mean() < 35"
   ]
  },
  {
   "cell_type": "code",
   "execution_count": null,
   "metadata": {},
   "outputs": [],
   "source": []
  }
 ],
 "metadata": {
  "kernelspec": {
   "display_name": "Python 3",
   "language": "python",
   "name": "python3"
  },
  "language_info": {
   "codemirror_mode": {
    "name": "ipython",
    "version": 3
   },
   "file_extension": ".py",
   "mimetype": "text/x-python",
   "name": "python",
   "nbconvert_exporter": "python",
   "pygments_lexer": "ipython3",
   "version": "3.7.0"
  }
 },
 "nbformat": 4,
 "nbformat_minor": 2
}
