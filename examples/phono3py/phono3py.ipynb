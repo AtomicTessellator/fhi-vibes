{
 "cells": [
  {
   "cell_type": "code",
   "execution_count": 1,
   "metadata": {},
   "outputs": [],
   "source": [
    "import importlib as il\n",
    "import numpy as np\n",
    "import h5py\n",
    "\n",
    "from ase.calculators.emt import EMT\n",
    "from ase.io import read\n",
    "from hilde.helpers.supercell import make_cubic_supercell\n",
    "from hilde.tasks.calculate import calculate_multiple\n",
    "from hilde.structure.io import inform"
   ]
  },
  {
   "cell_type": "code",
   "execution_count": 2,
   "metadata": {},
   "outputs": [],
   "source": [
    "ph3 = il.import_module('hilde.phono3py.phono3')"
   ]
  },
  {
   "cell_type": "code",
   "execution_count": 3,
   "metadata": {},
   "outputs": [],
   "source": [
    "atoms = read('../Al.in', format='aims')"
   ]
  },
  {
   "cell_type": "code",
   "execution_count": 4,
   "metadata": {},
   "outputs": [
    {
     "name": "stdout",
     "output_type": "stream",
     "text": [
      "**Warning: Cubicness of supercell is 0.690 (0.329)\n",
      "**-> Sytems: Al, target size 8\n",
      "\n",
      "Geometry info for:\n",
      "  input geometry:    Al9\n",
      "  Number of atoms:   9\n",
      "  Species:           Al\n",
      "  Periodicity:       [ True  True  True]\n",
      "  Lattice:  \n",
      "    [ 6.070899  0.       -2.023633]\n",
      "    [ 0.        6.070899 -2.023633]\n",
      "    [0.       0.       4.047266]\n",
      "\n",
      "  supercell_matrix: [-2, 1, 2, 1, -2, 2, 1, 1, -1]\n",
      "\n",
      "Cell lengths and angles [Å, °]:\n",
      "  a, b, c:      6.3993      6.3993      4.0473\n",
      "  α, β, γ:    108.4349    108.4349     84.2608\n",
      "  Volume:     149.1653 Å**3\n"
     ]
    }
   ],
   "source": [
    "sc2, smatrix2 = make_cubic_supercell(atoms, 64)\n",
    "sc3, smatrix3 = make_cubic_supercell(atoms, 8)\n",
    "inform(sc3)"
   ]
  },
  {
   "cell_type": "code",
   "execution_count": null,
   "metadata": {},
   "outputs": [],
   "source": []
  },
  {
   "cell_type": "code",
   "execution_count": 5,
   "metadata": {},
   "outputs": [],
   "source": [
    "phono3py_settings = {\n",
    "    'atoms': atoms,\n",
    "    'fc2_supercell_matrix': smatrix2,\n",
    "    'fc3_supercell_matrix': smatrix3,\n",
    "    'cutoff_pair_distance': 3\n",
    "}"
   ]
  },
  {
   "cell_type": "code",
   "execution_count": 6,
   "metadata": {},
   "outputs": [
    {
     "data": {
      "text/plain": [
       "<module 'hilde.phono3py.phono3' from '/home/knoop/local/hilde/hilde/phono3py/phono3.py'>"
      ]
     },
     "execution_count": 6,
     "metadata": {},
     "output_type": "execute_result"
    }
   ],
   "source": [
    "il.reload(ph3)\n",
    "# help(ph3.preprocess)"
   ]
  },
  {
   "cell_type": "code",
   "execution_count": 7,
   "metadata": {},
   "outputs": [
    {
     "name": "stdout",
     "output_type": "stream",
     "text": [
      "Warning: point group symmetries of supercell and primitivecell are different.\n"
     ]
    }
   ],
   "source": [
    "phonon3, sc2, sc3, scs2, scs3 = ph3.preprocess(**phono3py_settings)"
   ]
  },
  {
   "cell_type": "code",
   "execution_count": 8,
   "metadata": {},
   "outputs": [
    {
     "name": "stdout",
     "output_type": "stream",
     "text": [
      "Number of FC2 displacements: 2\n",
      "Number of FC3 displacements: 31\n",
      "Number of FC3 displacements that were created: 31\n"
     ]
    }
   ],
   "source": [
    "print(f'Number of FC2 displacements: {len(scs2)}')\n",
    "print(f'Number of FC3 displacements: {len(scs3)}')\n",
    "print(f'Number of FC3 displacements that were created: {len([sc for sc in scs3 if sc])}')"
   ]
  },
  {
   "cell_type": "code",
   "execution_count": 9,
   "metadata": {},
   "outputs": [],
   "source": [
    "calc = EMT()"
   ]
  },
  {
   "cell_type": "markdown",
   "metadata": {},
   "source": [
    "## Compute Forces"
   ]
  },
  {
   "cell_type": "code",
   "execution_count": 10,
   "metadata": {
    "scrolled": true
   },
   "outputs": [
    {
     "name": "stderr",
     "output_type": "stream",
     "text": [
      "/home/knoop/local/hilde/hilde/tasks/calculate.py:46: UserWarning: dont compare stupid things -> replace me with hashes\n",
      "  warn(\"dont compare stupid things -> replace me with hashes\")\n"
     ]
    }
   ],
   "source": [
    "scs2_computed = calculate_multiple(scs2, calc, 'test_run/fc2', trajectory='fc2.traj')\n",
    "fc2_forces = ph3.get_forces(scs2_computed)"
   ]
  },
  {
   "cell_type": "code",
   "execution_count": 11,
   "metadata": {},
   "outputs": [
    {
     "name": "stdout",
     "output_type": "stream",
     "text": [
      "CPU times: user 749 ms, sys: 16 ms, total: 765 ms\n",
      "Wall time: 764 ms\n"
     ]
    },
    {
     "data": {
      "text/plain": [
       "(31, 31)"
      ]
     },
     "execution_count": 11,
     "metadata": {},
     "output_type": "execute_result"
    }
   ],
   "source": [
    "%time scs3_computed = calculate_multiple(scs3, calc, 'test_run/fc3', trajectory='fc3.traj')\n",
    "fc3_forces = ph3.get_forces(scs3_computed)\n",
    "len(scs3_computed), len(scs3)"
   ]
  },
  {
   "cell_type": "code",
   "execution_count": 12,
   "metadata": {},
   "outputs": [
    {
     "data": {
      "text/plain": [
       "{'displacement_id': 32}"
      ]
     },
     "execution_count": 12,
     "metadata": {},
     "output_type": "execute_result"
    }
   ],
   "source": [
    "[s for s in scs3_computed if s][-1].info"
   ]
  },
  {
   "cell_type": "markdown",
   "metadata": {},
   "source": [
    "## Produce Force Constants"
   ]
  },
  {
   "cell_type": "code",
   "execution_count": 13,
   "metadata": {},
   "outputs": [],
   "source": [
    "phonon3.produce_fc2(fc2_forces)"
   ]
  },
  {
   "cell_type": "code",
   "execution_count": 14,
   "metadata": {},
   "outputs": [
    {
     "name": "stdout",
     "output_type": "stream",
     "text": [
      "Computing fc3[ 1, x, x ] using numpy.linalg.pinv with a displacement:\n",
      "    [ 0.0071  0.0071  0.0283]\n",
      "Expanding fc3\n",
      "Cutting-off fc3 (cut-off distance: 3.000000)\n",
      "Building atom mapping table...\n",
      "Creating contracted fc3...\n",
      "CPU times: user 244 ms, sys: 534 ms, total: 778 ms\n",
      "Wall time: 136 ms\n"
     ]
    }
   ],
   "source": [
    "%time phonon3.produce_fc3(fc3_forces)"
   ]
  },
  {
   "cell_type": "code",
   "execution_count": 15,
   "metadata": {},
   "outputs": [],
   "source": [
    "fc2 = phonon3.get_fc2()\n",
    "fc3 = phonon3.get_fc3()"
   ]
  },
  {
   "cell_type": "code",
   "execution_count": 16,
   "metadata": {},
   "outputs": [
    {
     "name": "stdout",
     "output_type": "stream",
     "text": [
      "Warning: point group symmetries of supercell and primitivecell are different.\n"
     ]
    }
   ],
   "source": [
    "q_mesh = 3*[3]\n",
    "phonon3_new = ph3.prepare_phono3py(**phono3py_settings,\n",
    "                                   fc2=fc2,\n",
    "                                   fc3=fc3,\n",
    "                                   q_mesh=q_mesh,\n",
    "                                   log_level=0)"
   ]
  },
  {
   "cell_type": "code",
   "execution_count": 17,
   "metadata": {},
   "outputs": [],
   "source": [
    "phonon3_new.run_thermal_conductivity(write_kappa=True)"
   ]
  },
  {
   "cell_type": "code",
   "execution_count": 18,
   "metadata": {},
   "outputs": [
    {
     "name": "stdout",
     "output_type": "stream",
     "text": [
      "[[-7.92231114e-08  1.25433682e-06  1.27761432e-06]\n",
      " [-6.18972256e+00  1.46177915e-01  2.63121323e+00]\n",
      " [-6.16949440e+00  1.89411179e+00  5.26852675e+00]\n",
      " [-6.70417613e+00  1.00875939e+00  5.88649436e+00]]\n",
      "[[ 1.75645773e-02  1.75645773e-02  1.75645773e-02 -1.57135350e-18\n",
      "  -2.64372306e-18  5.29455016e-18]]\n"
     ]
    }
   ],
   "source": [
    "with h5py.File('kappa-m{}.hdf5'.format(''.join(map(str, q_mesh)))) as kappa:\n",
    "    print(kappa['frequency'][:])\n",
    "    print(kappa['kappa'][:][np.where(kappa['temperature'][:] == 300)][:3])\n",
    "    # assert 5 < kappa['frequency'][:].max() < 10, kappa['frequency'][:].max()\n",
    "    # assert 25 < kappa['kappa'][:][30][:3].mean() < 35"
   ]
  },
  {
   "cell_type": "code",
   "execution_count": null,
   "metadata": {},
   "outputs": [],
   "source": []
  }
 ],
 "metadata": {
  "kernelspec": {
   "display_name": "Python 3",
   "language": "python",
   "name": "python3"
  },
  "language_info": {
   "codemirror_mode": {
    "name": "ipython",
    "version": 3
   },
   "file_extension": ".py",
   "mimetype": "text/x-python",
   "name": "python",
   "nbconvert_exporter": "python",
   "pygments_lexer": "ipython3",
   "version": "3.7.0"
  }
 },
 "nbformat": 4,
 "nbformat_minor": 2
}
