{
 "cells": [
  {
   "cell_type": "code",
   "execution_count": 1,
   "metadata": {},
   "outputs": [
    {
     "name": "stdout",
     "output_type": "stream",
     "text": [
      "AttributeDict([('displacement', 0.03), ('symprec', 1e-05), ('trigonal', False), ('is_diagonal', False), ('q_mesh', [11, 11, 11]), ('cutoff_pair_distance', 100.0), ('log_level', 2)])\n"
     ]
    }
   ],
   "source": [
    "import numpy as np\n",
    "import h5py\n",
    "\n",
    "from ase.build import bulk\n",
    "from ase.calculators.emt import EMT\n",
    "from vibes.helpers.supercell import make_cubic_supercell\n",
    "from vibes.structure.io import inform\n",
    "\n",
    "from vibes.phonopy import wrapper as ph, workflow as wf\n",
    "from vibes.phono3py import wrapper as ph3, workflow as wf3\n",
    "\n",
    "from vibes.helpers.pickle import pread"
   ]
  },
  {
   "cell_type": "code",
   "execution_count": 2,
   "metadata": {},
   "outputs": [],
   "source": [
    "atoms = bulk('Al', cubic=True)"
   ]
  },
  {
   "cell_type": "code",
   "execution_count": 3,
   "metadata": {},
   "outputs": [
    {
     "name": "stdout",
     "output_type": "stream",
     "text": [
      "\n",
      "Geometry info for:\n",
      "  input geometry:    Al32\n",
      "  Symmetry prec.:    1e-05\n",
      "  Number of atoms:   32\n",
      "  Species:           Al\n",
      "  Periodicity:       [ True  True  True]\n",
      "  Lattice:  \n",
      "    [8.1 0.  0. ]\n",
      "    [0.  8.1 0. ]\n",
      "    [0.  0.  8.1]\n",
      "\n",
      "  Spacegroup:          Fm-3m (225)\n",
      "  Wyckoff positions:   32*a\n",
      "  Equivalent atoms:    32*a\n",
      "  Standard lattice:  \n",
      "    [4.05 0.   0.  ]\n",
      "    [0.   4.05 0.  ]\n",
      "    [0.   0.   4.05]\n",
      "  supercell_matrix: [2, 0, 0, 0, 2, 0, 0, 0, 2]\n",
      "\n",
      "Cell lengths and angles [Å, °]:\n",
      "  a, b, c:      8.1000      8.1000      8.1000\n",
      "  α, β, γ:     90.0000     90.0000     90.0000\n",
      "  Volume:     531.4410 Å**3\n"
     ]
    }
   ],
   "source": [
    "sc2, smatrix2 = make_cubic_supercell(atoms, 32)\n",
    "sc3, smatrix3 = make_cubic_supercell(atoms, 32)\n",
    "inform(sc3)"
   ]
  },
  {
   "cell_type": "code",
   "execution_count": 4,
   "metadata": {},
   "outputs": [],
   "source": [
    "phonopy_settings = {\n",
    "    'atoms': atoms,\n",
    "    'supercell_matrix': smatrix3,\n",
    "    'workdir': 'fc2',\n",
    "}\n",
    "\n",
    "phono3py_settings = {\n",
    "    'atoms': atoms,\n",
    "    'supercell_matrix': smatrix3,\n",
    "    'cutoff_pair_distance': 3,\n",
    "    'workdir': 'fc3',\n",
    "}"
   ]
  },
  {
   "cell_type": "code",
   "execution_count": 5,
   "metadata": {},
   "outputs": [],
   "source": [
    "calc = EMT()"
   ]
  },
  {
   "cell_type": "code",
   "execution_count": 6,
   "metadata": {
    "scrolled": true
   },
   "outputs": [
    {
     "name": "stdout",
     "output_type": "stream",
     "text": [
      "** Warning from file /home/knoop/local/vibes/vibes/phonopy/workflow.py, line 50, function bootstrap:\n",
      "--> Settings do not contain phonopy instructions.\n",
      "\n",
      "** Warning from file /home/knoop/local/vibes/vibes/templates/aims.py, line 40, function setup_aims:\n",
      "--> No [control] section in /home/knoop/local/vibes/vibes.cfg, return calc=None, good luck!\n",
      "\n",
      "* Message from file /home/knoop/local/vibes/vibes/helpers/socketio.py, line 20, function get_port:\n",
      "--> Socketio not used with calculator emt\n",
      "\n",
      "Start postprocess.\n",
      "done.\n"
     ]
    }
   ],
   "source": [
    "wf.run_phonopy(calculator=calc, **phonopy_settings)"
   ]
  },
  {
   "cell_type": "code",
   "execution_count": 7,
   "metadata": {},
   "outputs": [
    {
     "name": "stdout",
     "output_type": "stream",
     "text": [
      "** Warning from file /home/knoop/local/vibes/vibes/phonopy/workflow.py, line 50, function bootstrap:\n",
      "--> Settings do not contain phono3py instructions.\n",
      "\n",
      "** Warning from file /home/knoop/local/vibes/vibes/templates/aims.py, line 40, function setup_aims:\n",
      "--> No [control] section in /home/knoop/local/vibes/vibes.cfg, return calc=None, good luck!\n",
      "\n",
      "* Message from file /home/knoop/local/vibes/vibes/helpers/socketio.py, line 20, function get_port:\n",
      "--> Socketio not used with calculator emt\n",
      "\n",
      "Start postprocess.\n",
      "Computing fc3[ 1, x, x ] using numpy.linalg.pinv with a displacement:\n",
      "    [ 0.0300  0.0000  0.0000]\n",
      "Expanding fc3\n",
      "Cutting-off fc3 (cut-off distance: 3.000000)\n",
      "Building atom mapping table...\n",
      "Creating contracted fc3...\n",
      "done.\n"
     ]
    }
   ],
   "source": [
    "wf3.run_phono3py(calculator=calc, **phono3py_settings)"
   ]
  },
  {
   "cell_type": "code",
   "execution_count": 8,
   "metadata": {},
   "outputs": [],
   "source": [
    "phonon = pread('phonon.pick.gz')\n",
    "phonon3 = pread('phonon3.pick.gz')"
   ]
  },
  {
   "cell_type": "code",
   "execution_count": 9,
   "metadata": {},
   "outputs": [
    {
     "data": {
      "text/plain": [
       "True"
      ]
     },
     "execution_count": 9,
     "metadata": {},
     "output_type": "execute_result"
    }
   ],
   "source": [
    "(phonon.get_force_constants() == phonon3.get_fc2()).all()"
   ]
  },
  {
   "cell_type": "code",
   "execution_count": 10,
   "metadata": {},
   "outputs": [],
   "source": [
    "fc2 = phonon3.get_fc2()\n",
    "fc3 = phonon3.get_fc3()"
   ]
  },
  {
   "cell_type": "code",
   "execution_count": 11,
   "metadata": {},
   "outputs": [
    {
     "name": "stdout",
     "output_type": "stream",
     "text": [
      "Number of FC2 displacements: 1\n",
      "Number of FC3 displacements: 49\n",
      "Number of FC3 displacements that were created: 18\n"
     ]
    }
   ],
   "source": [
    "scs2 = phonon.get_supercells_with_displacements()\n",
    "scs3 = phonon3.get_supercells_with_displacements()\n",
    "print(f'Number of FC2 displacements: {len(scs2)}')\n",
    "print(f'Number of FC3 displacements: {len(scs3)}')\n",
    "print(f'Number of FC3 displacements that were created: {len([sc for sc in scs3 if sc])}')"
   ]
  },
  {
   "cell_type": "code",
   "execution_count": 12,
   "metadata": {},
   "outputs": [],
   "source": [
    "q_mesh = 3*[5]\n",
    "phonon3_new = ph3.prepare_phono3py(**phono3py_settings,\n",
    "                                   fc2=fc2,\n",
    "                                   fc3=fc3,\n",
    "                                   q_mesh=q_mesh,\n",
    "                                   log_level=0)"
   ]
  },
  {
   "cell_type": "code",
   "execution_count": 13,
   "metadata": {},
   "outputs": [],
   "source": [
    "phonon3_new.run_thermal_conductivity(write_kappa=True)"
   ]
  },
  {
   "cell_type": "code",
   "execution_count": 14,
   "metadata": {},
   "outputs": [
    {
     "name": "stdout",
     "output_type": "stream",
     "text": [
      "[ 4.95576995e+00  4.95576995e+00  4.95576995e+00 -1.11909370e-17\n",
      "  0.00000000e+00 -6.50113003e-18]\n"
     ]
    }
   ],
   "source": [
    "with h5py.File('kappa-m{}.hdf5'.format(''.join(map(str, q_mesh)))) as kappa:\n",
    "    # print(kappa['frequency'][:])\n",
    "    print(kappa['kappa'][:][np.where(kappa['temperature'][:] == 300)][0, :])\n",
    "    # assert 5 < kappa['frequency'][:].max() < 10, kappa['frequency'][:].max()\n",
    "    # assert 25 < kappa['kappa'][:][30][:3].mean() < 35"
   ]
  },
  {
   "cell_type": "code",
   "execution_count": null,
   "metadata": {},
   "outputs": [],
   "source": []
  }
 ],
 "metadata": {
  "kernelspec": {
   "display_name": "Python 3",
   "language": "python",
   "name": "python3"
  },
  "language_info": {
   "codemirror_mode": {
    "name": "ipython",
    "version": 3
   },
   "file_extension": ".py",
   "mimetype": "text/x-python",
   "name": "python",
   "nbconvert_exporter": "python",
   "pygments_lexer": "ipython3",
   "version": "3.7.0"
  }
 },
 "nbformat": 4,
 "nbformat_minor": 2
}
