{
 "cells": [
  {
   "cell_type": "code",
   "execution_count": 1,
   "metadata": {},
   "outputs": [],
   "source": [
    "from hilde.parsers import read_structure, read_output\n",
    "from hilde.helpers.supercell import find_cubic_cell\n",
    "from hilde.helpers.paths import cwd\n",
    "from hilde.helpers.k_grid import d2k\n",
    "from hilde.helpers.geometry import get_cubicness\n",
    "from hilde.helpers.maths import clean_matrix\n",
    "from hilde.phonopy import phono as ph\n",
    "from pathlib import Path\n",
    "import numpy as np\n",
    "import matplotlib.pyplot as plt\n",
    "from ase.calculators.aims import Aims\n",
    "from ase.calculators.socketio import SocketIOCalculator\n",
    "from ase.dft.kpoints import get_cellinfo, special_paths, bandpath\n",
    "from ase.build.supercells import make_supercell\n",
    "from time import time\n",
    "%matplotlib inline"
   ]
  },
  {
   "cell_type": "code",
   "execution_count": 2,
   "metadata": {},
   "outputs": [
    {
     "data": {
      "text/plain": [
       "Atoms(symbols='Ga2N2', pbc=True, cell=[[3.19141392, 0.0, 0.0], [-1.59570696, 2.76384552871, 0.0], [0.0, 0.0, 5.2020046896]])"
      ]
     },
     "execution_count": 2,
     "metadata": {},
     "output_type": "execute_result"
    }
   ],
   "source": [
    "atoms = read_structure('gan.in')\n",
    "vol = atoms.get_volume()\n",
    "atoms"
   ]
  },
  {
   "cell_type": "code",
   "execution_count": 3,
   "metadata": {},
   "outputs": [
    {
     "name": "stdout",
     "output_type": "stream",
     "text": [
      "[4, 4, 2]\n"
     ]
    }
   ],
   "source": [
    "command = 'orterun -n 4 aims.x'\n",
    "species_dir = '/home/knoop/FHIaims/aimsfiles/species_defaults/light'\n",
    "port = 31415\n",
    "\n",
    "k_grid = d2k(atoms, 1)\n",
    "\n",
    "aims_settings = {\n",
    "    'command': command,\n",
    "    'species_dir': species_dir,\n",
    "    'output_level': 'MD_light',\n",
    "    'relativistic': 'atomic_zora scalar',\n",
    "    'xc': 'pw-lda',\n",
    "    'k_grid': k_grid,\n",
    "    'sc_accuracy_rho': 1e-6,\n",
    "    'compute_forces': True\n",
    "}\n",
    "\n",
    "print(k_grid)"
   ]
  },
  {
   "cell_type": "markdown",
   "metadata": {},
   "source": [
    "### Relaxation"
   ]
  },
  {
   "cell_type": "code",
   "execution_count": 4,
   "metadata": {},
   "outputs": [],
   "source": [
    "relax_settings = {\n",
    "    'relax_geometry': 'lattice_trm 1e-3',\n",
    "    'relax_unit_cell': 'full',\n",
    "    'sc_accuracy_forces': 1e-4,\n",
    "    'use_symmetric_forces': True\n",
    "}\n",
    "relax_folder = Path().cwd() / 'relax'\n",
    "aims = Aims(**{**aims_settings, **relax_settings})"
   ]
  },
  {
   "cell_type": "code",
   "execution_count": 5,
   "metadata": {},
   "outputs": [],
   "source": [
    "# calc = SocketIOCalculator(aims, log=relax_log.open('w'), port=port)\n",
    "try:\n",
    "    ratoms = read_structure(relax_folder / 'geometry.in.next_step')\n",
    "except FileNotFoundError:\n",
    "    relax_folder.mkdir(exist_ok=True)\n",
    "    atoms.calc = aims\n",
    "    with cwd(relax_folder):\n",
    "        atoms.calc.calculate(atoms)\n",
    "    ratoms = read_structure(relax_folder / 'geometry.in.next_step')"
   ]
  },
  {
   "cell_type": "code",
   "execution_count": 6,
   "metadata": {},
   "outputs": [],
   "source": [
    "n_target = 10\n",
    "target_size = n_target / len(atoms)"
   ]
  },
  {
   "cell_type": "code",
   "execution_count": 7,
   "metadata": {},
   "outputs": [
    {
     "data": {
      "text/plain": [
       "array([[ 1, -1,  0],\n",
       "       [ 1,  2,  0],\n",
       "       [ 0,  0,  1]], dtype=int32)"
      ]
     },
     "execution_count": 7,
     "metadata": {},
     "output_type": "execute_result"
    }
   ],
   "source": [
    "smatrix = find_cubic_cell(cell=ratoms.cell, target_size=target_size)\n",
    "smatrix"
   ]
  },
  {
   "cell_type": "code",
   "execution_count": 8,
   "metadata": {},
   "outputs": [
    {
     "data": {
      "text/plain": [
       "array([[ 4.74882718, -2.74173665,  0.        ],\n",
       "       [ 0.        ,  5.4834733 ,  0.        ],\n",
       "       [ 0.        ,  0.        ,  5.1572124 ]])"
      ]
     },
     "execution_count": 8,
     "metadata": {},
     "output_type": "execute_result"
    }
   ],
   "source": [
    "clean_matrix(make_supercell(ratoms, smatrix).cell, eps=1e-8)"
   ]
  },
  {
   "cell_type": "code",
   "execution_count": 9,
   "metadata": {},
   "outputs": [],
   "source": [
    "# smatrix = np.eye(3, dtype=int)\n",
    "phonon, sc, scs = ph.preprocess(ratoms, smatrix.T)"
   ]
  },
  {
   "cell_type": "code",
   "execution_count": 10,
   "metadata": {},
   "outputs": [
    {
     "data": {
      "text/plain": [
       "array([[ 4.74882718, -2.74173665,  0.        ],\n",
       "       [ 0.        ,  5.4834733 ,  0.        ],\n",
       "       [ 0.        ,  0.        ,  5.1572124 ]])"
      ]
     },
     "execution_count": 10,
     "metadata": {},
     "output_type": "execute_result"
    }
   ],
   "source": [
    "clean_matrix(sc.cell, eps=1e-8)"
   ]
  },
  {
   "cell_type": "code",
   "execution_count": 11,
   "metadata": {},
   "outputs": [
    {
     "data": {
      "text/plain": [
       "4"
      ]
     },
     "execution_count": 11,
     "metadata": {},
     "output_type": "execute_result"
    }
   ],
   "source": [
    "len(scs)"
   ]
  },
  {
   "cell_type": "code",
   "execution_count": 12,
   "metadata": {},
   "outputs": [],
   "source": [
    "workdir = Path('./GaN_{}{}{}_{}{}{}_{}{}{}_{:.3f}'.format(*smatrix.flatten(), vol)).absolute()\n",
    "workdir.mkdir(exist_ok=True)"
   ]
  },
  {
   "cell_type": "code",
   "execution_count": 13,
   "metadata": {},
   "outputs": [
    {
     "name": "stdout",
     "output_type": "stream",
     "text": [
      "[2, 2, 2]\n"
     ]
    }
   ],
   "source": [
    "k_grid = d2k(sc, 1)\n",
    "print(k_grid)"
   ]
  },
  {
   "cell_type": "markdown",
   "metadata": {},
   "source": [
    "## the traditional way"
   ]
  },
  {
   "cell_type": "code",
   "execution_count": 14,
   "metadata": {},
   "outputs": [],
   "source": [
    "sc_settings = {\n",
    "    'k_grid': k_grid\n",
    "}\n",
    "aims = Aims(**{**aims_settings, **sc_settings})"
   ]
  },
  {
   "cell_type": "code",
   "execution_count": 15,
   "metadata": {},
   "outputs": [],
   "source": [
    "def compute_forces(scs, calculator, workdir):\n",
    "    force_sets = []\n",
    "    workdir.mkdir(exist_ok=True)\n",
    "    for ii, cell in enumerate(scs):\n",
    "        folder_with_disp = workdir / f'disp-{ii:03d}'\n",
    "        folder_with_disp.mkdir(parents=True, exist_ok=True)\n",
    "        try:\n",
    "            force = read_output(folder_with_disp / 'aims.out')[0].get_forces()\n",
    "        except (FileNotFoundError, IndexError):\n",
    "            cell.calc = calculator\n",
    "            with cwd(folder_with_disp):\n",
    "                try:\n",
    "                    cell.calc.calculate(cell)\n",
    "                except Error as inst:\n",
    "                    print(inst)\n",
    "            force = read_output(folder_with_disp / 'aims.out')[0].get_forces()\n",
    "        force_sets.append(force)\n",
    "    return force_sets"
   ]
  },
  {
   "cell_type": "code",
   "execution_count": 16,
   "metadata": {},
   "outputs": [
    {
     "name": "stdout",
     "output_type": "stream",
     "text": [
      ".. done in 0.010s\n"
     ]
    }
   ],
   "source": [
    "stime = time()\n",
    "force_sets = compute_forces(scs, aims, workdir=workdir)\n",
    "timing_file_io = time()-stime\n",
    "print(f'.. done in {timing_file_io:.3f}s')"
   ]
  },
  {
   "cell_type": "code",
   "execution_count": 17,
   "metadata": {},
   "outputs": [
    {
     "data": {
      "text/plain": [
       "[<matplotlib.lines.Line2D at 0x14e641ce60f0>]"
      ]
     },
     "execution_count": 17,
     "metadata": {},
     "output_type": "execute_result"
    },
    {
     "data": {
      "image/png": "[encoded data removed]",
      "text/plain": [
       "<Figure size 432x288 with 1 Axes>"
      ]
     },
     "metadata": {
      "needs_background": "light"
     },
     "output_type": "display_data"
    }
   ],
   "source": [
    "dos = ph.get_dos(phonon, force_sets=force_sets)\n",
    "plt.plot(dos[0], dos[1])"
   ]
  },
  {
   "cell_type": "code",
   "execution_count": 18,
   "metadata": {},
   "outputs": [],
   "source": [
    "cellinfo = get_cellinfo(ratoms.cell)\n",
    "path = special_paths[cellinfo.lattice]\n",
    "bandpath = bandpath(path, atoms.cell)"
   ]
  },
  {
   "cell_type": "code",
   "execution_count": 19,
   "metadata": {},
   "outputs": [
    {
     "data": {
      "image/png": "[encoded data removed]",
      "text/plain": [
       "<Figure size 432x288 with 1 Axes>"
      ]
     },
     "metadata": {
      "needs_background": "light"
     },
     "output_type": "display_data"
    }
   ],
   "source": [
    "qp, dd, fr, ev = ph.get_bandstructure(phonon, bandpath)\n",
    "_ = plt.plot(dd[0], fr[0])"
   ]
  },
  {
   "cell_type": "markdown",
   "metadata": {},
   "source": [
    "### SocketIO"
   ]
  },
  {
   "cell_type": "code",
   "execution_count": 20,
   "metadata": {},
   "outputs": [],
   "source": [
    "from ase.io import Trajectory\n",
    "from contextlib import ExitStack"
   ]
  },
  {
   "cell_type": "code",
   "execution_count": 21,
   "metadata": {},
   "outputs": [],
   "source": [
    "# reset the phonon object\n",
    "phonon, sc, scs = ph.preprocess(ratoms, smatrix.T)"
   ]
  },
  {
   "cell_type": "code",
   "execution_count": 22,
   "metadata": {},
   "outputs": [],
   "source": [
    "def compute_forces_socketio(scs, calculator, port, workdir, traj_file, log_file):\n",
    "    force_sets = []\n",
    "    tmp_dir.mkdir(exist_ok=True)\n",
    "    with ExitStack() as stack, cwd(workdir):\n",
    "        calc = stack.enter_context(SocketIOCalculator(calculator, log=log_file.open('w'), port=port))\n",
    "        traj = stack.enter_context(Trajectory(str(traj_file), mode='a'))\n",
    "        atoms = sc.copy()\n",
    "        atoms.calc = calc\n",
    "        for ii, cell in enumerate(scs):\n",
    "            try:\n",
    "                atoms.positions = cell.positions\n",
    "                atoms.calc.calculate(atoms, system_changes=['positions'])\n",
    "                force_sets.append(atoms.get_forces())\n",
    "                traj.write(atoms)\n",
    "            except Error as inst:\n",
    "                print(inst)\n",
    "    return force_sets"
   ]
  },
  {
   "cell_type": "code",
   "execution_count": 23,
   "metadata": {},
   "outputs": [],
   "source": [
    "socketio_settings = {\n",
    "    'use_pimd_wrapper': ('localhost', port),\n",
    "#    'sc_accuracy_forces': 1e-4,\n",
    "    'k_grid': k_grid\n",
    "}\n",
    "aims = Aims(**{**aims_settings, **socketio_settings})\n",
    "phonopy_log = workdir/'phonopy.log'\n",
    "traj_file = workdir / 'phonopy.traj'\n",
    "tmp_dir=workdir / 'socketio'\n",
    "\n",
    "if traj_file.exists():\n",
    "    traj = Trajectory(str(traj_file), 'r')\n",
    "    force_sets = [a.get_forces() for a in traj]\n",
    "else:\n",
    "    stime = time()\n",
    "    force_sets = compute_phonons_socketio(scs=scs,\n",
    "                                          calculator=aims,\n",
    "                                          port=port,\n",
    "                                          workdir=tmp_dir,\n",
    "                                          traj_file=traj_file,\n",
    "                                          log_file=phonopy_log)\n",
    "    timing_socket_io = time()-stime\n",
    "    print(f'.. done in {timing_socket_io:.2f}s')\n",
    "    print(f'.. Speedup: {(1 - timing_socket_io / timing_file_io)*100:.2f}%')"
   ]
  },
  {
   "cell_type": "code",
   "execution_count": 24,
   "metadata": {},
   "outputs": [
    {
     "data": {
      "text/plain": [
       "[<matplotlib.lines.Line2D at 0x14e641c0d048>]"
      ]
     },
     "execution_count": 24,
     "metadata": {},
     "output_type": "execute_result"
    },
    {
     "data": {
      "image/png": "[encoded data removed]",
      "text/plain": [
       "<Figure size 432x288 with 1 Axes>"
      ]
     },
     "metadata": {
      "needs_background": "light"
     },
     "output_type": "display_data"
    }
   ],
   "source": [
    "dos = ph.get_dos(phonon, force_sets=force_sets)\n",
    "plt.plot(dos[0], dos[1])"
   ]
  },
  {
   "cell_type": "code",
   "execution_count": null,
   "metadata": {},
   "outputs": [],
   "source": []
  }
 ],
 "metadata": {
  "kernelspec": {
   "display_name": "Python 3",
   "language": "python",
   "name": "python3"
  },
  "language_info": {
   "codemirror_mode": {
    "name": "ipython",
    "version": 3
   },
   "file_extension": ".py",
   "mimetype": "text/x-python",
   "name": "python",
   "nbconvert_exporter": "python",
   "pygments_lexer": "ipython3",
   "version": "3.6.6"
  }
 },
 "nbformat": 4,
 "nbformat_minor": 2
}
