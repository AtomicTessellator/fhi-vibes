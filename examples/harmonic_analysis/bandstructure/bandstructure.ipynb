{
 "cells": [
  {
   "cell_type": "code",
   "execution_count": 1,
   "metadata": {},
   "outputs": [],
   "source": [
    "import numpy as np\n",
    "from scipy import linalg as la\n",
    "from scipy import signal as sl\n",
    "\n",
    "from matplotlib import pyplot as plt\n",
    "%matplotlib inline\n",
    "\n",
    "import pandas as pd\n",
    "import seaborn as sns\n",
    "\n",
    "from ase.units import GPa, kB, fs, Bohr\n",
    "from vibes.konstanten import omega_to_THz\n",
    "from vibes.trajectory import reader\n",
    "from vibes.helpers.plotting import tableau_colors as tc\n",
    "\n",
    "from vibes.io import read\n",
    "from vibes.helpers.lattice import fractional\n",
    "from vibes.harmonic_analysis.displacements import get_dR\n",
    "from vibes.harmonic_analysis import parse_tdep_forceconstant, HarmonicAnalysis\n",
    "from vibes.helpers.supercell import map_indices\n",
    "\n",
    "from vibes.helpers.brillouinzone import get_bands_and_labels, get_special_points, get_paths"
   ]
  },
  {
   "cell_type": "code",
   "execution_count": 2,
   "metadata": {},
   "outputs": [
    {
     "name": "stdout",
     "output_type": "stream",
     "text": [
      "Parse force constants from\n",
      "  outfile.forceconstant\n",
      ".. remap representation for supercell:  False\n",
      ".. Number of atoms:   2\n",
      ".. Real space cutoff: 3.660 \\AA\n",
      ".. Number of lattice points: 54 (33 unique)\n",
      ".. time elapsed: 0.002s\n",
      "Set up harmonic analysis for MgO:\n",
      ".. found 32 (31) lattice points in 0.001s\n",
      ".. time elapsed: 0.065s\n"
     ]
    }
   ],
   "source": [
    "primitive = read('infile.ucposcar', format='vasp')\n",
    "supercell = read('infile.ssposcar', format='vasp')\n",
    "fcs, lps = parse_tdep_forceconstant('outfile.forceconstant')\n",
    "ha = HarmonicAnalysis(primitive, supercell, fcs, lps)"
   ]
  },
  {
   "cell_type": "code",
   "execution_count": 3,
   "metadata": {},
   "outputs": [],
   "source": [
    "# parser of reduced forceconstant\n",
    "def read_force_constants_and_lattice_points_tdep(file='outfile.forceconstants', verbose=False):\n",
    "    with open('outfile.forceconstant') as fo:\n",
    "        n_atoms = int(next(fo).split()[0])\n",
    "        cutoff = float(next(fo).split()[0])\n",
    "\n",
    "        print(f\".. Number of atoms:          {n_atoms}\")\n",
    "        print(rf\".. Real space cutoff:        {cutoff:.3f} \\AA\")\n",
    "    \n",
    "        # Not yet clear how many lattice points / force constants we will get\n",
    "        lattice_points = []\n",
    "        force_constants = []\n",
    "\n",
    "        for i1 in range(n_atoms):\n",
    "            n_neighbors = int(next(fo).split()[0])\n",
    "        \n",
    "            for _ in range(n_neighbors):\n",
    "            \n",
    "                fc = np.zeros([n_atoms, 3, n_atoms, 3])\n",
    "            \n",
    "                # neighbour index\n",
    "                i2 = int(next(fo).split()[0]) - 1\n",
    "            \n",
    "                # lattice points\n",
    "                lp = np.array(next(fo).split(), dtype=float)\n",
    "            \n",
    "                # check\n",
    "                lp_cart = lp @ primitive.cell\n",
    "                if verbose:\n",
    "                    print(i1+1, i2+1, lp_cart, la.norm(lp_cart - primitive.positions[i1] + primitive.positions[i2]))\n",
    "            \n",
    "                phi = np.array([next(fo).split() for _ in range(3)], dtype=float)\n",
    "            \n",
    "                # symmetrize\n",
    "                fc[i1, :, i2, :] = phi\n",
    "                # fc[i2, :, i1, :] = 0.5 * phi.T\n",
    "            \n",
    "                lattice_points.append(lp)\n",
    "                force_constants.append(fc.reshape((3*n_atoms, 3*n_atoms)))\n",
    "    \n",
    "    n_unique = len(np.unique(lattice_points, axis=0))\n",
    "    print(f\".. Number of lattice points: {len(lattice_points)} ({n_unique} unique)\")\n",
    "    \n",
    "    return np.array(force_constants), np.array(lattice_points)"
   ]
  },
  {
   "cell_type": "code",
   "execution_count": 4,
   "metadata": {},
   "outputs": [
    {
     "name": "stdout",
     "output_type": "stream",
     "text": [
      ".. Number of atoms:          2\n",
      ".. Real space cutoff:        3.660 \\AA\n",
      ".. Number of lattice points: 54 (33 unique)\n"
     ]
    }
   ],
   "source": [
    "fcs, lps = read_force_constants_and_lattice_points_tdep()\n",
    "\n",
    "masses = primitive.get_masses()\n",
    "\n",
    "Dx = fcs / np.sqrt(masses.repeat(3)[:, None] * masses.repeat(3)[None, :])"
   ]
  },
  {
   "cell_type": "code",
   "execution_count": 5,
   "metadata": {},
   "outputs": [
    {
     "data": {
      "text/plain": [
       "array([0.375, 0.375, 0.75 ])"
      ]
     },
     "execution_count": 5,
     "metadata": {},
     "output_type": "execute_result"
    }
   ],
   "source": [
    "sps = get_special_points(primitive)\n",
    "q = sps['K']\n",
    "q"
   ]
  },
  {
   "cell_type": "code",
   "execution_count": 6,
   "metadata": {},
   "outputs": [],
   "source": [
    "phases = np.exp(2j * np.pi * lps @ q)"
   ]
  },
  {
   "cell_type": "code",
   "execution_count": 7,
   "metadata": {},
   "outputs": [],
   "source": [
    "Dq = (phases[:, None, None] * Dx).sum(axis=0)\n",
    "\n",
    "# Check Hermititicty\n",
    "assert la.norm(Dq - Dq.conj().T) < 1e-12"
   ]
  },
  {
   "cell_type": "code",
   "execution_count": 8,
   "metadata": {},
   "outputs": [
    {
     "data": {
      "text/plain": [
       "array([ 8.42442216, 11.79445968, 12.36970708, 12.82895893, 14.26691616,\n",
       "       15.73694375])"
      ]
     },
     "execution_count": 8,
     "metadata": {},
     "output_type": "execute_result"
    }
   ],
   "source": [
    "def get_freq(Dq):\n",
    "    evals = la.eigh(Dq)[0]\n",
    "    return np.sign(evals) * abs(evals) ** 0.5 * omega_to_THz\n",
    "\n",
    "get_freq(Dq)"
   ]
  },
  {
   "cell_type": "code",
   "execution_count": 9,
   "metadata": {},
   "outputs": [
    {
     "data": {
      "text/plain": [
       "array([ 8.42442216, 11.79445968, 12.36970708, 12.82895893, 14.26691616,\n",
       "       15.73694375])"
      ]
     },
     "execution_count": 9,
     "metadata": {},
     "output_type": "execute_result"
    }
   ],
   "source": [
    "# with HarmonicAnalysis:\n",
    "get_freq(ha.get_Dq(q, fractional=True))"
   ]
  },
  {
   "cell_type": "code",
   "execution_count": 10,
   "metadata": {},
   "outputs": [],
   "source": [
    "def get_Dq(q, Dx, lps):\n",
    "    \"\"\" Compute the Dynamical matrix at q \"\"\"\n",
    "    \n",
    "    # Phases\n",
    "    phases = np.exp(2j * np.pi * lps @ q)\n",
    "    \n",
    "    Dq = (phases[:, None, None] * Dx).sum(axis=0)\n",
    "    \n",
    "    # Check Hermititicty\n",
    "\n",
    "    assert la.norm(Dq - Dq.conj().T) < 1e-12, f'Not hermitian by {la.norm(Dq - Dq.conj().T)}'\n",
    "    \n",
    "    return Dq"
   ]
  },
  {
   "cell_type": "code",
   "execution_count": 11,
   "metadata": {},
   "outputs": [
    {
     "name": "stdout",
     "output_type": "stream",
     "text": [
      "CPU times: user 24.7 ms, sys: 47 µs, total: 24.8 ms\n",
      "Wall time: 23.8 ms\n"
     ]
    }
   ],
   "source": [
    "%%time\n",
    "bands, labels = get_bands_and_labels(primitive, paths=['GXU', 'KGL'])\n",
    "dispersions = []\n",
    "for band in bands:\n",
    "    dispersion = []\n",
    "    for qp in band:\n",
    "        Dq = get_Dq(qp, Dx, lps)\n",
    "        ws = get_freq(Dq)\n",
    "        dispersion.append(ws)\n",
    "    dispersions.append(dispersion)           "
   ]
  },
  {
   "cell_type": "code",
   "execution_count": 12,
   "metadata": {},
   "outputs": [
    {
     "data": {
      "image/png": "[encoded data removed]",
      "text/plain": [
       "<Figure size 432x288 with 1 Axes>"
      ]
     },
     "metadata": {
      "needs_background": "light"
     },
     "output_type": "display_data"
    }
   ],
   "source": [
    "dblue = '#1f77b4'\n",
    "\n",
    "offset = 0\n",
    "for ii, band in enumerate(bands):\n",
    "    dq = la.norm(band[1] - band[0])\n",
    "    xs = dq * np.linspace(0, 1, len(band)) + offset\n",
    "    offset = max(xs)\n",
    "    plt.plot(xs, dispersions[ii], color=dblue)"
   ]
  },
  {
   "cell_type": "code",
   "execution_count": 13,
   "metadata": {},
   "outputs": [
    {
     "data": {
      "text/plain": [
       "(array([ 8.42442216, 11.79445968, 12.36970708, 12.82895893, 14.26691616,\n",
       "        15.73694375]),\n",
       " array([[ 8.42442216, 11.79445968, 12.36970708, 12.82895893, 14.26691616,\n",
       "         15.73694375]]))"
      ]
     },
     "execution_count": 13,
     "metadata": {},
     "output_type": "execute_result"
    }
   ],
   "source": [
    "# with HarmonicAnalysis:\n",
    "get_freq(ha.get_Dq(q)), ha.omegas([q]) * omega_to_THz"
   ]
  },
  {
   "cell_type": "code",
   "execution_count": null,
   "metadata": {},
   "outputs": [],
   "source": []
  }
 ],
 "metadata": {
  "kernelspec": {
   "display_name": "Python 3",
   "language": "python",
   "name": "python3"
  },
  "language_info": {
   "codemirror_mode": {
    "name": "ipython",
    "version": 3
   },
   "file_extension": ".py",
   "mimetype": "text/x-python",
   "name": "python",
   "nbconvert_exporter": "python",
   "pygments_lexer": "ipython3",
   "version": "3.7.2"
  }
 },
 "nbformat": 4,
 "nbformat_minor": 2
}
