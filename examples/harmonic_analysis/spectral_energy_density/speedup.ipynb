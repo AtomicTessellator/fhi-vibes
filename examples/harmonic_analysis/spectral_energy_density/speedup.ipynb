{
 "cells": [
  {
   "cell_type": "code",
   "execution_count": 1,
   "metadata": {},
   "outputs": [],
   "source": [
    "import sys\n",
    "sys.path.insert(0, '/home/knoop/local/hilde')\n",
    "\n",
    "import importlib as il\n",
    "\n",
    "\n",
    "import numpy as np\n",
    "\n",
    "from matplotlib import pyplot as plt\n",
    "\n",
    "from hilde.trajectory import reader\n",
    "from hilde.konstanten import omega_to_THz\n",
    "\n",
    "from hilde.harmonic_analysis import parse_tdep_forceconstant, HarmonicAnalysis\n",
    "\n",
    "from hilde.harmonic_analysis.displacements import get_U\n",
    "\n",
    "from hilde.harmonic_analysis.normal_modes import u_I_to_u_s, map_L_to_i\n",
    "\n",
    "from hilde.helpers import progressbar"
   ]
  },
  {
   "cell_type": "code",
   "execution_count": 2,
   "metadata": {},
   "outputs": [
    {
     "name": "stdout",
     "output_type": "stream",
     "text": [
      ".. no_drift.yaml parsed in 3.942s\n"
     ]
    }
   ],
   "source": [
    "traj = reader('no_drift.yaml')"
   ]
  },
  {
   "cell_type": "code",
   "execution_count": 3,
   "metadata": {},
   "outputs": [
    {
     "name": "stdout",
     "output_type": "stream",
     "text": [
      "Parse force constants from\n",
      "  outfile.forceconstant\n",
      ".. remap representation for supercell:  False\n",
      ".. Number of atoms:   2\n",
      ".. Real space cutoff: 3.660 \\AA\n",
      ".. Number of lattice points: 54 (33 unique)\n",
      ".. time elapsed: 0.004s\n",
      "Set up harmonic analysis for MgO:\n",
      ".. found 32 (31) lattice points in 0.018s\n",
      ".. matched 64 positions in supercell and primitive cell in 0.111s\n",
      ".. found 32 (31) lattice points in 0.002s\n",
      ".. time elapsed: 0.389s\n"
     ]
    }
   ],
   "source": [
    "fcs, lps = parse_tdep_forceconstant('outfile.forceconstant')\n",
    "\n",
    "ha = HarmonicAnalysis(traj.primitive, traj.supercell, fcs, lps)"
   ]
  },
  {
   "cell_type": "code",
   "execution_count": 4,
   "metadata": {},
   "outputs": [],
   "source": [
    "N = len(traj)\n",
    "atoms0 = traj.supercell\n",
    "kwargs = {'q_points': ha.q_points, 'lattice_points': ha.lattice_points_supercell, 'eigenvectors': ha.eigenvectors,\n",
    "        'indeces': ha.I_to_iL}"
   ]
  },
  {
   "cell_type": "code",
   "execution_count": 5,
   "metadata": {},
   "outputs": [
    {
     "data": {
      "text/plain": [
       "(64, 3)"
      ]
     },
     "execution_count": 5,
     "metadata": {},
     "output_type": "execute_result"
    }
   ],
   "source": [
    "u_I = get_U(traj[1], atoms0)\n",
    "\n",
    "iL = ha.I_to_iL\n",
    "RLs = ha.lattice_points_supercell[ha.I_to_iL[:, 1]]\n",
    "RLs.shape"
   ]
  },
  {
   "cell_type": "code",
   "execution_count": 6,
   "metadata": {},
   "outputs": [
    {
     "data": {
      "text/plain": [
       "((32, 6, 2, 3), (32, 6, 64, 3), (32, 192))"
      ]
     },
     "execution_count": 6,
     "metadata": {},
     "output_type": "execute_result"
    }
   ],
   "source": [
    "na = len(ha.supercell)\n",
    "nq, ns = ha.eigenvectors.shape[:2]\n",
    "ievs = ha.eigenvectors.conj().swapaxes(1, 2).reshape(nq, ns, ns // 3, 3)\n",
    "\n",
    "ievs.shape, ievs[:, :, ha.I_to_iL[:, 0], :].shape, (ha.q_points @ RLs.T).repeat(3, axis=1).shape"
   ]
  },
  {
   "cell_type": "code",
   "execution_count": 7,
   "metadata": {},
   "outputs": [],
   "source": [
    "aug_ev = 1/(nq**.5) * np.exp(-2j * np.pi * (ha.q_points @ RLs.T).repeat(3, axis=1).reshape(nq, na, -1))[:, None, :, :] *  ievs[:, :, ha.I_to_iL[:, 0], :]"
   ]
  },
  {
   "cell_type": "code",
   "execution_count": 8,
   "metadata": {},
   "outputs": [
    {
     "name": "stdout",
     "output_type": "stream",
     "text": [
      "270 µs ± 46.8 µs per loop (mean ± std. dev. of 7 runs, 1000 loops each)\n"
     ]
    }
   ],
   "source": [
    "%%timeit\n",
    "us =  (aug_ev * u_I).sum(axis=(2, 3))"
   ]
  },
  {
   "cell_type": "code",
   "execution_count": 9,
   "metadata": {},
   "outputs": [
    {
     "name": "stdout",
     "output_type": "stream",
     "text": [
      "1.63 ms ± 168 µs per loop (mean ± std. dev. of 7 runs, 1000 loops each)\n"
     ]
    }
   ],
   "source": [
    "%%timeit\n",
    "usp = u_I_to_u_s(u_I, **kwargs)"
   ]
  },
  {
   "cell_type": "code",
   "execution_count": 10,
   "metadata": {
    "scrolled": false
   },
   "outputs": [
    {
     "data": {
      "text/plain": [
       "1.7434926320724184e-15"
      ]
     },
     "execution_count": 10,
     "metadata": {},
     "output_type": "execute_result"
    }
   ],
   "source": [
    "# are they equal?\n",
    "us =  (aug_ev * u_I).sum(axis=(2, 3))\n",
    "usp = u_I_to_u_s(u_I, **kwargs)\n",
    "np.linalg.norm(usp - us)"
   ]
  },
  {
   "cell_type": "code",
   "execution_count": null,
   "metadata": {},
   "outputs": [],
   "source": []
  }
 ],
 "metadata": {
  "kernelspec": {
   "display_name": "Python 3",
   "language": "python",
   "name": "python3"
  },
  "language_info": {
   "codemirror_mode": {
    "name": "ipython",
    "version": 3
   },
   "file_extension": ".py",
   "mimetype": "text/x-python",
   "name": "python",
   "nbconvert_exporter": "python",
   "pygments_lexer": "ipython3",
   "version": "3.7.2"
  }
 },
 "nbformat": 4,
 "nbformat_minor": 2
}
