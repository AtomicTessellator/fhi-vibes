{
 "cells": [
  {
   "cell_type": "code",
   "execution_count": 1,
   "metadata": {},
   "outputs": [],
   "source": [
    "import sys\n",
    "sys.path.insert(0, '/home/knoop/local/vibes')\n",
    "\n",
    "import numpy as np\n",
    "import scipy.linalg as la\n",
    "\n",
    "from vibes.io import read\n",
    "from vibes.helpers.numerics import clean_matrix\n",
    "\n",
    "from vibes.helpers.lattice_points import (\n",
    "    map_I_to_iL,\n",
    "    get_lattice_points,\n",
    "    get_commensurate_q_points,\n",
    ")\n",
    "from vibes.harmonic_analysis import HarmonicAnalysis\n",
    "from vibes.harmonic_analysis.dynamical_matrix import get_dynamical_matrices\n",
    "from vibes.harmonic_analysis.mode_projection import get_U, get_dUdt\n",
    "from vibes.harmonic_analysis.normal_modes import u_I_to_u_s, u_s_to_u_I, get_A_qst2\n",
    "from vibes.trajectory import reader\n",
    "from vibes.tdep.wrapper import parse_tdep_remapped_forceconstant\n",
    "\n",
    "from vibes.konstanten import kB\n",
    "from vibes.helpers import Timer\n",
    "\n",
    "from harmonic_md import run"
   ]
  },
  {
   "cell_type": "code",
   "execution_count": 2,
   "metadata": {},
   "outputs": [
    {
     "name": "stdout",
     "output_type": "stream",
     "text": [
      "Parse force constants from\n",
      "  infile.forceconstant_remapped\n",
      ".. remap representation for supercell:  True\n",
      ".. Number of atoms:   8\n",
      ".. Real space cutoff: 2.350 \\AA\n",
      ".. Number of lattice points: 40 (13 unique)\n",
      "[trajectory]   .. time elapsed: 0.003s\n"
     ]
    }
   ],
   "source": [
    "primitive = read('geometry.in.primitive')\n",
    "supercell = read('geometry.in.supercell')\n",
    "force_constants = parse_tdep_remapped_forceconstant('infile.forceconstant_remapped')\n",
    "\n",
    "masses = supercell.get_masses()"
   ]
  },
  {
   "cell_type": "code",
   "execution_count": 3,
   "metadata": {},
   "outputs": [
    {
     "name": "stdout",
     "output_type": "stream",
     "text": [
      "[trajectory]   .. found 4 (10) lattice points in 0.001s\n",
      "[trajectory]   .. found 4 (10) lattice points in 0.001s\n",
      "[trajectory]   .. matched 8 positions in supercell and primitive cell in 0.016s\n"
     ]
    }
   ],
   "source": [
    "lattice_points, _ = get_lattice_points(primitive.cell, supercell.cell)\n",
    "indeces = map_I_to_iL(primitive, supercell)"
   ]
  },
  {
   "cell_type": "code",
   "execution_count": 4,
   "metadata": {},
   "outputs": [
    {
     "name": "stdout",
     "output_type": "stream",
     "text": [
      "[trajectory]   .. found 4 (10) lattice points in 0.001s\n"
     ]
    }
   ],
   "source": [
    "q_points = get_commensurate_q_points(primitive.cell, supercell.cell)"
   ]
  },
  {
   "cell_type": "code",
   "execution_count": 5,
   "metadata": {},
   "outputs": [],
   "source": [
    "# check if the commensurate q point is correct\n",
    "assert la.norm(q_points[1] - [0.18429553175324292, 0.0, 0.0]) < 1e-14, q_points"
   ]
  },
  {
   "cell_type": "code",
   "execution_count": 6,
   "metadata": {
    "scrolled": false
   },
   "outputs": [
    {
     "name": "stdout",
     "output_type": "stream",
     "text": [
      "[trajectory]   .. found 4 (10) lattice points in 0.002s\n",
      "[trajectory]   .. matched 8 positions in supercell and primitive cell in 0.007s\n"
     ]
    }
   ],
   "source": [
    "# diagonalize dynamical matrices at commensurate q points\n",
    "\n",
    "r_lattice = primitive.get_reciprocal_cell()\n",
    "\n",
    "dyn_matrices = get_dynamical_matrices(q_points, primitive, supercell, force_constants)\n",
    "\n",
    "omegas2, evs = [], []\n",
    "for k, dyn_matrix in zip(q_points, dyn_matrices):\n",
    "    w_2, ev = la.eigh(dyn_matrix)\n",
    "    omegas2.append(w_2)\n",
    "    evs.append(ev)\n",
    "\n",
    "omegas2 = np.array(omegas2)\n",
    "evs = np.array(evs)"
   ]
  },
  {
   "cell_type": "code",
   "execution_count": 7,
   "metadata": {},
   "outputs": [],
   "source": [
    "# check if eigenvectors are orthogonal\n",
    "for iq, q in enumerate(q_points):\n",
    "    assert la.norm((evs.conj().swapaxes(1,2)[iq, :, :] @ evs[iq, :, :]) - np.eye(evs.shape[1])) < 1e-14, (q, evs)"
   ]
  },
  {
   "cell_type": "code",
   "execution_count": 8,
   "metadata": {},
   "outputs": [],
   "source": [
    "# check if transformation is unitary by probing each mode\n",
    "\n",
    "U = np.zeros_like(supercell.positions)\n",
    "\n",
    "u_qs = np.zeros((4, 6))\n",
    "\n",
    "for (i, j) in np.ndindex(u_qs.shape):\n",
    "    u_qs *= 0\n",
    "    u_qs[i, j] = -4\n",
    "    u_I = u_s_to_u_I(u_qs, q_points, lattice_points, evs, indeces)\n",
    "\n",
    "    assert la.norm(u_qs - clean_matrix(u_I_to_u_s(u_I, q_points, lattice_points, evs, indeces))) < 1e-14, (u_qs, u_I)"
   ]
  },
  {
   "cell_type": "code",
   "execution_count": 9,
   "metadata": {},
   "outputs": [],
   "source": [
    "# set velocities such that temperature is 100K\n",
    "temp = 100\n",
    "omegas = omegas2**.5\n",
    "\n",
    "amplitudes = (2 * kB * temp)**0.5 / omegas * (omegas.size / (omegas.size-3))**.5\n",
    "\n",
    "# set acoustic modes to zero\n",
    "amplitudes[0, :3] = 0\n",
    "\n",
    "assert la.norm((amplitudes**2 * omegas**2).sum() / (2 * kB) / 4 / 2 / 3 - temp) < 1e-14"
   ]
  },
  {
   "cell_type": "code",
   "execution_count": 10,
   "metadata": {},
   "outputs": [],
   "source": [
    "# \\dot u = \\omega * A\n",
    "\n",
    "V = u_s_to_u_I(omegas * amplitudes, q_points, lattice_points, evs, indeces)\n",
    "\n",
    "# mass scaling\n",
    "V /= masses[:, None] ** .5"
   ]
  },
  {
   "cell_type": "code",
   "execution_count": 11,
   "metadata": {},
   "outputs": [],
   "source": [
    "prepared_cell = supercell.copy()\n",
    "prepared_cell.set_velocities(V)\n",
    "prepared_temp = prepared_cell.get_temperature()\n",
    "assert la.norm(prepared_temp - 2*temp) / temp < 1e-5, prepared_temp"
   ]
  },
  {
   "cell_type": "code",
   "execution_count": 12,
   "metadata": {},
   "outputs": [
    {
     "data": {
      "text/plain": [
       "199.99999999999994"
      ]
     },
     "execution_count": 12,
     "metadata": {},
     "output_type": "execute_result"
    }
   ],
   "source": [
    "prepared_temp"
   ]
  },
  {
   "cell_type": "code",
   "execution_count": 13,
   "metadata": {},
   "outputs": [],
   "source": [
    "# write prepared cell as input for MD\n",
    "prepared_cell.write('geometry.in', format='aims', velocities=True)"
   ]
  },
  {
   "cell_type": "code",
   "execution_count": 14,
   "metadata": {},
   "outputs": [
    {
     "name": "stdout",
     "output_type": "stream",
     "text": [
      ".. Number of atoms:   2\n",
      ".. Real space cutoff: 2.350 \\AA\n",
      "[phonopy.utils] remap force constants\n",
      "[phonopy.utils] .. use fortran\n",
      "[phonopy.utils] .. time elapsed: 0.017s\n",
      "** trajectory.son deleted.\n",
      "progress: |||||||||||||||||||||||||||||||||||||  1001/1001\r"
     ]
    }
   ],
   "source": [
    "# run the MD and check the obtained temperature\n",
    "run(harmonic=True, maxsteps=1001, dt=1, sample='geometry.in')"
   ]
  },
  {
   "cell_type": "code",
   "execution_count": 15,
   "metadata": {},
   "outputs": [
    {
     "name": "stdout",
     "output_type": "stream",
     "text": [
      "[trajectory]   Parse trajectory\n",
      "[son] read file:  trajectory.son\n",
      "[trajectory]   .. done in 0.318s|||||||||||||||||||||||  1001/1001\n"
     ]
    }
   ],
   "source": [
    "traj = reader('trajectory.son')\n",
    "\n",
    "temperatures = np.array([a.get_temperature() for a in traj])\n",
    "\n",
    "assert abs((temperatures.mean() - temp) / temp) < 1e-3, temperatures.mean()"
   ]
  },
  {
   "cell_type": "markdown",
   "metadata": {},
   "source": [
    "## Test if amplitudes are directly restored"
   ]
  },
  {
   "cell_type": "code",
   "execution_count": 16,
   "metadata": {},
   "outputs": [],
   "source": [
    "atoms_displaced = traj[0]\n",
    "\n",
    "u_qst = [u_I_to_u_s(get_U(atoms_displaced, supercell), q_points, lattice_points, evs, indeces)]\n",
    "v_qst = [u_I_to_u_s(get_dUdt(atoms_displaced), q_points, lattice_points, evs, indeces)]\n",
    "\n",
    "new_amplitudes = get_A_qst2(u_qst, v_qst, omegas2) ** .5\n",
    "assert la.norm(new_amplitudes - amplitudes) < 1e-10, (new_amplitudes, amplitudes)"
   ]
  },
  {
   "cell_type": "code",
   "execution_count": 17,
   "metadata": {},
   "outputs": [],
   "source": [
    "U_t = [u_I_to_u_s(get_U(supercell, atoms), q_points, lattice_points, evs, indeces) for atoms in traj]\n",
    "V_t = [u_I_to_u_s(get_dUdt(atoms), q_points, lattice_points, evs, indeces) for atoms in traj]"
   ]
  },
  {
   "cell_type": "code",
   "execution_count": 18,
   "metadata": {},
   "outputs": [],
   "source": [
    "# check that mode projection preserves kinetic energy\n",
    "for ii in range(100):\n",
    "    amp = V_t[ii]\n",
    "    assert abs((amp**2).sum() / kB / 4 / 2 / 3 - traj[ii].get_temperature()) < 1e-4, ii"
   ]
  },
  {
   "cell_type": "code",
   "execution_count": 19,
   "metadata": {},
   "outputs": [],
   "source": [
    "# Check that energy in each mode was practically constant\n",
    "\n",
    "a = get_A_qst2(U_t, V_t, omegas2)\n",
    "\n",
    "E = 0.5 * omegas[None, :, :]**2 * a\n",
    "\n",
    "assert abs(E.mean() / kB - temp) < 0.1, E.mean() / kB\n",
    "assert E[:, 3:, :].std() / kB < 0.1, E[:, 3:, :].std() / kB"
   ]
  },
  {
   "cell_type": "raw",
   "metadata": {},
   "source": [
    "from matplotlib.pyplot import subplots\n",
    "%matplotlib inline\n",
    "\n",
    "fig, axs = subplots(2)\n",
    "\n",
    "tmax = 2000\n",
    "for ii in range(4):\n",
    "    axs[0].plot(a[:tmax, ii])\n",
    "    axs[1].plot(E[:tmax, ii] / kB)"
   ]
  },
  {
   "cell_type": "code",
   "execution_count": 20,
   "metadata": {},
   "outputs": [
    {
     "name": "stdout",
     "output_type": "stream",
     "text": [
      "Parse force constants from\n",
      "  infile.forceconstant\n",
      ".. remap representation for supercell:  False\n",
      ".. Number of atoms:   2\n",
      ".. Real space cutoff: 2.350 \\AA\n",
      ".. Number of lattice points: 10 (7 unique)\n",
      "[trajectory]   .. time elapsed: 0.001s\n",
      "[trajectory]   Set up harmonic analysis for Si:\n",
      "[trajectory]   .. found 4 (10) lattice points in 0.001s\n",
      "[trajectory]   .. matched 8 positions in supercell and primitive cell in 0.004s\n",
      "[trajectory]   .. found 4 (10) lattice points in 0.001s\n",
      "[trajectory]   .. time elapsed: 0.034s\n"
     ]
    }
   ],
   "source": [
    "# compare the high level access via HarmonicAnalysis\n",
    "\n",
    "fcs, lps = parse_tdep_remapped_forceconstant('infile.forceconstant')\n",
    "\n",
    "ha = HarmonicAnalysis(primitive, supercell, fcs, lps)"
   ]
  },
  {
   "cell_type": "code",
   "execution_count": 21,
   "metadata": {},
   "outputs": [
    {
     "name": "stdout",
     "output_type": "stream",
     "text": [
      "0.0\n",
      "0.0\n",
      "0.0\n",
      "0.0\n"
     ]
    }
   ],
   "source": [
    "# check that eigenvectors coincide\n",
    "\n",
    "for ii, q in enumerate(ha.q_points_frac):\n",
    "    _, e1 = ha.solve_Dq(q)\n",
    "    e2 = evs[ii]\n",
    "    print(la.norm(e1 - e2))"
   ]
  },
  {
   "cell_type": "code",
   "execution_count": 22,
   "metadata": {},
   "outputs": [
    {
     "name": "stdout",
     "output_type": "stream",
     "text": [
      "[trajectory]   Perform mode analysis for trajectory\n",
      "Project trajectory onto modes:\n",
      "** Warning from file vibes/harmonic_analysis/normal_modes.py, line 196, function get_phi_qst:\n",
      "--> Cast mode amplitudes to real values, is this correct?\n",
      "\n",
      "[trajectory]   .. project trajectory in 0.870s\n"
     ]
    }
   ],
   "source": [
    "A, p, E = ha.project(traj)"
   ]
  },
  {
   "cell_type": "code",
   "execution_count": 23,
   "metadata": {},
   "outputs": [],
   "source": [
    "# make sure the mode energies were conserved\n",
    "\n",
    "assert abs(E.mean() / kB - temp) < 0.1, E.mean() / kB\n",
    "assert E[:, 3:, :].std() / kB < 0.1, E[:, 3:, :].std() / kB"
   ]
  },
  {
   "cell_type": "markdown",
   "metadata": {},
   "source": [
    "## Check the energy per mode is constant in time"
   ]
  },
  {
   "cell_type": "code",
   "execution_count": 24,
   "metadata": {},
   "outputs": [
    {
     "data": {
      "image/png": "[encoded data removed]",
      "text/plain": [
       "<Figure size 432x288 with 2 Axes>"
      ]
     },
     "metadata": {
      "needs_background": "light"
     },
     "output_type": "display_data"
    }
   ],
   "source": [
    "from matplotlib.pyplot import subplots\n",
    "%matplotlib inline\n",
    "\n",
    "fig, axs = subplots(2)\n",
    "\n",
    "for ii in range(4):\n",
    "    axs[0].plot(a[:, ii])\n",
    "    axs[1].plot(E[:, ii] / kB)"
   ]
  },
  {
   "cell_type": "code",
   "execution_count": null,
   "metadata": {},
   "outputs": [],
   "source": []
  }
 ],
 "metadata": {
  "kernelspec": {
   "display_name": "Python 3",
   "language": "python",
   "name": "python3"
  },
  "language_info": {
   "codemirror_mode": {
    "name": "ipython",
    "version": 3
   },
   "file_extension": ".py",
   "mimetype": "text/x-python",
   "name": "python",
   "nbconvert_exporter": "python",
   "pygments_lexer": "ipython3",
   "version": "3.7.3"
  }
 },
 "nbformat": 4,
 "nbformat_minor": 2
}
