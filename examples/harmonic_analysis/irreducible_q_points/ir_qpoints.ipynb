{
 "cells": [
  {
   "cell_type": "code",
   "execution_count": 1,
   "metadata": {},
   "outputs": [],
   "source": [
    "import numpy as np\n",
    "\n",
    "import spglib as spg\n",
    "\n",
    "from hilde.io import read\n",
    "from hilde.harmonic_analysis import HarmonicAnalysis\n",
    "from hilde.structure.convert import to_spglib_cell\n",
    "from hilde.helpers.numerics import clean_matrix\n",
    "from hilde.helpers.lattice_points import get_commensurate_q_points"
   ]
  },
  {
   "cell_type": "code",
   "execution_count": 2,
   "metadata": {},
   "outputs": [],
   "source": [
    "mat = 'gan'\n",
    "primitive = read(f'{mat}/geometry.in')\n",
    "supercell = read(f'{mat}/geometry.in.supercell')"
   ]
  },
  {
   "cell_type": "code",
   "execution_count": 3,
   "metadata": {},
   "outputs": [
    {
     "name": "stdout",
     "output_type": "stream",
     "text": [
      "get_lattice_points()\n",
      "--------------------\n",
      "Maximum number of iterations: 16\n",
      "\n",
      "Supercell matrix:             \n",
      "[[ 4  1  0]\n",
      " [ 2  4 -1]\n",
      " [-1 -1  2]]\n",
      "\n",
      "lattice:                      \n",
      "[[ 3.19284608  0.          0.        ]\n",
      " [-1.59642304  2.76508581  0.        ]\n",
      " [ 0.          0.          5.20451216]]\n",
      "\n",
      "inv_lattice:                  \n",
      "[[ 0.31320019  0.         -0.        ]\n",
      " [ 0.18082621  0.36165243 -0.        ]\n",
      " [ 0.          0.          0.19214097]]\n",
      "\n",
      ".. found 25 (7) lattice points in 0.004s\n",
      "\n",
      "get_lattice_points()\n",
      "--------------------\n",
      "Maximum number of iterations: 16\n",
      "\n",
      "Supercell matrix:             \n",
      "[[ 4  2 -1]\n",
      " [ 1  4 -1]\n",
      " [ 0 -1  2]]\n",
      "\n",
      "lattice:                      \n",
      "[[ 0.08769605  0.00723305  0.01537128]\n",
      " [-0.02505602  0.10126268  0.02305692]\n",
      " [-0.01252801  0.05063134  0.10759894]]\n",
      "\n",
      "inv_lattice:                  \n",
      "[[ 1.11749613e+01 -1.97376093e-09 -1.59642304e+00]\n",
      " [ 2.76508581e+00  1.10603433e+01 -2.76508581e+00]\n",
      " [ 1.07778672e-16 -5.20451216e+00  1.04090243e+01]]\n",
      "\n",
      ".. found 25 (7) lattice points in 0.002s\n",
      "\n",
      "** Force constants not set, your choice.\n"
     ]
    }
   ],
   "source": [
    "ha = HarmonicAnalysis(primitive, supercell, verbose=True)"
   ]
  },
  {
   "cell_type": "code",
   "execution_count": 4,
   "metadata": {},
   "outputs": [],
   "source": [
    "ilat = primitive.get_reciprocal_cell()"
   ]
  },
  {
   "cell_type": "code",
   "execution_count": 5,
   "metadata": {},
   "outputs": [
    {
     "data": {
      "text/plain": [
       "array([[ 4.,  1.,  0.],\n",
       "       [ 2.,  4., -1.],\n",
       "       [-1., -1.,  2.]])"
      ]
     },
     "execution_count": 5,
     "metadata": {},
     "output_type": "execute_result"
    }
   ],
   "source": [
    "P = supercell.cell @ primitive.get_reciprocal_cell().T\n",
    "clean_matrix(P)"
   ]
  },
  {
   "cell_type": "code",
   "execution_count": 6,
   "metadata": {},
   "outputs": [
    {
     "data": {
      "text/plain": [
       "25"
      ]
     },
     "execution_count": 6,
     "metadata": {},
     "output_type": "execute_result"
    }
   ],
   "source": [
    "n_lp = np.round(np.linalg.det(P)).astype(int)\n",
    "n_lp"
   ]
  },
  {
   "cell_type": "code",
   "execution_count": 7,
   "metadata": {},
   "outputs": [
    {
     "data": {
      "text/plain": [
       "3"
      ]
     },
     "execution_count": 7,
     "metadata": {},
     "output_type": "execute_result"
    }
   ],
   "source": [
    "n_qmesh = int(np.ceil(n_lp**(1/3)))\n",
    "n_qmesh"
   ]
  },
  {
   "cell_type": "code",
   "execution_count": 8,
   "metadata": {},
   "outputs": [
    {
     "data": {
      "text/plain": [
       "(array([[ 0,  0,  0],\n",
       "        [ 1,  1,  0],\n",
       "        [ 1,  0,  1],\n",
       "        [ 2,  1,  0],\n",
       "        [ 1,  1,  1],\n",
       "        [ 1,  2,  0],\n",
       "        [ 2,  2,  0],\n",
       "        [ 2,  1,  1],\n",
       "        [ 1,  2,  1],\n",
       "        [ 1,  3,  0],\n",
       "        [ 3,  2,  0],\n",
       "        [ 3,  1,  1],\n",
       "        [ 3,  3, -1],\n",
       "        [ 2,  2,  1],\n",
       "        [ 2,  3,  0],\n",
       "        [ 2,  4, -1],\n",
       "        [ 3,  3,  0],\n",
       "        [ 4,  2,  0],\n",
       "        [ 4,  3, -1],\n",
       "        [ 3,  4, -1],\n",
       "        [ 4,  3,  0],\n",
       "        [ 4,  4, -1],\n",
       "        [ 3,  4,  0],\n",
       "        [ 4,  4,  0],\n",
       "        [ 4,  5, -1]]), 25)"
      ]
     },
     "execution_count": 8,
     "metadata": {},
     "output_type": "execute_result"
    }
   ],
   "source": [
    "my_mesh = np.round(ha.q_points @ supercell.cell.T).astype(int)\n",
    "my_mesh, len(my_mesh)"
   ]
  },
  {
   "cell_type": "code",
   "execution_count": 9,
   "metadata": {},
   "outputs": [
    {
     "data": {
      "text/plain": [
       "array([5, 6, 3])"
      ]
     },
     "execution_count": 9,
     "metadata": {},
     "output_type": "execute_result"
    }
   ],
   "source": [
    "n_qmesh = my_mesh.max(axis=0) - my_mesh.min(axis=0) + 1\n",
    "n_qmesh"
   ]
  },
  {
   "cell_type": "code",
   "execution_count": 10,
   "metadata": {},
   "outputs": [
    {
     "data": {
      "text/plain": [
       "array([[0, 0, 0],\n",
       "       [1, 1, 0],\n",
       "       [1, 0, 1],\n",
       "       [2, 1, 0],\n",
       "       [1, 1, 1],\n",
       "       [1, 2, 0],\n",
       "       [2, 2, 0],\n",
       "       [2, 1, 1],\n",
       "       [1, 2, 1],\n",
       "       [1, 3, 0],\n",
       "       [3, 2, 0],\n",
       "       [3, 1, 1],\n",
       "       [3, 3, 2],\n",
       "       [2, 2, 1],\n",
       "       [2, 3, 0],\n",
       "       [2, 4, 2],\n",
       "       [3, 3, 0],\n",
       "       [4, 2, 0],\n",
       "       [4, 3, 2],\n",
       "       [3, 4, 2],\n",
       "       [4, 3, 0],\n",
       "       [4, 4, 2],\n",
       "       [3, 4, 0],\n",
       "       [4, 4, 0],\n",
       "       [4, 5, 2]])"
      ]
     },
     "execution_count": 10,
     "metadata": {},
     "output_type": "execute_result"
    }
   ],
   "source": [
    "my_mesh % n_qmesh"
   ]
  },
  {
   "cell_type": "code",
   "execution_count": 11,
   "metadata": {},
   "outputs": [],
   "source": [
    "ir_mapping, grid = spg.get_ir_reciprocal_mesh(n_qmesh, to_spglib_cell(primitive))\n",
    "ir_grid = grid[np.unique(ir_mapping)]\n",
    "\n",
    "# grid % n_qmesh\n",
    "# for ii, n in enumerate(n_qmesh):\n",
    "#     grid[:, ii] = grid[:, ii] % n\n",
    "# grid"
   ]
  },
  {
   "cell_type": "code",
   "execution_count": 12,
   "metadata": {},
   "outputs": [
    {
     "data": {
      "text/plain": [
       "(True,\n",
       " 25,\n",
       " (array([ 0,  6,  7, 11, 12, 13, 14, 16, 17, 18, 19, 23, 24, 31, 36, 37, 38,\n",
       "         41, 42, 78, 79, 82, 83, 84, 89]),\n",
       "  array([1, 1, 1, 1, 1, 1, 1, 1, 1, 1, 1, 1, 1, 1, 1, 1, 1, 1, 1, 1, 1, 1,\n",
       "         1, 1, 1])))"
      ]
     },
     "execution_count": 12,
     "metadata": {},
     "output_type": "execute_result"
    }
   ],
   "source": [
    "match_list = -np.ones(n_lp, dtype=int)\n",
    "for i1, q1 in enumerate(my_mesh % n_qmesh):\n",
    "    for i2, q2 in enumerate(grid % n_qmesh):\n",
    "        if np.linalg.norm(q1 - q2) < 1e-12:\n",
    "            match_list[i1] = i2\n",
    "\n",
    "# assert len(np.unique(match_list)) == n_lp, (len(np.unique(match_list)), match_list)\n",
    "len(np.unique(match_list)) == n_lp, len(np.unique(match_list)), np.unique(match_list, return_counts=True)"
   ]
  },
  {
   "cell_type": "code",
   "execution_count": 13,
   "metadata": {},
   "outputs": [
    {
     "data": {
      "text/plain": [
       "(array([ 0,  6, 31,  7, 36, 11, 12, 37, 41, 16, 13, 38, 78, 42, 17, 82, 18,\n",
       "        14, 79, 83, 19, 84, 23, 24, 89]), array([-2,  1,  0], dtype=int32))"
      ]
     },
     "execution_count": 13,
     "metadata": {},
     "output_type": "execute_result"
    }
   ],
   "source": [
    "match_list, grid[8]"
   ]
  },
  {
   "cell_type": "code",
   "execution_count": 14,
   "metadata": {},
   "outputs": [
    {
     "data": {
      "text/plain": [
       "{0: 0,\n",
       " 1: 1,\n",
       " 2: 2,\n",
       " 5: 3,\n",
       " 6: 4,\n",
       " 7: 5,\n",
       " 8: 6,\n",
       " 9: 7,\n",
       " 10: 8,\n",
       " 11: 9,\n",
       " 12: 10,\n",
       " 13: 11,\n",
       " 14: 12,\n",
       " 15: 13,\n",
       " 16: 14,\n",
       " 17: 15,\n",
       " 30: 16,\n",
       " 31: 17,\n",
       " 32: 18,\n",
       " 35: 19,\n",
       " 36: 20,\n",
       " 37: 21,\n",
       " 38: 22,\n",
       " 39: 23,\n",
       " 40: 24,\n",
       " 41: 25,\n",
       " 42: 26,\n",
       " 43: 27,\n",
       " 44: 28,\n",
       " 45: 29,\n",
       " 46: 30,\n",
       " 47: 31}"
      ]
     },
     "execution_count": 14,
     "metadata": {},
     "output_type": "execute_result"
    }
   ],
   "source": [
    "dct = {}\n",
    "for nn, ii in enumerate(np.unique(ir_mapping)):\n",
    "    dct[ii] = nn\n",
    "dct"
   ]
  },
  {
   "cell_type": "code",
   "execution_count": 15,
   "metadata": {},
   "outputs": [
    {
     "data": {
      "text/plain": [
       "array([ 0,  4, 17,  5, 20,  9, 10, 21, 25, 14, 11, 22, 31, 26, 15, 27, 15,\n",
       "       12, 30, 26, 14, 25, 10,  9, 20])"
      ]
     },
     "execution_count": 15,
     "metadata": {},
     "output_type": "execute_result"
    }
   ],
   "source": [
    "np.array([dct[ii] for ii in ir_mapping[match_list]])"
   ]
  },
  {
   "cell_type": "code",
   "execution_count": 16,
   "metadata": {},
   "outputs": [
    {
     "data": {
      "text/plain": [
       "array([[ 0,  0,  0],\n",
       "       [ 1,  0,  0],\n",
       "       [ 2,  0,  0],\n",
       "       [ 0,  1,  0],\n",
       "       [ 1,  1,  0],\n",
       "       [ 2,  1,  0],\n",
       "       [-2,  1,  0],\n",
       "       [-1,  1,  0],\n",
       "       [ 0,  2,  0],\n",
       "       [ 1,  2,  0],\n",
       "       [ 2,  2,  0],\n",
       "       [-2,  2,  0],\n",
       "       [-1,  2,  0],\n",
       "       [ 0,  3,  0],\n",
       "       [ 1,  3,  0],\n",
       "       [ 2,  3,  0],\n",
       "       [ 0,  0,  1],\n",
       "       [ 1,  0,  1],\n",
       "       [ 2,  0,  1],\n",
       "       [ 0,  1,  1],\n",
       "       [ 1,  1,  1],\n",
       "       [ 2,  1,  1],\n",
       "       [-2,  1,  1],\n",
       "       [-1,  1,  1],\n",
       "       [ 0,  2,  1],\n",
       "       [ 1,  2,  1],\n",
       "       [ 2,  2,  1],\n",
       "       [-2,  2,  1],\n",
       "       [-1,  2,  1],\n",
       "       [ 0,  3,  1],\n",
       "       [ 1,  3,  1],\n",
       "       [ 2,  3,  1]], dtype=int32)"
      ]
     },
     "execution_count": 16,
     "metadata": {},
     "output_type": "execute_result"
    }
   ],
   "source": [
    "ir_grid"
   ]
  },
  {
   "cell_type": "code",
   "execution_count": null,
   "metadata": {},
   "outputs": [],
   "source": []
  }
 ],
 "metadata": {
  "kernelspec": {
   "display_name": "Python 3",
   "language": "python",
   "name": "python3"
  },
  "language_info": {
   "codemirror_mode": {
    "name": "ipython",
    "version": 3
   },
   "file_extension": ".py",
   "mimetype": "text/x-python",
   "name": "python",
   "nbconvert_exporter": "python",
   "pygments_lexer": "ipython3",
   "version": "3.7.2"
  }
 },
 "nbformat": 4,
 "nbformat_minor": 2
}
