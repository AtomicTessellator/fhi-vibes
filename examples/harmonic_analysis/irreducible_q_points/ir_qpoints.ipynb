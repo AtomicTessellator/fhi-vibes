{
 "cells": [
  {
   "cell_type": "code",
   "execution_count": 1,
   "metadata": {},
   "outputs": [],
   "source": [
    "import numpy as np\n",
    "\n",
    "import spglib as spg\n",
    "\n",
    "from hilde.io import read\n",
    "from hilde.harmonic_analysis import HarmonicAnalysis\n",
    "from hilde.structure.convert import to_spglib_cell\n",
    "from hilde.helpers.numerics import clean_matrix\n",
    "from hilde.helpers.lattice_points import get_commensurate_q_points"
   ]
  },
  {
   "cell_type": "code",
   "execution_count": 2,
   "metadata": {},
   "outputs": [],
   "source": [
    "mat = 'gan'\n",
    "primitive = read(f'{mat}/geometry.in')\n",
    "supercell = read(f'{mat}/geometry.in.supercell')"
   ]
  },
  {
   "cell_type": "code",
   "execution_count": 3,
   "metadata": {},
   "outputs": [
    {
     "name": "stdout",
     "output_type": "stream",
     "text": [
      "Set up harmonic analysis for Ga2N2:\n",
      ".. found 25 (7) lattice points in 0.006s\n",
      ".. found 25 (7) lattice points in 0.002s\n",
      "** Force constants not set, your choice.\n",
      ".. time elapsed: 0.057s\n"
     ]
    }
   ],
   "source": [
    "ha = HarmonicAnalysis(primitive, supercell)"
   ]
  },
  {
   "cell_type": "code",
   "execution_count": 4,
   "metadata": {},
   "outputs": [
    {
     "data": {
      "text/plain": [
       "25"
      ]
     },
     "execution_count": 4,
     "metadata": {},
     "output_type": "execute_result"
    }
   ],
   "source": [
    "# Supercell matrix\n",
    "P = supercell.cell @ primitive.get_reciprocal_cell().T\n",
    "\n",
    "n_lp = np.round(np.linalg.det(P)).astype(int)\n",
    "n_lp"
   ]
  },
  {
   "cell_type": "code",
   "execution_count": 5,
   "metadata": {},
   "outputs": [
    {
     "data": {
      "text/plain": [
       "(array([[ 0,  0,  0],\n",
       "        [ 1,  1,  0],\n",
       "        [ 1,  0,  1],\n",
       "        [ 2,  1,  0],\n",
       "        [ 1,  1,  1],\n",
       "        [ 1,  2,  0],\n",
       "        [ 2,  2,  0],\n",
       "        [ 2,  1,  1],\n",
       "        [ 1,  2,  1],\n",
       "        [ 1,  3,  0],\n",
       "        [ 3,  2,  0],\n",
       "        [ 3,  1,  1],\n",
       "        [ 3,  3, -1],\n",
       "        [ 2,  2,  1],\n",
       "        [ 2,  3,  0],\n",
       "        [ 2,  4, -1],\n",
       "        [ 3,  3,  0],\n",
       "        [ 4,  2,  0],\n",
       "        [ 4,  3, -1],\n",
       "        [ 3,  4, -1],\n",
       "        [ 4,  3,  0],\n",
       "        [ 4,  4, -1],\n",
       "        [ 3,  4,  0],\n",
       "        [ 4,  4,  0],\n",
       "        [ 4,  5, -1]]), 25)"
      ]
     },
     "execution_count": 5,
     "metadata": {},
     "output_type": "execute_result"
    }
   ],
   "source": [
    "my_mesh = np.round(ha.q_points @ supercell.cell.T).astype(int)\n",
    "my_mesh, len(my_mesh)"
   ]
  },
  {
   "cell_type": "code",
   "execution_count": 6,
   "metadata": {},
   "outputs": [
    {
     "data": {
      "text/plain": [
       "array([5, 6, 3])"
      ]
     },
     "execution_count": 6,
     "metadata": {},
     "output_type": "execute_result"
    }
   ],
   "source": [
    "n_qmesh = my_mesh.max(axis=0) - my_mesh.min(axis=0) + 1\n",
    "n_qmesh"
   ]
  },
  {
   "cell_type": "code",
   "execution_count": 7,
   "metadata": {},
   "outputs": [
    {
     "data": {
      "text/plain": [
       "array([[0, 0, 0],\n",
       "       [1, 1, 0],\n",
       "       [1, 0, 1],\n",
       "       [2, 1, 0],\n",
       "       [1, 1, 1],\n",
       "       [1, 2, 0],\n",
       "       [2, 2, 0],\n",
       "       [2, 1, 1],\n",
       "       [1, 2, 1],\n",
       "       [1, 3, 0],\n",
       "       [3, 2, 0],\n",
       "       [3, 1, 1],\n",
       "       [3, 3, 2],\n",
       "       [2, 2, 1],\n",
       "       [2, 3, 0],\n",
       "       [2, 4, 2],\n",
       "       [3, 3, 0],\n",
       "       [4, 2, 0],\n",
       "       [4, 3, 2],\n",
       "       [3, 4, 2],\n",
       "       [4, 3, 0],\n",
       "       [4, 4, 2],\n",
       "       [3, 4, 0],\n",
       "       [4, 4, 0],\n",
       "       [4, 5, 2]])"
      ]
     },
     "execution_count": 7,
     "metadata": {},
     "output_type": "execute_result"
    }
   ],
   "source": [
    "my_mesh % n_qmesh"
   ]
  },
  {
   "cell_type": "code",
   "execution_count": 8,
   "metadata": {},
   "outputs": [],
   "source": [
    "ir_mapping, grid = spg.get_ir_reciprocal_mesh(n_qmesh, to_spglib_cell(primitive))\n",
    "ir_grid = grid[np.unique(ir_mapping)]"
   ]
  },
  {
   "cell_type": "code",
   "execution_count": 9,
   "metadata": {},
   "outputs": [],
   "source": [
    "match_list = -np.ones(n_lp, dtype=int)\n",
    "for i1, q1 in enumerate(my_mesh % n_qmesh):\n",
    "    for i2, q2 in enumerate(grid % n_qmesh):\n",
    "        if np.linalg.norm(q1 - q2) < 1e-12:\n",
    "            match_list[i1] = i2\n",
    "\n",
    "assert len(np.unique(match_list)) == n_lp, (len(np.unique(match_list)), match_list)"
   ]
  },
  {
   "cell_type": "code",
   "execution_count": 10,
   "metadata": {},
   "outputs": [
    {
     "data": {
      "text/plain": [
       "array([ 0,  6, 31,  7, 36, 11, 12, 37, 41, 16, 13, 38, 78, 42, 17, 82, 18,\n",
       "       14, 79, 83, 19, 84, 23, 24, 89])"
      ]
     },
     "execution_count": 10,
     "metadata": {},
     "output_type": "execute_result"
    }
   ],
   "source": [
    "match_list"
   ]
  },
  {
   "cell_type": "code",
   "execution_count": 11,
   "metadata": {},
   "outputs": [],
   "source": [
    "dct = {}\n",
    "for nn, ii in enumerate(np.unique(ir_mapping)):\n",
    "    dct[ii] = nn"
   ]
  },
  {
   "cell_type": "code",
   "execution_count": 12,
   "metadata": {},
   "outputs": [
    {
     "name": "stdout",
     "output_type": "stream",
     "text": [
      "Number of q points reduced from\n",
      "  25 to 18\n"
     ]
    }
   ],
   "source": [
    "map_to_ir = np.array([dct[ii] for ii in ir_mapping[match_list]])\n",
    "print(f'Number of q points reduced from\\n  {len(map_to_ir)} to {len(np.unique(map_to_ir))}')"
   ]
  },
  {
   "cell_type": "code",
   "execution_count": 13,
   "metadata": {},
   "outputs": [
    {
     "data": {
      "text/plain": [
       "array([[ 0,  0,  0],\n",
       "       [ 1,  1,  0],\n",
       "       [ 2,  1,  0],\n",
       "       [ 1,  2,  0],\n",
       "       [ 2,  2,  0],\n",
       "       [-2,  2,  0],\n",
       "       [-1,  2,  0],\n",
       "       [ 1,  3,  0],\n",
       "       [ 2,  3,  0],\n",
       "       [ 1,  0,  1],\n",
       "       [ 1,  1,  1],\n",
       "       [ 2,  1,  1],\n",
       "       [-2,  1,  1],\n",
       "       [ 1,  2,  1],\n",
       "       [ 2,  2,  1],\n",
       "       [-2,  2,  1],\n",
       "       [ 1,  3,  1],\n",
       "       [ 2,  3,  1]], dtype=int32)"
      ]
     },
     "execution_count": 13,
     "metadata": {},
     "output_type": "execute_result"
    }
   ],
   "source": [
    "ir_grid[np.unique(map_to_ir)]"
   ]
  },
  {
   "cell_type": "code",
   "execution_count": null,
   "metadata": {},
   "outputs": [],
   "source": []
  }
 ],
 "metadata": {
  "kernelspec": {
   "display_name": "Python 3",
   "language": "python",
   "name": "python3"
  },
  "language_info": {
   "codemirror_mode": {
    "name": "ipython",
    "version": 3
   },
   "file_extension": ".py",
   "mimetype": "text/x-python",
   "name": "python",
   "nbconvert_exporter": "python",
   "pygments_lexer": "ipython3",
   "version": "3.7.2"
  }
 },
 "nbformat": 4,
 "nbformat_minor": 2
}
