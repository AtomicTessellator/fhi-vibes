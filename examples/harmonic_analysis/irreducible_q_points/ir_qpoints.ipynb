{
 "cells": [
  {
   "cell_type": "code",
   "execution_count": 1,
   "metadata": {},
   "outputs": [],
   "source": [
    "import numpy as np\n",
    "\n",
    "import spglib as spg\n",
    "\n",
    "from hilde.io import read\n",
    "from hilde.harmonic_analysis import HarmonicAnalysis\n",
    "from hilde.structure.convert import to_spglib_cell\n",
    "from hilde.helpers.numerics import clean_matrix\n",
    "from hilde.helpers.lattice_points import get_commensurate_q_points\n",
    "\n",
    "from hilde.spglib.q_mesh import get_ir_reciprocal_mesh"
   ]
  },
  {
   "cell_type": "code",
   "execution_count": 2,
   "metadata": {},
   "outputs": [
    {
     "data": {
      "text/plain": [
       "'Fm-3m (225)'"
      ]
     },
     "execution_count": 2,
     "metadata": {},
     "output_type": "execute_result"
    }
   ],
   "source": [
    "mat = 'mgo'\n",
    "primitive = read(f'{mat}/geometry.in')\n",
    "supercell = read(f'{mat}/geometry.in.supercell')\n",
    "spg.get_spacegroup(to_spglib_cell(supercell))"
   ]
  },
  {
   "cell_type": "code",
   "execution_count": 3,
   "metadata": {},
   "outputs": [
    {
     "name": "stdout",
     "output_type": "stream",
     "text": [
      "Set up harmonic analysis for MgO:\n",
      ".. found 32 (31) lattice points in 0.002s\n",
      ".. found 32 (31) lattice points in 0.001s\n",
      "** Force constants not set, your choice.\n",
      ".. time elapsed: 0.132s\n"
     ]
    }
   ],
   "source": [
    "ha = HarmonicAnalysis(primitive, supercell)"
   ]
  },
  {
   "cell_type": "code",
   "execution_count": 4,
   "metadata": {},
   "outputs": [],
   "source": [
    "my_mesh = ha.q_points_frac"
   ]
  },
  {
   "cell_type": "code",
   "execution_count": 5,
   "metadata": {},
   "outputs": [
    {
     "data": {
      "text/plain": [
       "array([5, 5, 5])"
      ]
     },
     "execution_count": 5,
     "metadata": {},
     "output_type": "execute_result"
    }
   ],
   "source": [
    "n_qmesh = (my_mesh.max(axis=0) - my_mesh.min(axis=0)) + 1\n",
    "n_qmesh"
   ]
  },
  {
   "cell_type": "code",
   "execution_count": 6,
   "metadata": {},
   "outputs": [],
   "source": [
    "def to_frac_primitive(q, primitve, supercell):\n",
    "    return clean_matrix(q @ supercell.get_reciprocal_cell() @ primitive.cell.T)"
   ]
  },
  {
   "cell_type": "code",
   "execution_count": 7,
   "metadata": {},
   "outputs": [
    {
     "name": "stdout",
     "output_type": "stream",
     "text": [
      "111 [0.5 0.5 0.5] [0.5 0.5 0.5]\n"
     ]
    }
   ],
   "source": [
    "mapping, spg_mesh = spg.get_ir_reciprocal_mesh(n_qmesh * 2, to_spglib_cell(supercell))\n",
    "for ii, q in enumerate(spg_mesh):\n",
    "    q1 = to_frac_primitive(q, primitive, supercell)\n",
    "    q2 = to_frac_primitive(spg_mesh[mapping[ii]], primitive, supercell)\n",
    "    if np.linalg.norm(q1 - [.5, .5, .5]) < .1:\n",
    "        print(ii, q1, q2)"
   ]
  },
  {
   "cell_type": "raw",
   "metadata": {},
   "source": [
    "for ii, fq in enumerate(spg_mesh): #[np.unique(mapping)]:\n",
    "    cart_q = fq @ supercell.get_reciprocal_cell()\n",
    "    frac_q = clean_matrix(cart_q @ primitive.cell.T)\n",
    "    ptype = spg_mesh[mapping[ii]]\n",
    "    print(ii, fq, ptype, frac_q)"
   ]
  },
  {
   "cell_type": "code",
   "execution_count": 8,
   "metadata": {},
   "outputs": [],
   "source": [
    "# create the list of irreducible grid points and the mapping to the reduced list\n",
    "\n",
    "# irreducible grid points\n",
    "ir_grid = spg_mesh[np.unique(mapping)]\n",
    "\n",
    "# dict translates between full and reduced grid point indices\n",
    "dct = {}\n",
    "for nn, ii in enumerate(np.unique(mapping)):\n",
    "    dct[ii] = nn\n",
    "\n",
    "# mapping to the reduced indices\n",
    "ir_mapping = np.array([dct[ii] for ii in mapping])"
   ]
  },
  {
   "cell_type": "code",
   "execution_count": 9,
   "metadata": {},
   "outputs": [
    {
     "data": {
      "text/plain": [
       "True"
      ]
     },
     "execution_count": 9,
     "metadata": {},
     "output_type": "execute_result"
    }
   ],
   "source": [
    "# verify that this mapping works\n",
    "all((spg_mesh[q] == ir_grid[ir_mapping[i]]).all() for i, q in enumerate(mapping))"
   ]
  },
  {
   "cell_type": "code",
   "execution_count": 10,
   "metadata": {},
   "outputs": [],
   "source": [
    "# match the q points from my list with the ones from spglib\n",
    "\n",
    "n_lp = len(my_mesh)\n",
    "match_list = -np.ones(n_lp, dtype=int)\n",
    "my_mapping = -np.ones(n_lp, dtype=int)\n",
    "\n",
    "for i1, q1 in enumerate(my_mesh):\n",
    "    for i2, q2 in enumerate(spg_mesh):\n",
    "        if np.linalg.norm(q1 - q2) < 1e-12:\n",
    "            # exchange the q point in spg list with my one\n",
    "            # ir_grid[ir_mapping[i2]] = q1\n",
    "            match_list[i1] = i2\n",
    "            my_mapping[i1] = ir_mapping[i2]\n",
    "\n",
    "# sanity checks\n",
    "assert -1 not in match_list, match_list\n",
    "assert -1 not in my_mapping, my_mapping\n",
    "assert len(np.unique(match_list)) == n_lp, (len(np.unique(match_list)), match_list)"
   ]
  },
  {
   "cell_type": "code",
   "execution_count": 11,
   "metadata": {},
   "outputs": [
    {
     "data": {
      "text/plain": [
       "(array([  0,   1,  10, 100,  11, 101, 110, 911, 191, 119, 111,   2,  20,\n",
       "        200,  12,  21, 102, 120, 201, 210, 912, 921, 192, 291, 112, 129,\n",
       "        121, 219, 211,   3,  30, 300]),\n",
       " array([ 0,  1,  2,  3,  6,  7, 21, 22]))"
      ]
     },
     "execution_count": 11,
     "metadata": {},
     "output_type": "execute_result"
    }
   ],
   "source": [
    "match_list, np.unique(my_mapping)"
   ]
  },
  {
   "cell_type": "code",
   "execution_count": 12,
   "metadata": {},
   "outputs": [
    {
     "data": {
      "text/plain": [
       "array([[0.  , 0.  , 0.  ],\n",
       "       [0.  , 0.25, 0.25],\n",
       "       [0.  , 0.5 , 0.5 ],\n",
       "       [0.  , 0.75, 0.75],\n",
       "       [0.25, 0.25, 0.5 ],\n",
       "       [0.25, 0.5 , 0.75],\n",
       "       [0.5 , 0.5 , 0.5 ],\n",
       "       [0.5 , 0.75, 0.75]])"
      ]
     },
     "execution_count": 12,
     "metadata": {},
     "output_type": "execute_result"
    }
   ],
   "source": [
    "my_ir_grid_temp = clean_matrix(ir_grid[np.unique(my_mapping)] @ supercell.get_reciprocal_cell() @ primitive.cell.T)\n",
    "my_ir_grid_temp"
   ]
  },
  {
   "cell_type": "code",
   "execution_count": 13,
   "metadata": {},
   "outputs": [
    {
     "data": {
      "text/plain": [
       "array([[0.  , 0.  , 0.  ],\n",
       "       [0.  , 0.25, 0.25],\n",
       "       [0.  , 0.5 , 0.5 ],\n",
       "       [0.  , 0.75, 0.75],\n",
       "       [0.25, 0.25, 0.5 ],\n",
       "       [0.25, 0.5 , 0.75],\n",
       "       [0.5 , 0.5 , 0.5 ],\n",
       "       [0.5 , 0.75, 0.75]])"
      ]
     },
     "execution_count": 13,
     "metadata": {},
     "output_type": "execute_result"
    }
   ],
   "source": [
    "# wrap atoms back\n",
    "my_ir_grid_temp_cleaned = clean_matrix((my_ir_grid_temp + .001) % 1 - .001)\n",
    "my_ir_grid_temp_cleaned"
   ]
  },
  {
   "cell_type": "code",
   "execution_count": 14,
   "metadata": {},
   "outputs": [
    {
     "data": {
      "text/plain": [
       "array([0, 1, 1, 1, 4, 4, 4, 6, 6, 6, 6, 2, 2, 2, 5, 5, 5, 5, 5, 5, 7, 7,\n",
       "       7, 7, 7, 7, 7, 7, 7, 3, 3, 3])"
      ]
     },
     "execution_count": 14,
     "metadata": {},
     "output_type": "execute_result"
    }
   ],
   "source": [
    "dct = {}\n",
    "for nn, ii in enumerate(np.unique(my_mapping)):\n",
    "    dct[ii] = nn\n",
    "    \n",
    "my_ir_mapping = np.array([dct[ii] for ii in my_mapping])\n",
    "my_ir_mapping"
   ]
  },
  {
   "cell_type": "code",
   "execution_count": 15,
   "metadata": {},
   "outputs": [],
   "source": [
    "my_ir_grid = []\n",
    "ir_temp_mapping = []\n",
    "for ii, ir_q_temp in enumerate(my_ir_grid_temp_cleaned):\n",
    "    for jj, ir_q in enumerate(my_ir_grid):\n",
    "        if np.linalg.norm(ir_q_temp - ir_q) < 1e-12:\n",
    "            # they are the same:\n",
    "            my_ir_mapping[my_ir_mapping == ii] = jj\n",
    "            break\n",
    "    else:\n",
    "        # otherwise add to list\n",
    "        my_ir_grid.append(ir_q_temp)"
   ]
  },
  {
   "cell_type": "code",
   "execution_count": 16,
   "metadata": {},
   "outputs": [
    {
     "data": {
      "text/plain": [
       "array([[0., 0., 0.],\n",
       "       [1., 0., 0.],\n",
       "       [2., 0., 0.],\n",
       "       [3., 0., 0.],\n",
       "       [1., 1., 0.],\n",
       "       [2., 1., 0.],\n",
       "       [1., 1., 1.],\n",
       "       [2., 1., 1.]])"
      ]
     },
     "execution_count": 16,
     "metadata": {},
     "output_type": "execute_result"
    }
   ],
   "source": [
    "# translate back to integers (reference with supercell)\n",
    "my_ir_grid = np.array(my_ir_grid)\n",
    "my_ir_grid = clean_matrix(my_ir_grid @ primitive.get_reciprocal_cell() @ supercell.cell.T)\n",
    "my_ir_grid"
   ]
  },
  {
   "cell_type": "code",
   "execution_count": 17,
   "metadata": {},
   "outputs": [],
   "source": [
    "# verify\n",
    "# [(my_ir_grid[my_ir_mapping[i]] % n_qmesh, ir_grid[q] % n_qmesh) for i, q in enumerate(my_mapping)]"
   ]
  },
  {
   "cell_type": "code",
   "execution_count": 18,
   "metadata": {},
   "outputs": [
    {
     "name": "stdout",
     "output_type": "stream",
     "text": [
      "Number of q points reduced from\n",
      "  32 to 8\n"
     ]
    }
   ],
   "source": [
    "print(f'Number of q points reduced from\\n  {len(my_ir_mapping)} to {len(np.unique(my_ir_mapping))}')"
   ]
  },
  {
   "cell_type": "code",
   "execution_count": 19,
   "metadata": {},
   "outputs": [
    {
     "name": "stdout",
     "output_type": "stream",
     "text": [
      ".. number of q points reduced from 32 to 8 in 0.184s\n"
     ]
    }
   ],
   "source": [
    "# now implemented in HarmonicAnalysis\n",
    "m, iqs = ha.irreducible_q_points_frac"
   ]
  },
  {
   "cell_type": "code",
   "execution_count": 20,
   "metadata": {},
   "outputs": [
    {
     "name": "stdout",
     "output_type": "stream",
     "text": [
      "[0. 0. 0.] [0. 0. 0.] [0. 0. 0.]\n",
      "[1. 0. 0.] [0.   0.25 0.25] [1. 0. 0.]\n",
      "[2. 0. 0.] [0.  0.5 0.5] [2. 0. 0.]\n",
      "[3. 0. 0.] [0.   0.75 0.75] [3. 0. 0.]\n",
      "[1. 1. 0.] [0.25 0.25 0.5 ] [1. 1. 0.]\n",
      "[2. 1. 0.] [0.25 0.5  0.75] [2. 1. 0.]\n",
      "[1. 1. 1.] [0.5 0.5 0.5] [1. 1. 1.]\n",
      "[2. 1. 1.] [0.5  0.75 0.75] [2. 1. 1.]\n"
     ]
    }
   ],
   "source": [
    "for fq in iqs:\n",
    "    cart_q = fq @ supercell.get_reciprocal_cell()\n",
    "    frac_q = clean_matrix(cart_q @ primitive.cell.T)\n",
    "    # map back to supercell\n",
    "    frac_q_supercell = clean_matrix(((frac_q + .01) % 1 - .01) @ primitive.get_reciprocal_cell() @ supercell.cell.T)\n",
    "    print(fq, frac_q, frac_q_supercell)"
   ]
  },
  {
   "cell_type": "code",
   "execution_count": null,
   "metadata": {},
   "outputs": [],
   "source": []
  }
 ],
 "metadata": {
  "kernelspec": {
   "display_name": "Python 3",
   "language": "python",
   "name": "python3"
  },
  "language_info": {
   "codemirror_mode": {
    "name": "ipython",
    "version": 3
   },
   "file_extension": ".py",
   "mimetype": "text/x-python",
   "name": "python",
   "nbconvert_exporter": "python",
   "pygments_lexer": "ipython3",
   "version": "3.7.2"
  }
 },
 "nbformat": 4,
 "nbformat_minor": 2
}
