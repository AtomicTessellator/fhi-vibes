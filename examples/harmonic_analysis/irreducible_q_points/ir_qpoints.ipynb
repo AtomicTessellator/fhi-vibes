{
 "cells": [
  {
   "cell_type": "code",
   "execution_count": 20,
   "metadata": {},
   "outputs": [],
   "source": [
    "import numpy as np\n",
    "\n",
    "import spglib as spg\n",
    "\n",
    "from hilde.io import read\n",
    "from hilde.harmonic_analysis import HarmonicAnalysis\n",
    "from hilde.structure.convert import to_spglib_cell\n",
    "from hilde.helpers.numerics import clean_matrix\n",
    "from hilde.helpers.lattice_points import get_commensurate_q_points\n",
    "\n",
    "from hilde.spglib.q_mesh import get_ir_reciprocal_mesh"
   ]
  },
  {
   "cell_type": "code",
   "execution_count": 21,
   "metadata": {},
   "outputs": [],
   "source": [
    "mat = 'mgo'\n",
    "primitive = read(f'{mat}/geometry.in')\n",
    "supercell = read(f'{mat}/geometry.in.supercell')"
   ]
  },
  {
   "cell_type": "code",
   "execution_count": 22,
   "metadata": {},
   "outputs": [
    {
     "name": "stdout",
     "output_type": "stream",
     "text": [
      "Set up harmonic analysis for MgO:\n",
      ".. found 32 (31) lattice points in 0.002s\n",
      ".. found 32 (31) lattice points in 0.001s\n",
      "** Force constants not set, your choice.\n",
      ".. time elapsed: 0.141s\n"
     ]
    }
   ],
   "source": [
    "ha = HarmonicAnalysis(primitive, supercell)"
   ]
  },
  {
   "cell_type": "code",
   "execution_count": 23,
   "metadata": {},
   "outputs": [
    {
     "data": {
      "text/plain": [
       "(array([[ 0,  0,  0],\n",
       "        [ 1,  0,  0],\n",
       "        [ 0,  1,  0],\n",
       "        [ 0,  0,  1],\n",
       "        [ 1,  1,  0],\n",
       "        [ 1,  0,  1],\n",
       "        [ 0,  1,  1],\n",
       "        [ 1,  1, -1],\n",
       "        [ 1, -1,  1],\n",
       "        [-1,  1,  1],\n",
       "        [ 1,  1,  1],\n",
       "        [ 2,  0,  0],\n",
       "        [ 0,  2,  0],\n",
       "        [ 0,  0,  2],\n",
       "        [ 2,  1,  0],\n",
       "        [ 1,  2,  0],\n",
       "        [ 2,  0,  1],\n",
       "        [ 0,  2,  1],\n",
       "        [ 1,  0,  2],\n",
       "        [ 0,  1,  2],\n",
       "        [ 2,  1, -1],\n",
       "        [ 1,  2, -1],\n",
       "        [ 2, -1,  1],\n",
       "        [ 1, -1,  2],\n",
       "        [ 2,  1,  1],\n",
       "        [-1,  2,  1],\n",
       "        [ 1,  2,  1],\n",
       "        [-1,  1,  2],\n",
       "        [ 1,  1,  2],\n",
       "        [ 3,  0,  0],\n",
       "        [ 0,  3,  0],\n",
       "        [ 0,  0,  3]]), 32)"
      ]
     },
     "execution_count": 23,
     "metadata": {},
     "output_type": "execute_result"
    }
   ],
   "source": [
    "my_mesh = np.round(ha.q_points @ supercell.cell.T).astype(int)\n",
    "n_lp = len(my_mesh)\n",
    "my_mesh, n_lp"
   ]
  },
  {
   "cell_type": "code",
   "execution_count": 24,
   "metadata": {},
   "outputs": [
    {
     "data": {
      "text/plain": [
       "array([5, 5, 5])"
      ]
     },
     "execution_count": 24,
     "metadata": {},
     "output_type": "execute_result"
    }
   ],
   "source": [
    "n_qmesh = my_mesh.max(axis=0) - my_mesh.min(axis=0) + 1\n",
    "n_qmesh"
   ]
  },
  {
   "cell_type": "code",
   "execution_count": 25,
   "metadata": {},
   "outputs": [],
   "source": [
    "mapping, spg_mesh = spg.get_ir_reciprocal_mesh(n_qmesh, to_spglib_cell(primitive))"
   ]
  },
  {
   "cell_type": "code",
   "execution_count": 26,
   "metadata": {},
   "outputs": [],
   "source": [
    "# create the list of irreducible grid points and the mapping to the reduced list\n",
    "\n",
    "# irreducible grid points\n",
    "ir_grid = spg_mesh[np.unique(mapping)]\n",
    "\n",
    "# dict translates between full and reduced grid point indices\n",
    "dct = {}\n",
    "for nn, ii in enumerate(np.unique(mapping)):\n",
    "    dct[ii] = nn\n",
    "\n",
    "# mapping to the reduced indices\n",
    "ir_mapping = np.array([dct[ii] for ii in mapping])"
   ]
  },
  {
   "cell_type": "code",
   "execution_count": 27,
   "metadata": {},
   "outputs": [
    {
     "data": {
      "text/plain": [
       "True"
      ]
     },
     "execution_count": 27,
     "metadata": {},
     "output_type": "execute_result"
    }
   ],
   "source": [
    "# verify that this mapping works\n",
    "all((spg_mesh[q] == ir_grid[ir_mapping[i]]).all() for i, q in enumerate(mapping))"
   ]
  },
  {
   "cell_type": "code",
   "execution_count": 28,
   "metadata": {},
   "outputs": [],
   "source": [
    "# match the q points from my list with the ones from spglib\n",
    "\n",
    "match_list = -np.ones(n_lp, dtype=int)\n",
    "my_mapping = -np.ones(n_lp, dtype=int)\n",
    "\n",
    "for i1, q1 in enumerate(my_mesh % n_qmesh):\n",
    "    for i2, q2 in enumerate(spg_mesh % n_qmesh):\n",
    "        if np.linalg.norm(q1 - q2) < 1e-12:\n",
    "            # exchange the q point in spg list with my one\n",
    "            ir_grid[ir_mapping[i2]] = q1\n",
    "            match_list[i1] = i2\n",
    "            my_mapping[i1] = ir_mapping[i2]\n",
    "\n",
    "# sanity checks\n",
    "assert -1 not in match_list, match_list\n",
    "assert -1 not in my_mapping, my_mapping\n",
    "assert len(np.unique(match_list)) == n_lp, (len(np.unique(match_list)), match_list)"
   ]
  },
  {
   "cell_type": "code",
   "execution_count": 29,
   "metadata": {},
   "outputs": [
    {
     "data": {
      "text/plain": [
       "array([  0,   1,   5,  25,   6,  26,  30, 106,  46,  34,  31,   2,  10,\n",
       "        50,   7,  11,  27,  35,  51,  55, 107, 111,  47,  71,  32,  39,\n",
       "        36,  59,  56,   3,  15,  75])"
      ]
     },
     "execution_count": 29,
     "metadata": {},
     "output_type": "execute_result"
    }
   ],
   "source": [
    "match_list"
   ]
  },
  {
   "cell_type": "code",
   "execution_count": 30,
   "metadata": {},
   "outputs": [
    {
     "data": {
      "text/plain": [
       "array([[0, 0, 0],\n",
       "       [1, 1, 1],\n",
       "       [0, 0, 3],\n",
       "       [0, 1, 1],\n",
       "       [0, 1, 2],\n",
       "       [1, 1, 2],\n",
       "       [4, 1, 2]], dtype=int32)"
      ]
     },
     "execution_count": 30,
     "metadata": {},
     "output_type": "execute_result"
    }
   ],
   "source": [
    "ir_grid[np.unique(my_mapping)]"
   ]
  },
  {
   "cell_type": "code",
   "execution_count": 31,
   "metadata": {},
   "outputs": [],
   "source": [
    "# dict to bring order into the chaos\n",
    "dct = {}\n",
    "for nn, ii in enumerate(np.unique(my_mapping)):\n",
    "    dct[ii] = nn"
   ]
  },
  {
   "cell_type": "code",
   "execution_count": 32,
   "metadata": {},
   "outputs": [
    {
     "data": {
      "text/plain": [
       "{0: 0, 1: 1, 2: 2, 3: 3, 4: 4, 6: 5, 9: 6}"
      ]
     },
     "execution_count": 32,
     "metadata": {},
     "output_type": "execute_result"
    }
   ],
   "source": [
    "dct"
   ]
  },
  {
   "cell_type": "code",
   "execution_count": 33,
   "metadata": {},
   "outputs": [
    {
     "data": {
      "text/plain": [
       "(7, 7)"
      ]
     },
     "execution_count": 33,
     "metadata": {},
     "output_type": "execute_result"
    }
   ],
   "source": [
    "my_ir_grid = ir_grid[np.unique(my_mapping)]\n",
    "len(my_ir_grid), len(np.unique(my_ir_grid, axis=0))"
   ]
  },
  {
   "cell_type": "code",
   "execution_count": 34,
   "metadata": {},
   "outputs": [
    {
     "data": {
      "text/plain": [
       "array([0, 1, 1, 1, 3, 3, 3, 4, 4, 4, 1, 2, 2, 2, 4, 4, 4, 4, 4, 4, 6, 6,\n",
       "       6, 6, 5, 6, 5, 6, 5, 2, 2, 2])"
      ]
     },
     "execution_count": 34,
     "metadata": {},
     "output_type": "execute_result"
    }
   ],
   "source": [
    "my_ir_mapping = np.array([dct[ii] for ii in my_mapping])\n",
    "my_ir_mapping"
   ]
  },
  {
   "cell_type": "code",
   "execution_count": 35,
   "metadata": {},
   "outputs": [
    {
     "data": {
      "text/plain": [
       "True"
      ]
     },
     "execution_count": 35,
     "metadata": {},
     "output_type": "execute_result"
    }
   ],
   "source": [
    "# verify\n",
    "all((my_ir_grid[my_ir_mapping[i]] % n_qmesh == ir_grid[q] % n_qmesh).all() for i, q in enumerate(my_mapping))"
   ]
  },
  {
   "cell_type": "code",
   "execution_count": 36,
   "metadata": {},
   "outputs": [
    {
     "name": "stdout",
     "output_type": "stream",
     "text": [
      "Number of q points reduced from\n",
      "  32 to 7\n"
     ]
    }
   ],
   "source": [
    "print(f'Number of q points reduced from\\n  {len(my_ir_mapping)} to {len(np.unique(my_ir_mapping))}')"
   ]
  },
  {
   "cell_type": "code",
   "execution_count": 37,
   "metadata": {},
   "outputs": [
    {
     "name": "stdout",
     "output_type": "stream",
     "text": [
      ".. number of q points reduced from 32 to 7 in 0.050s\n"
     ]
    }
   ],
   "source": [
    "# now implemented in HarmonicAnalysis\n",
    "m, iqs = ha.irreducible_q_points"
   ]
  },
  {
   "cell_type": "code",
   "execution_count": 38,
   "metadata": {},
   "outputs": [
    {
     "name": "stdout",
     "output_type": "stream",
     "text": [
      "[0 0 0] [0. 0. 0.] [0. 0. 0.]\n",
      "[1 1 1] [0.5 0.5 0.5] [1. 1. 1.]\n",
      "[0 0 3] [0.75 0.75 0.  ] [0. 0. 3.]\n",
      "[0 1 1] [0.5  0.25 0.25] [0. 1. 1.]\n",
      "[0 1 2] [0.75 0.5  0.25] [0. 1. 2.]\n",
      "[1 1 2] [0.75 0.75 0.5 ] [1. 1. 2.]\n",
      "[-1  1  2] [0.75 0.25 0.  ] [-1.  1.  2.]\n"
     ]
    }
   ],
   "source": [
    "for fq in iqs:\n",
    "    cart_q = fq @ supercell.get_reciprocal_cell()\n",
    "    frac_q = clean_matrix(cart_q @ primitive.cell.T)\n",
    "    # map back to supercell\n",
    "    frac_q_supercell = clean_matrix(((frac_q + .01) % 1 - .01) @ primitive.get_reciprocal_cell() @ supercell.cell.T)\n",
    "    print(fq, frac_q, frac_q_supercell)"
   ]
  },
  {
   "cell_type": "code",
   "execution_count": null,
   "metadata": {},
   "outputs": [],
   "source": []
  }
 ],
 "metadata": {
  "kernelspec": {
   "display_name": "Python 3",
   "language": "python",
   "name": "python3"
  },
  "language_info": {
   "codemirror_mode": {
    "name": "ipython",
    "version": 3
   },
   "file_extension": ".py",
   "mimetype": "text/x-python",
   "name": "python",
   "nbconvert_exporter": "python",
   "pygments_lexer": "ipython3",
   "version": "3.7.2"
  }
 },
 "nbformat": 4,
 "nbformat_minor": 2
}
