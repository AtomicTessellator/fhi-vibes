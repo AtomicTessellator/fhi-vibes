{
 "cells": [
  {
   "cell_type": "code",
   "execution_count": 1,
   "metadata": {},
   "outputs": [],
   "source": [
    "from pathlib import Path\n",
    "import numpy as np\n",
    "from ase import units as u\n",
    "from ase.build.molecule import molecule\n",
    "from ase.calculators.emt import EMT\n",
    "from ase.md.verlet import VelocityVerlet\n",
    "\n",
    "from hilde.trajectory import step2dict, metadata2dict, to_yaml, from_yaml"
   ]
  },
  {
   "cell_type": "code",
   "execution_count": 2,
   "metadata": {},
   "outputs": [
    {
     "data": {
      "text/plain": [
       "array([[ 0.05    ,  0.      ,  0.119262],\n",
       "       [ 0.      ,  0.763239, -0.477047],\n",
       "       [ 0.      , -0.763239, -0.477047]])"
      ]
     },
     "execution_count": 2,
     "metadata": {},
     "output_type": "execute_result"
    }
   ],
   "source": [
    "h2o = molecule('H2O')\n",
    "h2o.positions[0, 0] += .05\n",
    "h2o.positions"
   ]
  },
  {
   "cell_type": "markdown",
   "metadata": {},
   "source": [
    "### Initialize MD and calculator"
   ]
  },
  {
   "cell_type": "code",
   "execution_count": 3,
   "metadata": {},
   "outputs": [],
   "source": [
    "h2o.calc = EMT()\n",
    "md = VelocityVerlet(h2o, timestep=u.fs)"
   ]
  },
  {
   "cell_type": "markdown",
   "metadata": {},
   "source": [
    "### Save metadata and initialize trajectory"
   ]
  },
  {
   "cell_type": "code",
   "execution_count": 4,
   "metadata": {},
   "outputs": [],
   "source": [
    "metadata = metadata2dict(h2o, h2o.calc, md)\n",
    "to_yaml(metadata, 'md_metadata.yaml', mode='w')"
   ]
  },
  {
   "cell_type": "code",
   "execution_count": 5,
   "metadata": {},
   "outputs": [],
   "source": [
    "trajectory = Path('trajectory.yaml')\n",
    "if trajectory.exists():\n",
    "    trajectory.unlink()    "
   ]
  },
  {
   "cell_type": "markdown",
   "metadata": {},
   "source": [
    "### Run MD"
   ]
  },
  {
   "cell_type": "code",
   "execution_count": 6,
   "metadata": {},
   "outputs": [],
   "source": [
    "for _ in range(2):\n",
    "    md.run(1)\n",
    "    to_yaml([step2dict(h2o, md)], trajectory)"
   ]
  },
  {
   "cell_type": "code",
   "execution_count": 7,
   "metadata": {},
   "outputs": [
    {
     "data": {
      "text/plain": [
       "[{'MD': {'dt': 0.09822694788464063, 'nsteps': 1},\n",
       "  'atoms': {'positions': [[0.05019278480688103, 0.0, 0.12156118630812841],\n",
       "    [-0.0015299425224650789, 0.7875231843281152, -0.49529336991257256],\n",
       "    [-0.0015299425224650789, -0.7875231843281152, -0.49529336991257256]]},\n",
       "  'calculator': {'energy': 2.264562056808295,\n",
       "   'forces': [[0.4409496308260477, 0.0, 5.258844668164993],\n",
       "    [-0.22047481541302386, 3.473854359352102, -2.6294223340824967],\n",
       "    [-0.22047481541302386, -3.473854359352102, -2.6294223340824967]],\n",
       "   'free_energy': 2.264562056808295}},\n",
       " {'MD': {'dt': 0.09822694788464063, 'nsteps': 2},\n",
       "  'atoms': {'positions': [[0.050651493558543675, 0.0, 0.12703182944803243],\n",
       "    [-0.005170260636478305, 0.8450589553956777, -0.5387084589975548],\n",
       "    [-0.005170260636478305, -0.8450589553956777, -0.5387084589975548]]},\n",
       "  'calculator': {'energy': 1.8950135355994473,\n",
       "   'forces': [[0.07896134196623283, 0.0, 0.9417071773308474],\n",
       "    [-0.03948067098311642, 0.6111301239757999, -0.4708535886654237],\n",
       "    [-0.03948067098311642, -0.6111301239757999, -0.4708535886654237]],\n",
       "   'free_energy': 1.8950135355994473}}]"
      ]
     },
     "execution_count": 7,
     "metadata": {},
     "output_type": "execute_result"
    }
   ],
   "source": [
    "traj = from_yaml(trajectory)\n",
    "traj"
   ]
  },
  {
   "cell_type": "code",
   "execution_count": null,
   "metadata": {},
   "outputs": [],
   "source": []
  }
 ],
 "metadata": {
  "kernelspec": {
   "display_name": "Python 3",
   "language": "python",
   "name": "python3"
  },
  "language_info": {
   "codemirror_mode": {
    "name": "ipython",
    "version": 3
   },
   "file_extension": ".py",
   "mimetype": "text/x-python",
   "name": "python",
   "nbconvert_exporter": "python",
   "pygments_lexer": "ipython3",
   "version": "3.7.0"
  }
 },
 "nbformat": 4,
 "nbformat_minor": 2
}
