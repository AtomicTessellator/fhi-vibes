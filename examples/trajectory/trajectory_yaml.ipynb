{
 "cells": [
  {
   "cell_type": "code",
   "execution_count": 1,
   "metadata": {},
   "outputs": [],
   "source": [
    "from pathlib import Path\n",
    "import numpy as np\n",
    "from ase import units as u\n",
    "from ase.build.molecule import molecule\n",
    "from ase.calculators.emt import EMT\n",
    "from ase.md.verlet import VelocityVerlet\n",
    "\n",
    "from hilde.trajectory import step2file, metadata2file, from_yaml"
   ]
  },
  {
   "cell_type": "code",
   "execution_count": 2,
   "metadata": {},
   "outputs": [
    {
     "data": {
      "text/plain": [
       "array([[ 0.05    ,  0.      ,  0.119262],\n",
       "       [ 0.      ,  0.763239, -0.477047],\n",
       "       [ 0.      , -0.763239, -0.477047]])"
      ]
     },
     "execution_count": 2,
     "metadata": {},
     "output_type": "execute_result"
    }
   ],
   "source": [
    "h2o = molecule('H2O')\n",
    "h2o.positions[0, 0] += .05\n",
    "h2o.positions"
   ]
  },
  {
   "cell_type": "markdown",
   "metadata": {},
   "source": [
    "### Initialize MD and calculator"
   ]
  },
  {
   "cell_type": "code",
   "execution_count": 3,
   "metadata": {},
   "outputs": [],
   "source": [
    "h2o.calc = EMT()\n",
    "md = VelocityVerlet(h2o, timestep=u.fs)"
   ]
  },
  {
   "cell_type": "markdown",
   "metadata": {},
   "source": [
    "### Initialize trajectory and save metadata"
   ]
  },
  {
   "cell_type": "code",
   "execution_count": 4,
   "metadata": {},
   "outputs": [],
   "source": [
    "trajectory = Path('trajectory.yaml')\n",
    "if trajectory.exists():\n",
    "    trajectory.unlink()"
   ]
  },
  {
   "cell_type": "code",
   "execution_count": 5,
   "metadata": {},
   "outputs": [],
   "source": [
    "metadata2file(h2o, h2o.calc, md, trajectory)"
   ]
  },
  {
   "cell_type": "markdown",
   "metadata": {},
   "source": [
    "### Run MD"
   ]
  },
  {
   "cell_type": "code",
   "execution_count": 6,
   "metadata": {},
   "outputs": [],
   "source": [
    "for _ in range(2):\n",
    "    step2file(h2o, h2o.calc, md, trajectory)\n",
    "    md.run(1)"
   ]
  },
  {
   "cell_type": "code",
   "execution_count": 7,
   "metadata": {},
   "outputs": [
    {
     "data": {
      "text/plain": [
       "({'MD': {'dt': 0.09822694788464063,\n",
       "   'fs': 0.09822694788464063,\n",
       "   'kg': 6.0221408585491615e+26,\n",
       "   'md-type': 'VelocityVerlet',\n",
       "   'timestep': 0.09822694788464063,\n",
       "   'type': 'molecular-dynamics'},\n",
       "  'atoms': {'masses': [15.999, 1.008, 1.008],\n",
       "   'numbers': [8, 1, 1],\n",
       "   'positions': [[0.05, 0.0, 0.119262],\n",
       "    [0.0, 0.763239, -0.477047],\n",
       "    [0.0, -0.763239, -0.477047]],\n",
       "   'symbols': ['O', 'H', 'H']},\n",
       "  'calculator': {'name': 'EMT', 'params': {}}},\n",
       " [{'MD': {'dt': 0.09822694788464063, 'nsteps': 0},\n",
       "   'atoms': {'positions': [[0.05, 0.0, 0.119262],\n",
       "     [0.0, 0.763239, -0.477047],\n",
       "     [0.0, -0.763239, -0.477047]]},\n",
       "   'calculator': {}},\n",
       "  {'MD': {'dt': 0.09822694788464063, 'nsteps': 1},\n",
       "   'atoms': {'positions': [[0.05019278480688103, 0.0, 0.12156118630812841],\n",
       "     [-0.0015299425224650789, 0.7875231843281152, -0.49529336991257256],\n",
       "     [-0.0015299425224650789, -0.7875231843281152, -0.49529336991257256]],\n",
       "    'velocities': [[0.0033162669337379815, 0.0, 0.039550396379807236],\n",
       "     [-0.026317933865512882, 0.41648425995974325, -0.31387241650820236],\n",
       "     [-0.026317933865512882, -0.41648425995974325, -0.31387241650820236]]},\n",
       "   'calculator': {'energy': 2.264562056808295,\n",
       "    'forces': [[0.4409496308260477, 0.0, 5.258844668164993],\n",
       "     [-0.22047481541302386, 3.473854359352102, -2.6294223340824967],\n",
       "     [-0.22047481541302386, -3.473854359352102, -2.6294223340824967]],\n",
       "    'free_energy': 2.264562056808295}}])"
      ]
     },
     "execution_count": 7,
     "metadata": {},
     "output_type": "execute_result"
    }
   ],
   "source": [
    "metadata, *traj = from_yaml(trajectory)\n",
    "metadata, traj"
   ]
  },
  {
   "cell_type": "code",
   "execution_count": null,
   "metadata": {},
   "outputs": [],
   "source": []
  }
 ],
 "metadata": {
  "kernelspec": {
   "display_name": "Python 3",
   "language": "python",
   "name": "python3"
  },
  "language_info": {
   "codemirror_mode": {
    "name": "ipython",
    "version": 3
   },
   "file_extension": ".py",
   "mimetype": "text/x-python",
   "name": "python",
   "nbconvert_exporter": "python",
   "pygments_lexer": "ipython3",
   "version": "3.7.0"
  }
 },
 "nbformat": 4,
 "nbformat_minor": 2
}
