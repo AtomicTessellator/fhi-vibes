{
 "cells": [
  {
   "cell_type": "code",
   "execution_count": 1,
   "metadata": {},
   "outputs": [],
   "source": [
    "import json\n",
    "from pathlib import Path\n",
    "import numpy as np\n",
    "from collections import OrderedDict\n",
    "from ase.build.molecule import molecule\n",
    "from hilde.helpers.fileformats import append_to_json_array, to_json, from_json\n",
    "from hilde.templates.aims import setup_aims\n",
    "from ase.calculators.emt import EMT\n",
    "from ase.md.verlet import VelocityVerlet\n",
    "from ase import units as u\n",
    "from pprint import pprint"
   ]
  },
  {
   "cell_type": "code",
   "execution_count": 2,
   "metadata": {},
   "outputs": [
    {
     "data": {
      "text/plain": [
       "array([[ 0.05    ,  0.      ,  0.119262],\n",
       "       [ 0.      ,  0.763239, -0.477047],\n",
       "       [ 0.      , -0.763239, -0.477047]])"
      ]
     },
     "execution_count": 2,
     "metadata": {},
     "output_type": "execute_result"
    }
   ],
   "source": [
    "h2o = molecule('H2O')\n",
    "h2o.positions[0, 0] += .05\n",
    "h2o.positions"
   ]
  },
  {
   "cell_type": "code",
   "execution_count": 3,
   "metadata": {},
   "outputs": [],
   "source": [
    "def md2dict(obj):\n",
    "    dct = OrderedDict()\n",
    "    dct['nsteps'] = obj.nsteps\n",
    "    dct['dt'] = obj.dt\n",
    "    dct['masses'] = obj.masses.T.tolist()[0]\n",
    "    \n",
    "    return dct"
   ]
  },
  {
   "cell_type": "code",
   "execution_count": 4,
   "metadata": {},
   "outputs": [],
   "source": [
    "def atoms2dict(atoms):\n",
    "    atoms_dict = OrderedDict()\n",
    "    \n",
    "    if any(atoms.pbc):\n",
    "        atoms_dict['cell'] = atoms.cell\n",
    "    atoms_dict['positions'] = atoms.positions\n",
    "    \n",
    "    return atoms_dict"
   ]
  },
  {
   "cell_type": "code",
   "execution_count": 5,
   "metadata": {},
   "outputs": [],
   "source": [
    "def calc2dict(calc):\n",
    "    calc_dict = OrderedDict()\n",
    "    \n",
    "    calc_dict = calc.results\n",
    "    \n",
    "    return calc_dict"
   ]
  },
  {
   "cell_type": "code",
   "execution_count": 6,
   "metadata": {},
   "outputs": [],
   "source": [
    "def step2dict(atoms, md):\n",
    "    md_dict = md2dict(md)\n",
    "    \n",
    "    atoms_dict = atoms2dict(atoms)\n",
    "    calc_dict = calc2dict(atoms.calc)\n",
    "    \n",
    "    return OrderedDict({'MD': md_dict, 'atoms': atoms_dict, 'calculator': calc_dict})"
   ]
  },
  {
   "cell_type": "code",
   "execution_count": 7,
   "metadata": {},
   "outputs": [],
   "source": [
    "def metadata2dict(atoms, calc, md):\n",
    "    md_dict = md.todict()\n",
    "    md_dict['fs'] = u.fs\n",
    "    \n",
    "    atoms_dict = atoms2dict(atoms)\n",
    "    atoms_dict['numbers'] = atoms.numbers\n",
    "    atoms_dict['symbols'] = [f'{sym}' for sym in atoms.symbols]\n",
    "    \n",
    "    calc_dict = OrderedDict()\n",
    "    calc_dict['name'] = calc.__class__.__name__\n",
    "    calc_dict['params'] = calc.todict()\n",
    "    \n",
    "    meta_dict = OrderedDict({\n",
    "        'atoms': atoms_dict,\n",
    "        'md': md_dict,\n",
    "        'calculator': calc_dict,\n",
    "    })\n",
    "    \n",
    "    return meta_dict"
   ]
  },
  {
   "cell_type": "markdown",
   "metadata": {},
   "source": [
    "### Initialize MD and calculator"
   ]
  },
  {
   "cell_type": "code",
   "execution_count": 8,
   "metadata": {},
   "outputs": [],
   "source": [
    "h2o.calc = EMT()\n",
    "md = VelocityVerlet(h2o, timestep=u.fs)"
   ]
  },
  {
   "cell_type": "markdown",
   "metadata": {},
   "source": [
    "### Save metadata and initialize trajectory"
   ]
  },
  {
   "cell_type": "code",
   "execution_count": 9,
   "metadata": {},
   "outputs": [],
   "source": [
    "metadata = metadata2dict(h2o, h2o.calc, md)\n",
    "to_json(metadata, 'md_metadata.json')\n",
    "\n",
    "trajectory = Path('trajectory.json')\n",
    "if trajectory.exists():\n",
    "    trajectory.unlink()    "
   ]
  },
  {
   "cell_type": "markdown",
   "metadata": {},
   "source": [
    "### Run MD"
   ]
  },
  {
   "cell_type": "code",
   "execution_count": 10,
   "metadata": {},
   "outputs": [],
   "source": [
    "for _ in range(2):\n",
    "    md.run(1)\n",
    "    append_to_json_array(step2dict(h2o, md), trajectory, indent=1)"
   ]
  },
  {
   "cell_type": "code",
   "execution_count": 11,
   "metadata": {},
   "outputs": [],
   "source": [
    "traj = from_json(trajectory)"
   ]
  },
  {
   "cell_type": "code",
   "execution_count": 12,
   "metadata": {},
   "outputs": [
    {
     "name": "stdout",
     "output_type": "stream",
     "text": [
      "1\n",
      "2\n"
     ]
    }
   ],
   "source": [
    "for st in traj:\n",
    "    print(st['MD']['nsteps'])"
   ]
  },
  {
   "cell_type": "code",
   "execution_count": null,
   "metadata": {},
   "outputs": [],
   "source": []
  }
 ],
 "metadata": {
  "kernelspec": {
   "display_name": "Python 3",
   "language": "python",
   "name": "python3"
  },
  "language_info": {
   "codemirror_mode": {
    "name": "ipython",
    "version": 3
   },
   "file_extension": ".py",
   "mimetype": "text/x-python",
   "name": "python",
   "nbconvert_exporter": "python",
   "pygments_lexer": "ipython3",
   "version": "3.7.0"
  }
 },
 "nbformat": 4,
 "nbformat_minor": 2
}
