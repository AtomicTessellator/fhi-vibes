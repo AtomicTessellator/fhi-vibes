{
 "cells": [
  {
   "cell_type": "markdown",
   "metadata": {},
   "source": [
    "# Serialization of Phonopy Objects and Custom JSON Decoder \n",
    "Is it possible to transform Phonopy object into a json string easily?"
   ]
  },
  {
   "cell_type": "code",
   "execution_count": 1,
   "metadata": {},
   "outputs": [],
   "source": [
    "import pickle\n",
    "import json\n",
    "from pprint import pprint\n",
    "import numpy as np\n",
    "import phonopy "
   ]
  },
  {
   "cell_type": "code",
   "execution_count": 2,
   "metadata": {},
   "outputs": [],
   "source": [
    "with open('phonon.pick', 'rb') as f:\n",
    "    phonon = pickle.load(f)"
   ]
  },
  {
   "cell_type": "code",
   "execution_count": 3,
   "metadata": {},
   "outputs": [],
   "source": [
    "pd = phonon.__dict__"
   ]
  },
  {
   "cell_type": "code",
   "execution_count": 4,
   "metadata": {
    "scrolled": true
   },
   "outputs": [
    {
     "data": {
      "text/plain": [
       "{'_is_old_style': 1e-05,\n",
       " '_s2u_map': array([0, 0, 0, 0, 4, 4, 4, 4]),\n",
       " '_u2s_map': array([0, 4]),\n",
       " '_u2u_map': {0: 0, 4: 1},\n",
       " '_supercell_matrix': array([[-1,  1,  1],\n",
       "        [ 1, -1,  1],\n",
       "        [ 1,  1, -1]], dtype=int32),\n",
       " 'cell': array([[ 5.42606753e+00, -2.57389089e-18,  0.00000000e+00],\n",
       "        [-2.57389089e-18,  5.42606753e+00,  0.00000000e+00],\n",
       "        [ 2.57389089e-18,  2.57389089e-18,  5.42606753e+00]]),\n",
       " 'scaled_positions': array([[0.  , 0.  , 0.  ],\n",
       "        [1.  , 0.5 , 0.5 ],\n",
       "        [0.5 , 0.  , 0.5 ],\n",
       "        [0.5 , 0.5 , 0.  ],\n",
       "        [0.25, 0.25, 0.25],\n",
       "        [0.25, 0.75, 0.75],\n",
       "        [0.75, 0.25, 0.75],\n",
       "        [0.75, 0.75, 0.25]]),\n",
       " 'symbols': ['Si', 'Si', 'Si', 'Si', 'Si', 'Si', 'Si', 'Si'],\n",
       " 'numbers': array([14, 14, 14, 14, 14, 14, 14, 14], dtype=int32),\n",
       " 'masses': array([28.085, 28.085, 28.085, 28.085, 28.085, 28.085, 28.085, 28.085]),\n",
       " 'magmoms': None}"
      ]
     },
     "execution_count": 4,
     "metadata": {},
     "output_type": "execute_result"
    }
   ],
   "source": [
    "phonon._supercell.__dict__"
   ]
  },
  {
   "cell_type": "code",
   "execution_count": 5,
   "metadata": {},
   "outputs": [],
   "source": [
    "def get_dict(obj):\n",
    "    \"\"\"resolve nested object recursively\"\"\"\n",
    "    try:\n",
    "        dic = obj.__dict__\n",
    "    except AttributeError:\n",
    "        return obj\n",
    "            \n",
    "    for key in dic.keys():\n",
    "        if hasattr(dic[key], '__dict__'):\n",
    "            dic[key] = get_dict(dic[key])\n",
    "        if isinstance(dic[key], list):\n",
    "            temp = [get_dict(d) for d in dic[key]]\n",
    "            dic[key] = temp\n",
    "    return dic    "
   ]
  },
  {
   "cell_type": "code",
   "execution_count": 6,
   "metadata": {},
   "outputs": [],
   "source": [
    "def stringify_keys(d):\n",
    "    \"\"\"Convert a dict's keys to strings if they are not.\"\"\"\n",
    "    for key in d.keys():\n",
    "\n",
    "        # check inner dict\n",
    "        if isinstance(d[key], dict):\n",
    "            value = stringify_keys(d[key])\n",
    "        else:\n",
    "            value = d[key]\n",
    "\n",
    "        # convert nonstring to string if needed\n",
    "        if not isinstance(key, str):\n",
    "            try:\n",
    "                d[str(key)] = value\n",
    "            except Exception:\n",
    "                try:\n",
    "                    d[repr(key)] = value\n",
    "                except Exception:\n",
    "                    raise\n",
    "\n",
    "            # delete old key\n",
    "            del d[key]\n",
    "    return d"
   ]
  },
  {
   "cell_type": "code",
   "execution_count": 7,
   "metadata": {},
   "outputs": [],
   "source": [
    "dp = stringify_keys(get_dict(phonon))"
   ]
  },
  {
   "cell_type": "markdown",
   "metadata": {},
   "source": [
    "## Custom JSON Encoding/Decoding"
   ]
  },
  {
   "cell_type": "code",
   "execution_count": 8,
   "metadata": {},
   "outputs": [],
   "source": [
    "class NumpyEncoder(json.JSONEncoder):\n",
    "    \"\"\" Decode numerical objects that json cannot parse by default\"\"\"\n",
    "    def default(self, obj):\n",
    "        if isinstance(obj, np.ndarray):\n",
    "            return obj.tolist()\n",
    "        if isinstance(obj, (np.int32, np.int64)):\n",
    "            return int(obj)\n",
    "        if isinstance(obj, complex):\n",
    "            return (float(obj.real), float(obj.imag))\n",
    "        return super().default(self, obj)"
   ]
  },
  {
   "cell_type": "code",
   "execution_count": 9,
   "metadata": {
    "scrolled": false
   },
   "outputs": [],
   "source": [
    "try:\n",
    "    json.dumps(pd, cls=NumpyEncoder)\n",
    "except Exception as inst:\n",
    "    print('Exception occured: ', inst)"
   ]
  },
  {
   "cell_type": "markdown",
   "metadata": {},
   "source": [
    "### Complex part"
   ]
  },
  {
   "cell_type": "code",
   "execution_count": 10,
   "metadata": {},
   "outputs": [
    {
     "data": {
      "text/plain": [
       "'[3.0, 4.0]'"
      ]
     },
     "execution_count": 10,
     "metadata": {},
     "output_type": "execute_result"
    }
   ],
   "source": [
    "z=3+4j\n",
    "jz = json.dumps(z, cls=NumpyEncoder)\n",
    "jz"
   ]
  },
  {
   "cell_type": "code",
   "execution_count": 11,
   "metadata": {},
   "outputs": [
    {
     "data": {
      "text/plain": [
       "[3.0, 4.0]"
      ]
     },
     "execution_count": 11,
     "metadata": {},
     "output_type": "execute_result"
    }
   ],
   "source": [
    "json.loads(jz)"
   ]
  },
  {
   "cell_type": "markdown",
   "metadata": {},
   "source": [
    "### Modifiy NumpyEncoder to provide metadata for complex numbers"
   ]
  },
  {
   "cell_type": "code",
   "execution_count": 12,
   "metadata": {},
   "outputs": [],
   "source": [
    "class NumpyEncoder(json.JSONEncoder):\n",
    "    \"\"\" Decode numerical objects that json cannot parse by default\"\"\"\n",
    "    def default(self, obj):\n",
    "        if isinstance(obj, np.ndarray):\n",
    "            return obj.tolist()\n",
    "        if isinstance(obj, (np.int32, np.int64)):\n",
    "            return int(obj)\n",
    "        if isinstance(obj, complex):\n",
    "            return {\"__complex__\": True,\n",
    "                    \"Re\": obj.real,\n",
    "                    \"Im\": obj.imag}\n",
    "        return super().default(self, obj)"
   ]
  },
  {
   "cell_type": "code",
   "execution_count": 13,
   "metadata": {},
   "outputs": [
    {
     "data": {
      "text/plain": [
       "'{\"__complex__\": true, \"Re\": 3.0, \"Im\": 4.0}'"
      ]
     },
     "execution_count": 13,
     "metadata": {},
     "output_type": "execute_result"
    }
   ],
   "source": [
    "z=3+4j\n",
    "jz = json.dumps(z, cls=NumpyEncoder)\n",
    "jz"
   ]
  },
  {
   "cell_type": "code",
   "execution_count": 14,
   "metadata": {},
   "outputs": [
    {
     "data": {
      "text/plain": [
       "{'__complex__': True, 'Re': 3.0, 'Im': 4.0}"
      ]
     },
     "execution_count": 14,
     "metadata": {},
     "output_type": "execute_result"
    }
   ],
   "source": [
    "json.loads(jz)"
   ]
  },
  {
   "cell_type": "code",
   "execution_count": 15,
   "metadata": {},
   "outputs": [],
   "source": [
    "def decode_complex(dct):\n",
    "    if \"__complex__\" in dct:\n",
    "        return complex(dct['Re'], dct['Im'])\n",
    "    return dct"
   ]
  },
  {
   "cell_type": "code",
   "execution_count": 16,
   "metadata": {},
   "outputs": [
    {
     "data": {
      "text/plain": [
       "(3+4j)"
      ]
     },
     "execution_count": 16,
     "metadata": {},
     "output_type": "execute_result"
    }
   ],
   "source": [
    "json.loads(jz, object_hook=decode_complex)"
   ]
  },
  {
   "cell_type": "code",
   "execution_count": 17,
   "metadata": {},
   "outputs": [],
   "source": [
    "with open('phonon.json', 'w') as f:\n",
    "    json.dump(pd, f, cls=NumpyEncoder)"
   ]
  },
  {
   "cell_type": "code",
   "execution_count": null,
   "metadata": {},
   "outputs": [],
   "source": []
  }
 ],
 "metadata": {
  "kernelspec": {
   "display_name": "Python 3",
   "language": "python",
   "name": "python3"
  },
  "language_info": {
   "codemirror_mode": {
    "name": "ipython",
    "version": 3
   },
   "file_extension": ".py",
   "mimetype": "text/x-python",
   "name": "python",
   "nbconvert_exporter": "python",
   "pygments_lexer": "ipython3",
   "version": "3.6.6"
  }
 },
 "nbformat": 4,
 "nbformat_minor": 2
}
